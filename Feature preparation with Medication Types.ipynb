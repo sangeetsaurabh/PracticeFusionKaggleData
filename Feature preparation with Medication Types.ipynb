{
 "cells": [
  {
   "cell_type": "markdown",
   "metadata": {},
   "source": [
    "This Notebook is preparing the features that can be consumed by Machine Learning models."
   ]
  },
  {
   "cell_type": "code",
   "execution_count": 1,
   "metadata": {},
   "outputs": [],
   "source": [
    "import pandas as pd\n",
    "import numpy as np\n",
    "from sklearn import preprocessing\n",
    "import matplotlib.pyplot as plt\n",
    "\n",
    "import seaborn as sns\n",
    "sns.set(style='ticks')\n",
    "sns.set_context(\"notebook\", font_scale=1)\n",
    "sns.set_style(\"darkgrid\")\n",
    "\n",
    "\n",
    "import warnings\n",
    "warnings.filterwarnings('ignore')\n",
    "import datetime\n",
    "from datetime import date\n",
    "\n",
    "%matplotlib inline"
   ]
  },
  {
   "cell_type": "markdown",
   "metadata": {},
   "source": [
    "## Get the Patients Data"
   ]
  },
  {
   "cell_type": "code",
   "execution_count": 2,
   "metadata": {},
   "outputs": [
    {
     "data": {
      "text/html": [
       "<div>\n",
       "<style scoped>\n",
       "    .dataframe tbody tr th:only-of-type {\n",
       "        vertical-align: middle;\n",
       "    }\n",
       "\n",
       "    .dataframe tbody tr th {\n",
       "        vertical-align: top;\n",
       "    }\n",
       "\n",
       "    .dataframe thead th {\n",
       "        text-align: right;\n",
       "    }\n",
       "</style>\n",
       "<table border=\"1\" class=\"dataframe\">\n",
       "  <thead>\n",
       "    <tr style=\"text-align: right;\">\n",
       "      <th></th>\n",
       "      <th>PatientGuid</th>\n",
       "      <th>Gender</th>\n",
       "      <th>YearOfBirth</th>\n",
       "      <th>State</th>\n",
       "      <th>PracticeGuid</th>\n",
       "    </tr>\n",
       "  </thead>\n",
       "  <tbody>\n",
       "    <tr>\n",
       "      <th>0</th>\n",
       "      <td>BC78C551-C20F-4F10-8D61-002AA9834BDE</td>\n",
       "      <td>F</td>\n",
       "      <td>1981</td>\n",
       "      <td>NY</td>\n",
       "      <td>3E08ED81-B9A1-4525-8308-0E991BCFA87F</td>\n",
       "    </tr>\n",
       "    <tr>\n",
       "      <th>1</th>\n",
       "      <td>6D88901A-3214-4BC0-B139-002EF1A5FA09</td>\n",
       "      <td>M</td>\n",
       "      <td>1937</td>\n",
       "      <td>SD</td>\n",
       "      <td>7BF4DAD8-5F67-4985-B911-20C9E89A3737</td>\n",
       "    </tr>\n",
       "  </tbody>\n",
       "</table>\n",
       "</div>"
      ],
      "text/plain": [
       "                            PatientGuid Gender  YearOfBirth State  \\\n",
       "0  BC78C551-C20F-4F10-8D61-002AA9834BDE      F         1981    NY   \n",
       "1  6D88901A-3214-4BC0-B139-002EF1A5FA09      M         1937    SD   \n",
       "\n",
       "                           PracticeGuid  \n",
       "0  3E08ED81-B9A1-4525-8308-0E991BCFA87F  \n",
       "1  7BF4DAD8-5F67-4985-B911-20C9E89A3737  "
      ]
     },
     "execution_count": 2,
     "metadata": {},
     "output_type": "execute_result"
    }
   ],
   "source": [
    "patients = pd.read_csv(\"./data/Patient.csv\")\n",
    "patients.head(2)"
   ]
  },
  {
   "cell_type": "markdown",
   "metadata": {},
   "source": [
    "## Load Diagnosis Data"
   ]
  },
  {
   "cell_type": "code",
   "execution_count": 3,
   "metadata": {},
   "outputs": [
    {
     "data": {
      "text/html": [
       "<div>\n",
       "<style scoped>\n",
       "    .dataframe tbody tr th:only-of-type {\n",
       "        vertical-align: middle;\n",
       "    }\n",
       "\n",
       "    .dataframe tbody tr th {\n",
       "        vertical-align: top;\n",
       "    }\n",
       "\n",
       "    .dataframe thead th {\n",
       "        text-align: right;\n",
       "    }\n",
       "</style>\n",
       "<table border=\"1\" class=\"dataframe\">\n",
       "  <thead>\n",
       "    <tr style=\"text-align: right;\">\n",
       "      <th></th>\n",
       "      <th>DiagnosisGuid</th>\n",
       "      <th>PatientGuid</th>\n",
       "      <th>ICD9Code</th>\n",
       "      <th>DiagnosisDescription</th>\n",
       "      <th>StartYear</th>\n",
       "      <th>StopYear</th>\n",
       "      <th>Acute</th>\n",
       "      <th>UserGuid</th>\n",
       "    </tr>\n",
       "  </thead>\n",
       "  <tbody>\n",
       "    <tr>\n",
       "      <th>0</th>\n",
       "      <td>AD58C335-C62E-4E4C-A5C9-00005C89DA06</td>\n",
       "      <td>44C0A13A-C841-4063-A2A7-CFADA3785F23</td>\n",
       "      <td>V70.0</td>\n",
       "      <td>Routine general medical examination at a healt...</td>\n",
       "      <td>2010</td>\n",
       "      <td>NaN</td>\n",
       "      <td>0</td>\n",
       "      <td>7511BCEC-9E46-4808-99A7-5B30778B6E84</td>\n",
       "    </tr>\n",
       "    <tr>\n",
       "      <th>1</th>\n",
       "      <td>74D1CE08-CD1E-4199-86D3-0001AED0AB24</td>\n",
       "      <td>F2B45907-C559-4077-B2FE-04F354DAB00D</td>\n",
       "      <td>719.45</td>\n",
       "      <td>Pain in joint involving pelvic region and thigh</td>\n",
       "      <td>0</td>\n",
       "      <td>NaN</td>\n",
       "      <td>0</td>\n",
       "      <td>4773B833-9CD4-41E8-895B-846DC1EA7279</td>\n",
       "    </tr>\n",
       "  </tbody>\n",
       "</table>\n",
       "</div>"
      ],
      "text/plain": [
       "                          DiagnosisGuid                           PatientGuid  \\\n",
       "0  AD58C335-C62E-4E4C-A5C9-00005C89DA06  44C0A13A-C841-4063-A2A7-CFADA3785F23   \n",
       "1  74D1CE08-CD1E-4199-86D3-0001AED0AB24  F2B45907-C559-4077-B2FE-04F354DAB00D   \n",
       "\n",
       "  ICD9Code                               DiagnosisDescription  StartYear  \\\n",
       "0    V70.0  Routine general medical examination at a healt...       2010   \n",
       "1   719.45    Pain in joint involving pelvic region and thigh          0   \n",
       "\n",
       "   StopYear  Acute                              UserGuid  \n",
       "0       NaN      0  7511BCEC-9E46-4808-99A7-5B30778B6E84  \n",
       "1       NaN      0  4773B833-9CD4-41E8-895B-846DC1EA7279  "
      ]
     },
     "execution_count": 3,
     "metadata": {},
     "output_type": "execute_result"
    }
   ],
   "source": [
    "diagnosis = pd.read_csv(\"./data/Diagnosis.csv\")\n",
    "diagnosis.head(2)"
   ]
  },
  {
   "cell_type": "markdown",
   "metadata": {},
   "source": [
    "#### Identify patients who have Acid Reflux"
   ]
  },
  {
   "cell_type": "code",
   "execution_count": 4,
   "metadata": {},
   "outputs": [
    {
     "data": {
      "text/plain": [
       "(618,)"
      ]
     },
     "execution_count": 4,
     "metadata": {},
     "output_type": "execute_result"
    }
   ],
   "source": [
    "patients_with_Acid_Reflux = diagnosis[diagnosis.ICD9Code == \"530.81\"][\"PatientGuid\"].unique()\n",
    "patients_with_Acid_Reflux.shape"
   ]
  },
  {
   "cell_type": "markdown",
   "metadata": {},
   "source": [
    "#### Flag patients who are diagnosed with Acid Reflux\n",
    "\n",
    "For classification training through machine learning model, all the patients, who are diagnosed with acid reflex, are flagged with 1. Other patients are flagged with 0."
   ]
  },
  {
   "cell_type": "code",
   "execution_count": 5,
   "metadata": {},
   "outputs": [],
   "source": [
    "def does_patient_have_acid_reflux(row):\n",
    "    \n",
    "    if row['PatientGuid'] in patients_with_Acid_Reflux:\n",
    "        return 1\n",
    "    else:\n",
    "        return 0\n",
    "\n",
    "patients['acid_reflux_patient'] = patients.apply (does_patient_have_acid_reflux,axis=1)"
   ]
  },
  {
   "cell_type": "markdown",
   "metadata": {},
   "source": [
    "#### Drop all the columns that's not needed for machine learning model\n",
    "\n",
    "For first machine learning model, only medication type will be used. Drop all the columns that's not needed for machine learning models"
   ]
  },
  {
   "cell_type": "code",
   "execution_count": 6,
   "metadata": {},
   "outputs": [
    {
     "data": {
      "text/html": [
       "<div>\n",
       "<style scoped>\n",
       "    .dataframe tbody tr th:only-of-type {\n",
       "        vertical-align: middle;\n",
       "    }\n",
       "\n",
       "    .dataframe tbody tr th {\n",
       "        vertical-align: top;\n",
       "    }\n",
       "\n",
       "    .dataframe thead th {\n",
       "        text-align: right;\n",
       "    }\n",
       "</style>\n",
       "<table border=\"1\" class=\"dataframe\">\n",
       "  <thead>\n",
       "    <tr style=\"text-align: right;\">\n",
       "      <th></th>\n",
       "      <th>PatientGuid</th>\n",
       "      <th>acid_reflux_patient</th>\n",
       "    </tr>\n",
       "  </thead>\n",
       "  <tbody>\n",
       "    <tr>\n",
       "      <th>0</th>\n",
       "      <td>BC78C551-C20F-4F10-8D61-002AA9834BDE</td>\n",
       "      <td>0</td>\n",
       "    </tr>\n",
       "    <tr>\n",
       "      <th>1</th>\n",
       "      <td>6D88901A-3214-4BC0-B139-002EF1A5FA09</td>\n",
       "      <td>0</td>\n",
       "    </tr>\n",
       "  </tbody>\n",
       "</table>\n",
       "</div>"
      ],
      "text/plain": [
       "                            PatientGuid  acid_reflux_patient\n",
       "0  BC78C551-C20F-4F10-8D61-002AA9834BDE                    0\n",
       "1  6D88901A-3214-4BC0-B139-002EF1A5FA09                    0"
      ]
     },
     "execution_count": 6,
     "metadata": {},
     "output_type": "execute_result"
    }
   ],
   "source": [
    "patients = patients[[\"PatientGuid\",\"acid_reflux_patient\"]]\n",
    "patients.head(2)"
   ]
  },
  {
   "cell_type": "code",
   "execution_count": 7,
   "metadata": {},
   "outputs": [],
   "source": [
    "patients.to_csv(\"./features/patients_acid_reflux_outcome.csv\",index=False)"
   ]
  },
  {
   "cell_type": "markdown",
   "metadata": {},
   "source": [
    "#### Breakdown of data by outcome (i.e. Acid Reflux patients vs Non Acid Reflux patients)"
   ]
  },
  {
   "cell_type": "code",
   "execution_count": 8,
   "metadata": {},
   "outputs": [],
   "source": [
    "### Function to calculate percentage for pie chart\n",
    "def make_autopct(values):\n",
    "    def my_autopct(pct):\n",
    "        total = sum(values)\n",
    "        val = int(round(pct*total/100.0))\n",
    "        return '{p:.2f}%  ({v:d})'.format(p=pct,v=val)\n",
    "    return my_autopct"
   ]
  },
  {
   "cell_type": "code",
   "execution_count": 9,
   "metadata": {},
   "outputs": [
    {
     "data": {
      "text/plain": [
       "Text(0,0.5,'')"
      ]
     },
     "execution_count": 9,
     "metadata": {},
     "output_type": "execute_result"
    },
    {
     "data": {
      "image/png": "[encoded data removed]",
      "text/plain": [
       "<Figure size 432x288 with 1 Axes>"
      ]
     },
     "metadata": {},
     "output_type": "display_data"
    }
   ],
   "source": [
    "labels = 'Non Acid Reflux','Acid Reflux'\n",
    "ax = patients.acid_reflux_patient.value_counts().plot.pie(autopct=make_autopct(patients.acid_reflux_patient.value_counts()),startangle = 180,title='Acid Reflux vs Other Patients',labels=labels)\n",
    "ax.set_ylabel('')"
   ]
  },
  {
   "cell_type": "markdown",
   "metadata": {},
   "source": [
    "## Load Medications data"
   ]
  },
  {
   "cell_type": "code",
   "execution_count": 10,
   "metadata": {},
   "outputs": [
    {
     "data": {
      "text/html": [
       "<div>\n",
       "<style scoped>\n",
       "    .dataframe tbody tr th:only-of-type {\n",
       "        vertical-align: middle;\n",
       "    }\n",
       "\n",
       "    .dataframe tbody tr th {\n",
       "        vertical-align: top;\n",
       "    }\n",
       "\n",
       "    .dataframe thead th {\n",
       "        text-align: right;\n",
       "    }\n",
       "</style>\n",
       "<table border=\"1\" class=\"dataframe\">\n",
       "  <thead>\n",
       "    <tr style=\"text-align: right;\">\n",
       "      <th></th>\n",
       "      <th>MedicationGuid</th>\n",
       "      <th>PatientGuid</th>\n",
       "      <th>NdcCode</th>\n",
       "      <th>MedicationName</th>\n",
       "      <th>MedicationStrength</th>\n",
       "      <th>Schedule</th>\n",
       "      <th>DiagnosisGuid</th>\n",
       "      <th>UserGuid</th>\n",
       "    </tr>\n",
       "  </thead>\n",
       "  <tbody>\n",
       "    <tr>\n",
       "      <th>0</th>\n",
       "      <td>6B6B34D1-8F67-4804-9493-0002123D0D2F</td>\n",
       "      <td>070A6571-6DAA-4F1B-8B0C-84C204CC26A6</td>\n",
       "      <td>00378710177</td>\n",
       "      <td>Fenofibrate oral tablet</td>\n",
       "      <td>160 mg</td>\n",
       "      <td>NaN</td>\n",
       "      <td>93EE54EE-BA6D-474C-8125-17188579D5AD</td>\n",
       "      <td>263EF64B-D26D-4842-BA47-32D09692AA90</td>\n",
       "    </tr>\n",
       "    <tr>\n",
       "      <th>1</th>\n",
       "      <td>2C82278D-C7D2-4258-B9AC-000374032F46</td>\n",
       "      <td>78D10955-1AF3-4DFF-A678-FA5B5597C888</td>\n",
       "      <td>00406055262</td>\n",
       "      <td>OxyCODONE Hydrochloride (oxyCODONE) oral tablet</td>\n",
       "      <td>5 mg</td>\n",
       "      <td>2.0</td>\n",
       "      <td>46F8ADBC-BC84-4108-9B53-4B9F55D5E2C3</td>\n",
       "      <td>D6537F06-58E0-4961-8466-920615561CD9</td>\n",
       "    </tr>\n",
       "  </tbody>\n",
       "</table>\n",
       "</div>"
      ],
      "text/plain": [
       "                         MedicationGuid                           PatientGuid  \\\n",
       "0  6B6B34D1-8F67-4804-9493-0002123D0D2F  070A6571-6DAA-4F1B-8B0C-84C204CC26A6   \n",
       "1  2C82278D-C7D2-4258-B9AC-000374032F46  78D10955-1AF3-4DFF-A678-FA5B5597C888   \n",
       "\n",
       "       NdcCode                                   MedicationName  \\\n",
       "0  00378710177                          Fenofibrate oral tablet   \n",
       "1  00406055262  OxyCODONE Hydrochloride (oxyCODONE) oral tablet   \n",
       "\n",
       "  MedicationStrength  Schedule                         DiagnosisGuid  \\\n",
       "0             160 mg       NaN  93EE54EE-BA6D-474C-8125-17188579D5AD   \n",
       "1               5 mg       2.0  46F8ADBC-BC84-4108-9B53-4B9F55D5E2C3   \n",
       "\n",
       "                               UserGuid  \n",
       "0  263EF64B-D26D-4842-BA47-32D09692AA90  \n",
       "1  D6537F06-58E0-4961-8466-920615561CD9  "
      ]
     },
     "execution_count": 10,
     "metadata": {},
     "output_type": "execute_result"
    }
   ],
   "source": [
    "medicines = pd.read_csv(\"./data/Medication.csv\")\n",
    "medicines.head(2)"
   ]
  },
  {
   "cell_type": "markdown",
   "metadata": {},
   "source": [
    "## Start Building the Feature with MedicationName"
   ]
  },
  {
   "cell_type": "markdown",
   "metadata": {},
   "source": [
    "#### Drop fields that's not needed for Machine Learning Models\n",
    "\n",
    "Following fields are not needed as they don't describe the medicine type -\n",
    "\n",
    "1. MedicationGuid\n",
    "  \n",
    "\n",
    "2. DiagnosisGuid - Although combination of medicine and diagnosis could be interesting feature for Acid Reflux prediction (i.e. it may be possible that when a medicine is being administred for certain diagnosis, it's causing Acid Reflux). Something to experiment for future. For the first version of Machine Learning Model, I am dropping this feature. \n",
    "  \n",
    "\n",
    "3. UserGuid"
   ]
  },
  {
   "cell_type": "code",
   "execution_count": 11,
   "metadata": {},
   "outputs": [
    {
     "data": {
      "text/html": [
       "<div>\n",
       "<style scoped>\n",
       "    .dataframe tbody tr th:only-of-type {\n",
       "        vertical-align: middle;\n",
       "    }\n",
       "\n",
       "    .dataframe tbody tr th {\n",
       "        vertical-align: top;\n",
       "    }\n",
       "\n",
       "    .dataframe thead th {\n",
       "        text-align: right;\n",
       "    }\n",
       "</style>\n",
       "<table border=\"1\" class=\"dataframe\">\n",
       "  <thead>\n",
       "    <tr style=\"text-align: right;\">\n",
       "      <th></th>\n",
       "      <th>PatientGuid</th>\n",
       "      <th>NdcCode</th>\n",
       "      <th>MedicationName</th>\n",
       "      <th>MedicationStrength</th>\n",
       "      <th>Schedule</th>\n",
       "    </tr>\n",
       "  </thead>\n",
       "  <tbody>\n",
       "    <tr>\n",
       "      <th>0</th>\n",
       "      <td>070A6571-6DAA-4F1B-8B0C-84C204CC26A6</td>\n",
       "      <td>00378710177</td>\n",
       "      <td>Fenofibrate oral tablet</td>\n",
       "      <td>160 mg</td>\n",
       "      <td>NaN</td>\n",
       "    </tr>\n",
       "    <tr>\n",
       "      <th>1</th>\n",
       "      <td>78D10955-1AF3-4DFF-A678-FA5B5597C888</td>\n",
       "      <td>00406055262</td>\n",
       "      <td>OxyCODONE Hydrochloride (oxyCODONE) oral tablet</td>\n",
       "      <td>5 mg</td>\n",
       "      <td>2.0</td>\n",
       "    </tr>\n",
       "  </tbody>\n",
       "</table>\n",
       "</div>"
      ],
      "text/plain": [
       "                            PatientGuid      NdcCode  \\\n",
       "0  070A6571-6DAA-4F1B-8B0C-84C204CC26A6  00378710177   \n",
       "1  78D10955-1AF3-4DFF-A678-FA5B5597C888  00406055262   \n",
       "\n",
       "                                    MedicationName MedicationStrength  \\\n",
       "0                          Fenofibrate oral tablet             160 mg   \n",
       "1  OxyCODONE Hydrochloride (oxyCODONE) oral tablet               5 mg   \n",
       "\n",
       "   Schedule  \n",
       "0       NaN  \n",
       "1       2.0  "
      ]
     },
     "execution_count": 11,
     "metadata": {},
     "output_type": "execute_result"
    }
   ],
   "source": [
    "medicines = medicines[[\"PatientGuid\",\"NdcCode\",\"MedicationName\",\"MedicationStrength\",\"Schedule\"]]\n",
    "medicines.head(2)"
   ]
  },
  {
   "cell_type": "markdown",
   "metadata": {},
   "source": [
    "#### Let's analyze each feature one bye one -"
   ]
  },
  {
   "cell_type": "markdown",
   "metadata": {},
   "source": [
    "During the data analysis, we noticed that there was one to many mapping between MedicationName and NdcCode. Now question is - which feature should we use for machine learning model?\n",
    "\n",
    "We can use NDC Code or we can use Medication Name or we can use a different 3rd party medicine categorization system (For example, American Hospital Formulary System (AHFS) Classification. AHFS groups NDC Codes into 165 categories. More information on AHFS available at http://www.ahfsdruginformation.com/). In order to finalize right feature for medicine, we will need to have more discussion. Also, we will need to experiment by building several machine learning models with different combinations to see which options work the best.\n",
    "\n",
    "For first version of the model, I believe that following option is a reasonable option (we can have more discussion on this during presentation) -\n",
    "\n",
    "\n",
    "-  __Use NdcCode -__ Note that NDC Code consists of 3 segments -  the labeler, the product, and the commercial package size. The first set of numbers in the NDC identifies the labeler (manufacturer, repackager, or distributer). The second set of numbers is the product code,which identifies the specific strength, dosage form (i.e, capsule, tablet, liquid) and formulation of a drug for a specific manufacturer. Finally, the third set is the package code, which identifies package sizes and types. The labeler code is assigned by the FDA, while the product and package code are assigned by the labeler. \n",
    "    \n",
    "    So, if we want to test out if medicine of certain manufacturer has an issue or certain type of dosage can cause problems, then NdcCode could be a good indicator of it.\n",
    "\n",
    "     \n",
    "\n",
    "-  __Use MedicationName - __ Medication name could be a good indicator of type of medication, but this may not be a perfect field as well. For example, \"Acyclovir oral capsule\" and \"Acyclovir oral tablet\" are 2 separate medication names, but they may be same type of medication. Having said that, this will be a good feature to start with for the first version of Machine Learning model.\n",
    "      \n"
   ]
  },
  {
   "cell_type": "markdown",
   "metadata": {},
   "source": [
    "#### MedicationStrength\n",
    "\n",
    "Let's look at MedicationStrength and Schedule to see if we could use them as feature."
   ]
  },
  {
   "cell_type": "code",
   "execution_count": 12,
   "metadata": {},
   "outputs": [
    {
     "data": {
      "text/plain": [
       "count     21904\n",
       "unique      698\n",
       "top       10 mg\n",
       "freq       1716\n",
       "Name: MedicationStrength, dtype: object"
      ]
     },
     "execution_count": 12,
     "metadata": {},
     "output_type": "execute_result"
    }
   ],
   "source": [
    "medicines.MedicationStrength.describe()"
   ]
  },
  {
   "cell_type": "code",
   "execution_count": 13,
   "metadata": {},
   "outputs": [
    {
     "data": {
      "text/plain": [
       "(21967, 5)"
      ]
     },
     "execution_count": 13,
     "metadata": {},
     "output_type": "execute_result"
    }
   ],
   "source": [
    "medicines.shape"
   ]
  },
  {
   "cell_type": "markdown",
   "metadata": {},
   "source": [
    "There are a good number (21904 and 21967) of Medication Strength data available. So, it makes total sense to use this as a feature.\n",
    "\n",
    "Although, medication strength by itselef may not make sense as features. Medication strength has to be in a conext of medicine. So, let's look at them along with Medication Name and NDC Code."
   ]
  },
  {
   "cell_type": "code",
   "execution_count": 14,
   "metadata": {},
   "outputs": [
    {
     "data": {
      "text/plain": [
       "MedicationName\n",
       "Synthroid (levothyroxine) oral tablet                                           12\n",
       "Levothyroxine Sodium (levothyroxine) oral tablet                                11\n",
       "Levoxyl (levothyroxine) oral tablet                                             10\n",
       "Acetaminophen-HYDROcodone Bitartrate (acetaminophen-HYDROcodone) oral tablet     9\n",
       "Levothroid (levothyroxine) oral tablet                                           8\n",
       "Coumadin (warfarin) oral tablet                                                  8\n",
       "Warfarin Sodium (warfarin) oral tablet                                           8\n",
       "Lyrica (pregabalin) oral capsule                                                 8\n",
       "MS Contin (morphine) oral tablet, extended release                               8\n",
       "Morphine Sulfate ER (morphine) oral tablet, extended release                     7\n",
       "Caduet (amLODIPine-atorvastatin) oral tablet                                     6\n",
       "Lisinopril oral tablet                                                           6\n",
       "Aspirin oral tablet                                                              6\n",
       "Lotrel (amLODIPine-benazepril) oral capsule                                      6\n",
       "RisperDAL (risperiDONE) oral tablet                                              6\n",
       "Vyvanse (lisdexamfetamine) oral capsule                                          6\n",
       "OxyCONTIN (oxyCODONE) oral tablet, extended release                              6\n",
       "SEROquel (QUEtiapine) oral tablet                                                6\n",
       "ZyPREXA (OLANZapine) oral tablet                                                 6\n",
       "Abilify (ARIPiprazole) oral tablet                                               6\n",
       "Name: MedicationStrength, dtype: int64"
      ]
     },
     "execution_count": 14,
     "metadata": {},
     "output_type": "execute_result"
    }
   ],
   "source": [
    "Medication_strength_count_by_medicine_name = medicines.groupby([\"MedicationName\"])[\"MedicationStrength\"].nunique().sort_values(ascending=False)\n",
    "Medication_strength_count_by_medicine_name = Medication_strength_count_by_medicine_name[Medication_strength_count_by_medicine_name>1]\n",
    "Medication_strength_count_by_medicine_name.head(20)"
   ]
  },
  {
   "cell_type": "markdown",
   "metadata": {},
   "source": [
    "___Note that there are 503 medications with different types of strength. Now, let's look at how that data looks.___\n",
    "\n",
    "Now, let's look at some of the medication names with multiple strength."
   ]
  },
  {
   "cell_type": "code",
   "execution_count": 15,
   "metadata": {},
   "outputs": [
    {
     "data": {
      "text/plain": [
       "MedicationName                                                                MedicationStrength\n",
       "AVINza (morphine) oral capsule, extended release                              60 mg/24 hours         1\n",
       "                                                                              90 mg/24 hours         2\n",
       "Abilify (ARIPiprazole) oral tablet                                            10 mg                  6\n",
       "                                                                              15 mg                  7\n",
       "                                                                              2 mg                   9\n",
       "                                                                              20 mg                  1\n",
       "                                                                              30 mg                  1\n",
       "                                                                              5 mg                  11\n",
       "Accupril (quinapril) oral tablet                                              10 mg                  2\n",
       "                                                                              20 mg                  2\n",
       "                                                                              40 mg                  2\n",
       "Acetaminophen-HYDROcodone Bitartrate (acetaminophen-HYDROcodone) oral tablet  325 mg-10 mg          13\n",
       "                                                                              325 mg-5 mg           10\n",
       "                                                                              325 mg-7.5 mg          1\n",
       "                                                                              500 mg-10 mg           5\n",
       "                                                                              500 mg-5 mg           11\n",
       "                                                                              500 mg-7.5 mg          8\n",
       "                                                                              650 mg-10 mg           4\n",
       "                                                                              660 mg-10 mg           1\n",
       "                                                                              750 mg-7.5 mg          1\n",
       "Acetaminophen-OxyCODONE Hydrochloride (acetaminophen-oxyCODONE) oral tablet   325 mg-10 mg           3\n",
       "                                                                              325 mg-5 mg            3\n",
       "Actonel (risedronate) oral tablet                                             150 mg                11\n",
       "                                                                              35 mg                 12\n",
       "                                                                              75 mg                  1\n",
       "Acyclovir oral tablet                                                         400 mg                17\n",
       "                                                                              800 mg                13\n",
       "Adalat CC (NIFEdipine) oral tablet, extended release                          30 mg                  3\n",
       "                                                                              60 mg                  1\n",
       "                                                                              90 mg                  2\n",
       "dtype: int64"
      ]
     },
     "execution_count": 15,
     "metadata": {},
     "output_type": "execute_result"
    }
   ],
   "source": [
    "strength_by_medication_name = medicines[medicines.MedicationName.isin(Medication_strength_count_by_medicine_name.index)]\n",
    "strength_by_medication_name = strength_by_medication_name.groupby([\"MedicationName\",\"MedicationStrength\"]).size()\n",
    "strength_by_medication_name.head(30)"
   ]
  },
  {
   "cell_type": "markdown",
   "metadata": {},
   "source": [
    "When we look at Medication Name and Medication Strength this way, it makes sense to combine them together to make a single feature. So for example - \"Acyclovir oral tablet 400 mg\" will be one feature and \"Acyclovir oral tablet 800 mg\" will be other feature.\n"
   ]
  },
  {
   "cell_type": "markdown",
   "metadata": {},
   "source": [
    "#### Combine medication name and medication strength together"
   ]
  },
  {
   "cell_type": "code",
   "execution_count": 16,
   "metadata": {},
   "outputs": [
    {
     "data": {
      "text/html": [
       "<div>\n",
       "<style scoped>\n",
       "    .dataframe tbody tr th:only-of-type {\n",
       "        vertical-align: middle;\n",
       "    }\n",
       "\n",
       "    .dataframe tbody tr th {\n",
       "        vertical-align: top;\n",
       "    }\n",
       "\n",
       "    .dataframe thead th {\n",
       "        text-align: right;\n",
       "    }\n",
       "</style>\n",
       "<table border=\"1\" class=\"dataframe\">\n",
       "  <thead>\n",
       "    <tr style=\"text-align: right;\">\n",
       "      <th></th>\n",
       "      <th>PatientGuid</th>\n",
       "      <th>NdcCode</th>\n",
       "      <th>MedicationName</th>\n",
       "      <th>MedicationStrength</th>\n",
       "      <th>Schedule</th>\n",
       "      <th>MedicationName_with_stregth</th>\n",
       "    </tr>\n",
       "  </thead>\n",
       "  <tbody>\n",
       "    <tr>\n",
       "      <th>0</th>\n",
       "      <td>070A6571-6DAA-4F1B-8B0C-84C204CC26A6</td>\n",
       "      <td>00378710177</td>\n",
       "      <td>Fenofibrate_oral_tablet</td>\n",
       "      <td>160 mg</td>\n",
       "      <td>NaN</td>\n",
       "      <td>Fenofibrate_oral_tablet-160 mg</td>\n",
       "    </tr>\n",
       "    <tr>\n",
       "      <th>1</th>\n",
       "      <td>78D10955-1AF3-4DFF-A678-FA5B5597C888</td>\n",
       "      <td>00406055262</td>\n",
       "      <td>OxyCODONE_Hydrochloride_(oxyCODONE)_oral_tablet</td>\n",
       "      <td>5 mg</td>\n",
       "      <td>2.0</td>\n",
       "      <td>OxyCODONE_Hydrochloride_(oxyCODONE)_oral_table...</td>\n",
       "    </tr>\n",
       "    <tr>\n",
       "      <th>2</th>\n",
       "      <td>5BD620F9-6CFB-47E5-B263-2F983EAA2837</td>\n",
       "      <td>66860008603</td>\n",
       "      <td>Ketorolac_Tromethamine_(ketorolac)_injectable_...</td>\n",
       "      <td>30 mg/mL</td>\n",
       "      <td>NaN</td>\n",
       "      <td>Ketorolac_Tromethamine_(ketorolac)_injectable_...</td>\n",
       "    </tr>\n",
       "    <tr>\n",
       "      <th>3</th>\n",
       "      <td>8A91FD67-0C5D-4327-9103-396414264790</td>\n",
       "      <td>58016041060</td>\n",
       "      <td>Flomax_(tamsulosin)_oral_capsule</td>\n",
       "      <td>0.4 mg</td>\n",
       "      <td>NaN</td>\n",
       "      <td>Flomax_(tamsulosin)_oral_capsule-0.4 mg</td>\n",
       "    </tr>\n",
       "    <tr>\n",
       "      <th>4</th>\n",
       "      <td>2435551F-E88B-483F-9177-CC5817A47404</td>\n",
       "      <td>54868371800</td>\n",
       "      <td>Flonase_(fluticasone_nasal)_nasal_spray</td>\n",
       "      <td>0.05 mg/inh</td>\n",
       "      <td>NaN</td>\n",
       "      <td>Flonase_(fluticasone_nasal)_nasal_spray-0.05 m...</td>\n",
       "    </tr>\n",
       "  </tbody>\n",
       "</table>\n",
       "</div>"
      ],
      "text/plain": [
       "                            PatientGuid      NdcCode  \\\n",
       "0  070A6571-6DAA-4F1B-8B0C-84C204CC26A6  00378710177   \n",
       "1  78D10955-1AF3-4DFF-A678-FA5B5597C888  00406055262   \n",
       "2  5BD620F9-6CFB-47E5-B263-2F983EAA2837  66860008603   \n",
       "3  8A91FD67-0C5D-4327-9103-396414264790  58016041060   \n",
       "4  2435551F-E88B-483F-9177-CC5817A47404  54868371800   \n",
       "\n",
       "                                      MedicationName MedicationStrength  \\\n",
       "0                            Fenofibrate_oral_tablet             160 mg   \n",
       "1    OxyCODONE_Hydrochloride_(oxyCODONE)_oral_tablet               5 mg   \n",
       "2  Ketorolac_Tromethamine_(ketorolac)_injectable_...           30 mg/mL   \n",
       "3                   Flomax_(tamsulosin)_oral_capsule             0.4 mg   \n",
       "4            Flonase_(fluticasone_nasal)_nasal_spray        0.05 mg/inh   \n",
       "\n",
       "   Schedule                        MedicationName_with_stregth  \n",
       "0       NaN                     Fenofibrate_oral_tablet-160 mg  \n",
       "1       2.0  OxyCODONE_Hydrochloride_(oxyCODONE)_oral_table...  \n",
       "2       NaN  Ketorolac_Tromethamine_(ketorolac)_injectable_...  \n",
       "3       NaN            Flomax_(tamsulosin)_oral_capsule-0.4 mg  \n",
       "4       NaN  Flonase_(fluticasone_nasal)_nasal_spray-0.05 m...  "
      ]
     },
     "execution_count": 16,
     "metadata": {},
     "output_type": "execute_result"
    }
   ],
   "source": [
    "## Replace spaces in medication name with _\n",
    "medicines.MedicationName = medicines.MedicationName.str.replace(\" \",\"_\")\n",
    "\n",
    "##Replace null value in Medication Strength with empty string\n",
    "medicines.MedicationStrength = medicines.MedicationStrength.fillna(\"\")\n",
    "\n",
    "medicines[\"MedicationName_with_stregth\"] = medicines.MedicationName.astype(str) + \"-\" + medicines.MedicationStrength\n",
    "medicines.head(5)"
   ]
  },
  {
   "cell_type": "markdown",
   "metadata": {},
   "source": [
    "#### Now, let's look at NDC Code and medicine strength together the same way"
   ]
  },
  {
   "cell_type": "code",
   "execution_count": 17,
   "metadata": {},
   "outputs": [
    {
     "data": {
      "text/plain": [
       "NdcCode\n",
       "54868481000    3\n",
       "68115077615    2\n",
       "00597008717    2\n",
       "00093002301    2\n",
       "53885039310    2\n",
       "00223058205    2\n",
       "00034051610    2\n",
       "00406145101    2\n",
       "00182188701    2\n",
       "00378212001    2\n",
       "68115083560    2\n",
       "00223197101    2\n",
       "00093550201    2\n",
       "00115014001    2\n",
       "00051845030    2\n",
       "00093224001    2\n",
       "00093314701    2\n",
       "00093314705    2\n",
       "00037024330    2\n",
       "49348065112    2\n",
       "Name: MedicationStrength, dtype: int64"
      ]
     },
     "execution_count": 17,
     "metadata": {},
     "output_type": "execute_result"
    }
   ],
   "source": [
    "Medication_strength_count_by_NdcCode = medicines.groupby([\"NdcCode\"])[\"MedicationStrength\"].nunique().sort_values(ascending=False)\n",
    "Medication_strength_count_by_NdcCode = Medication_strength_count_by_NdcCode[Medication_strength_count_by_NdcCode>1]\n",
    "Medication_strength_count_by_NdcCode.head(20)"
   ]
  },
  {
   "cell_type": "markdown",
   "metadata": {},
   "source": [
    "Even thought NDC Code has strength information included in it's naming convention, it appears that NDC code also has multiple strengths. Let's look at some data point."
   ]
  },
  {
   "cell_type": "code",
   "execution_count": 18,
   "metadata": {},
   "outputs": [
    {
     "data": {
      "text/plain": [
       "NdcCode      MedicationStrength  \n",
       "00034051610  60 mg                    1\n",
       "             60 mg/12 hours           1\n",
       "00037024330  0.15%                    2\n",
       "             205.5 mcg/inh           19\n",
       "00051845030  1%                       2\n",
       "             50 mg/5 g                1\n",
       "00081013555  150 mg                   2\n",
       "             150 mg/12 hours          2\n",
       "00093002301  120 mg                   1\n",
       "             120 mg/12 hours          1\n",
       "00093224001  500 mg                   2\n",
       "             monohydrate 500 mg       2\n",
       "00093314701  500 mg                   1\n",
       "             monohydrate 500 mg       9\n",
       "00093314705  500 mg                   1\n",
       "             monohydrate 500 mg       4\n",
       "00093550201  150 mg                   2\n",
       "             150 mg/12 hours          1\n",
       "00115014001  50,000 intl units       16\n",
       "             50000 intl units         1\n",
       "00172640544  0.083%                   9\n",
       "             2.5 mg/3 mL (0.083%)     4\n",
       "00173013555  150 mg                   4\n",
       "             150 mg/12 hours          1\n",
       "00182188701  500 mg                   2\n",
       "             monohydrate 500 mg       1\n",
       "00223058205  500 mg                   1\n",
       "             monohydrate 500 mg       2\n",
       "00223197101  50,000 intl units       42\n",
       "             50000 intl units        16\n",
       "dtype: int64"
      ]
     },
     "execution_count": 18,
     "metadata": {},
     "output_type": "execute_result"
    }
   ],
   "source": [
    "strength_by_NDC_Code = medicines[medicines.NdcCode.isin(Medication_strength_count_by_NdcCode.index)]\n",
    "strength_by_NDC_Code = strength_by_NDC_Code.groupby([\"NdcCode\",\"MedicationStrength\"]).size()\n",
    "strength_by_NDC_Code.head(30)"
   ]
  },
  {
   "cell_type": "markdown",
   "metadata": {},
   "source": [
    "___Looking at above data, it appears that a single NDC Code doesn't have different strength. But, the string for strength is not consistent across different rows. In order to get optimum results from Machine Learning models, we will need to do some data clean up for MedicationStrength string. For first version of the model, I will leave the string as is. I will get to it later.___\n",
    "\n",
    "___Also based upon the data minining, it appears that there is no need to combine strength into NDC Code.___\n"
   ]
  },
  {
   "cell_type": "markdown",
   "metadata": {},
   "source": [
    "#### Now let's look at Schedule feature"
   ]
  },
  {
   "cell_type": "code",
   "execution_count": 19,
   "metadata": {},
   "outputs": [
    {
     "data": {
      "text/html": [
       "<div>\n",
       "<style scoped>\n",
       "    .dataframe tbody tr th:only-of-type {\n",
       "        vertical-align: middle;\n",
       "    }\n",
       "\n",
       "    .dataframe tbody tr th {\n",
       "        vertical-align: top;\n",
       "    }\n",
       "\n",
       "    .dataframe thead th {\n",
       "        text-align: right;\n",
       "    }\n",
       "</style>\n",
       "<table border=\"1\" class=\"dataframe\">\n",
       "  <thead>\n",
       "    <tr style=\"text-align: right;\">\n",
       "      <th></th>\n",
       "      <th>count</th>\n",
       "      <th>unique</th>\n",
       "      <th>top</th>\n",
       "      <th>freq</th>\n",
       "      <th>mean</th>\n",
       "      <th>std</th>\n",
       "      <th>min</th>\n",
       "      <th>25%</th>\n",
       "      <th>50%</th>\n",
       "      <th>75%</th>\n",
       "      <th>max</th>\n",
       "    </tr>\n",
       "  </thead>\n",
       "  <tbody>\n",
       "    <tr>\n",
       "      <th>PatientGuid</th>\n",
       "      <td>21967</td>\n",
       "      <td>4940</td>\n",
       "      <td>A79241F6-3D8E-4208-B64E-7C2591F72398</td>\n",
       "      <td>78</td>\n",
       "      <td>NaN</td>\n",
       "      <td>NaN</td>\n",
       "      <td>NaN</td>\n",
       "      <td>NaN</td>\n",
       "      <td>NaN</td>\n",
       "      <td>NaN</td>\n",
       "      <td>NaN</td>\n",
       "    </tr>\n",
       "    <tr>\n",
       "      <th>NdcCode</th>\n",
       "      <td>21967</td>\n",
       "      <td>6359</td>\n",
       "      <td>00069306075</td>\n",
       "      <td>172</td>\n",
       "      <td>NaN</td>\n",
       "      <td>NaN</td>\n",
       "      <td>NaN</td>\n",
       "      <td>NaN</td>\n",
       "      <td>NaN</td>\n",
       "      <td>NaN</td>\n",
       "      <td>NaN</td>\n",
       "    </tr>\n",
       "    <tr>\n",
       "      <th>MedicationName</th>\n",
       "      <td>21895</td>\n",
       "      <td>1925</td>\n",
       "      <td>Lisinopril_oral_tablet</td>\n",
       "      <td>448</td>\n",
       "      <td>NaN</td>\n",
       "      <td>NaN</td>\n",
       "      <td>NaN</td>\n",
       "      <td>NaN</td>\n",
       "      <td>NaN</td>\n",
       "      <td>NaN</td>\n",
       "      <td>NaN</td>\n",
       "    </tr>\n",
       "    <tr>\n",
       "      <th>MedicationStrength</th>\n",
       "      <td>21967</td>\n",
       "      <td>699</td>\n",
       "      <td>10 mg</td>\n",
       "      <td>1716</td>\n",
       "      <td>NaN</td>\n",
       "      <td>NaN</td>\n",
       "      <td>NaN</td>\n",
       "      <td>NaN</td>\n",
       "      <td>NaN</td>\n",
       "      <td>NaN</td>\n",
       "      <td>NaN</td>\n",
       "    </tr>\n",
       "    <tr>\n",
       "      <th>Schedule</th>\n",
       "      <td>2507</td>\n",
       "      <td>NaN</td>\n",
       "      <td>NaN</td>\n",
       "      <td>NaN</td>\n",
       "      <td>3.38931</td>\n",
       "      <td>0.912368</td>\n",
       "      <td>2</td>\n",
       "      <td>3</td>\n",
       "      <td>4</td>\n",
       "      <td>4</td>\n",
       "      <td>5</td>\n",
       "    </tr>\n",
       "    <tr>\n",
       "      <th>MedicationName_with_stregth</th>\n",
       "      <td>21967</td>\n",
       "      <td>2846</td>\n",
       "      <td>Zithromax_Z-Pak_(azithromycin)_oral_tablet-250 mg</td>\n",
       "      <td>244</td>\n",
       "      <td>NaN</td>\n",
       "      <td>NaN</td>\n",
       "      <td>NaN</td>\n",
       "      <td>NaN</td>\n",
       "      <td>NaN</td>\n",
       "      <td>NaN</td>\n",
       "      <td>NaN</td>\n",
       "    </tr>\n",
       "  </tbody>\n",
       "</table>\n",
       "</div>"
      ],
      "text/plain": [
       "                             count unique  \\\n",
       "PatientGuid                  21967   4940   \n",
       "NdcCode                      21967   6359   \n",
       "MedicationName               21895   1925   \n",
       "MedicationStrength           21967    699   \n",
       "Schedule                      2507    NaN   \n",
       "MedicationName_with_stregth  21967   2846   \n",
       "\n",
       "                                                                           top  \\\n",
       "PatientGuid                               A79241F6-3D8E-4208-B64E-7C2591F72398   \n",
       "NdcCode                                                            00069306075   \n",
       "MedicationName                                          Lisinopril_oral_tablet   \n",
       "MedicationStrength                                                       10 mg   \n",
       "Schedule                                                                   NaN   \n",
       "MedicationName_with_stregth  Zithromax_Z-Pak_(azithromycin)_oral_tablet-250 mg   \n",
       "\n",
       "                             freq     mean       std  min  25%  50%  75%  max  \n",
       "PatientGuid                    78      NaN       NaN  NaN  NaN  NaN  NaN  NaN  \n",
       "NdcCode                       172      NaN       NaN  NaN  NaN  NaN  NaN  NaN  \n",
       "MedicationName                448      NaN       NaN  NaN  NaN  NaN  NaN  NaN  \n",
       "MedicationStrength           1716      NaN       NaN  NaN  NaN  NaN  NaN  NaN  \n",
       "Schedule                      NaN  3.38931  0.912368    2    3    4    4    5  \n",
       "MedicationName_with_stregth   244      NaN       NaN  NaN  NaN  NaN  NaN  NaN  "
      ]
     },
     "execution_count": 19,
     "metadata": {},
     "output_type": "execute_result"
    }
   ],
   "source": [
    "medicines.describe(include='all').T"
   ]
  },
  {
   "cell_type": "markdown",
   "metadata": {
    "collapsed": true
   },
   "source": [
    "Note that schedule is available only for 2507 medications (~10%). Also, there is no way to define good default value in the rows that have missing data on schedule. We potentially can figure out default schedule for each medication and fill the data. That will require some research and assistance from a domain expert - I will drop Schedule as feature for now."
   ]
  },
  {
   "cell_type": "markdown",
   "metadata": {},
   "source": [
    "#### Drop the columns that's not needed"
   ]
  },
  {
   "cell_type": "code",
   "execution_count": 20,
   "metadata": {},
   "outputs": [
    {
     "data": {
      "text/html": [
       "<div>\n",
       "<style scoped>\n",
       "    .dataframe tbody tr th:only-of-type {\n",
       "        vertical-align: middle;\n",
       "    }\n",
       "\n",
       "    .dataframe tbody tr th {\n",
       "        vertical-align: top;\n",
       "    }\n",
       "\n",
       "    .dataframe thead th {\n",
       "        text-align: right;\n",
       "    }\n",
       "</style>\n",
       "<table border=\"1\" class=\"dataframe\">\n",
       "  <thead>\n",
       "    <tr style=\"text-align: right;\">\n",
       "      <th></th>\n",
       "      <th>PatientGuid</th>\n",
       "      <th>NdcCode</th>\n",
       "      <th>MedicationName</th>\n",
       "      <th>MedicationStrength</th>\n",
       "      <th>Schedule</th>\n",
       "      <th>MedicationName_with_stregth</th>\n",
       "    </tr>\n",
       "  </thead>\n",
       "  <tbody>\n",
       "    <tr>\n",
       "      <th>0</th>\n",
       "      <td>070A6571-6DAA-4F1B-8B0C-84C204CC26A6</td>\n",
       "      <td>00378710177</td>\n",
       "      <td>Fenofibrate_oral_tablet</td>\n",
       "      <td>160 mg</td>\n",
       "      <td>NaN</td>\n",
       "      <td>Fenofibrate_oral_tablet-160 mg</td>\n",
       "    </tr>\n",
       "    <tr>\n",
       "      <th>1</th>\n",
       "      <td>78D10955-1AF3-4DFF-A678-FA5B5597C888</td>\n",
       "      <td>00406055262</td>\n",
       "      <td>OxyCODONE_Hydrochloride_(oxyCODONE)_oral_tablet</td>\n",
       "      <td>5 mg</td>\n",
       "      <td>2.0</td>\n",
       "      <td>OxyCODONE_Hydrochloride_(oxyCODONE)_oral_table...</td>\n",
       "    </tr>\n",
       "  </tbody>\n",
       "</table>\n",
       "</div>"
      ],
      "text/plain": [
       "                            PatientGuid      NdcCode  \\\n",
       "0  070A6571-6DAA-4F1B-8B0C-84C204CC26A6  00378710177   \n",
       "1  78D10955-1AF3-4DFF-A678-FA5B5597C888  00406055262   \n",
       "\n",
       "                                    MedicationName MedicationStrength  \\\n",
       "0                          Fenofibrate_oral_tablet             160 mg   \n",
       "1  OxyCODONE_Hydrochloride_(oxyCODONE)_oral_tablet               5 mg   \n",
       "\n",
       "   Schedule                        MedicationName_with_stregth  \n",
       "0       NaN                     Fenofibrate_oral_tablet-160 mg  \n",
       "1       2.0  OxyCODONE_Hydrochloride_(oxyCODONE)_oral_table...  "
      ]
     },
     "execution_count": 20,
     "metadata": {},
     "output_type": "execute_result"
    }
   ],
   "source": [
    "medicines.head(2)"
   ]
  },
  {
   "cell_type": "code",
   "execution_count": 21,
   "metadata": {},
   "outputs": [
    {
     "data": {
      "text/html": [
       "<div>\n",
       "<style scoped>\n",
       "    .dataframe tbody tr th:only-of-type {\n",
       "        vertical-align: middle;\n",
       "    }\n",
       "\n",
       "    .dataframe tbody tr th {\n",
       "        vertical-align: top;\n",
       "    }\n",
       "\n",
       "    .dataframe thead th {\n",
       "        text-align: right;\n",
       "    }\n",
       "</style>\n",
       "<table border=\"1\" class=\"dataframe\">\n",
       "  <thead>\n",
       "    <tr style=\"text-align: right;\">\n",
       "      <th></th>\n",
       "      <th>PatientGuid</th>\n",
       "      <th>NdcCode</th>\n",
       "      <th>MedicationName_with_stregth</th>\n",
       "    </tr>\n",
       "  </thead>\n",
       "  <tbody>\n",
       "    <tr>\n",
       "      <th>0</th>\n",
       "      <td>070A6571-6DAA-4F1B-8B0C-84C204CC26A6</td>\n",
       "      <td>00378710177</td>\n",
       "      <td>Fenofibrate_oral_tablet-160 mg</td>\n",
       "    </tr>\n",
       "    <tr>\n",
       "      <th>1</th>\n",
       "      <td>78D10955-1AF3-4DFF-A678-FA5B5597C888</td>\n",
       "      <td>00406055262</td>\n",
       "      <td>OxyCODONE_Hydrochloride_(oxyCODONE)_oral_table...</td>\n",
       "    </tr>\n",
       "  </tbody>\n",
       "</table>\n",
       "</div>"
      ],
      "text/plain": [
       "                            PatientGuid      NdcCode  \\\n",
       "0  070A6571-6DAA-4F1B-8B0C-84C204CC26A6  00378710177   \n",
       "1  78D10955-1AF3-4DFF-A678-FA5B5597C888  00406055262   \n",
       "\n",
       "                         MedicationName_with_stregth  \n",
       "0                     Fenofibrate_oral_tablet-160 mg  \n",
       "1  OxyCODONE_Hydrochloride_(oxyCODONE)_oral_table...  "
      ]
     },
     "execution_count": 21,
     "metadata": {},
     "output_type": "execute_result"
    }
   ],
   "source": [
    "#medicines = medicines[[\"PatientGuid\",\"NdcCode\",\"MedicationName\",\"MedicationStrength\"]]\n",
    "#medicines.MedicationName = medicines.MedicationName.fillna('NaN')\n",
    "#medicines.MedicationName = medicines.MedicationName.astype(str)\n",
    "#medicines.MedicationStrength = medicines.MedicationStrength.astype(str)\n",
    "medicines = medicines[[\"PatientGuid\",\"NdcCode\",\"MedicationName_with_stregth\"]]\n",
    "medicines.head(2)"
   ]
  },
  {
   "cell_type": "markdown",
   "metadata": {},
   "source": [
    "#### Convert NDCCode and MedicationName_with_strength into numeric feature\n",
    "\n",
    "Following process will be followed to convert NDCCode and MedicationName_with_strenght into feature\n",
    "\n",
    "1. Patient are taking multiple medications. As a result, medicine dataset has multiple rows for patients. Multiple rows of patients will be merged together to create a single row.\n",
    "\n",
    "2. In several instances, patient is associated with medicines multiple times. As we merge the rows together, we keep the count of number of times patient has taken certain medications.\n",
    "\n",
    "___Note ideal would have been to build a time series feature of medicines if we had the timedata available for medicines. But since we don't have that data, we will just assign binary flag for each of the medications.___"
   ]
  },
  {
   "cell_type": "code",
   "execution_count": 22,
   "metadata": {},
   "outputs": [
    {
     "name": "stdout",
     "output_type": "stream",
     "text": [
      "column name is: NdcCode\n",
      "(21628, 3)\n",
      "(4940, 6360)\n",
      "column name is: MedicationName_with_stregth\n",
      "(21317, 3)\n",
      "(4940, 2847)\n"
     ]
    }
   ],
   "source": [
    "medicine_finalized_features = pd.DataFrame()\n",
    "for column in medicines.iloc[:,1:].columns:\n",
    "    print (\"column name is: \" + column)\n",
    "    medicine_feature = medicines.groupby(['PatientGuid',column]).size()\n",
    "    medicine_feature = medicine_feature.reset_index()\n",
    "    print (medicine_feature.shape)\n",
    "    medicine_feature.rename(columns={0:(column + \"_count\")},inplace=True)\n",
    "    medicine_feature = pd.pivot_table(medicine_feature, \\\n",
    "                                                   index=['PatientGuid'], \\\n",
    "                                                  columns=column,values= (column+'_count'))\n",
    "    medicine_feature = medicine_feature.reset_index()\n",
    "    medicine_feature = medicine_feature.fillna(0)\n",
    "    print (medicine_feature.shape)\n",
    "    cols_to_use = medicine_feature.columns.difference(medicine_finalized_features.columns)\n",
    "    medicine_finalized_features = pd.concat([medicine_finalized_features,medicine_feature],axis=1)\n",
    "    medicine_finalized_features = medicine_finalized_features.fillna(0)\n",
    "    del medicine_feature\n",
    "    "
   ]
  },
  {
   "cell_type": "code",
   "execution_count": 23,
   "metadata": {},
   "outputs": [
    {
     "data": {
      "text/plain": [
       "(4940, 9207)"
      ]
     },
     "execution_count": 23,
     "metadata": {},
     "output_type": "execute_result"
    }
   ],
   "source": [
    "medicine_finalized_features.shape"
   ]
  },
  {
   "cell_type": "markdown",
   "metadata": {},
   "source": [
    "#### Remove some of the columns where Medicantion Name was Null"
   ]
  },
  {
   "cell_type": "code",
   "execution_count": 24,
   "metadata": {},
   "outputs": [
    {
     "name": "stdout",
     "output_type": "stream",
     "text": [
      "nan-\n",
      "nan--\n"
     ]
    }
   ],
   "source": [
    "for column in medicine_finalized_features:\n",
    "    if column.find('nan-') != -1:\n",
    "        print (column)\n",
    "        medicine_finalized_features.drop([column],inplace=True,axis=1)"
   ]
  },
  {
   "cell_type": "code",
   "execution_count": 25,
   "metadata": {},
   "outputs": [
    {
     "data": {
      "text/plain": [
       "(4940, 9205)"
      ]
     },
     "execution_count": 25,
     "metadata": {},
     "output_type": "execute_result"
    }
   ],
   "source": [
    "medicine_finalized_features.shape"
   ]
  },
  {
   "cell_type": "markdown",
   "metadata": {},
   "source": [
    "#### Remove duplicate columns\n",
    "\n",
    "There are 2 PatientGuid Columns (came duing concatenation). Drop one of them."
   ]
  },
  {
   "cell_type": "code",
   "execution_count": 26,
   "metadata": {},
   "outputs": [],
   "source": [
    "_, i = np.unique(medicine_finalized_features.columns, return_index=True)\n",
    "medicine_finalized_features = medicine_finalized_features.iloc[:, i]"
   ]
  },
  {
   "cell_type": "code",
   "execution_count": 27,
   "metadata": {},
   "outputs": [
    {
     "data": {
      "text/html": [
       "<div>\n",
       "<style scoped>\n",
       "    .dataframe tbody tr th:only-of-type {\n",
       "        vertical-align: middle;\n",
       "    }\n",
       "\n",
       "    .dataframe tbody tr th {\n",
       "        vertical-align: top;\n",
       "    }\n",
       "\n",
       "    .dataframe thead th {\n",
       "        text-align: right;\n",
       "    }\n",
       "</style>\n",
       "<table border=\"1\" class=\"dataframe\">\n",
       "  <thead>\n",
       "    <tr style=\"text-align: right;\">\n",
       "      <th></th>\n",
       "      <th>PatientGuid</th>\n",
       "      <th>00002034603</th>\n",
       "      <th>00002036302</th>\n",
       "      <th>00002036303</th>\n",
       "      <th>00002036333</th>\n",
       "      <th>00002036343</th>\n",
       "      <th>00002080302</th>\n",
       "      <th>00002080303</th>\n",
       "      <th>00002109402</th>\n",
       "      <th>00002109502</th>\n",
       "      <th>...</th>\n",
       "      <th>Zylet_(loteprednol-tobramycin_ophthalmic)_ophthalmic_suspension-0.5%-0.3%</th>\n",
       "      <th>Zymar_(gatifloxacin_ophthalmic)_ophthalmic_solution-0.3%</th>\n",
       "      <th>ZyrTEC-D_(cetirizine-pseudoephedrine)_oral_tablet,_extended_release-5 mg-120 mg</th>\n",
       "      <th>ZyrTEC_(cetirizine)_oral_tablet,_chewable-10 mg</th>\n",
       "      <th>ZyrTEC_(cetirizine)_oral_tablet-10 mg</th>\n",
       "      <th>ZyrTEC_Hives_(cetirizine)_oral_tablet-10 mg</th>\n",
       "      <th>Zyvox_(linezolid)_oral_tablet-600 mg</th>\n",
       "      <th>alli_(orlistat)_oral_capsule-60 mg</th>\n",
       "      <th>depo-subQ_provera_104_(medroxyPROGESTERone)_subcutaneous_suspension-104 mg/0.65 mL</th>\n",
       "      <th>optive_(ocular_lubricant)_ophthalmic_solution--</th>\n",
       "    </tr>\n",
       "  </thead>\n",
       "  <tbody>\n",
       "    <tr>\n",
       "      <th>0</th>\n",
       "      <td>00033D2D-D57C-48A7-B201-F9183F6E640B</td>\n",
       "      <td>0.0</td>\n",
       "      <td>0.0</td>\n",
       "      <td>0.0</td>\n",
       "      <td>0.0</td>\n",
       "      <td>0.0</td>\n",
       "      <td>0.0</td>\n",
       "      <td>0.0</td>\n",
       "      <td>0.0</td>\n",
       "      <td>0.0</td>\n",
       "      <td>...</td>\n",
       "      <td>0.0</td>\n",
       "      <td>0.0</td>\n",
       "      <td>0.0</td>\n",
       "      <td>0.0</td>\n",
       "      <td>0.0</td>\n",
       "      <td>0.0</td>\n",
       "      <td>0.0</td>\n",
       "      <td>0.0</td>\n",
       "      <td>0.0</td>\n",
       "      <td>0.0</td>\n",
       "    </tr>\n",
       "    <tr>\n",
       "      <th>1</th>\n",
       "      <td>00044CC1-7911-4C35-B73C-B5623FA3A60F</td>\n",
       "      <td>0.0</td>\n",
       "      <td>0.0</td>\n",
       "      <td>0.0</td>\n",
       "      <td>0.0</td>\n",
       "      <td>0.0</td>\n",
       "      <td>0.0</td>\n",
       "      <td>0.0</td>\n",
       "      <td>1.0</td>\n",
       "      <td>0.0</td>\n",
       "      <td>...</td>\n",
       "      <td>0.0</td>\n",
       "      <td>0.0</td>\n",
       "      <td>0.0</td>\n",
       "      <td>0.0</td>\n",
       "      <td>0.0</td>\n",
       "      <td>0.0</td>\n",
       "      <td>0.0</td>\n",
       "      <td>0.0</td>\n",
       "      <td>0.0</td>\n",
       "      <td>0.0</td>\n",
       "    </tr>\n",
       "  </tbody>\n",
       "</table>\n",
       "<p>2 rows × 9204 columns</p>\n",
       "</div>"
      ],
      "text/plain": [
       "                            PatientGuid  00002034603  00002036302  \\\n",
       "0  00033D2D-D57C-48A7-B201-F9183F6E640B          0.0          0.0   \n",
       "1  00044CC1-7911-4C35-B73C-B5623FA3A60F          0.0          0.0   \n",
       "\n",
       "   00002036303  00002036333  00002036343  00002080302  00002080303  \\\n",
       "0          0.0          0.0          0.0          0.0          0.0   \n",
       "1          0.0          0.0          0.0          0.0          0.0   \n",
       "\n",
       "   00002109402  00002109502                       ...                         \\\n",
       "0          0.0          0.0                       ...                          \n",
       "1          1.0          0.0                       ...                          \n",
       "\n",
       "   Zylet_(loteprednol-tobramycin_ophthalmic)_ophthalmic_suspension-0.5%-0.3%  \\\n",
       "0                                                0.0                           \n",
       "1                                                0.0                           \n",
       "\n",
       "   Zymar_(gatifloxacin_ophthalmic)_ophthalmic_solution-0.3%  \\\n",
       "0                                                0.0          \n",
       "1                                                0.0          \n",
       "\n",
       "   ZyrTEC-D_(cetirizine-pseudoephedrine)_oral_tablet,_extended_release-5 mg-120 mg  \\\n",
       "0                                                0.0                                 \n",
       "1                                                0.0                                 \n",
       "\n",
       "   ZyrTEC_(cetirizine)_oral_tablet,_chewable-10 mg  \\\n",
       "0                                              0.0   \n",
       "1                                              0.0   \n",
       "\n",
       "   ZyrTEC_(cetirizine)_oral_tablet-10 mg  \\\n",
       "0                                    0.0   \n",
       "1                                    0.0   \n",
       "\n",
       "   ZyrTEC_Hives_(cetirizine)_oral_tablet-10 mg  \\\n",
       "0                                          0.0   \n",
       "1                                          0.0   \n",
       "\n",
       "   Zyvox_(linezolid)_oral_tablet-600 mg  alli_(orlistat)_oral_capsule-60 mg  \\\n",
       "0                                   0.0                                 0.0   \n",
       "1                                   0.0                                 0.0   \n",
       "\n",
       "   depo-subQ_provera_104_(medroxyPROGESTERone)_subcutaneous_suspension-104 mg/0.65 mL  \\\n",
       "0                                                0.0                                    \n",
       "1                                                0.0                                    \n",
       "\n",
       "   optive_(ocular_lubricant)_ophthalmic_solution--  \n",
       "0                                              0.0  \n",
       "1                                              0.0  \n",
       "\n",
       "[2 rows x 9204 columns]"
      ]
     },
     "execution_count": 27,
     "metadata": {},
     "output_type": "execute_result"
    }
   ],
   "source": [
    "medicine_feature_columns = list(medicine_finalized_features.columns.values)\n",
    "medicine_feature_columns.remove(\"PatientGuid\")\n",
    "medicine_feature_columns.insert(0, \"PatientGuid\")\n",
    "medicine_finalized_features = medicine_finalized_features[medicine_feature_columns]\n",
    "medicine_finalized_features.head(2)\n"
   ]
  },
  {
   "cell_type": "code",
   "execution_count": 28,
   "metadata": {},
   "outputs": [
    {
     "data": {
      "text/plain": [
       "(4940, 9204)"
      ]
     },
     "execution_count": 28,
     "metadata": {},
     "output_type": "execute_result"
    }
   ],
   "source": [
    "medicine_finalized_features.shape"
   ]
  },
  {
   "cell_type": "markdown",
   "metadata": {},
   "source": [
    "#### Append the Outcome into the featureset"
   ]
  },
  {
   "cell_type": "code",
   "execution_count": 29,
   "metadata": {},
   "outputs": [
    {
     "data": {
      "text/html": [
       "<div>\n",
       "<style scoped>\n",
       "    .dataframe tbody tr th:only-of-type {\n",
       "        vertical-align: middle;\n",
       "    }\n",
       "\n",
       "    .dataframe tbody tr th {\n",
       "        vertical-align: top;\n",
       "    }\n",
       "\n",
       "    .dataframe thead th {\n",
       "        text-align: right;\n",
       "    }\n",
       "</style>\n",
       "<table border=\"1\" class=\"dataframe\">\n",
       "  <thead>\n",
       "    <tr style=\"text-align: right;\">\n",
       "      <th></th>\n",
       "      <th>PatientGuid</th>\n",
       "      <th>acid_reflux_patient</th>\n",
       "    </tr>\n",
       "  </thead>\n",
       "  <tbody>\n",
       "    <tr>\n",
       "      <th>0</th>\n",
       "      <td>BC78C551-C20F-4F10-8D61-002AA9834BDE</td>\n",
       "      <td>0</td>\n",
       "    </tr>\n",
       "    <tr>\n",
       "      <th>1</th>\n",
       "      <td>6D88901A-3214-4BC0-B139-002EF1A5FA09</td>\n",
       "      <td>0</td>\n",
       "    </tr>\n",
       "  </tbody>\n",
       "</table>\n",
       "</div>"
      ],
      "text/plain": [
       "                            PatientGuid  acid_reflux_patient\n",
       "0  BC78C551-C20F-4F10-8D61-002AA9834BDE                    0\n",
       "1  6D88901A-3214-4BC0-B139-002EF1A5FA09                    0"
      ]
     },
     "execution_count": 29,
     "metadata": {},
     "output_type": "execute_result"
    }
   ],
   "source": [
    "patients.head(2)"
   ]
  },
  {
   "cell_type": "code",
   "execution_count": 30,
   "metadata": {},
   "outputs": [],
   "source": [
    "medicine_finalized_features = pd.merge(medicine_finalized_features, patients,on=[\"PatientGuid\"],how='left')"
   ]
  },
  {
   "cell_type": "code",
   "execution_count": 31,
   "metadata": {},
   "outputs": [
    {
     "data": {
      "text/plain": [
       "(4940, 9205)"
      ]
     },
     "execution_count": 31,
     "metadata": {},
     "output_type": "execute_result"
    }
   ],
   "source": [
    "medicine_finalized_features.shape"
   ]
  },
  {
   "cell_type": "code",
   "execution_count": 32,
   "metadata": {},
   "outputs": [
    {
     "data": {
      "text/html": [
       "<div>\n",
       "<style scoped>\n",
       "    .dataframe tbody tr th:only-of-type {\n",
       "        vertical-align: middle;\n",
       "    }\n",
       "\n",
       "    .dataframe tbody tr th {\n",
       "        vertical-align: top;\n",
       "    }\n",
       "\n",
       "    .dataframe thead th {\n",
       "        text-align: right;\n",
       "    }\n",
       "</style>\n",
       "<table border=\"1\" class=\"dataframe\">\n",
       "  <thead>\n",
       "    <tr style=\"text-align: right;\">\n",
       "      <th></th>\n",
       "      <th>PatientGuid</th>\n",
       "      <th>00002034603</th>\n",
       "      <th>00002036302</th>\n",
       "      <th>00002036303</th>\n",
       "      <th>00002036333</th>\n",
       "      <th>00002036343</th>\n",
       "      <th>00002080302</th>\n",
       "      <th>00002080303</th>\n",
       "      <th>00002109402</th>\n",
       "      <th>00002109502</th>\n",
       "      <th>...</th>\n",
       "      <th>Zymar_(gatifloxacin_ophthalmic)_ophthalmic_solution-0.3%</th>\n",
       "      <th>ZyrTEC-D_(cetirizine-pseudoephedrine)_oral_tablet,_extended_release-5 mg-120 mg</th>\n",
       "      <th>ZyrTEC_(cetirizine)_oral_tablet,_chewable-10 mg</th>\n",
       "      <th>ZyrTEC_(cetirizine)_oral_tablet-10 mg</th>\n",
       "      <th>ZyrTEC_Hives_(cetirizine)_oral_tablet-10 mg</th>\n",
       "      <th>Zyvox_(linezolid)_oral_tablet-600 mg</th>\n",
       "      <th>alli_(orlistat)_oral_capsule-60 mg</th>\n",
       "      <th>depo-subQ_provera_104_(medroxyPROGESTERone)_subcutaneous_suspension-104 mg/0.65 mL</th>\n",
       "      <th>optive_(ocular_lubricant)_ophthalmic_solution--</th>\n",
       "      <th>acid_reflux_patient</th>\n",
       "    </tr>\n",
       "  </thead>\n",
       "  <tbody>\n",
       "    <tr>\n",
       "      <th>0</th>\n",
       "      <td>00033D2D-D57C-48A7-B201-F9183F6E640B</td>\n",
       "      <td>0.0</td>\n",
       "      <td>0.0</td>\n",
       "      <td>0.0</td>\n",
       "      <td>0.0</td>\n",
       "      <td>0.0</td>\n",
       "      <td>0.0</td>\n",
       "      <td>0.0</td>\n",
       "      <td>0.0</td>\n",
       "      <td>0.0</td>\n",
       "      <td>...</td>\n",
       "      <td>0.0</td>\n",
       "      <td>0.0</td>\n",
       "      <td>0.0</td>\n",
       "      <td>0.0</td>\n",
       "      <td>0.0</td>\n",
       "      <td>0.0</td>\n",
       "      <td>0.0</td>\n",
       "      <td>0.0</td>\n",
       "      <td>0.0</td>\n",
       "      <td>0</td>\n",
       "    </tr>\n",
       "    <tr>\n",
       "      <th>1</th>\n",
       "      <td>00044CC1-7911-4C35-B73C-B5623FA3A60F</td>\n",
       "      <td>0.0</td>\n",
       "      <td>0.0</td>\n",
       "      <td>0.0</td>\n",
       "      <td>0.0</td>\n",
       "      <td>0.0</td>\n",
       "      <td>0.0</td>\n",
       "      <td>0.0</td>\n",
       "      <td>1.0</td>\n",
       "      <td>0.0</td>\n",
       "      <td>...</td>\n",
       "      <td>0.0</td>\n",
       "      <td>0.0</td>\n",
       "      <td>0.0</td>\n",
       "      <td>0.0</td>\n",
       "      <td>0.0</td>\n",
       "      <td>0.0</td>\n",
       "      <td>0.0</td>\n",
       "      <td>0.0</td>\n",
       "      <td>0.0</td>\n",
       "      <td>0</td>\n",
       "    </tr>\n",
       "  </tbody>\n",
       "</table>\n",
       "<p>2 rows × 9205 columns</p>\n",
       "</div>"
      ],
      "text/plain": [
       "                            PatientGuid  00002034603  00002036302  \\\n",
       "0  00033D2D-D57C-48A7-B201-F9183F6E640B          0.0          0.0   \n",
       "1  00044CC1-7911-4C35-B73C-B5623FA3A60F          0.0          0.0   \n",
       "\n",
       "   00002036303  00002036333  00002036343  00002080302  00002080303  \\\n",
       "0          0.0          0.0          0.0          0.0          0.0   \n",
       "1          0.0          0.0          0.0          0.0          0.0   \n",
       "\n",
       "   00002109402  00002109502         ...           \\\n",
       "0          0.0          0.0         ...            \n",
       "1          1.0          0.0         ...            \n",
       "\n",
       "   Zymar_(gatifloxacin_ophthalmic)_ophthalmic_solution-0.3%  \\\n",
       "0                                                0.0          \n",
       "1                                                0.0          \n",
       "\n",
       "   ZyrTEC-D_(cetirizine-pseudoephedrine)_oral_tablet,_extended_release-5 mg-120 mg  \\\n",
       "0                                                0.0                                 \n",
       "1                                                0.0                                 \n",
       "\n",
       "   ZyrTEC_(cetirizine)_oral_tablet,_chewable-10 mg  \\\n",
       "0                                              0.0   \n",
       "1                                              0.0   \n",
       "\n",
       "   ZyrTEC_(cetirizine)_oral_tablet-10 mg  \\\n",
       "0                                    0.0   \n",
       "1                                    0.0   \n",
       "\n",
       "   ZyrTEC_Hives_(cetirizine)_oral_tablet-10 mg  \\\n",
       "0                                          0.0   \n",
       "1                                          0.0   \n",
       "\n",
       "   Zyvox_(linezolid)_oral_tablet-600 mg  alli_(orlistat)_oral_capsule-60 mg  \\\n",
       "0                                   0.0                                 0.0   \n",
       "1                                   0.0                                 0.0   \n",
       "\n",
       "   depo-subQ_provera_104_(medroxyPROGESTERone)_subcutaneous_suspension-104 mg/0.65 mL  \\\n",
       "0                                                0.0                                    \n",
       "1                                                0.0                                    \n",
       "\n",
       "   optive_(ocular_lubricant)_ophthalmic_solution--  acid_reflux_patient  \n",
       "0                                              0.0                    0  \n",
       "1                                              0.0                    0  \n",
       "\n",
       "[2 rows x 9205 columns]"
      ]
     },
     "execution_count": 32,
     "metadata": {},
     "output_type": "execute_result"
    }
   ],
   "source": [
    "medicine_finalized_features.head(2)"
   ]
  },
  {
   "cell_type": "markdown",
   "metadata": {
    "collapsed": true
   },
   "source": [
    "#### Save the finalized feature to use with Machine Learning Models"
   ]
  },
  {
   "cell_type": "code",
   "execution_count": 33,
   "metadata": {},
   "outputs": [],
   "source": [
    "medicine_finalized_features.to_csv(\"./features/medicine_finalized_features.csv\",index=False)"
   ]
  },
  {
   "cell_type": "code",
   "execution_count": null,
   "metadata": {},
   "outputs": [],
   "source": []
  }
 ],
 "metadata": {
  "kernelspec": {
   "display_name": "Python 3",
   "language": "python",
   "name": "python3"
  },
  "language_info": {
   "codemirror_mode": {
    "name": "ipython",
    "version": 3
   },
   "file_extension": ".py",
   "mimetype": "text/x-python",
   "name": "python",
   "nbconvert_exporter": "python",
   "pygments_lexer": "ipython3",
   "version": "3.5.5"
  }
 },
 "nbformat": 4,
 "nbformat_minor": 1
}
