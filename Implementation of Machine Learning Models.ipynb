{
 "cells": [
  {
   "cell_type": "code",
   "execution_count": 1,
   "metadata": {},
   "outputs": [],
   "source": [
    "import pandas as pd\n",
    "import numpy as np\n",
    "from sklearn import preprocessing\n",
    "import matplotlib.pyplot as plt\n",
    "import datetime\n",
    "from time import time\n",
    "\n",
    "\n",
    "import seaborn as sns\n",
    "sns.set(style='ticks')\n",
    "sns.set_context(\"notebook\", font_scale=1)\n",
    "sns.set_style(\"darkgrid\")\n",
    "\n",
    "\n",
    "import warnings\n",
    "warnings.filterwarnings('ignore')\n",
    "import datetime\n",
    "from datetime import date\n",
    "\n",
    "%matplotlib inline\n",
    "\n",
    "# Import supplementary visualization code visuals.py\n",
    "%load_ext autoreload\n",
    "%autoreload 2\n",
    "%reload_ext autoreload\n",
    "from random import *\n",
    "\n",
    "from sklearn.preprocessing import RobustScaler\n",
    "from sklearn.metrics import fbeta_score,accuracy_score\n",
    "from sklearn.metrics import confusion_matrix\n",
    "from sklearn.ensemble import GradientBoostingClassifier\n",
    "# Import the three supervised learning models from sklearn\n",
    "from sklearn.linear_model import LogisticRegression\n",
    "from sklearn.ensemble import GradientBoostingClassifier\n",
    "from sklearn.ensemble import AdaBoostClassifier\n",
    "# Import the three supervised learning models from sklearn\n",
    "from sklearn.naive_bayes import GaussianNB\n",
    "from sklearn import tree\n",
    "from sklearn.neighbors import KNeighborsClassifier\n",
    "\n",
    "from sklearn.ensemble import RandomForestClassifier\n",
    "from sklearn.svm import SVC\n",
    "from sklearn.linear_model import SGDClassifier\n",
    "import itertools"
   ]
  },
  {
   "cell_type": "markdown",
   "metadata": {},
   "source": [
    "#### Load Finalized features"
   ]
  },
  {
   "cell_type": "code",
   "execution_count": 2,
   "metadata": {},
   "outputs": [],
   "source": [
    "ml_features = pd.read_csv(\"./features/medicine_finalized_features.csv\")"
   ]
  },
  {
   "cell_type": "code",
   "execution_count": 3,
   "metadata": {},
   "outputs": [
    {
     "data": {
      "text/plain": [
       "(4940, 9205)"
      ]
     },
     "execution_count": 3,
     "metadata": {},
     "output_type": "execute_result"
    }
   ],
   "source": [
    "ml_features.shape"
   ]
  },
  {
   "cell_type": "code",
   "execution_count": 4,
   "metadata": {},
   "outputs": [
    {
     "data": {
      "text/html": [
       "<div>\n",
       "<style scoped>\n",
       "    .dataframe tbody tr th:only-of-type {\n",
       "        vertical-align: middle;\n",
       "    }\n",
       "\n",
       "    .dataframe tbody tr th {\n",
       "        vertical-align: top;\n",
       "    }\n",
       "\n",
       "    .dataframe thead th {\n",
       "        text-align: right;\n",
       "    }\n",
       "</style>\n",
       "<table border=\"1\" class=\"dataframe\">\n",
       "  <thead>\n",
       "    <tr style=\"text-align: right;\">\n",
       "      <th></th>\n",
       "      <th>count</th>\n",
       "      <th>mean</th>\n",
       "      <th>std</th>\n",
       "      <th>min</th>\n",
       "      <th>25%</th>\n",
       "      <th>50%</th>\n",
       "      <th>75%</th>\n",
       "      <th>max</th>\n",
       "    </tr>\n",
       "  </thead>\n",
       "  <tbody>\n",
       "    <tr>\n",
       "      <th>00002034603</th>\n",
       "      <td>4940.0</td>\n",
       "      <td>0.000202</td>\n",
       "      <td>0.014228</td>\n",
       "      <td>0.0</td>\n",
       "      <td>0.0</td>\n",
       "      <td>0.0</td>\n",
       "      <td>0.0</td>\n",
       "      <td>1.0</td>\n",
       "    </tr>\n",
       "    <tr>\n",
       "      <th>00002036302</th>\n",
       "      <td>4940.0</td>\n",
       "      <td>0.000405</td>\n",
       "      <td>0.020119</td>\n",
       "      <td>0.0</td>\n",
       "      <td>0.0</td>\n",
       "      <td>0.0</td>\n",
       "      <td>0.0</td>\n",
       "      <td>1.0</td>\n",
       "    </tr>\n",
       "    <tr>\n",
       "      <th>00002036303</th>\n",
       "      <td>4940.0</td>\n",
       "      <td>0.000405</td>\n",
       "      <td>0.020119</td>\n",
       "      <td>0.0</td>\n",
       "      <td>0.0</td>\n",
       "      <td>0.0</td>\n",
       "      <td>0.0</td>\n",
       "      <td>1.0</td>\n",
       "    </tr>\n",
       "    <tr>\n",
       "      <th>00002036333</th>\n",
       "      <td>4940.0</td>\n",
       "      <td>0.006680</td>\n",
       "      <td>0.103374</td>\n",
       "      <td>0.0</td>\n",
       "      <td>0.0</td>\n",
       "      <td>0.0</td>\n",
       "      <td>0.0</td>\n",
       "      <td>5.0</td>\n",
       "    </tr>\n",
       "    <tr>\n",
       "      <th>00002036343</th>\n",
       "      <td>4940.0</td>\n",
       "      <td>0.000607</td>\n",
       "      <td>0.031812</td>\n",
       "      <td>0.0</td>\n",
       "      <td>0.0</td>\n",
       "      <td>0.0</td>\n",
       "      <td>0.0</td>\n",
       "      <td>2.0</td>\n",
       "    </tr>\n",
       "  </tbody>\n",
       "</table>\n",
       "</div>"
      ],
      "text/plain": [
       "              count      mean       std  min  25%  50%  75%  max\n",
       "00002034603  4940.0  0.000202  0.014228  0.0  0.0  0.0  0.0  1.0\n",
       "00002036302  4940.0  0.000405  0.020119  0.0  0.0  0.0  0.0  1.0\n",
       "00002036303  4940.0  0.000405  0.020119  0.0  0.0  0.0  0.0  1.0\n",
       "00002036333  4940.0  0.006680  0.103374  0.0  0.0  0.0  0.0  5.0\n",
       "00002036343  4940.0  0.000607  0.031812  0.0  0.0  0.0  0.0  2.0"
      ]
     },
     "execution_count": 4,
     "metadata": {},
     "output_type": "execute_result"
    }
   ],
   "source": [
    "ml_features.describe().T.head()"
   ]
  },
  {
   "cell_type": "markdown",
   "metadata": {},
   "source": [
    "#### Normalize the features\n",
    "\n",
    "With feature sets we have, there may not be a much benefit of normalizaiton. But, training will be a little faster with lower variation of data in input features."
   ]
  },
  {
   "cell_type": "code",
   "execution_count": 5,
   "metadata": {},
   "outputs": [
    {
     "data": {
      "text/html": [
       "<div>\n",
       "<style scoped>\n",
       "    .dataframe tbody tr th:only-of-type {\n",
       "        vertical-align: middle;\n",
       "    }\n",
       "\n",
       "    .dataframe tbody tr th {\n",
       "        vertical-align: top;\n",
       "    }\n",
       "\n",
       "    .dataframe thead th {\n",
       "        text-align: right;\n",
       "    }\n",
       "</style>\n",
       "<table border=\"1\" class=\"dataframe\">\n",
       "  <thead>\n",
       "    <tr style=\"text-align: right;\">\n",
       "      <th></th>\n",
       "      <th>PatientGuid</th>\n",
       "      <th>00002034603</th>\n",
       "      <th>00002036302</th>\n",
       "      <th>00002036303</th>\n",
       "      <th>00002036333</th>\n",
       "      <th>00002036343</th>\n",
       "      <th>00002080302</th>\n",
       "      <th>00002080303</th>\n",
       "      <th>00002109402</th>\n",
       "      <th>00002109502</th>\n",
       "      <th>...</th>\n",
       "      <th>Zymar_(gatifloxacin_ophthalmic)_ophthalmic_solution-0.3%</th>\n",
       "      <th>ZyrTEC-D_(cetirizine-pseudoephedrine)_oral_tablet,_extended_release-5 mg-120 mg</th>\n",
       "      <th>ZyrTEC_(cetirizine)_oral_tablet,_chewable-10 mg</th>\n",
       "      <th>ZyrTEC_(cetirizine)_oral_tablet-10 mg</th>\n",
       "      <th>ZyrTEC_Hives_(cetirizine)_oral_tablet-10 mg</th>\n",
       "      <th>Zyvox_(linezolid)_oral_tablet-600 mg</th>\n",
       "      <th>alli_(orlistat)_oral_capsule-60 mg</th>\n",
       "      <th>depo-subQ_provera_104_(medroxyPROGESTERone)_subcutaneous_suspension-104 mg/0.65 mL</th>\n",
       "      <th>optive_(ocular_lubricant)_ophthalmic_solution--</th>\n",
       "      <th>acid_reflux_patient</th>\n",
       "    </tr>\n",
       "  </thead>\n",
       "  <tbody>\n",
       "    <tr>\n",
       "      <th>0</th>\n",
       "      <td>00033D2D-D57C-48A7-B201-F9183F6E640B</td>\n",
       "      <td>0.0</td>\n",
       "      <td>0.0</td>\n",
       "      <td>0.0</td>\n",
       "      <td>0.0</td>\n",
       "      <td>0.0</td>\n",
       "      <td>0.0</td>\n",
       "      <td>0.0</td>\n",
       "      <td>0.0</td>\n",
       "      <td>0.0</td>\n",
       "      <td>...</td>\n",
       "      <td>0.0</td>\n",
       "      <td>0.0</td>\n",
       "      <td>0.0</td>\n",
       "      <td>0.0</td>\n",
       "      <td>0.0</td>\n",
       "      <td>0.0</td>\n",
       "      <td>0.0</td>\n",
       "      <td>0.0</td>\n",
       "      <td>0.0</td>\n",
       "      <td>0</td>\n",
       "    </tr>\n",
       "    <tr>\n",
       "      <th>1</th>\n",
       "      <td>00044CC1-7911-4C35-B73C-B5623FA3A60F</td>\n",
       "      <td>0.0</td>\n",
       "      <td>0.0</td>\n",
       "      <td>0.0</td>\n",
       "      <td>0.0</td>\n",
       "      <td>0.0</td>\n",
       "      <td>0.0</td>\n",
       "      <td>0.0</td>\n",
       "      <td>1.0</td>\n",
       "      <td>0.0</td>\n",
       "      <td>...</td>\n",
       "      <td>0.0</td>\n",
       "      <td>0.0</td>\n",
       "      <td>0.0</td>\n",
       "      <td>0.0</td>\n",
       "      <td>0.0</td>\n",
       "      <td>0.0</td>\n",
       "      <td>0.0</td>\n",
       "      <td>0.0</td>\n",
       "      <td>0.0</td>\n",
       "      <td>0</td>\n",
       "    </tr>\n",
       "  </tbody>\n",
       "</table>\n",
       "<p>2 rows × 9205 columns</p>\n",
       "</div>"
      ],
      "text/plain": [
       "                            PatientGuid  00002034603  00002036302  \\\n",
       "0  00033D2D-D57C-48A7-B201-F9183F6E640B          0.0          0.0   \n",
       "1  00044CC1-7911-4C35-B73C-B5623FA3A60F          0.0          0.0   \n",
       "\n",
       "   00002036303  00002036333  00002036343  00002080302  00002080303  \\\n",
       "0          0.0          0.0          0.0          0.0          0.0   \n",
       "1          0.0          0.0          0.0          0.0          0.0   \n",
       "\n",
       "   00002109402  00002109502         ...           \\\n",
       "0          0.0          0.0         ...            \n",
       "1          1.0          0.0         ...            \n",
       "\n",
       "   Zymar_(gatifloxacin_ophthalmic)_ophthalmic_solution-0.3%  \\\n",
       "0                                                0.0          \n",
       "1                                                0.0          \n",
       "\n",
       "   ZyrTEC-D_(cetirizine-pseudoephedrine)_oral_tablet,_extended_release-5 mg-120 mg  \\\n",
       "0                                                0.0                                 \n",
       "1                                                0.0                                 \n",
       "\n",
       "   ZyrTEC_(cetirizine)_oral_tablet,_chewable-10 mg  \\\n",
       "0                                              0.0   \n",
       "1                                              0.0   \n",
       "\n",
       "   ZyrTEC_(cetirizine)_oral_tablet-10 mg  \\\n",
       "0                                    0.0   \n",
       "1                                    0.0   \n",
       "\n",
       "   ZyrTEC_Hives_(cetirizine)_oral_tablet-10 mg  \\\n",
       "0                                          0.0   \n",
       "1                                          0.0   \n",
       "\n",
       "   Zyvox_(linezolid)_oral_tablet-600 mg  alli_(orlistat)_oral_capsule-60 mg  \\\n",
       "0                                   0.0                                 0.0   \n",
       "1                                   0.0                                 0.0   \n",
       "\n",
       "   depo-subQ_provera_104_(medroxyPROGESTERone)_subcutaneous_suspension-104 mg/0.65 mL  \\\n",
       "0                                                0.0                                    \n",
       "1                                                0.0                                    \n",
       "\n",
       "   optive_(ocular_lubricant)_ophthalmic_solution--  acid_reflux_patient  \n",
       "0                                              0.0                    0  \n",
       "1                                              0.0                    0  \n",
       "\n",
       "[2 rows x 9205 columns]"
      ]
     },
     "execution_count": 5,
     "metadata": {},
     "output_type": "execute_result"
    }
   ],
   "source": [
    "ml_features.head(2)"
   ]
  },
  {
   "cell_type": "code",
   "execution_count": 6,
   "metadata": {},
   "outputs": [],
   "source": [
    "columns_to_normalize = ml_features.iloc[:,1:].columns.tolist()\n",
    "columns_to_normalize.remove('acid_reflux_patient')"
   ]
  },
  {
   "cell_type": "code",
   "execution_count": 7,
   "metadata": {},
   "outputs": [
    {
     "data": {
      "text/html": [
       "<div>\n",
       "<style scoped>\n",
       "    .dataframe tbody tr th:only-of-type {\n",
       "        vertical-align: middle;\n",
       "    }\n",
       "\n",
       "    .dataframe tbody tr th {\n",
       "        vertical-align: top;\n",
       "    }\n",
       "\n",
       "    .dataframe thead th {\n",
       "        text-align: right;\n",
       "    }\n",
       "</style>\n",
       "<table border=\"1\" class=\"dataframe\">\n",
       "  <thead>\n",
       "    <tr style=\"text-align: right;\">\n",
       "      <th></th>\n",
       "      <th>count</th>\n",
       "      <th>mean</th>\n",
       "      <th>std</th>\n",
       "      <th>min</th>\n",
       "      <th>25%</th>\n",
       "      <th>50%</th>\n",
       "      <th>75%</th>\n",
       "      <th>max</th>\n",
       "    </tr>\n",
       "  </thead>\n",
       "  <tbody>\n",
       "    <tr>\n",
       "      <th>00002034603</th>\n",
       "      <td>4940.0</td>\n",
       "      <td>0.000202</td>\n",
       "      <td>0.014228</td>\n",
       "      <td>0.0</td>\n",
       "      <td>0.0</td>\n",
       "      <td>0.0</td>\n",
       "      <td>0.0</td>\n",
       "      <td>1.0</td>\n",
       "    </tr>\n",
       "    <tr>\n",
       "      <th>00002036302</th>\n",
       "      <td>4940.0</td>\n",
       "      <td>0.000405</td>\n",
       "      <td>0.020119</td>\n",
       "      <td>0.0</td>\n",
       "      <td>0.0</td>\n",
       "      <td>0.0</td>\n",
       "      <td>0.0</td>\n",
       "      <td>1.0</td>\n",
       "    </tr>\n",
       "    <tr>\n",
       "      <th>00002036303</th>\n",
       "      <td>4940.0</td>\n",
       "      <td>0.000405</td>\n",
       "      <td>0.020119</td>\n",
       "      <td>0.0</td>\n",
       "      <td>0.0</td>\n",
       "      <td>0.0</td>\n",
       "      <td>0.0</td>\n",
       "      <td>1.0</td>\n",
       "    </tr>\n",
       "    <tr>\n",
       "      <th>00002036333</th>\n",
       "      <td>4940.0</td>\n",
       "      <td>0.006680</td>\n",
       "      <td>0.103374</td>\n",
       "      <td>0.0</td>\n",
       "      <td>0.0</td>\n",
       "      <td>0.0</td>\n",
       "      <td>0.0</td>\n",
       "      <td>5.0</td>\n",
       "    </tr>\n",
       "    <tr>\n",
       "      <th>00002036343</th>\n",
       "      <td>4940.0</td>\n",
       "      <td>0.000607</td>\n",
       "      <td>0.031812</td>\n",
       "      <td>0.0</td>\n",
       "      <td>0.0</td>\n",
       "      <td>0.0</td>\n",
       "      <td>0.0</td>\n",
       "      <td>2.0</td>\n",
       "    </tr>\n",
       "  </tbody>\n",
       "</table>\n",
       "</div>"
      ],
      "text/plain": [
       "              count      mean       std  min  25%  50%  75%  max\n",
       "00002034603  4940.0  0.000202  0.014228  0.0  0.0  0.0  0.0  1.0\n",
       "00002036302  4940.0  0.000405  0.020119  0.0  0.0  0.0  0.0  1.0\n",
       "00002036303  4940.0  0.000405  0.020119  0.0  0.0  0.0  0.0  1.0\n",
       "00002036333  4940.0  0.006680  0.103374  0.0  0.0  0.0  0.0  5.0\n",
       "00002036343  4940.0  0.000607  0.031812  0.0  0.0  0.0  0.0  2.0"
      ]
     },
     "execution_count": 7,
     "metadata": {},
     "output_type": "execute_result"
    }
   ],
   "source": [
    "from sklearn.preprocessing import RobustScaler\n",
    "\n",
    "\n",
    "scaler = RobustScaler()\n",
    "processed_features = ml_features.copy()\n",
    "processed_features[columns_to_normalize] = scaler.fit_transform(ml_features[columns_to_normalize])\n",
    "processed_features.describe().T.head()"
   ]
  },
  {
   "cell_type": "markdown",
   "metadata": {},
   "source": [
    "#### Split into Train and Test Models"
   ]
  },
  {
   "cell_type": "code",
   "execution_count": 8,
   "metadata": {},
   "outputs": [
    {
     "name": "stdout",
     "output_type": "stream",
     "text": [
      "(4940, 9203)\n",
      "(4940,)\n"
     ]
    }
   ],
   "source": [
    "from sklearn.cross_validation import train_test_split\n",
    "features = processed_features.drop(['PatientGuid','acid_reflux_patient'],axis=1)\n",
    "print (features.shape)\n",
    "targets = processed_features['acid_reflux_patient']\n",
    "print (targets.shape)\n",
    "X_train, X_test, y_train, y_test = train_test_split(features,targets,\n",
    "                                                    stratify=targets, \n",
    "                                                    test_size=0.15)\n"
   ]
  },
  {
   "cell_type": "code",
   "execution_count": 9,
   "metadata": {},
   "outputs": [
    {
     "name": "stdout",
     "output_type": "stream",
     "text": [
      "(4199, 9203)\n",
      "(4199,)\n",
      "(741, 9203)\n",
      "(741,)\n"
     ]
    }
   ],
   "source": [
    "print (X_train.shape)\n",
    "print (y_train.shape)\n",
    "print (X_test.shape)\n",
    "print (y_test.shape)"
   ]
  },
  {
   "cell_type": "markdown",
   "metadata": {},
   "source": [
    "#### Visualize Acid Reflux patients vs Non Acid Reflux patients in training and testing data"
   ]
  },
  {
   "cell_type": "code",
   "execution_count": 10,
   "metadata": {},
   "outputs": [],
   "source": [
    "def make_autopct(values):\n",
    "    def my_autopct(pct):\n",
    "        total = sum(values)\n",
    "        val = int(round(pct*total/100.0))\n",
    "        return '{p:.2f}%  ({v:d})'.format(p=pct,v=val)\n",
    "    return my_autopct"
   ]
  },
  {
   "cell_type": "code",
   "execution_count": 11,
   "metadata": {},
   "outputs": [
    {
     "data": {
      "text/plain": [
       "Text(0,0.5,'')"
      ]
     },
     "execution_count": 11,
     "metadata": {},
     "output_type": "execute_result"
    },
    {
     "data": {
      "image/png": "[encoded data removed]",
      "text/plain": [
       "<Figure size 1296x576 with 2 Axes>"
      ]
     },
     "metadata": {},
     "output_type": "display_data"
    }
   ],
   "source": [
    "labels = 'Non Acid Reflux','Acid Reflux'\n",
    "fig, (ax1,ax2) = plt.subplots(nrows=1, ncols=2,figsize=(18,8))\n",
    "ax = y_train.value_counts().plot.pie(\\\n",
    "    autopct=make_autopct(y_train.value_counts()),\\\n",
    "    startangle = 180,title='Train Dataset',labels=labels,ax=ax1)\n",
    "ax.set_ylabel('')\n",
    "ax = y_test.value_counts().plot.pie(\\\n",
    "    autopct=make_autopct(y_test.value_counts()),\\\n",
    "    startangle = 180,title='Test Dataset',labels=labels,ax=ax2)\n",
    "ax.set_ylabel('')"
   ]
  },
  {
   "cell_type": "markdown",
   "metadata": {},
   "source": [
    "__Note: __ If we randomly pick a patient as Acid Reflux patient, there is 12% chance that we will get that right."
   ]
  },
  {
   "cell_type": "markdown",
   "metadata": {},
   "source": [
    "#### Running and Testing Machine Learning Models\n",
    "\n",
    "Using sci-kit learn, following machine learning algorithms were run -\n",
    "-  Logistic Regression\n",
    "-  Gradient Boosting Classifier\n",
    "-  Adaboost Classifier\n",
    "-  Gaussian Naive Bayes\n",
    "-  Decision Tree Classifier\n",
    "-  Stochastic Gradient Descent (SGD) classifier\n",
    "-  Random Forest Classifier\n",
    "\n",
    "Given what we know about the features, my guess is that Logistic Regression, Gradient Boosting, Adaboost and Random Forest classifier should do well.\n",
    "\n",
    "In order to test the model, we will use following matrix -\n",
    "\n",
    "-  Train and Test Accuracy\n",
    "-  Precision\n",
    "-  Recall\n",
    "-  True Negative Rate\n",
    "\n",
    "In addition, we will also look at the probability of prediction.\n"
   ]
  },
  {
   "cell_type": "markdown",
   "metadata": {},
   "source": [
    "#### Test with Logistic Regression"
   ]
  },
  {
   "cell_type": "code",
   "execution_count": 12,
   "metadata": {},
   "outputs": [
    {
     "name": "stdout",
     "output_type": "stream",
     "text": [
      "Train accuracy: 0.9333333333333333\n",
      "Test accuracy: 0.8717948717948718\n",
      "Precision: 46.34%\n",
      "Recall: 20.65%\n",
      "True_Negative_Rate: 96.61%\n"
     ]
    }
   ],
   "source": [
    "# Import the three supervised learning models from sklearn\n",
    "from sklearn.linear_model import LogisticRegression\n",
    "from sklearn.ensemble import GradientBoostingClassifier\n",
    "from sklearn.ensemble import AdaBoostClassifier\n",
    "\n",
    "\n",
    "my_random_state = 42\n",
    "\n",
    "clf = LogisticRegression(random_state=my_random_state)\n",
    "learner = clf.fit(X_train,y_train)\n",
    "predictions_test = clf.predict(X_test)\n",
    "predictions_train = clf.predict(X_train[:300])\n",
    "predict_proba = clf.predict_proba(X_test)\n",
    "\n",
    "print (\"Train accuracy: \" + str(accuracy_score(y_train[:300], predictions_train)))\n",
    "print (\"Test accuracy: \" + str(accuracy_score(y_test, predictions_test)))\n",
    "\n",
    "tn, fp, fn, tp = confusion_matrix(y_test, predictions_test).ravel()\n",
    "Recall = round(tp*100/(tp+fn),2)\n",
    "True_Negative_Rate = round(tn*100/(tn+fp),2)\n",
    "Precision = round(tp*100/(tp+fp),2)\n",
    "print(\"Precision: %s\" % str(round(Precision,2)) + \"%\")\n",
    "print(\"Recall: %s\" % str(round(Recall,2)) + \"%\")\n",
    "print(\"True_Negative_Rate: %s\" % str(round(True_Negative_Rate,2)) + \"%\")\n",
    "\n",
    "result_data = {'Algorithim': [clf.__class__.__name__], 'test_accuracy': [accuracy_score(y_test, predictions_test)], 'Precision': [round(Precision,2)], 'Recall': [round(Recall,2)],'True Negative Rate':[round(True_Negative_Rate,2)]}\n",
    "test_results = pd.DataFrame(data=result_data)"
   ]
  },
  {
   "cell_type": "markdown",
   "metadata": {},
   "source": [
    "#### Test with Gradient Boosting Classifier"
   ]
  },
  {
   "cell_type": "code",
   "execution_count": 13,
   "metadata": {},
   "outputs": [
    {
     "name": "stdout",
     "output_type": "stream",
     "text": [
      "Train accuracy: 0.9266666666666666\n",
      "Test accuracy: 0.8879892037786775\n",
      "Precision: 59.57%\n",
      "Recall: 30.43%\n",
      "True_Negative_Rate: 97.07%\n"
     ]
    }
   ],
   "source": [
    "# Import the three supervised learning models from sklearn\n",
    "from sklearn.linear_model import LogisticRegression\n",
    "from sklearn.ensemble import GradientBoostingClassifier\n",
    "from sklearn.ensemble import AdaBoostClassifier\n",
    "\n",
    "\n",
    "my_random_state = 42\n",
    "\n",
    "clf = GradientBoostingClassifier(random_state=my_random_state)\n",
    "learner = clf.fit(X_train,y_train)\n",
    "predictions_test = clf.predict(X_test)\n",
    "predictions_train = clf.predict(X_train[:300])\n",
    "predict_proba = clf.predict_proba(X_test)\n",
    "\n",
    "print (\"Train accuracy: \" + str(accuracy_score(y_train[:300], predictions_train)))\n",
    "print (\"Test accuracy: \" + str(accuracy_score(y_test, predictions_test)))\n",
    "\n",
    "tn, fp, fn, tp = confusion_matrix(y_test, predictions_test).ravel()\n",
    "Recall = round(tp*100/(tp+fn),2)\n",
    "True_Negative_Rate = round(tn*100/(tn+fp),2)\n",
    "Precision = round(tp*100/(tp+fp),2)\n",
    "print(\"Precision: %s\" % str(round(Precision,2)) + \"%\")\n",
    "print(\"Recall: %s\" % str(round(Recall,2)) + \"%\")\n",
    "print(\"True_Negative_Rate: %s\" % str(round(True_Negative_Rate,2)) + \"%\")\n",
    "\n",
    "test_results.loc[np.max(test_results.index.values)+1] = [clf.__class__.__name__, accuracy_score(y_test, predictions_test),round(Precision,2), round(Recall,2),round(True_Negative_Rate,2)]\n",
    "\n"
   ]
  },
  {
   "cell_type": "code",
   "execution_count": 14,
   "metadata": {},
   "outputs": [
    {
     "name": "stdout",
     "output_type": "stream",
     "text": [
      "Train accuracy: 0.9033333333333333\n",
      "Test accuracy: 0.8947368421052632\n",
      "Precision: 65.22%\n",
      "Recall: 32.61%\n",
      "True_Negative_Rate: 97.53%\n"
     ]
    }
   ],
   "source": [
    "# Import the three supervised learning models from sklearn\n",
    "from sklearn.linear_model import LogisticRegression\n",
    "from sklearn.ensemble import GradientBoostingClassifier\n",
    "from sklearn.ensemble import AdaBoostClassifier\n",
    "\n",
    "\n",
    "my_random_state = 42\n",
    "\n",
    "clf = AdaBoostClassifier(random_state=my_random_state)\n",
    "learner = clf.fit(X_train,y_train)\n",
    "predictions_test = clf.predict(X_test)\n",
    "predictions_train = clf.predict(X_train[:300])\n",
    "predict_proba = clf.predict_proba(X_test)\n",
    "\n",
    "print (\"Train accuracy: \" + str(accuracy_score(y_train[:300], predictions_train)))\n",
    "print (\"Test accuracy: \" + str(accuracy_score(y_test, predictions_test)))\n",
    "\n",
    "tn, fp, fn, tp = confusion_matrix(y_test, predictions_test).ravel()\n",
    "Recall = round(tp*100/(tp+fn),2)\n",
    "True_Negative_Rate = round(tn*100/(tn+fp),2)\n",
    "Precision = round(tp*100/(tp+fp),2)\n",
    "print(\"Precision: %s\" % str(round(Precision,2)) + \"%\")\n",
    "print(\"Recall: %s\" % str(round(Recall,2)) + \"%\")\n",
    "print(\"True_Negative_Rate: %s\" % str(round(True_Negative_Rate,2)) + \"%\")\n",
    "\n",
    "test_results.loc[np.max(test_results.index.values)+1] = [clf.__class__.__name__, accuracy_score(y_test, predictions_test),round(Precision,2), round(Recall,2),round(True_Negative_Rate,2)]\n",
    "\n"
   ]
  },
  {
   "cell_type": "markdown",
   "metadata": {},
   "source": [
    "#### Test with GaussianNB"
   ]
  },
  {
   "cell_type": "code",
   "execution_count": 15,
   "metadata": {},
   "outputs": [
    {
     "name": "stdout",
     "output_type": "stream",
     "text": [
      "Train accuracy: 0.79\n",
      "Test accuracy: 0.6099865047233468\n",
      "Precision: 12.26%\n",
      "Recall: 34.78%\n",
      "True_Negative_Rate: 64.71%\n"
     ]
    }
   ],
   "source": [
    "# Import the three supervised learning models from sklearn\n",
    "from sklearn.linear_model import LogisticRegression\n",
    "from sklearn.ensemble import GradientBoostingClassifier\n",
    "from sklearn.ensemble import AdaBoostClassifier\n",
    "\n",
    "\n",
    "my_random_state = 42\n",
    "\n",
    "clf = GaussianNB()\n",
    "learner = clf.fit(X_train,y_train)\n",
    "predictions_test = clf.predict(X_test)\n",
    "predictions_train = clf.predict(X_train[:300])\n",
    "predict_proba = clf.predict_proba(X_test)\n",
    "\n",
    "print (\"Train accuracy: \" + str(accuracy_score(y_train[:300], predictions_train)))\n",
    "print (\"Test accuracy: \" + str(accuracy_score(y_test, predictions_test)))\n",
    "\n",
    "tn, fp, fn, tp = confusion_matrix(y_test, predictions_test).ravel()\n",
    "Recall = round(tp*100/(tp+fn),2)\n",
    "True_Negative_Rate = round(tn*100/(tn+fp),2)\n",
    "Precision = round(tp*100/(tp+fp),2)\n",
    "print(\"Precision: %s\" % str(round(Precision,2)) + \"%\")\n",
    "print(\"Recall: %s\" % str(round(Recall,2)) + \"%\")\n",
    "print(\"True_Negative_Rate: %s\" % str(round(True_Negative_Rate,2)) + \"%\")\n",
    "\n",
    "test_results.loc[np.max(test_results.index.values)+1] = [clf.__class__.__name__, accuracy_score(y_test, predictions_test),round(Precision,2), round(Recall,2),round(True_Negative_Rate,2)]\n",
    "\n"
   ]
  },
  {
   "cell_type": "markdown",
   "metadata": {},
   "source": [
    "#### Test with Decision Tree Classifier"
   ]
  },
  {
   "cell_type": "code",
   "execution_count": 16,
   "metadata": {},
   "outputs": [
    {
     "name": "stdout",
     "output_type": "stream",
     "text": [
      "Train accuracy: 0.9933333333333333\n",
      "Test accuracy: 0.844804318488529\n",
      "Precision: 39.45%\n",
      "Recall: 46.74%\n",
      "True_Negative_Rate: 89.83%\n"
     ]
    }
   ],
   "source": [
    "# Import the three supervised learning models from sklearn\n",
    "from sklearn.linear_model import LogisticRegression\n",
    "from sklearn.ensemble import GradientBoostingClassifier\n",
    "from sklearn.ensemble import AdaBoostClassifier\n",
    "\n",
    "\n",
    "my_random_state = 42\n",
    "\n",
    "clf = tree.DecisionTreeClassifier(random_state=my_random_state)\n",
    "learner = clf.fit(X_train,y_train)\n",
    "predictions_test = clf.predict(X_test)\n",
    "predictions_train = clf.predict(X_train[:300])\n",
    "predict_proba = clf.predict_proba(X_test)\n",
    "\n",
    "print (\"Train accuracy: \" + str(accuracy_score(y_train[:300], predictions_train)))\n",
    "print (\"Test accuracy: \" + str(accuracy_score(y_test, predictions_test)))\n",
    "\n",
    "tn, fp, fn, tp = confusion_matrix(y_test, predictions_test).ravel()\n",
    "Recall = round(tp*100/(tp+fn),2)\n",
    "True_Negative_Rate = round(tn*100/(tn+fp),2)\n",
    "Precision = round(tp*100/(tp+fp),2)\n",
    "print(\"Precision: %s\" % str(round(Precision,2)) + \"%\")\n",
    "print(\"Recall: %s\" % str(round(Recall,2)) + \"%\")\n",
    "print(\"True_Negative_Rate: %s\" % str(round(True_Negative_Rate,2)) + \"%\")\n",
    "\n",
    "test_results.loc[np.max(test_results.index.values)+1] = [clf.__class__.__name__, accuracy_score(y_test, predictions_test),round(Precision,2), round(Recall,2),round(True_Negative_Rate,2)]\n"
   ]
  },
  {
   "cell_type": "markdown",
   "metadata": {},
   "source": [
    "#### Test with SGD Classifier"
   ]
  },
  {
   "cell_type": "code",
   "execution_count": 17,
   "metadata": {},
   "outputs": [
    {
     "name": "stdout",
     "output_type": "stream",
     "text": [
      "Train accuracy: 0.9633333333333334\n",
      "Test accuracy: 0.863697705802969\n",
      "Precision: 41.51%\n",
      "Recall: 23.91%\n",
      "True_Negative_Rate: 95.22%\n"
     ]
    }
   ],
   "source": [
    "# Import the three supervised learning models from sklearn\n",
    "from sklearn.linear_model import LogisticRegression\n",
    "from sklearn.ensemble import GradientBoostingClassifier\n",
    "from sklearn.ensemble import AdaBoostClassifier\n",
    "\n",
    "\n",
    "my_random_state = 42\n",
    "\n",
    "clf = SGDClassifier(random_state=my_random_state)\n",
    "learner = clf.fit(X_train,y_train)\n",
    "predictions_test = clf.predict(X_test)\n",
    "predictions_train = clf.predict(X_train[:300])\n",
    "#predict_proba = clf.predict_proba(X_test)\n",
    "\n",
    "print (\"Train accuracy: \" + str(accuracy_score(y_train[:300], predictions_train)))\n",
    "print (\"Test accuracy: \" + str(accuracy_score(y_test, predictions_test)))\n",
    "\n",
    "tn, fp, fn, tp = confusion_matrix(y_test, predictions_test).ravel()\n",
    "Recall = round(tp*100/(tp+fn),2)\n",
    "True_Negative_Rate = round(tn*100/(tn+fp),2)\n",
    "Precision = round(tp*100/(tp+fp),2)\n",
    "print(\"Precision: %s\" % str(round(Precision,2)) + \"%\")\n",
    "print(\"Recall: %s\" % str(round(Recall,2)) + \"%\")\n",
    "print(\"True_Negative_Rate: %s\" % str(round(True_Negative_Rate,2)) + \"%\")\n",
    "\n",
    "test_results.loc[np.max(test_results.index.values)+1] = [clf.__class__.__name__, accuracy_score(y_test, predictions_test),round(Precision,2), round(Recall,2),round(True_Negative_Rate,2)]\n"
   ]
  },
  {
   "cell_type": "markdown",
   "metadata": {},
   "source": [
    "#### Testing with Random Forest Classifier"
   ]
  },
  {
   "cell_type": "code",
   "execution_count": 18,
   "metadata": {},
   "outputs": [
    {
     "name": "stdout",
     "output_type": "stream",
     "text": [
      "Train accuracy: 0.9866666666666667\n",
      "Test accuracy: 0.8717948717948718\n",
      "Precision: 47.76%\n",
      "Recall: 34.78%\n",
      "True_Negative_Rate: 94.61%\n"
     ]
    }
   ],
   "source": [
    "# Import the three supervised learning models from sklearn\n",
    "from sklearn.linear_model import LogisticRegression\n",
    "from sklearn.ensemble import GradientBoostingClassifier\n",
    "from sklearn.ensemble import AdaBoostClassifier\n",
    "\n",
    "\n",
    "my_random_state = 42\n",
    "\n",
    "clf = RandomForestClassifier(random_state=my_random_state)\n",
    "learner = clf.fit(X_train,y_train)\n",
    "predictions_test = clf.predict(X_test)\n",
    "predictions_train = clf.predict(X_train[:300])\n",
    "predict_proba = clf.predict_proba(X_test)\n",
    "\n",
    "print (\"Train accuracy: \" + str(accuracy_score(y_train[:300], predictions_train)))\n",
    "print (\"Test accuracy: \" + str(accuracy_score(y_test, predictions_test)))\n",
    "\n",
    "tn, fp, fn, tp = confusion_matrix(y_test, predictions_test).ravel()\n",
    "Recall = round(tp*100/(tp+fn),2)\n",
    "True_Negative_Rate = round(tn*100/(tn+fp),2)\n",
    "Precision = round(tp*100/(tp+fp),2)\n",
    "print(\"Precision: %s\" % str(round(Precision,2)) + \"%\")\n",
    "print(\"Recall: %s\" % str(round(Recall,2)) + \"%\")\n",
    "print(\"True_Negative_Rate: %s\" % str(round(True_Negative_Rate,2)) + \"%\")\n",
    "\n",
    "test_results.loc[np.max(test_results.index.values)+1] = [clf.__class__.__name__, accuracy_score(y_test, predictions_test),round(Precision,2), round(Recall,2),round(True_Negative_Rate,2)]\n"
   ]
  },
  {
   "cell_type": "code",
   "execution_count": 19,
   "metadata": {},
   "outputs": [],
   "source": [
    "test_results.rename(index=str, columns={\"Precision\": \"Test_Accuracy\"},inplace=True)\n",
    "test_results.rename(index=str, columns={\"Recall\": \"Precision\"},inplace=True)\n",
    "test_results.rename(index=str, columns={\"True Negative Rate\": \"Recall\"},inplace=True)\n",
    "test_results.rename(index=str, columns={\"test_accuracy\": \"True_Negative_Rate\"},inplace=True)"
   ]
  },
  {
   "cell_type": "code",
   "execution_count": 20,
   "metadata": {},
   "outputs": [
    {
     "data": {
      "text/html": [
       "<div>\n",
       "<style scoped>\n",
       "    .dataframe tbody tr th:only-of-type {\n",
       "        vertical-align: middle;\n",
       "    }\n",
       "\n",
       "    .dataframe tbody tr th {\n",
       "        vertical-align: top;\n",
       "    }\n",
       "\n",
       "    .dataframe thead th {\n",
       "        text-align: right;\n",
       "    }\n",
       "</style>\n",
       "<table border=\"1\" class=\"dataframe\">\n",
       "  <thead>\n",
       "    <tr style=\"text-align: right;\">\n",
       "      <th></th>\n",
       "      <th>Algorithim</th>\n",
       "      <th>Test_Accuracy</th>\n",
       "      <th>Precision</th>\n",
       "      <th>Recall</th>\n",
       "      <th>True_Negative_Rate</th>\n",
       "    </tr>\n",
       "  </thead>\n",
       "  <tbody>\n",
       "    <tr>\n",
       "      <th>0</th>\n",
       "      <td>LogisticRegression</td>\n",
       "      <td>46.340000</td>\n",
       "      <td>20.65</td>\n",
       "      <td>96.61</td>\n",
       "      <td>0.871795</td>\n",
       "    </tr>\n",
       "    <tr>\n",
       "      <th>1</th>\n",
       "      <td>GradientBoostingClassifier</td>\n",
       "      <td>0.887989</td>\n",
       "      <td>59.57</td>\n",
       "      <td>30.43</td>\n",
       "      <td>97.070000</td>\n",
       "    </tr>\n",
       "    <tr>\n",
       "      <th>2</th>\n",
       "      <td>AdaBoostClassifier</td>\n",
       "      <td>0.894737</td>\n",
       "      <td>65.22</td>\n",
       "      <td>32.61</td>\n",
       "      <td>97.530000</td>\n",
       "    </tr>\n",
       "    <tr>\n",
       "      <th>3</th>\n",
       "      <td>GaussianNB</td>\n",
       "      <td>0.609987</td>\n",
       "      <td>12.26</td>\n",
       "      <td>34.78</td>\n",
       "      <td>64.710000</td>\n",
       "    </tr>\n",
       "    <tr>\n",
       "      <th>4</th>\n",
       "      <td>DecisionTreeClassifier</td>\n",
       "      <td>0.844804</td>\n",
       "      <td>39.45</td>\n",
       "      <td>46.74</td>\n",
       "      <td>89.830000</td>\n",
       "    </tr>\n",
       "    <tr>\n",
       "      <th>5</th>\n",
       "      <td>SGDClassifier</td>\n",
       "      <td>0.863698</td>\n",
       "      <td>41.51</td>\n",
       "      <td>23.91</td>\n",
       "      <td>95.220000</td>\n",
       "    </tr>\n",
       "    <tr>\n",
       "      <th>6</th>\n",
       "      <td>RandomForestClassifier</td>\n",
       "      <td>0.871795</td>\n",
       "      <td>47.76</td>\n",
       "      <td>34.78</td>\n",
       "      <td>94.610000</td>\n",
       "    </tr>\n",
       "  </tbody>\n",
       "</table>\n",
       "</div>"
      ],
      "text/plain": [
       "                   Algorithim  Test_Accuracy  Precision  Recall  \\\n",
       "0          LogisticRegression      46.340000      20.65   96.61   \n",
       "1  GradientBoostingClassifier       0.887989      59.57   30.43   \n",
       "2          AdaBoostClassifier       0.894737      65.22   32.61   \n",
       "3                  GaussianNB       0.609987      12.26   34.78   \n",
       "4      DecisionTreeClassifier       0.844804      39.45   46.74   \n",
       "5               SGDClassifier       0.863698      41.51   23.91   \n",
       "6      RandomForestClassifier       0.871795      47.76   34.78   \n",
       "\n",
       "   True_Negative_Rate  \n",
       "0            0.871795  \n",
       "1           97.070000  \n",
       "2           97.530000  \n",
       "3           64.710000  \n",
       "4           89.830000  \n",
       "5           95.220000  \n",
       "6           94.610000  "
      ]
     },
     "execution_count": 20,
     "metadata": {},
     "output_type": "execute_result"
    }
   ],
   "source": [
    "test_results"
   ]
  },
  {
   "cell_type": "markdown",
   "metadata": {},
   "source": [
    "## Presentation of the results\n",
    "\n",
    "Comparing results, it appears that Random Forest has most reasonable combination of Accuracy, Precision and Recall score. Let's use Random Forest Classifier to present the results."
   ]
  },
  {
   "cell_type": "code",
   "execution_count": 30,
   "metadata": {},
   "outputs": [],
   "source": [
    "### Function to calculate and plot confusion matrix\n",
    "def plot_confusion_matrix(cm, classes, \n",
    "                          normalize=False,\n",
    "                          title='Confusion matrix',\n",
    "                          cmap=plt.cm.coolwarm,\n",
    "                          chart_type='Recall'):\n",
    "    \"\"\"\n",
    "    This function prints and plots the confusion matrix.\n",
    "    Normalization can be applied by setting `normalize=True`.\n",
    "    \"\"\"\n",
    "    if normalize:\n",
    "        if chart_type == 'Recall':\n",
    "            cm = cm.astype('float')*100 / cm.sum(axis=1)[:, np.newaxis]\n",
    "            print(\"Normalized Recall based confusion matrix\")\n",
    "        else:\n",
    "            cm = cm.astype('float')*100 /cm.sum(axis=0)[np.newaxis, :]\n",
    "            print(\"Normalized Precision based confusion matrix\")\n",
    "    else:\n",
    "        print('Confusion matrix, without normalization')\n",
    "\n",
    "    #print(cm)\n",
    "\n",
    "    plt.imshow(cm, interpolation='nearest', cmap=cmap)\n",
    "    plt.title(title)\n",
    "    plt.colorbar()\n",
    "    tick_marks = np.arange(len(classes))\n",
    "    plt.xticks(tick_marks, classes, rotation=45)\n",
    "    plt.yticks(tick_marks, classes)\n",
    "\n",
    "    fmt = '.0f' if normalize else 'd'\n",
    "    thresh = cm.max() / 2.\n",
    "    #print (cm.shape)\n",
    "    for i, j in itertools.product(range(cm.shape[0]), range(cm.shape[1])):\n",
    "        plt.text(j, i, str(format(cm[i, j], fmt))+\"%\" if normalize else format(cm[i, j], fmt),\n",
    "                 horizontalalignment=\"center\", family='sans-serif', size=16,weight='bold',\n",
    "                 color=\"white\" if cm[i, j] > thresh else \"black\")\n",
    "\n",
    "\n",
    "    plt.tight_layout()\n",
    "    plt.ylabel('True label')\n",
    "    plt.xlabel('Predicted label')"
   ]
  },
  {
   "cell_type": "markdown",
   "metadata": {},
   "source": [
    "#### Confusion matrix to show distribution of results"
   ]
  },
  {
   "cell_type": "code",
   "execution_count": 31,
   "metadata": {},
   "outputs": [
    {
     "name": "stdout",
     "output_type": "stream",
     "text": [
      "Total_sample_size: 741\n",
      "\n",
      "\n",
      "Confusion matrix, without normalization\n"
     ]
    },
    {
     "data": {
      "image/png": "[encoded data removed]",
      "text/plain": [
       "<Figure size 432x288 with 2 Axes>"
      ]
     },
     "metadata": {},
     "output_type": "display_data"
    }
   ],
   "source": [
    "my_random_state = 42\n",
    "\n",
    "clf = GradientBoostingClassifier(random_state=my_random_state)\n",
    "learner = clf.fit(X_train,y_train)\n",
    "predictions_test = clf.predict(X_test)\n",
    "predictions_train = clf.predict(X_train[:300])\n",
    "predict_proba = clf.predict_proba(X_test)\n",
    "\n",
    "cnf_matrix = confusion_matrix(y_test, predictions_test)\n",
    "np.set_printoptions(precision=2)\n",
    "plt.figure()\n",
    "print (\"Total_sample_size: \" + str(y_test.shape[0]))\n",
    "print(\"\\n\")\n",
    "plot_confusion_matrix(cnf_matrix, classes=[\"False\", \"True\"],normalize=False,\n",
    "                      title='Confusion matrix')"
   ]
  },
  {
   "cell_type": "markdown",
   "metadata": {},
   "source": [
    "#### Confusion matrix to show Precision of True Positive Results\n",
    "\n",
    "Precision of True Positive is almost 60%."
   ]
  },
  {
   "cell_type": "code",
   "execution_count": 32,
   "metadata": {},
   "outputs": [
    {
     "name": "stdout",
     "output_type": "stream",
     "text": [
      "Normalized Precision based confusion matrix\n"
     ]
    },
    {
     "data": {
      "image/png": "[encoded data removed]",
      "text/plain": [
       "<Figure size 432x288 with 2 Axes>"
      ]
     },
     "metadata": {},
     "output_type": "display_data"
    }
   ],
   "source": [
    "plt.figure()\n",
    "plot_confusion_matrix(cnf_matrix, classes=[\"False\", \"True\"],normalize=True,\n",
    "                      title='Precison',chart_type='Precision' )"
   ]
  },
  {
   "cell_type": "markdown",
   "metadata": {},
   "source": [
    "#### Confustion Matrix to show recall.\n",
    "\n",
    "As can be seen in the diagram, Recall is 30%. If we pick a patient randomly to identify an Acid Reflux patient, it's 12% likely that we will get it right. This basic model predicts correctly 30% of time (2.5 times better than random pick up result)."
   ]
  },
  {
   "cell_type": "code",
   "execution_count": 33,
   "metadata": {},
   "outputs": [
    {
     "name": "stdout",
     "output_type": "stream",
     "text": [
      "Normalized Recall based confusion matrix\n"
     ]
    },
    {
     "data": {
      "image/png": "[encoded data removed]",
      "text/plain": [
       "<Figure size 432x288 with 2 Axes>"
      ]
     },
     "metadata": {},
     "output_type": "display_data"
    }
   ],
   "source": [
    "plt.figure()\n",
    "plot_confusion_matrix(cnf_matrix, classes=[\"False\", \"True\"],normalize=True,\n",
    "                      title='Recall')"
   ]
  },
  {
   "cell_type": "markdown",
   "metadata": {},
   "source": [
    "#### Probability distribution of results"
   ]
  },
  {
   "cell_type": "code",
   "execution_count": 34,
   "metadata": {},
   "outputs": [],
   "source": [
    "result_set = y_test.to_frame()\n",
    "result_set.rename(index=str, columns={\"acid_reflux_patient\": \"actual_outcome\"},inplace=True)\n",
    "result_set['predicted_outcome'] = predictions_test\n",
    "result_set['false_proba'] = predict_proba[:,0]\n",
    "result_set['true_proba'] = predict_proba[:,1]"
   ]
  },
  {
   "cell_type": "code",
   "execution_count": 35,
   "metadata": {},
   "outputs": [],
   "source": [
    "def calculate_result_type(row):\n",
    "    if (row.actual_outcome == 1) & (row.actual_outcome == row.predicted_outcome):\n",
    "        return \"True_Positive\"\n",
    "    elif (row.actual_outcome == 0) & (row.actual_outcome != row.predicted_outcome):\n",
    "        return \"False_Positive\"\n",
    "    elif (row.actual_outcome == 0) & (row.actual_outcome == row.predicted_outcome):\n",
    "        return \"True_Negative\"\n",
    "    elif (row.actual_outcome == 1) & (row.actual_outcome != row.predicted_outcome):\n",
    "        return \"False_Negative\""
   ]
  },
  {
   "cell_type": "code",
   "execution_count": 36,
   "metadata": {},
   "outputs": [
    {
     "data": {
      "text/html": [
       "<div>\n",
       "<style scoped>\n",
       "    .dataframe tbody tr th:only-of-type {\n",
       "        vertical-align: middle;\n",
       "    }\n",
       "\n",
       "    .dataframe tbody tr th {\n",
       "        vertical-align: top;\n",
       "    }\n",
       "\n",
       "    .dataframe thead th {\n",
       "        text-align: right;\n",
       "    }\n",
       "</style>\n",
       "<table border=\"1\" class=\"dataframe\">\n",
       "  <thead>\n",
       "    <tr style=\"text-align: right;\">\n",
       "      <th></th>\n",
       "      <th>actual_outcome</th>\n",
       "      <th>predicted_outcome</th>\n",
       "      <th>false_proba</th>\n",
       "      <th>true_proba</th>\n",
       "      <th>LR_Result_Type</th>\n",
       "    </tr>\n",
       "  </thead>\n",
       "  <tbody>\n",
       "    <tr>\n",
       "      <th>1597</th>\n",
       "      <td>0</td>\n",
       "      <td>0</td>\n",
       "      <td>0.919701</td>\n",
       "      <td>0.080299</td>\n",
       "      <td>True_Negative</td>\n",
       "    </tr>\n",
       "    <tr>\n",
       "      <th>2155</th>\n",
       "      <td>0</td>\n",
       "      <td>0</td>\n",
       "      <td>0.919701</td>\n",
       "      <td>0.080299</td>\n",
       "      <td>True_Negative</td>\n",
       "    </tr>\n",
       "    <tr>\n",
       "      <th>528</th>\n",
       "      <td>0</td>\n",
       "      <td>0</td>\n",
       "      <td>0.919701</td>\n",
       "      <td>0.080299</td>\n",
       "      <td>True_Negative</td>\n",
       "    </tr>\n",
       "    <tr>\n",
       "      <th>654</th>\n",
       "      <td>1</td>\n",
       "      <td>0</td>\n",
       "      <td>0.919701</td>\n",
       "      <td>0.080299</td>\n",
       "      <td>False_Negative</td>\n",
       "    </tr>\n",
       "    <tr>\n",
       "      <th>4330</th>\n",
       "      <td>1</td>\n",
       "      <td>0</td>\n",
       "      <td>0.775903</td>\n",
       "      <td>0.224097</td>\n",
       "      <td>False_Negative</td>\n",
       "    </tr>\n",
       "  </tbody>\n",
       "</table>\n",
       "</div>"
      ],
      "text/plain": [
       "      actual_outcome  predicted_outcome  false_proba  true_proba  \\\n",
       "1597               0                  0     0.919701    0.080299   \n",
       "2155               0                  0     0.919701    0.080299   \n",
       "528                0                  0     0.919701    0.080299   \n",
       "654                1                  0     0.919701    0.080299   \n",
       "4330               1                  0     0.775903    0.224097   \n",
       "\n",
       "      LR_Result_Type  \n",
       "1597   True_Negative  \n",
       "2155   True_Negative  \n",
       "528    True_Negative  \n",
       "654   False_Negative  \n",
       "4330  False_Negative  "
      ]
     },
     "execution_count": 36,
     "metadata": {},
     "output_type": "execute_result"
    }
   ],
   "source": [
    "result_set['LR_Result_Type'] = result_set.apply(calculate_result_type, axis=1)\n",
    "result_set.head(5)"
   ]
  },
  {
   "cell_type": "code",
   "execution_count": 37,
   "metadata": {},
   "outputs": [
    {
     "data": {
      "text/plain": [
       "<matplotlib.axes._subplots.AxesSubplot at 0x7fc46fb05208>"
      ]
     },
     "execution_count": 37,
     "metadata": {},
     "output_type": "execute_result"
    },
    {
     "data": {
      "image/png": "[encoded data removed]",
      "text/plain": [
       "<Figure size 1296x576 with 1 Axes>"
      ]
     },
     "metadata": {},
     "output_type": "display_data"
    }
   ],
   "source": [
    "#result_set.sort_values(['true_proba'],inplace=True)\n",
    "fig, (ax1) = plt.subplots(nrows=1, ncols=1,figsize=(18,8))\n",
    "sns.boxplot(y=\"true_proba\",x=\"LR_Result_Type\", data=result_set.sort_values(by=[\"true_proba\"]),ax=ax1)"
   ]
  },
  {
   "cell_type": "markdown",
   "metadata": {},
   "source": [
    "___Probabilty distribution gives the good way to identify patients who are most likely to have Acid Reflux. True positive has the probability on the higher side.___"
   ]
  },
  {
   "cell_type": "markdown",
   "metadata": {},
   "source": [
    "## Feature importance\n",
    "\n",
    "Let's look at 20 most important features now."
   ]
  },
  {
   "cell_type": "code",
   "execution_count": 38,
   "metadata": {},
   "outputs": [
    {
     "data": {
      "image/png": "[encoded data removed]",
      "text/plain": [
       "<Figure size 1728x720 with 1 Axes>"
      ]
     },
     "metadata": {},
     "output_type": "display_data"
    }
   ],
   "source": [
    "feature_importance_df = pd.DataFrame({'feature_name': features.columns, 'feature_importance': clf.feature_importances_})\n",
    "feature_importance_df.sort_values(['feature_importance'],ascending=False,inplace=True)\n",
    "\n",
    "fig,ax1 = plt.subplots(1, 1,figsize=(24,10),gridspec_kw={'hspace':0.4})\n",
    "\n",
    "g = sns.barplot(x=\"feature_name\",y=\"feature_importance\",data=feature_importance_df.iloc[1:20],ax=ax1,palette=\"muted\")\n",
    "for item in g.get_xticklabels():\n",
    "    item.set_rotation(90)"
   ]
  },
  {
   "cell_type": "markdown",
   "metadata": {},
   "source": [
    "As can be seen, top 20 features are either NDC Code or Medicine Name. We will have to look into more details on each of the items to understand more."
   ]
  },
  {
   "cell_type": "code",
   "execution_count": null,
   "metadata": {},
   "outputs": [],
   "source": []
  }
 ],
 "metadata": {
  "kernelspec": {
   "display_name": "Python 3",
   "language": "python",
   "name": "python3"
  },
  "language_info": {
   "codemirror_mode": {
    "name": "ipython",
    "version": 3
   },
   "file_extension": ".py",
   "mimetype": "text/x-python",
   "name": "python",
   "nbconvert_exporter": "python",
   "pygments_lexer": "ipython3",
   "version": "3.5.5"
  }
 },
 "nbformat": 4,
 "nbformat_minor": 1
}
