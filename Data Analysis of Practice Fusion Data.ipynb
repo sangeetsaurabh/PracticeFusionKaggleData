{
 "cells": [
  {
   "cell_type": "code",
   "execution_count": 1,
   "metadata": {},
   "outputs": [],
   "source": [
    "import pandas as pd\n",
    "import numpy as np\n",
    "from sklearn import preprocessing\n",
    "import matplotlib.pyplot as plt\n",
    "\n",
    "import seaborn as sns\n",
    "sns.set(style='ticks')\n",
    "sns.set_context(\"notebook\", font_scale=1)\n",
    "sns.set_style(\"darkgrid\")\n",
    "\n",
    "\n",
    "import warnings\n",
    "warnings.filterwarnings('ignore')\n",
    "import datetime\n",
    "from datetime import date\n",
    "\n",
    "%matplotlib inline"
   ]
  },
  {
   "cell_type": "markdown",
   "metadata": {},
   "source": [
    "## Get the patients data"
   ]
  },
  {
   "cell_type": "code",
   "execution_count": 2,
   "metadata": {},
   "outputs": [],
   "source": [
    "patients = pd.read_csv(\"./data/Patient.csv\")"
   ]
  },
  {
   "cell_type": "code",
   "execution_count": 3,
   "metadata": {},
   "outputs": [
    {
     "data": {
      "text/html": [
       "<div>\n",
       "<style scoped>\n",
       "    .dataframe tbody tr th:only-of-type {\n",
       "        vertical-align: middle;\n",
       "    }\n",
       "\n",
       "    .dataframe tbody tr th {\n",
       "        vertical-align: top;\n",
       "    }\n",
       "\n",
       "    .dataframe thead th {\n",
       "        text-align: right;\n",
       "    }\n",
       "</style>\n",
       "<table border=\"1\" class=\"dataframe\">\n",
       "  <thead>\n",
       "    <tr style=\"text-align: right;\">\n",
       "      <th></th>\n",
       "      <th>PatientGuid</th>\n",
       "      <th>Gender</th>\n",
       "      <th>YearOfBirth</th>\n",
       "      <th>State</th>\n",
       "      <th>PracticeGuid</th>\n",
       "    </tr>\n",
       "  </thead>\n",
       "  <tbody>\n",
       "    <tr>\n",
       "      <th>0</th>\n",
       "      <td>BC78C551-C20F-4F10-8D61-002AA9834BDE</td>\n",
       "      <td>F</td>\n",
       "      <td>1981</td>\n",
       "      <td>NY</td>\n",
       "      <td>3E08ED81-B9A1-4525-8308-0E991BCFA87F</td>\n",
       "    </tr>\n",
       "    <tr>\n",
       "      <th>1</th>\n",
       "      <td>6D88901A-3214-4BC0-B139-002EF1A5FA09</td>\n",
       "      <td>M</td>\n",
       "      <td>1937</td>\n",
       "      <td>SD</td>\n",
       "      <td>7BF4DAD8-5F67-4985-B911-20C9E89A3737</td>\n",
       "    </tr>\n",
       "  </tbody>\n",
       "</table>\n",
       "</div>"
      ],
      "text/plain": [
       "                            PatientGuid Gender  YearOfBirth State  \\\n",
       "0  BC78C551-C20F-4F10-8D61-002AA9834BDE      F         1981    NY   \n",
       "1  6D88901A-3214-4BC0-B139-002EF1A5FA09      M         1937    SD   \n",
       "\n",
       "                           PracticeGuid  \n",
       "0  3E08ED81-B9A1-4525-8308-0E991BCFA87F  \n",
       "1  7BF4DAD8-5F67-4985-B911-20C9E89A3737  "
      ]
     },
     "execution_count": 3,
     "metadata": {},
     "output_type": "execute_result"
    }
   ],
   "source": [
    "patients.head(2)"
   ]
  },
  {
   "cell_type": "code",
   "execution_count": 4,
   "metadata": {},
   "outputs": [
    {
     "data": {
      "text/html": [
       "<div>\n",
       "<style scoped>\n",
       "    .dataframe tbody tr th:only-of-type {\n",
       "        vertical-align: middle;\n",
       "    }\n",
       "\n",
       "    .dataframe tbody tr th {\n",
       "        vertical-align: top;\n",
       "    }\n",
       "\n",
       "    .dataframe thead th {\n",
       "        text-align: right;\n",
       "    }\n",
       "</style>\n",
       "<table border=\"1\" class=\"dataframe\">\n",
       "  <thead>\n",
       "    <tr style=\"text-align: right;\">\n",
       "      <th></th>\n",
       "      <th>count</th>\n",
       "      <th>unique</th>\n",
       "      <th>top</th>\n",
       "      <th>freq</th>\n",
       "      <th>mean</th>\n",
       "      <th>std</th>\n",
       "      <th>min</th>\n",
       "      <th>25%</th>\n",
       "      <th>50%</th>\n",
       "      <th>75%</th>\n",
       "      <th>max</th>\n",
       "    </tr>\n",
       "  </thead>\n",
       "  <tbody>\n",
       "    <tr>\n",
       "      <th>PatientGuid</th>\n",
       "      <td>4979</td>\n",
       "      <td>4979</td>\n",
       "      <td>644EBCE8-87A4-435D-8306-EB3C4743642B</td>\n",
       "      <td>1</td>\n",
       "      <td>NaN</td>\n",
       "      <td>NaN</td>\n",
       "      <td>NaN</td>\n",
       "      <td>NaN</td>\n",
       "      <td>NaN</td>\n",
       "      <td>NaN</td>\n",
       "      <td>NaN</td>\n",
       "    </tr>\n",
       "    <tr>\n",
       "      <th>Gender</th>\n",
       "      <td>4979</td>\n",
       "      <td>2</td>\n",
       "      <td>F</td>\n",
       "      <td>2850</td>\n",
       "      <td>NaN</td>\n",
       "      <td>NaN</td>\n",
       "      <td>NaN</td>\n",
       "      <td>NaN</td>\n",
       "      <td>NaN</td>\n",
       "      <td>NaN</td>\n",
       "      <td>NaN</td>\n",
       "    </tr>\n",
       "    <tr>\n",
       "      <th>YearOfBirth</th>\n",
       "      <td>4979</td>\n",
       "      <td>NaN</td>\n",
       "      <td>NaN</td>\n",
       "      <td>NaN</td>\n",
       "      <td>1957</td>\n",
       "      <td>17</td>\n",
       "      <td>1922</td>\n",
       "      <td>1944</td>\n",
       "      <td>1957</td>\n",
       "      <td>1970</td>\n",
       "      <td>1994</td>\n",
       "    </tr>\n",
       "    <tr>\n",
       "      <th>State</th>\n",
       "      <td>4979</td>\n",
       "      <td>46</td>\n",
       "      <td>CA</td>\n",
       "      <td>942</td>\n",
       "      <td>NaN</td>\n",
       "      <td>NaN</td>\n",
       "      <td>NaN</td>\n",
       "      <td>NaN</td>\n",
       "      <td>NaN</td>\n",
       "      <td>NaN</td>\n",
       "      <td>NaN</td>\n",
       "    </tr>\n",
       "    <tr>\n",
       "      <th>PracticeGuid</th>\n",
       "      <td>4979</td>\n",
       "      <td>317</td>\n",
       "      <td>4D27688B-C925-4513-9CF9-8D281ACC6712</td>\n",
       "      <td>289</td>\n",
       "      <td>NaN</td>\n",
       "      <td>NaN</td>\n",
       "      <td>NaN</td>\n",
       "      <td>NaN</td>\n",
       "      <td>NaN</td>\n",
       "      <td>NaN</td>\n",
       "      <td>NaN</td>\n",
       "    </tr>\n",
       "  </tbody>\n",
       "</table>\n",
       "</div>"
      ],
      "text/plain": [
       "             count unique                                   top  freq mean  \\\n",
       "PatientGuid   4979   4979  644EBCE8-87A4-435D-8306-EB3C4743642B     1  NaN   \n",
       "Gender        4979      2                                     F  2850  NaN   \n",
       "YearOfBirth   4979    NaN                                   NaN   NaN 1957   \n",
       "State         4979     46                                    CA   942  NaN   \n",
       "PracticeGuid  4979    317  4D27688B-C925-4513-9CF9-8D281ACC6712   289  NaN   \n",
       "\n",
       "              std  min  25%  50%  75%  max  \n",
       "PatientGuid   NaN  NaN  NaN  NaN  NaN  NaN  \n",
       "Gender        NaN  NaN  NaN  NaN  NaN  NaN  \n",
       "YearOfBirth    17 1922 1944 1957 1970 1994  \n",
       "State         NaN  NaN  NaN  NaN  NaN  NaN  \n",
       "PracticeGuid  NaN  NaN  NaN  NaN  NaN  NaN  "
      ]
     },
     "execution_count": 4,
     "metadata": {},
     "output_type": "execute_result"
    }
   ],
   "source": [
    "### Since only one numeric field is there in database and that's integer, changing display format of float to integer\n",
    "pd.set_option('display.float_format', lambda x: '%d' % x)\n",
    "patients.describe(include='all').T"
   ]
  },
  {
   "cell_type": "markdown",
   "metadata": {},
   "source": [
    "### _There are total 4979 patients scattered across 46 states. They are affiliated across 317 practices._"
   ]
  },
  {
   "cell_type": "markdown",
   "metadata": {},
   "source": [
    "## Calculate patient's age\n",
    "Calculating age of the patient based upon current year"
   ]
  },
  {
   "cell_type": "code",
   "execution_count": 5,
   "metadata": {},
   "outputs": [],
   "source": [
    "patients['Age'] = datetime.datetime.now().year - patients.YearOfBirth"
   ]
  },
  {
   "cell_type": "markdown",
   "metadata": {},
   "source": [
    "#### Patients distribution by age\n",
    "\n",
    "Visualizing how patients are distributed acorss different age group"
   ]
  },
  {
   "cell_type": "code",
   "execution_count": 6,
   "metadata": {},
   "outputs": [
    {
     "data": {
      "text/plain": [
       "Text(0,0.5,'Number of Patients')"
      ]
     },
     "execution_count": 6,
     "metadata": {},
     "output_type": "execute_result"
    },
    {
     "data": {
      "image/png": "[encoded data removed]",
      "text/plain": [
       "<Figure size 1440x720 with 1 Axes>"
      ]
     },
     "metadata": {},
     "output_type": "display_data"
    }
   ],
   "source": [
    "ax = patients.Age.value_counts().sort_index().plot(kind='bar', figsize=(20, 10),stacked=True,title='Number of Patients by Age')\n",
    "ax.set_xlabel(\"Age\")\n",
    "ax.set_ylabel(\"Number of Patients\")"
   ]
  },
  {
   "cell_type": "code",
   "execution_count": 7,
   "metadata": {},
   "outputs": [
    {
     "data": {
      "image/png": "[encoded data removed]",
      "text/plain": [
       "<Figure size 1080x720 with 1 Axes>"
      ]
     },
     "metadata": {},
     "output_type": "display_data"
    }
   ],
   "source": [
    "bins = [20,30,40,50,60,70,80,90,100]\n",
    "patients['age_bins'] = pd.cut(patients['Age'], bins)\n",
    "ax = patients.age_bins.value_counts().sort_index().plot(kind='bar', figsize=(15, 10),stacked=True,title='Number of Patients by Age Bin')\n",
    "ax.set_xlabel(\"Age Bins\")\n",
    "ax.set_ylabel(\"Number of Patients\")\n",
    "for index, row in patients.age_bins.value_counts().sort_index().reset_index().iterrows():\n",
    "    ax.text(row.name,row[\"age_bins\"]+10, row[\"age_bins\"], color='black', ha=\"center\")"
   ]
  },
  {
   "cell_type": "markdown",
   "metadata": {
    "collapsed": true
   },
   "source": [
    "_Although we have patients starting from 24 years to 96 years of ago, majority of patients are between 40 and 80 years old._"
   ]
  },
  {
   "cell_type": "markdown",
   "metadata": {},
   "source": [
    "## Patients breakdown by Gender"
   ]
  },
  {
   "cell_type": "code",
   "execution_count": 8,
   "metadata": {},
   "outputs": [],
   "source": [
    "### Function to calculate percentage for pie chart\n",
    "def make_autopct(values):\n",
    "    def my_autopct(pct):\n",
    "        total = sum(values)\n",
    "        val = int(round(pct*total/100.0))\n",
    "        return '{p:.2f}%  ({v:d})'.format(p=pct,v=val)\n",
    "    return my_autopct"
   ]
  },
  {
   "cell_type": "code",
   "execution_count": 9,
   "metadata": {},
   "outputs": [
    {
     "data": {
      "text/plain": [
       "Text(0,0.5,'')"
      ]
     },
     "execution_count": 9,
     "metadata": {},
     "output_type": "execute_result"
    },
    {
     "data": {
      "image/png": "[encoded data removed]",
      "text/plain": [
       "<Figure size 432x288 with 1 Axes>"
      ]
     },
     "metadata": {},
     "output_type": "display_data"
    }
   ],
   "source": [
    "labels = 'Female','Male'\n",
    "ax = patients.Gender.value_counts().plot.pie(autopct=make_autopct(patients.Gender.value_counts()),startangle = 180,title='Male vs Female Patients',labels=labels)\n",
    "ax.set_ylabel('')"
   ]
  },
  {
   "cell_type": "markdown",
   "metadata": {},
   "source": [
    "## Patients by State"
   ]
  },
  {
   "cell_type": "code",
   "execution_count": 10,
   "metadata": {},
   "outputs": [
    {
     "data": {
      "text/plain": [
       "Text(0,0.5,'Number of Patients')"
      ]
     },
     "execution_count": 10,
     "metadata": {},
     "output_type": "execute_result"
    },
    {
     "data": {
      "image/png": "[encoded data removed]",
      "text/plain": [
       "<Figure size 1440x720 with 1 Axes>"
      ]
     },
     "metadata": {},
     "output_type": "display_data"
    }
   ],
   "source": [
    "ax = patients.State.value_counts().sort_index().plot(kind='bar', figsize=(20, 10),stacked=True,title='Number of Patients by State')\n",
    "ax.set_xlabel(\"State\")\n",
    "ax.set_ylabel(\"Number of Patients\")"
   ]
  },
  {
   "cell_type": "markdown",
   "metadata": {},
   "source": [
    "## Load Medication data"
   ]
  },
  {
   "cell_type": "code",
   "execution_count": 11,
   "metadata": {},
   "outputs": [
    {
     "data": {
      "text/html": [
       "<div>\n",
       "<style scoped>\n",
       "    .dataframe tbody tr th:only-of-type {\n",
       "        vertical-align: middle;\n",
       "    }\n",
       "\n",
       "    .dataframe tbody tr th {\n",
       "        vertical-align: top;\n",
       "    }\n",
       "\n",
       "    .dataframe thead th {\n",
       "        text-align: right;\n",
       "    }\n",
       "</style>\n",
       "<table border=\"1\" class=\"dataframe\">\n",
       "  <thead>\n",
       "    <tr style=\"text-align: right;\">\n",
       "      <th></th>\n",
       "      <th>MedicationGuid</th>\n",
       "      <th>PatientGuid</th>\n",
       "      <th>NdcCode</th>\n",
       "      <th>MedicationName</th>\n",
       "      <th>MedicationStrength</th>\n",
       "      <th>Schedule</th>\n",
       "      <th>DiagnosisGuid</th>\n",
       "      <th>UserGuid</th>\n",
       "    </tr>\n",
       "  </thead>\n",
       "  <tbody>\n",
       "    <tr>\n",
       "      <th>0</th>\n",
       "      <td>6B6B34D1-8F67-4804-9493-0002123D0D2F</td>\n",
       "      <td>070A6571-6DAA-4F1B-8B0C-84C204CC26A6</td>\n",
       "      <td>00378710177</td>\n",
       "      <td>Fenofibrate oral tablet</td>\n",
       "      <td>160 mg</td>\n",
       "      <td>nan</td>\n",
       "      <td>93EE54EE-BA6D-474C-8125-17188579D5AD</td>\n",
       "      <td>263EF64B-D26D-4842-BA47-32D09692AA90</td>\n",
       "    </tr>\n",
       "    <tr>\n",
       "      <th>1</th>\n",
       "      <td>2C82278D-C7D2-4258-B9AC-000374032F46</td>\n",
       "      <td>78D10955-1AF3-4DFF-A678-FA5B5597C888</td>\n",
       "      <td>00406055262</td>\n",
       "      <td>OxyCODONE Hydrochloride (oxyCODONE) oral tablet</td>\n",
       "      <td>5 mg</td>\n",
       "      <td>2.00</td>\n",
       "      <td>46F8ADBC-BC84-4108-9B53-4B9F55D5E2C3</td>\n",
       "      <td>D6537F06-58E0-4961-8466-920615561CD9</td>\n",
       "    </tr>\n",
       "  </tbody>\n",
       "</table>\n",
       "</div>"
      ],
      "text/plain": [
       "                         MedicationGuid                           PatientGuid  \\\n",
       "0  6B6B34D1-8F67-4804-9493-0002123D0D2F  070A6571-6DAA-4F1B-8B0C-84C204CC26A6   \n",
       "1  2C82278D-C7D2-4258-B9AC-000374032F46  78D10955-1AF3-4DFF-A678-FA5B5597C888   \n",
       "\n",
       "       NdcCode                                   MedicationName  \\\n",
       "0  00378710177                          Fenofibrate oral tablet   \n",
       "1  00406055262  OxyCODONE Hydrochloride (oxyCODONE) oral tablet   \n",
       "\n",
       "  MedicationStrength  Schedule                         DiagnosisGuid  \\\n",
       "0             160 mg       nan  93EE54EE-BA6D-474C-8125-17188579D5AD   \n",
       "1               5 mg      2.00  46F8ADBC-BC84-4108-9B53-4B9F55D5E2C3   \n",
       "\n",
       "                               UserGuid  \n",
       "0  263EF64B-D26D-4842-BA47-32D09692AA90  \n",
       "1  D6537F06-58E0-4961-8466-920615561CD9  "
      ]
     },
     "execution_count": 11,
     "metadata": {},
     "output_type": "execute_result"
    }
   ],
   "source": [
    "pd.set_option('display.float_format', lambda x: '%.2f' % x)\n",
    "medicines = pd.read_csv(\"./data/Medication.csv\")\n",
    "medicines.head(2)"
   ]
  },
  {
   "cell_type": "code",
   "execution_count": 12,
   "metadata": {},
   "outputs": [
    {
     "data": {
      "text/plain": [
       "(21967, 8)"
      ]
     },
     "execution_count": 12,
     "metadata": {},
     "output_type": "execute_result"
    }
   ],
   "source": [
    "medicines.shape"
   ]
  },
  {
   "cell_type": "markdown",
   "metadata": {},
   "source": [
    "#### Make sure that Medicines table only has data for patients from patient master list"
   ]
  },
  {
   "cell_type": "code",
   "execution_count": 13,
   "metadata": {},
   "outputs": [
    {
     "data": {
      "text/plain": [
       "True"
      ]
     },
     "execution_count": 13,
     "metadata": {},
     "output_type": "execute_result"
    }
   ],
   "source": [
    "set(medicines.PatientGuid.unique()).issubset(patients.PatientGuid.unique())"
   ]
  },
  {
   "cell_type": "markdown",
   "metadata": {},
   "source": [
    "#### Check how many patients are taking medication."
   ]
  },
  {
   "cell_type": "code",
   "execution_count": 14,
   "metadata": {},
   "outputs": [
    {
     "data": {
      "text/plain": [
       "(4940,)"
      ]
     },
     "execution_count": 14,
     "metadata": {},
     "output_type": "execute_result"
    }
   ],
   "source": [
    "medicines.PatientGuid.unique().shape"
   ]
  },
  {
   "cell_type": "markdown",
   "metadata": {},
   "source": [
    "__Note__ : Of total 4979 patients, 4940 patients are taking medications. There are 39 patients who are not taking any medication."
   ]
  },
  {
   "cell_type": "markdown",
   "metadata": {},
   "source": [
    "#### Find out number of unique medications"
   ]
  },
  {
   "cell_type": "code",
   "execution_count": 15,
   "metadata": {},
   "outputs": [
    {
     "data": {
      "text/plain": [
       "(6359,)"
      ]
     },
     "execution_count": 15,
     "metadata": {},
     "output_type": "execute_result"
    }
   ],
   "source": [
    "unique_NdcCode = medicines.NdcCode.unique()\n",
    "unique_NdcCode.shape"
   ]
  },
  {
   "cell_type": "code",
   "execution_count": 16,
   "metadata": {},
   "outputs": [
    {
     "data": {
      "text/plain": [
       "(1926,)"
      ]
     },
     "execution_count": 16,
     "metadata": {},
     "output_type": "execute_result"
    }
   ],
   "source": [
    "unique_MedicationName = medicines.MedicationName.unique()\n",
    "unique_MedicationName.shape"
   ]
  },
  {
   "cell_type": "markdown",
   "metadata": {},
   "source": [
    "_There are 6359 unique medications by NDC code. But, there are only 1926 unique medications by Name._ "
   ]
  },
  {
   "cell_type": "markdown",
   "metadata": {},
   "source": [
    "#### NDC code assigned to patients"
   ]
  },
  {
   "cell_type": "code",
   "execution_count": 17,
   "metadata": {},
   "outputs": [
    {
     "data": {
      "text/html": [
       "<div>\n",
       "<style scoped>\n",
       "    .dataframe tbody tr th:only-of-type {\n",
       "        vertical-align: middle;\n",
       "    }\n",
       "\n",
       "    .dataframe tbody tr th {\n",
       "        vertical-align: top;\n",
       "    }\n",
       "\n",
       "    .dataframe thead th {\n",
       "        text-align: right;\n",
       "    }\n",
       "</style>\n",
       "<table border=\"1\" class=\"dataframe\">\n",
       "  <thead>\n",
       "    <tr style=\"text-align: right;\">\n",
       "      <th></th>\n",
       "      <th>PatientGuid</th>\n",
       "      <th>NDCcode_unique_count</th>\n",
       "    </tr>\n",
       "  </thead>\n",
       "  <tbody>\n",
       "    <tr>\n",
       "      <th>0</th>\n",
       "      <td>00033D2D-D57C-48A7-B201-F9183F6E640B</td>\n",
       "      <td>3</td>\n",
       "    </tr>\n",
       "    <tr>\n",
       "      <th>1</th>\n",
       "      <td>00044CC1-7911-4C35-B73C-B5623FA3A60F</td>\n",
       "      <td>2</td>\n",
       "    </tr>\n",
       "    <tr>\n",
       "      <th>2</th>\n",
       "      <td>00136822-9A6F-4EF5-ACE7-8B5C836F0635</td>\n",
       "      <td>3</td>\n",
       "    </tr>\n",
       "    <tr>\n",
       "      <th>3</th>\n",
       "      <td>001EDAC4-4584-4801-8383-4AD784EEA4C9</td>\n",
       "      <td>1</td>\n",
       "    </tr>\n",
       "    <tr>\n",
       "      <th>4</th>\n",
       "      <td>002E58E8-8314-4000-9BDC-73D21DDD6880</td>\n",
       "      <td>12</td>\n",
       "    </tr>\n",
       "  </tbody>\n",
       "</table>\n",
       "</div>"
      ],
      "text/plain": [
       "                            PatientGuid  NDCcode_unique_count\n",
       "0  00033D2D-D57C-48A7-B201-F9183F6E640B                     3\n",
       "1  00044CC1-7911-4C35-B73C-B5623FA3A60F                     2\n",
       "2  00136822-9A6F-4EF5-ACE7-8B5C836F0635                     3\n",
       "3  001EDAC4-4584-4801-8383-4AD784EEA4C9                     1\n",
       "4  002E58E8-8314-4000-9BDC-73D21DDD6880                    12"
      ]
     },
     "execution_count": 17,
     "metadata": {},
     "output_type": "execute_result"
    }
   ],
   "source": [
    "NDCcode_count_by_patient = medicines.groupby(\"PatientGuid\")[\"NdcCode\"].nunique()\n",
    "NDCcode_count_by_patient = NDCcode_count_by_patient.to_frame().reset_index()\n",
    "NDCcode_count_by_patient = NDCcode_count_by_patient.rename(index=str, columns={\"NdcCode\": \"NDCcode_unique_count\"})\n",
    "NDCcode_count_by_patient.head()"
   ]
  },
  {
   "cell_type": "code",
   "execution_count": 18,
   "metadata": {},
   "outputs": [
    {
     "data": {
      "text/html": [
       "<div>\n",
       "<style scoped>\n",
       "    .dataframe tbody tr th:only-of-type {\n",
       "        vertical-align: middle;\n",
       "    }\n",
       "\n",
       "    .dataframe tbody tr th {\n",
       "        vertical-align: top;\n",
       "    }\n",
       "\n",
       "    .dataframe thead th {\n",
       "        text-align: right;\n",
       "    }\n",
       "</style>\n",
       "<table border=\"1\" class=\"dataframe\">\n",
       "  <thead>\n",
       "    <tr style=\"text-align: right;\">\n",
       "      <th></th>\n",
       "      <th>count</th>\n",
       "      <th>mean</th>\n",
       "      <th>std</th>\n",
       "      <th>min</th>\n",
       "      <th>25%</th>\n",
       "      <th>50%</th>\n",
       "      <th>75%</th>\n",
       "      <th>max</th>\n",
       "    </tr>\n",
       "  </thead>\n",
       "  <tbody>\n",
       "    <tr>\n",
       "      <th>NDCcode_unique_count</th>\n",
       "      <td>4940.00</td>\n",
       "      <td>4.38</td>\n",
       "      <td>4.26</td>\n",
       "      <td>1.00</td>\n",
       "      <td>1.00</td>\n",
       "      <td>3.00</td>\n",
       "      <td>6.00</td>\n",
       "      <td>43.00</td>\n",
       "    </tr>\n",
       "  </tbody>\n",
       "</table>\n",
       "</div>"
      ],
      "text/plain": [
       "                       count  mean  std  min  25%  50%  75%   max\n",
       "NDCcode_unique_count 4940.00  4.38 4.26 1.00 1.00 3.00 6.00 43.00"
      ]
     },
     "execution_count": 18,
     "metadata": {},
     "output_type": "execute_result"
    }
   ],
   "source": [
    "NDCcode_count_by_patient.describe().T"
   ]
  },
  {
   "cell_type": "code",
   "execution_count": 19,
   "metadata": {},
   "outputs": [
    {
     "data": {
      "text/plain": [
       "3.0"
      ]
     },
     "execution_count": 19,
     "metadata": {},
     "output_type": "execute_result"
    }
   ],
   "source": [
    "np.median(NDCcode_count_by_patient.NDCcode_unique_count.values)"
   ]
  },
  {
   "cell_type": "code",
   "execution_count": 20,
   "metadata": {},
   "outputs": [
    {
     "data": {
      "text/plain": [
       "<matplotlib.axes._subplots.AxesSubplot at 0x7ff044418160>"
      ]
     },
     "execution_count": 20,
     "metadata": {},
     "output_type": "execute_result"
    },
    {
     "data": {
      "image/png": "[encoded data removed]",
      "text/plain": [
       "<Figure size 1296x576 with 1 Axes>"
      ]
     },
     "metadata": {},
     "output_type": "display_data"
    }
   ],
   "source": [
    "fig, (ax1) = plt.subplots(nrows=1, ncols=1,figsize=(18,8))\n",
    "sns.boxplot(x=\"NDCcode_unique_count\", data=NDCcode_count_by_patient ,ax=ax1)"
   ]
  },
  {
   "cell_type": "markdown",
   "metadata": {},
   "source": [
    "__Note: __\n",
    "\n",
    "1. On the average, each patient takes 4.38 medicines in Medication table.\n",
    "\n",
    "2. Median for Number of Medication is 3.\n",
    "\n",
    "3. Majority of patients (~75%) take 6 or less medicines.\n",
    "\n",
    "4. As can be seen from the box plot, there are quite a few outliers too. They take more than 13 medicines going up to 43 medicines."
   ]
  },
  {
   "cell_type": "markdown",
   "metadata": {},
   "source": [
    "#### Medicines assigned to patients by medicine names"
   ]
  },
  {
   "cell_type": "code",
   "execution_count": 21,
   "metadata": {},
   "outputs": [
    {
     "data": {
      "text/html": [
       "<div>\n",
       "<style scoped>\n",
       "    .dataframe tbody tr th:only-of-type {\n",
       "        vertical-align: middle;\n",
       "    }\n",
       "\n",
       "    .dataframe tbody tr th {\n",
       "        vertical-align: top;\n",
       "    }\n",
       "\n",
       "    .dataframe thead th {\n",
       "        text-align: right;\n",
       "    }\n",
       "</style>\n",
       "<table border=\"1\" class=\"dataframe\">\n",
       "  <thead>\n",
       "    <tr style=\"text-align: right;\">\n",
       "      <th></th>\n",
       "      <th>PatientGuid</th>\n",
       "      <th>MedicationName_unique_count</th>\n",
       "    </tr>\n",
       "  </thead>\n",
       "  <tbody>\n",
       "    <tr>\n",
       "      <th>0</th>\n",
       "      <td>00033D2D-D57C-48A7-B201-F9183F6E640B</td>\n",
       "      <td>2</td>\n",
       "    </tr>\n",
       "    <tr>\n",
       "      <th>1</th>\n",
       "      <td>00044CC1-7911-4C35-B73C-B5623FA3A60F</td>\n",
       "      <td>2</td>\n",
       "    </tr>\n",
       "    <tr>\n",
       "      <th>2</th>\n",
       "      <td>00136822-9A6F-4EF5-ACE7-8B5C836F0635</td>\n",
       "      <td>3</td>\n",
       "    </tr>\n",
       "    <tr>\n",
       "      <th>3</th>\n",
       "      <td>001EDAC4-4584-4801-8383-4AD784EEA4C9</td>\n",
       "      <td>1</td>\n",
       "    </tr>\n",
       "    <tr>\n",
       "      <th>4</th>\n",
       "      <td>002E58E8-8314-4000-9BDC-73D21DDD6880</td>\n",
       "      <td>11</td>\n",
       "    </tr>\n",
       "  </tbody>\n",
       "</table>\n",
       "</div>"
      ],
      "text/plain": [
       "                            PatientGuid  MedicationName_unique_count\n",
       "0  00033D2D-D57C-48A7-B201-F9183F6E640B                            2\n",
       "1  00044CC1-7911-4C35-B73C-B5623FA3A60F                            2\n",
       "2  00136822-9A6F-4EF5-ACE7-8B5C836F0635                            3\n",
       "3  001EDAC4-4584-4801-8383-4AD784EEA4C9                            1\n",
       "4  002E58E8-8314-4000-9BDC-73D21DDD6880                           11"
      ]
     },
     "execution_count": 21,
     "metadata": {},
     "output_type": "execute_result"
    }
   ],
   "source": [
    "MedicationName_count_by_patient = medicines.groupby(\"PatientGuid\")[\"MedicationName\"].nunique()\n",
    "MedicationName_count_by_patient = MedicationName_count_by_patient.to_frame().reset_index()\n",
    "MedicationName_count_by_patient = MedicationName_count_by_patient.rename(index=str, columns={\"MedicationName\": \"MedicationName_unique_count\"})\n",
    "MedicationName_count_by_patient.head()"
   ]
  },
  {
   "cell_type": "code",
   "execution_count": 22,
   "metadata": {},
   "outputs": [
    {
     "data": {
      "text/html": [
       "<div>\n",
       "<style scoped>\n",
       "    .dataframe tbody tr th:only-of-type {\n",
       "        vertical-align: middle;\n",
       "    }\n",
       "\n",
       "    .dataframe tbody tr th {\n",
       "        vertical-align: top;\n",
       "    }\n",
       "\n",
       "    .dataframe thead th {\n",
       "        text-align: right;\n",
       "    }\n",
       "</style>\n",
       "<table border=\"1\" class=\"dataframe\">\n",
       "  <thead>\n",
       "    <tr style=\"text-align: right;\">\n",
       "      <th></th>\n",
       "      <th>count</th>\n",
       "      <th>mean</th>\n",
       "      <th>std</th>\n",
       "      <th>min</th>\n",
       "      <th>25%</th>\n",
       "      <th>50%</th>\n",
       "      <th>75%</th>\n",
       "      <th>max</th>\n",
       "    </tr>\n",
       "  </thead>\n",
       "  <tbody>\n",
       "    <tr>\n",
       "      <th>MedicationName_unique_count</th>\n",
       "      <td>4940.00</td>\n",
       "      <td>4.16</td>\n",
       "      <td>3.91</td>\n",
       "      <td>0.00</td>\n",
       "      <td>1.00</td>\n",
       "      <td>3.00</td>\n",
       "      <td>5.00</td>\n",
       "      <td>40.00</td>\n",
       "    </tr>\n",
       "  </tbody>\n",
       "</table>\n",
       "</div>"
      ],
      "text/plain": [
       "                              count  mean  std  min  25%  50%  75%   max\n",
       "MedicationName_unique_count 4940.00  4.16 3.91 0.00 1.00 3.00 5.00 40.00"
      ]
     },
     "execution_count": 22,
     "metadata": {},
     "output_type": "execute_result"
    }
   ],
   "source": [
    "MedicationName_count_by_patient.describe().T"
   ]
  },
  {
   "cell_type": "code",
   "execution_count": 23,
   "metadata": {},
   "outputs": [
    {
     "data": {
      "text/plain": [
       "3.0"
      ]
     },
     "execution_count": 23,
     "metadata": {},
     "output_type": "execute_result"
    }
   ],
   "source": [
    "np.median(MedicationName_count_by_patient.MedicationName_unique_count.values)"
   ]
  },
  {
   "cell_type": "code",
   "execution_count": 24,
   "metadata": {},
   "outputs": [
    {
     "data": {
      "text/plain": [
       "<matplotlib.axes._subplots.AxesSubplot at 0x7ff0443daa58>"
      ]
     },
     "execution_count": 24,
     "metadata": {},
     "output_type": "execute_result"
    },
    {
     "data": {
      "image/png": "[encoded data removed]",
      "text/plain": [
       "<Figure size 1296x576 with 1 Axes>"
      ]
     },
     "metadata": {},
     "output_type": "display_data"
    }
   ],
   "source": [
    "fig, (ax1) = plt.subplots(nrows=1, ncols=1,figsize=(18,8))\n",
    "sns.boxplot(x=\"MedicationName_unique_count\", data=MedicationName_count_by_patient ,ax=ax1)"
   ]
  },
  {
   "cell_type": "markdown",
   "metadata": {},
   "source": [
    "___It's interesting to note that even though there are only 1926 medicine names (compare to 6359 unique NDC codes), aggregate statistics didn't change much. We will look into relationship between NDC code and Medicine mapping a little bit later to understand this.  ___"
   ]
  },
  {
   "cell_type": "markdown",
   "metadata": {},
   "source": [
    "__Note: __\n",
    "\n",
    "1. On the average, each patient takes 4.16 medicines (by name) in Medication table.\n",
    "\n",
    "2. Median for Number of Medication (by name) is 3.\n",
    "\n",
    "3. Majority of patients (~75%) take 5 or less medicines by medicine names.\n",
    "\n",
    "4. As can be seen from the box plot, there are quite a few outliers too. They take more than 11 medicines going upto 40 medicines.\n",
    "\n"
   ]
  },
  {
   "cell_type": "markdown",
   "metadata": {},
   "source": [
    "___Also interesting to note is that a few patients have 0 medications assigned. Let's look into that -___"
   ]
  },
  {
   "cell_type": "code",
   "execution_count": 25,
   "metadata": {},
   "outputs": [
    {
     "data": {
      "text/html": [
       "<div>\n",
       "<style scoped>\n",
       "    .dataframe tbody tr th:only-of-type {\n",
       "        vertical-align: middle;\n",
       "    }\n",
       "\n",
       "    .dataframe tbody tr th {\n",
       "        vertical-align: top;\n",
       "    }\n",
       "\n",
       "    .dataframe thead th {\n",
       "        text-align: right;\n",
       "    }\n",
       "</style>\n",
       "<table border=\"1\" class=\"dataframe\">\n",
       "  <thead>\n",
       "    <tr style=\"text-align: right;\">\n",
       "      <th></th>\n",
       "      <th>PatientGuid</th>\n",
       "      <th>MedicationName_unique_count</th>\n",
       "    </tr>\n",
       "  </thead>\n",
       "  <tbody>\n",
       "    <tr>\n",
       "      <th>996</th>\n",
       "      <td>334029D6-F5A2-408B-B8D5-9D45E2ACE517</td>\n",
       "      <td>0</td>\n",
       "    </tr>\n",
       "    <tr>\n",
       "      <th>1871</th>\n",
       "      <td>610D0F8C-49E0-4187-84EC-2AED0E023BFE</td>\n",
       "      <td>0</td>\n",
       "    </tr>\n",
       "    <tr>\n",
       "      <th>3928</th>\n",
       "      <td>CB44F66E-76AC-4F18-92B6-42E68F7A3207</td>\n",
       "      <td>0</td>\n",
       "    </tr>\n",
       "    <tr>\n",
       "      <th>3980</th>\n",
       "      <td>CE3408A3-D1BC-455B-AC6B-F33A00CD688F</td>\n",
       "      <td>0</td>\n",
       "    </tr>\n",
       "    <tr>\n",
       "      <th>4243</th>\n",
       "      <td>DB87891D-E400-4D5A-B6C3-0BEA7BDB8352</td>\n",
       "      <td>0</td>\n",
       "    </tr>\n",
       "  </tbody>\n",
       "</table>\n",
       "</div>"
      ],
      "text/plain": [
       "                               PatientGuid  MedicationName_unique_count\n",
       "996   334029D6-F5A2-408B-B8D5-9D45E2ACE517                            0\n",
       "1871  610D0F8C-49E0-4187-84EC-2AED0E023BFE                            0\n",
       "3928  CB44F66E-76AC-4F18-92B6-42E68F7A3207                            0\n",
       "3980  CE3408A3-D1BC-455B-AC6B-F33A00CD688F                            0\n",
       "4243  DB87891D-E400-4D5A-B6C3-0BEA7BDB8352                            0"
      ]
     },
     "execution_count": 25,
     "metadata": {},
     "output_type": "execute_result"
    }
   ],
   "source": [
    "MedicationName_count_by_patient[MedicationName_count_by_patient.MedicationName_unique_count == 0]"
   ]
  },
  {
   "cell_type": "code",
   "execution_count": 26,
   "metadata": {},
   "outputs": [
    {
     "data": {
      "text/html": [
       "<div>\n",
       "<style scoped>\n",
       "    .dataframe tbody tr th:only-of-type {\n",
       "        vertical-align: middle;\n",
       "    }\n",
       "\n",
       "    .dataframe tbody tr th {\n",
       "        vertical-align: top;\n",
       "    }\n",
       "\n",
       "    .dataframe thead th {\n",
       "        text-align: right;\n",
       "    }\n",
       "</style>\n",
       "<table border=\"1\" class=\"dataframe\">\n",
       "  <thead>\n",
       "    <tr style=\"text-align: right;\">\n",
       "      <th></th>\n",
       "      <th>MedicationGuid</th>\n",
       "      <th>PatientGuid</th>\n",
       "      <th>NdcCode</th>\n",
       "      <th>MedicationName</th>\n",
       "      <th>MedicationStrength</th>\n",
       "      <th>Schedule</th>\n",
       "      <th>DiagnosisGuid</th>\n",
       "      <th>UserGuid</th>\n",
       "    </tr>\n",
       "  </thead>\n",
       "  <tbody>\n",
       "    <tr>\n",
       "      <th>15238</th>\n",
       "      <td>C75D513A-E08C-463C-9CFE-B16BAA5A2F89</td>\n",
       "      <td>610D0F8C-49E0-4187-84EC-2AED0E023BFE</td>\n",
       "      <td>36710000830</td>\n",
       "      <td>NaN</td>\n",
       "      <td>NaN</td>\n",
       "      <td>nan</td>\n",
       "      <td>123E97B2-479D-4E4F-A497-A79F1D625960</td>\n",
       "      <td>804AAB6B-4475-4888-A983-F5064C7C1192</td>\n",
       "    </tr>\n",
       "  </tbody>\n",
       "</table>\n",
       "</div>"
      ],
      "text/plain": [
       "                             MedicationGuid  \\\n",
       "15238  C75D513A-E08C-463C-9CFE-B16BAA5A2F89   \n",
       "\n",
       "                                PatientGuid      NdcCode MedicationName  \\\n",
       "15238  610D0F8C-49E0-4187-84EC-2AED0E023BFE  36710000830            NaN   \n",
       "\n",
       "      MedicationStrength  Schedule                         DiagnosisGuid  \\\n",
       "15238                NaN       nan  123E97B2-479D-4E4F-A497-A79F1D625960   \n",
       "\n",
       "                                   UserGuid  \n",
       "15238  804AAB6B-4475-4888-A983-F5064C7C1192  "
      ]
     },
     "execution_count": 26,
     "metadata": {},
     "output_type": "execute_result"
    }
   ],
   "source": [
    "medicines[medicines.PatientGuid == \"610D0F8C-49E0-4187-84EC-2AED0E023BFE\"]"
   ]
  },
  {
   "cell_type": "markdown",
   "metadata": {},
   "source": [
    "Hmmm. So, there are NdcCodes with no Medication Name assigned."
   ]
  },
  {
   "cell_type": "code",
   "execution_count": 27,
   "metadata": {},
   "outputs": [
    {
     "data": {
      "text/html": [
       "<div>\n",
       "<style scoped>\n",
       "    .dataframe tbody tr th:only-of-type {\n",
       "        vertical-align: middle;\n",
       "    }\n",
       "\n",
       "    .dataframe tbody tr th {\n",
       "        vertical-align: top;\n",
       "    }\n",
       "\n",
       "    .dataframe thead th {\n",
       "        text-align: right;\n",
       "    }\n",
       "</style>\n",
       "<table border=\"1\" class=\"dataframe\">\n",
       "  <thead>\n",
       "    <tr style=\"text-align: right;\">\n",
       "      <th></th>\n",
       "      <th>MedicationGuid</th>\n",
       "      <th>PatientGuid</th>\n",
       "      <th>NdcCode</th>\n",
       "      <th>MedicationName</th>\n",
       "      <th>MedicationStrength</th>\n",
       "      <th>Schedule</th>\n",
       "      <th>DiagnosisGuid</th>\n",
       "      <th>UserGuid</th>\n",
       "    </tr>\n",
       "  </thead>\n",
       "  <tbody>\n",
       "    <tr>\n",
       "      <th>76</th>\n",
       "      <td>BD098FEA-1CF7-4DF5-8415-00CCD05715A4</td>\n",
       "      <td>7B694B68-F047-4AA8-9182-99C7362A2181</td>\n",
       "      <td>99073071026</td>\n",
       "      <td>NaN</td>\n",
       "      <td>NaN</td>\n",
       "      <td>nan</td>\n",
       "      <td>9483DA78-015D-4737-A6D6-5CC2D421ECFB</td>\n",
       "      <td>86ACD71A-7F64-43EA-8772-EAD4E1FEF45E</td>\n",
       "    </tr>\n",
       "    <tr>\n",
       "      <th>229</th>\n",
       "      <td>92C06B3B-0959-4EA9-815C-026BBA68F9DF</td>\n",
       "      <td>2894648E-7F36-4EF5-8535-185340CAA933</td>\n",
       "      <td>08290322050</td>\n",
       "      <td>NaN</td>\n",
       "      <td>NaN</td>\n",
       "      <td>nan</td>\n",
       "      <td>14935C64-2022-48A3-BC1F-6E4A845FE4B1</td>\n",
       "      <td>58AFB8B8-41C9-4FA2-A771-61691FE1609D</td>\n",
       "    </tr>\n",
       "    <tr>\n",
       "      <th>271</th>\n",
       "      <td>BC4C5737-445D-406F-9666-02EE023148BB</td>\n",
       "      <td>A6CF5552-3BAE-4225-BC9E-03A0F846E4E5</td>\n",
       "      <td>62107006901</td>\n",
       "      <td>NaN</td>\n",
       "      <td>NaN</td>\n",
       "      <td>nan</td>\n",
       "      <td>3941B63A-F6E5-4541-8A69-395EE149E2A0</td>\n",
       "      <td>D50B238B-4A74-4B7C-B3EC-F62991A9D1DA</td>\n",
       "    </tr>\n",
       "  </tbody>\n",
       "</table>\n",
       "</div>"
      ],
      "text/plain": [
       "                           MedicationGuid  \\\n",
       "76   BD098FEA-1CF7-4DF5-8415-00CCD05715A4   \n",
       "229  92C06B3B-0959-4EA9-815C-026BBA68F9DF   \n",
       "271  BC4C5737-445D-406F-9666-02EE023148BB   \n",
       "\n",
       "                              PatientGuid      NdcCode MedicationName  \\\n",
       "76   7B694B68-F047-4AA8-9182-99C7362A2181  99073071026            NaN   \n",
       "229  2894648E-7F36-4EF5-8535-185340CAA933  08290322050            NaN   \n",
       "271  A6CF5552-3BAE-4225-BC9E-03A0F846E4E5  62107006901            NaN   \n",
       "\n",
       "    MedicationStrength  Schedule                         DiagnosisGuid  \\\n",
       "76                 NaN       nan  9483DA78-015D-4737-A6D6-5CC2D421ECFB   \n",
       "229                NaN       nan  14935C64-2022-48A3-BC1F-6E4A845FE4B1   \n",
       "271                NaN       nan  3941B63A-F6E5-4541-8A69-395EE149E2A0   \n",
       "\n",
       "                                 UserGuid  \n",
       "76   86ACD71A-7F64-43EA-8772-EAD4E1FEF45E  \n",
       "229  58AFB8B8-41C9-4FA2-A771-61691FE1609D  \n",
       "271  D50B238B-4A74-4B7C-B3EC-F62991A9D1DA  "
      ]
     },
     "execution_count": 27,
     "metadata": {},
     "output_type": "execute_result"
    }
   ],
   "source": [
    "medicines[medicines.MedicationName != medicines.MedicationName].head(3)"
   ]
  },
  {
   "cell_type": "code",
   "execution_count": 28,
   "metadata": {},
   "outputs": [
    {
     "name": "stdout",
     "output_type": "stream",
     "text": [
      "Number of rows with No MedicationName: 72\n",
      "Unique NDC Code with no medicine name: 59\n",
      "Unique patients with no medicine name: 59\n"
     ]
    }
   ],
   "source": [
    "### Finding out NDCCodes that have no Medication Name assigned\n",
    "print (\"Number of rows with No MedicationName: \" + str(medicines[medicines.MedicationName != medicines.MedicationName].shape[0]))\n",
    "print (\"Unique NDC Code with no medicine name: \" + str(medicines[medicines.MedicationName != medicines.MedicationName][\"NdcCode\"].unique().shape[0]))\n",
    "print (\"Unique patients with no medicine name: \" + str(medicines[medicines.MedicationName != medicines.MedicationName][\"PatientGuid\"].unique().shape[0]))"
   ]
  },
  {
   "cell_type": "markdown",
   "metadata": {},
   "source": [
    "#### Mapping between Medicine Name and NDC Code"
   ]
  },
  {
   "cell_type": "code",
   "execution_count": 29,
   "metadata": {},
   "outputs": [
    {
     "data": {
      "text/plain": [
       "(991, 2)"
      ]
     },
     "execution_count": 29,
     "metadata": {},
     "output_type": "execute_result"
    }
   ],
   "source": [
    "Count_of_NdcCode_by_MedicineName = medicines.groupby(\"MedicationName\")[\"NdcCode\"].nunique()\n",
    "Count_of_NdcCode_by_MedicineName = Count_of_NdcCode_by_MedicineName[Count_of_NdcCode_by_MedicineName>1]\n",
    "Count_of_NdcCode_by_MedicineName = Count_of_NdcCode_by_MedicineName.to_frame().reset_index()\n",
    "Count_of_NdcCode_by_MedicineName = Count_of_NdcCode_by_MedicineName.rename(index=str, columns={\"NdcCode\": \"NDCcode_unique_count\"})\n",
    "Count_of_NdcCode_by_MedicineName.shape"
   ]
  },
  {
   "cell_type": "code",
   "execution_count": 30,
   "metadata": {},
   "outputs": [
    {
     "data": {
      "text/html": [
       "<div>\n",
       "<style scoped>\n",
       "    .dataframe tbody tr th:only-of-type {\n",
       "        vertical-align: middle;\n",
       "    }\n",
       "\n",
       "    .dataframe tbody tr th {\n",
       "        vertical-align: top;\n",
       "    }\n",
       "\n",
       "    .dataframe thead th {\n",
       "        text-align: right;\n",
       "    }\n",
       "</style>\n",
       "<table border=\"1\" class=\"dataframe\">\n",
       "  <thead>\n",
       "    <tr style=\"text-align: right;\">\n",
       "      <th></th>\n",
       "      <th>MedicationName</th>\n",
       "      <th>NDCcode_unique_count</th>\n",
       "    </tr>\n",
       "  </thead>\n",
       "  <tbody>\n",
       "    <tr>\n",
       "      <th>0</th>\n",
       "      <td>AVINza (morphine) oral capsule, extended release</td>\n",
       "      <td>2</td>\n",
       "    </tr>\n",
       "    <tr>\n",
       "      <th>1</th>\n",
       "      <td>Abilify (ARIPiprazole) oral tablet</td>\n",
       "      <td>13</td>\n",
       "    </tr>\n",
       "    <tr>\n",
       "      <th>2</th>\n",
       "      <td>Accupril (quinapril) oral tablet</td>\n",
       "      <td>6</td>\n",
       "    </tr>\n",
       "    <tr>\n",
       "      <th>3</th>\n",
       "      <td>Acetaminophen oral tablet</td>\n",
       "      <td>2</td>\n",
       "    </tr>\n",
       "    <tr>\n",
       "      <th>4</th>\n",
       "      <td>Acetaminophen-HYDROcodone Bitartrate (acetamin...</td>\n",
       "      <td>3</td>\n",
       "    </tr>\n",
       "  </tbody>\n",
       "</table>\n",
       "</div>"
      ],
      "text/plain": [
       "                                      MedicationName  NDCcode_unique_count\n",
       "0   AVINza (morphine) oral capsule, extended release                     2\n",
       "1                 Abilify (ARIPiprazole) oral tablet                    13\n",
       "2                   Accupril (quinapril) oral tablet                     6\n",
       "3                          Acetaminophen oral tablet                     2\n",
       "4  Acetaminophen-HYDROcodone Bitartrate (acetamin...                     3"
      ]
     },
     "execution_count": 30,
     "metadata": {},
     "output_type": "execute_result"
    }
   ],
   "source": [
    "Count_of_NdcCode_by_MedicineName.head()"
   ]
  },
  {
   "cell_type": "code",
   "execution_count": 31,
   "metadata": {},
   "outputs": [
    {
     "data": {
      "text/html": [
       "<div>\n",
       "<style scoped>\n",
       "    .dataframe tbody tr th:only-of-type {\n",
       "        vertical-align: middle;\n",
       "    }\n",
       "\n",
       "    .dataframe tbody tr th {\n",
       "        vertical-align: top;\n",
       "    }\n",
       "\n",
       "    .dataframe thead th {\n",
       "        text-align: right;\n",
       "    }\n",
       "</style>\n",
       "<table border=\"1\" class=\"dataframe\">\n",
       "  <thead>\n",
       "    <tr style=\"text-align: right;\">\n",
       "      <th></th>\n",
       "      <th>count</th>\n",
       "      <th>mean</th>\n",
       "      <th>std</th>\n",
       "      <th>min</th>\n",
       "      <th>25%</th>\n",
       "      <th>50%</th>\n",
       "      <th>75%</th>\n",
       "      <th>max</th>\n",
       "    </tr>\n",
       "  </thead>\n",
       "  <tbody>\n",
       "    <tr>\n",
       "      <th>NDCcode_unique_count</th>\n",
       "      <td>991.00</td>\n",
       "      <td>5.41</td>\n",
       "      <td>5.93</td>\n",
       "      <td>2.00</td>\n",
       "      <td>2.00</td>\n",
       "      <td>3.00</td>\n",
       "      <td>6.00</td>\n",
       "      <td>65.00</td>\n",
       "    </tr>\n",
       "  </tbody>\n",
       "</table>\n",
       "</div>"
      ],
      "text/plain": [
       "                      count  mean  std  min  25%  50%  75%   max\n",
       "NDCcode_unique_count 991.00  5.41 5.93 2.00 2.00 3.00 6.00 65.00"
      ]
     },
     "execution_count": 31,
     "metadata": {},
     "output_type": "execute_result"
    }
   ],
   "source": [
    "Count_of_NdcCode_by_MedicineName.describe().T"
   ]
  },
  {
   "cell_type": "code",
   "execution_count": 32,
   "metadata": {},
   "outputs": [
    {
     "data": {
      "text/plain": [
       "3.0"
      ]
     },
     "execution_count": 32,
     "metadata": {},
     "output_type": "execute_result"
    }
   ],
   "source": [
    "np.median(Count_of_NdcCode_by_MedicineName.NDCcode_unique_count.values)"
   ]
  },
  {
   "cell_type": "markdown",
   "metadata": {},
   "source": [
    "_There are 991 medicine names with multiple NDC codes. On the average, they have 5.41 NDC codes assigned._"
   ]
  },
  {
   "cell_type": "markdown",
   "metadata": {
    "collapsed": true
   },
   "source": [
    "## Figure out the most common drug population"
   ]
  },
  {
   "cell_type": "markdown",
   "metadata": {},
   "source": [
    "#### Top 5 Most Common Medications by Medicine Names"
   ]
  },
  {
   "cell_type": "code",
   "execution_count": 33,
   "metadata": {},
   "outputs": [
    {
     "data": {
      "text/html": [
       "<div>\n",
       "<style scoped>\n",
       "    .dataframe tbody tr th:only-of-type {\n",
       "        vertical-align: middle;\n",
       "    }\n",
       "\n",
       "    .dataframe tbody tr th {\n",
       "        vertical-align: top;\n",
       "    }\n",
       "\n",
       "    .dataframe thead th {\n",
       "        text-align: right;\n",
       "    }\n",
       "</style>\n",
       "<table border=\"1\" class=\"dataframe\">\n",
       "  <thead>\n",
       "    <tr style=\"text-align: right;\">\n",
       "      <th></th>\n",
       "      <th>MedicationName</th>\n",
       "      <th>Patients_unique_count</th>\n",
       "    </tr>\n",
       "  </thead>\n",
       "  <tbody>\n",
       "    <tr>\n",
       "      <th>965</th>\n",
       "      <td>Lisinopril oral tablet</td>\n",
       "      <td>395</td>\n",
       "    </tr>\n",
       "    <tr>\n",
       "      <th>1566</th>\n",
       "      <td>Simvastatin oral tablet</td>\n",
       "      <td>290</td>\n",
       "    </tr>\n",
       "    <tr>\n",
       "      <th>963</th>\n",
       "      <td>Lipitor (atorvastatin) oral tablet</td>\n",
       "      <td>287</td>\n",
       "    </tr>\n",
       "    <tr>\n",
       "      <th>1893</th>\n",
       "      <td>Zithromax Z-Pak (azithromycin) oral tablet</td>\n",
       "      <td>237</td>\n",
       "    </tr>\n",
       "    <tr>\n",
       "      <th>175</th>\n",
       "      <td>Augmentin (amoxicillin-clavulanate) oral tablet</td>\n",
       "      <td>209</td>\n",
       "    </tr>\n",
       "  </tbody>\n",
       "</table>\n",
       "</div>"
      ],
      "text/plain": [
       "                                       MedicationName  Patients_unique_count\n",
       "965                            Lisinopril oral tablet                    395\n",
       "1566                          Simvastatin oral tablet                    290\n",
       "963                Lipitor (atorvastatin) oral tablet                    287\n",
       "1893       Zithromax Z-Pak (azithromycin) oral tablet                    237\n",
       "175   Augmentin (amoxicillin-clavulanate) oral tablet                    209"
      ]
     },
     "execution_count": 33,
     "metadata": {},
     "output_type": "execute_result"
    }
   ],
   "source": [
    "Count_of_patients_by_MedicineName = medicines.groupby(\"MedicationName\")[\"PatientGuid\"].nunique()\n",
    "Count_of_patients_by_MedicineName = Count_of_patients_by_MedicineName.to_frame().reset_index()\n",
    "Count_of_patients_by_MedicineName = Count_of_patients_by_MedicineName.rename(index=str, columns={\"PatientGuid\": \"Patients_unique_count\"})\n",
    "Count_of_patients_by_MedicineName.sort_values(by=['Patients_unique_count'],ascending=False,inplace=True)\n",
    "Count_of_patients_by_MedicineName.head(5)"
   ]
  },
  {
   "cell_type": "markdown",
   "metadata": {},
   "source": [
    "#### Top 5 Most Common Medications by NDC codes"
   ]
  },
  {
   "cell_type": "code",
   "execution_count": 34,
   "metadata": {},
   "outputs": [
    {
     "data": {
      "text/html": [
       "<div>\n",
       "<style scoped>\n",
       "    .dataframe tbody tr th:only-of-type {\n",
       "        vertical-align: middle;\n",
       "    }\n",
       "\n",
       "    .dataframe tbody tr th {\n",
       "        vertical-align: top;\n",
       "    }\n",
       "\n",
       "    .dataframe thead th {\n",
       "        text-align: right;\n",
       "    }\n",
       "</style>\n",
       "<table border=\"1\" class=\"dataframe\">\n",
       "  <thead>\n",
       "    <tr style=\"text-align: right;\">\n",
       "      <th></th>\n",
       "      <th>NdcCode</th>\n",
       "      <th>Patients_unique_count</th>\n",
       "      <th>MedicationName</th>\n",
       "    </tr>\n",
       "  </thead>\n",
       "  <tbody>\n",
       "    <tr>\n",
       "      <th>0</th>\n",
       "      <td>00069306075</td>\n",
       "      <td>171</td>\n",
       "      <td>Zithromax Z-Pak (azithromycin) oral tablet</td>\n",
       "    </tr>\n",
       "    <tr>\n",
       "      <th>1</th>\n",
       "      <td>00009005604</td>\n",
       "      <td>110</td>\n",
       "      <td>Medrol Dosepak (methylPREDNISolone) oral tablet</td>\n",
       "    </tr>\n",
       "    <tr>\n",
       "      <th>2</th>\n",
       "      <td>00026851348</td>\n",
       "      <td>99</td>\n",
       "      <td>Cipro (ciprofloxacin) oral tablet</td>\n",
       "    </tr>\n",
       "    <tr>\n",
       "      <th>3</th>\n",
       "      <td>00029608612</td>\n",
       "      <td>96</td>\n",
       "      <td>Augmentin (amoxicillin-clavulanate) oral tablet</td>\n",
       "    </tr>\n",
       "    <tr>\n",
       "      <th>4</th>\n",
       "      <td>00247039720</td>\n",
       "      <td>91</td>\n",
       "      <td>Septra DS (sulfamethoxazole-trimethoprim) oral...</td>\n",
       "    </tr>\n",
       "  </tbody>\n",
       "</table>\n",
       "</div>"
      ],
      "text/plain": [
       "       NdcCode  Patients_unique_count  \\\n",
       "0  00069306075                    171   \n",
       "1  00009005604                    110   \n",
       "2  00026851348                     99   \n",
       "3  00029608612                     96   \n",
       "4  00247039720                     91   \n",
       "\n",
       "                                      MedicationName  \n",
       "0         Zithromax Z-Pak (azithromycin) oral tablet  \n",
       "1    Medrol Dosepak (methylPREDNISolone) oral tablet  \n",
       "2                  Cipro (ciprofloxacin) oral tablet  \n",
       "3    Augmentin (amoxicillin-clavulanate) oral tablet  \n",
       "4  Septra DS (sulfamethoxazole-trimethoprim) oral...  "
      ]
     },
     "execution_count": 34,
     "metadata": {},
     "output_type": "execute_result"
    }
   ],
   "source": [
    "Count_of_patients_by_NdcCode = medicines.groupby(\"NdcCode\")[\"PatientGuid\"].nunique()\n",
    "Count_of_patients_by_NdcCode = Count_of_patients_by_NdcCode.to_frame().reset_index()\n",
    "Count_of_patients_by_NdcCode = Count_of_patients_by_NdcCode.rename(index=str, columns={\"PatientGuid\": \"Patients_unique_count\"})\n",
    "Count_of_patients_by_NdcCode.sort_values(by=['Patients_unique_count'],ascending=False,inplace=True)\n",
    "\n",
    "### Include Name in the list too\n",
    "Top_5_NDCCodes = medicines[medicines.NdcCode.isin(Count_of_patients_by_NdcCode.head(5)[\"NdcCode\"].values)][[\"NdcCode\",\"MedicationName\"]].drop_duplicates()\n",
    "Count_of_patients_by_NdcCode.merge(Top_5_NDCCodes,on=\"NdcCode\")"
   ]
  },
  {
   "cell_type": "markdown",
   "metadata": {},
   "source": [
    "Hmm. Only one name is common when done with Medication Name vs NDC Code.\n",
    "\n",
    "By medication name, Lisinopril oral tablet is the most common drug and is taken by 395 patients.\n",
    "\n",
    "By NdcCode, 00069306075 (\"Zithromax Z-Pak (azithromycin) oral tablet\") is most common drug taken by 171 patients."
   ]
  },
  {
   "cell_type": "markdown",
   "metadata": {},
   "source": [
    "## Load the diagnosis data"
   ]
  },
  {
   "cell_type": "code",
   "execution_count": 35,
   "metadata": {},
   "outputs": [
    {
     "data": {
      "text/html": [
       "<div>\n",
       "<style scoped>\n",
       "    .dataframe tbody tr th:only-of-type {\n",
       "        vertical-align: middle;\n",
       "    }\n",
       "\n",
       "    .dataframe tbody tr th {\n",
       "        vertical-align: top;\n",
       "    }\n",
       "\n",
       "    .dataframe thead th {\n",
       "        text-align: right;\n",
       "    }\n",
       "</style>\n",
       "<table border=\"1\" class=\"dataframe\">\n",
       "  <thead>\n",
       "    <tr style=\"text-align: right;\">\n",
       "      <th></th>\n",
       "      <th>DiagnosisGuid</th>\n",
       "      <th>PatientGuid</th>\n",
       "      <th>ICD9Code</th>\n",
       "      <th>DiagnosisDescription</th>\n",
       "      <th>StartYear</th>\n",
       "      <th>StopYear</th>\n",
       "      <th>Acute</th>\n",
       "      <th>UserGuid</th>\n",
       "    </tr>\n",
       "  </thead>\n",
       "  <tbody>\n",
       "    <tr>\n",
       "      <th>0</th>\n",
       "      <td>AD58C335-C62E-4E4C-A5C9-00005C89DA06</td>\n",
       "      <td>44C0A13A-C841-4063-A2A7-CFADA3785F23</td>\n",
       "      <td>V70.0</td>\n",
       "      <td>Routine general medical examination at a healt...</td>\n",
       "      <td>2010</td>\n",
       "      <td>nan</td>\n",
       "      <td>0</td>\n",
       "      <td>7511BCEC-9E46-4808-99A7-5B30778B6E84</td>\n",
       "    </tr>\n",
       "    <tr>\n",
       "      <th>1</th>\n",
       "      <td>74D1CE08-CD1E-4199-86D3-0001AED0AB24</td>\n",
       "      <td>F2B45907-C559-4077-B2FE-04F354DAB00D</td>\n",
       "      <td>719.45</td>\n",
       "      <td>Pain in joint involving pelvic region and thigh</td>\n",
       "      <td>0</td>\n",
       "      <td>nan</td>\n",
       "      <td>0</td>\n",
       "      <td>4773B833-9CD4-41E8-895B-846DC1EA7279</td>\n",
       "    </tr>\n",
       "  </tbody>\n",
       "</table>\n",
       "</div>"
      ],
      "text/plain": [
       "                          DiagnosisGuid                           PatientGuid  \\\n",
       "0  AD58C335-C62E-4E4C-A5C9-00005C89DA06  44C0A13A-C841-4063-A2A7-CFADA3785F23   \n",
       "1  74D1CE08-CD1E-4199-86D3-0001AED0AB24  F2B45907-C559-4077-B2FE-04F354DAB00D   \n",
       "\n",
       "  ICD9Code                               DiagnosisDescription  StartYear  \\\n",
       "0    V70.0  Routine general medical examination at a healt...       2010   \n",
       "1   719.45    Pain in joint involving pelvic region and thigh          0   \n",
       "\n",
       "   StopYear  Acute                              UserGuid  \n",
       "0       nan      0  7511BCEC-9E46-4808-99A7-5B30778B6E84  \n",
       "1       nan      0  4773B833-9CD4-41E8-895B-846DC1EA7279  "
      ]
     },
     "execution_count": 35,
     "metadata": {},
     "output_type": "execute_result"
    }
   ],
   "source": [
    "diagnosis = pd.read_csv(\"./data/Diagnosis.csv\")\n",
    "diagnosis.head(2)"
   ]
  },
  {
   "cell_type": "code",
   "execution_count": 36,
   "metadata": {},
   "outputs": [
    {
     "data": {
      "text/html": [
       "<div>\n",
       "<style scoped>\n",
       "    .dataframe tbody tr th:only-of-type {\n",
       "        vertical-align: middle;\n",
       "    }\n",
       "\n",
       "    .dataframe tbody tr th {\n",
       "        vertical-align: top;\n",
       "    }\n",
       "\n",
       "    .dataframe thead th {\n",
       "        text-align: right;\n",
       "    }\n",
       "</style>\n",
       "<table border=\"1\" class=\"dataframe\">\n",
       "  <thead>\n",
       "    <tr style=\"text-align: right;\">\n",
       "      <th></th>\n",
       "      <th>count</th>\n",
       "      <th>unique</th>\n",
       "      <th>top</th>\n",
       "      <th>freq</th>\n",
       "      <th>mean</th>\n",
       "      <th>std</th>\n",
       "      <th>min</th>\n",
       "      <th>25%</th>\n",
       "      <th>50%</th>\n",
       "      <th>75%</th>\n",
       "      <th>max</th>\n",
       "    </tr>\n",
       "  </thead>\n",
       "  <tbody>\n",
       "    <tr>\n",
       "      <th>DiagnosisGuid</th>\n",
       "      <td>47911</td>\n",
       "      <td>47911</td>\n",
       "      <td>0A16957D-C89C-4AB7-96C3-8AE71212C25B</td>\n",
       "      <td>1</td>\n",
       "      <td>NaN</td>\n",
       "      <td>NaN</td>\n",
       "      <td>NaN</td>\n",
       "      <td>NaN</td>\n",
       "      <td>NaN</td>\n",
       "      <td>NaN</td>\n",
       "      <td>NaN</td>\n",
       "    </tr>\n",
       "    <tr>\n",
       "      <th>PatientGuid</th>\n",
       "      <td>47911</td>\n",
       "      <td>4979</td>\n",
       "      <td>4CE0EBB3-3135-4519-B155-8BADC83C7325</td>\n",
       "      <td>133</td>\n",
       "      <td>NaN</td>\n",
       "      <td>NaN</td>\n",
       "      <td>NaN</td>\n",
       "      <td>NaN</td>\n",
       "      <td>NaN</td>\n",
       "      <td>NaN</td>\n",
       "      <td>NaN</td>\n",
       "    </tr>\n",
       "    <tr>\n",
       "      <th>ICD9Code</th>\n",
       "      <td>47911</td>\n",
       "      <td>3213</td>\n",
       "      <td>272.2</td>\n",
       "      <td>1238</td>\n",
       "      <td>NaN</td>\n",
       "      <td>NaN</td>\n",
       "      <td>NaN</td>\n",
       "      <td>NaN</td>\n",
       "      <td>NaN</td>\n",
       "      <td>NaN</td>\n",
       "      <td>NaN</td>\n",
       "    </tr>\n",
       "    <tr>\n",
       "      <th>DiagnosisDescription</th>\n",
       "      <td>47911</td>\n",
       "      <td>3187</td>\n",
       "      <td>Mixed hyperlipidemia</td>\n",
       "      <td>1238</td>\n",
       "      <td>NaN</td>\n",
       "      <td>NaN</td>\n",
       "      <td>NaN</td>\n",
       "      <td>NaN</td>\n",
       "      <td>NaN</td>\n",
       "      <td>NaN</td>\n",
       "      <td>NaN</td>\n",
       "    </tr>\n",
       "    <tr>\n",
       "      <th>StartYear</th>\n",
       "      <td>47911.00</td>\n",
       "      <td>NaN</td>\n",
       "      <td>NaN</td>\n",
       "      <td>NaN</td>\n",
       "      <td>929.29</td>\n",
       "      <td>1002.14</td>\n",
       "      <td>0.00</td>\n",
       "      <td>0.00</td>\n",
       "      <td>0.00</td>\n",
       "      <td>2010.00</td>\n",
       "      <td>2012.00</td>\n",
       "    </tr>\n",
       "    <tr>\n",
       "      <th>StopYear</th>\n",
       "      <td>2432.00</td>\n",
       "      <td>NaN</td>\n",
       "      <td>NaN</td>\n",
       "      <td>NaN</td>\n",
       "      <td>2010.59</td>\n",
       "      <td>1.29</td>\n",
       "      <td>1978.00</td>\n",
       "      <td>2010.00</td>\n",
       "      <td>2011.00</td>\n",
       "      <td>2011.00</td>\n",
       "      <td>2012.00</td>\n",
       "    </tr>\n",
       "    <tr>\n",
       "      <th>Acute</th>\n",
       "      <td>47911.00</td>\n",
       "      <td>NaN</td>\n",
       "      <td>NaN</td>\n",
       "      <td>NaN</td>\n",
       "      <td>0.18</td>\n",
       "      <td>0.38</td>\n",
       "      <td>0.00</td>\n",
       "      <td>0.00</td>\n",
       "      <td>0.00</td>\n",
       "      <td>0.00</td>\n",
       "      <td>1.00</td>\n",
       "    </tr>\n",
       "    <tr>\n",
       "      <th>UserGuid</th>\n",
       "      <td>47911</td>\n",
       "      <td>720</td>\n",
       "      <td>A65727FD-4E6C-43B9-AE7B-E4088265DDB4</td>\n",
       "      <td>2270</td>\n",
       "      <td>NaN</td>\n",
       "      <td>NaN</td>\n",
       "      <td>NaN</td>\n",
       "      <td>NaN</td>\n",
       "      <td>NaN</td>\n",
       "      <td>NaN</td>\n",
       "      <td>NaN</td>\n",
       "    </tr>\n",
       "  </tbody>\n",
       "</table>\n",
       "</div>"
      ],
      "text/plain": [
       "                        count unique                                   top  \\\n",
       "DiagnosisGuid           47911  47911  0A16957D-C89C-4AB7-96C3-8AE71212C25B   \n",
       "PatientGuid             47911   4979  4CE0EBB3-3135-4519-B155-8BADC83C7325   \n",
       "ICD9Code                47911   3213                                 272.2   \n",
       "DiagnosisDescription    47911   3187                  Mixed hyperlipidemia   \n",
       "StartYear            47911.00    NaN                                   NaN   \n",
       "StopYear              2432.00    NaN                                   NaN   \n",
       "Acute                47911.00    NaN                                   NaN   \n",
       "UserGuid                47911    720  A65727FD-4E6C-43B9-AE7B-E4088265DDB4   \n",
       "\n",
       "                      freq    mean     std     min     25%     50%     75%  \\\n",
       "DiagnosisGuid            1     NaN     NaN     NaN     NaN     NaN     NaN   \n",
       "PatientGuid            133     NaN     NaN     NaN     NaN     NaN     NaN   \n",
       "ICD9Code              1238     NaN     NaN     NaN     NaN     NaN     NaN   \n",
       "DiagnosisDescription  1238     NaN     NaN     NaN     NaN     NaN     NaN   \n",
       "StartYear              NaN  929.29 1002.14    0.00    0.00    0.00 2010.00   \n",
       "StopYear               NaN 2010.59    1.29 1978.00 2010.00 2011.00 2011.00   \n",
       "Acute                  NaN    0.18    0.38    0.00    0.00    0.00    0.00   \n",
       "UserGuid              2270     NaN     NaN     NaN     NaN     NaN     NaN   \n",
       "\n",
       "                         max  \n",
       "DiagnosisGuid            NaN  \n",
       "PatientGuid              NaN  \n",
       "ICD9Code                 NaN  \n",
       "DiagnosisDescription     NaN  \n",
       "StartYear            2012.00  \n",
       "StopYear             2012.00  \n",
       "Acute                   1.00  \n",
       "UserGuid                 NaN  "
      ]
     },
     "execution_count": 36,
     "metadata": {},
     "output_type": "execute_result"
    }
   ],
   "source": [
    "diagnosis.describe(include='all').T"
   ]
  },
  {
   "cell_type": "markdown",
   "metadata": {},
   "source": [
    "__Note: __ There are 4979 unique patient in Diagnosis dataset. So, each and every patient in the system has some diagnois.\n",
    "\n",
    "Let's just make sure that patients in patient dataset and diagnosis dataset are the same -"
   ]
  },
  {
   "cell_type": "code",
   "execution_count": 37,
   "metadata": {},
   "outputs": [
    {
     "data": {
      "text/plain": [
       "True"
      ]
     },
     "execution_count": 37,
     "metadata": {},
     "output_type": "execute_result"
    }
   ],
   "source": [
    "set(diagnosis.PatientGuid.unique()).issubset(patients.PatientGuid.unique())"
   ]
  },
  {
   "cell_type": "markdown",
   "metadata": {},
   "source": [
    "#### Figure out number of ICD 9 codes in the system"
   ]
  },
  {
   "cell_type": "code",
   "execution_count": 38,
   "metadata": {},
   "outputs": [
    {
     "name": "stdout",
     "output_type": "stream",
     "text": [
      "Number of unique ICD 9 Codes: 3213\n"
     ]
    }
   ],
   "source": [
    "print (\"Number of unique ICD 9 Codes: \" + str(diagnosis.ICD9Code.unique().shape[0]))"
   ]
  },
  {
   "cell_type": "markdown",
   "metadata": {},
   "source": [
    "#### Most Common Diagnosis in the system"
   ]
  },
  {
   "cell_type": "code",
   "execution_count": 39,
   "metadata": {},
   "outputs": [
    {
     "data": {
      "text/html": [
       "<div>\n",
       "<style scoped>\n",
       "    .dataframe tbody tr th:only-of-type {\n",
       "        vertical-align: middle;\n",
       "    }\n",
       "\n",
       "    .dataframe tbody tr th {\n",
       "        vertical-align: top;\n",
       "    }\n",
       "\n",
       "    .dataframe thead th {\n",
       "        text-align: right;\n",
       "    }\n",
       "</style>\n",
       "<table border=\"1\" class=\"dataframe\">\n",
       "  <thead>\n",
       "    <tr style=\"text-align: right;\">\n",
       "      <th></th>\n",
       "      <th>ICD9Code</th>\n",
       "      <th>Patients_unique_count</th>\n",
       "      <th>DiagnosisDescription</th>\n",
       "    </tr>\n",
       "  </thead>\n",
       "  <tbody>\n",
       "    <tr>\n",
       "      <th>0</th>\n",
       "      <td>272.2</td>\n",
       "      <td>1203</td>\n",
       "      <td>Mixed hyperlipidemia</td>\n",
       "    </tr>\n",
       "  </tbody>\n",
       "</table>\n",
       "</div>"
      ],
      "text/plain": [
       "  ICD9Code  Patients_unique_count  DiagnosisDescription\n",
       "0    272.2                   1203  Mixed hyperlipidemia"
      ]
     },
     "execution_count": 39,
     "metadata": {},
     "output_type": "execute_result"
    }
   ],
   "source": [
    "Count_of_patients_by_ICD9Code = diagnosis.groupby(\"ICD9Code\")[\"PatientGuid\"].nunique()\n",
    "Count_of_patients_by_ICD9Code = Count_of_patients_by_ICD9Code.to_frame().reset_index()\n",
    "Count_of_patients_by_ICD9Code = Count_of_patients_by_ICD9Code.rename(index=str, columns={\"PatientGuid\": \"Patients_unique_count\"})\n",
    "Count_of_patients_by_ICD9Code.sort_values(by=['Patients_unique_count'],ascending=False,inplace=True)\n",
    "\n",
    "### Include Name in the list too\n",
    "Most_common_ICD9Codes = diagnosis[diagnosis.ICD9Code.isin(Count_of_patients_by_ICD9Code.head(1)[\"ICD9Code\"].values)][[\"ICD9Code\",\"DiagnosisDescription\"]].drop_duplicates()\n",
    "Count_of_patients_by_ICD9Code.merge(Most_common_ICD9Codes,on=\"ICD9Code\")"
   ]
  },
  {
   "cell_type": "markdown",
   "metadata": {},
   "source": [
    "_Most common diagnosis is Mixed hyperlipidemia._"
   ]
  },
  {
   "cell_type": "markdown",
   "metadata": {},
   "source": [
    "#### Identify the patients with Acid Reflux"
   ]
  },
  {
   "cell_type": "code",
   "execution_count": 40,
   "metadata": {},
   "outputs": [
    {
     "data": {
      "text/plain": [
       "(634, 8)"
      ]
     },
     "execution_count": 40,
     "metadata": {},
     "output_type": "execute_result"
    }
   ],
   "source": [
    "diagnosis[diagnosis.ICD9Code == \"530.81\"].shape"
   ]
  },
  {
   "cell_type": "code",
   "execution_count": 41,
   "metadata": {},
   "outputs": [
    {
     "data": {
      "text/plain": [
       "(618,)"
      ]
     },
     "execution_count": 41,
     "metadata": {},
     "output_type": "execute_result"
    }
   ],
   "source": [
    "diagnosis[diagnosis.ICD9Code == \"530.81\"][\"PatientGuid\"].unique().shape"
   ]
  },
  {
   "cell_type": "markdown",
   "metadata": {},
   "source": [
    "___There are 638 rows in Diagnois dataset with Acid reflux. There are 618 unique patients diagnosed with Acid Reflux. So, there are a few patients who have been diagnosed with Acid Reflux multiple times.___\n",
    "\n",
    "Let's look at such patients -"
   ]
  },
  {
   "cell_type": "code",
   "execution_count": 42,
   "metadata": {},
   "outputs": [
    {
     "name": "stdout",
     "output_type": "stream",
     "text": [
      "Number of patients with multiple diagnosis of Acid Reflux: 16\n"
     ]
    },
    {
     "data": {
      "text/html": [
       "<div>\n",
       "<style scoped>\n",
       "    .dataframe tbody tr th:only-of-type {\n",
       "        vertical-align: middle;\n",
       "    }\n",
       "\n",
       "    .dataframe tbody tr th {\n",
       "        vertical-align: top;\n",
       "    }\n",
       "\n",
       "    .dataframe thead th {\n",
       "        text-align: right;\n",
       "    }\n",
       "</style>\n",
       "<table border=\"1\" class=\"dataframe\">\n",
       "  <thead>\n",
       "    <tr style=\"text-align: right;\">\n",
       "      <th></th>\n",
       "      <th>DiagnosisGuid</th>\n",
       "      <th>PatientGuid</th>\n",
       "      <th>ICD9Code</th>\n",
       "      <th>DiagnosisDescription</th>\n",
       "      <th>StartYear</th>\n",
       "      <th>StopYear</th>\n",
       "      <th>Acute</th>\n",
       "      <th>UserGuid</th>\n",
       "    </tr>\n",
       "  </thead>\n",
       "  <tbody>\n",
       "    <tr>\n",
       "      <th>46124</th>\n",
       "      <td>2A80F6F6-27BA-4990-920B-F66C5F175537</td>\n",
       "      <td>13B243F4-CE77-4E1E-926E-7A644D2375A5</td>\n",
       "      <td>530.81</td>\n",
       "      <td>Esophageal reflux</td>\n",
       "      <td>0</td>\n",
       "      <td>nan</td>\n",
       "      <td>0</td>\n",
       "      <td>C362C6A1-5A55-47FA-A878-7E6DC0DE81D6</td>\n",
       "    </tr>\n",
       "    <tr>\n",
       "      <th>38543</th>\n",
       "      <td>529AEEF9-8E86-42A3-B483-CDF5B6F3669C</td>\n",
       "      <td>13B243F4-CE77-4E1E-926E-7A644D2375A5</td>\n",
       "      <td>530.81</td>\n",
       "      <td>Esophageal reflux</td>\n",
       "      <td>0</td>\n",
       "      <td>nan</td>\n",
       "      <td>0</td>\n",
       "      <td>C362C6A1-5A55-47FA-A878-7E6DC0DE81D6</td>\n",
       "    </tr>\n",
       "    <tr>\n",
       "      <th>34043</th>\n",
       "      <td>65575263-B6D6-44AC-BEE8-B6039493E4E3</td>\n",
       "      <td>352E2772-5565-4D77-8D71-83384A4A8914</td>\n",
       "      <td>530.81</td>\n",
       "      <td>Esophageal reflux</td>\n",
       "      <td>2010</td>\n",
       "      <td>nan</td>\n",
       "      <td>0</td>\n",
       "      <td>D73415A9-CCD2-4D17-A43A-45E75878C6C5</td>\n",
       "    </tr>\n",
       "    <tr>\n",
       "      <th>8847</th>\n",
       "      <td>2C168C8A-C545-4B8E-8DBA-2FA38EF8BA74</td>\n",
       "      <td>352E2772-5565-4D77-8D71-83384A4A8914</td>\n",
       "      <td>530.81</td>\n",
       "      <td>Esophageal reflux</td>\n",
       "      <td>2010</td>\n",
       "      <td>nan</td>\n",
       "      <td>0</td>\n",
       "      <td>7511BCEC-9E46-4808-99A7-5B30778B6E84</td>\n",
       "    </tr>\n",
       "    <tr>\n",
       "      <th>27472</th>\n",
       "      <td>F24904DC-E388-4108-8E13-92EBD4AD697B</td>\n",
       "      <td>6118A8EF-3CB4-4D85-B596-584E686415FC</td>\n",
       "      <td>530.81</td>\n",
       "      <td>Esophageal reflux</td>\n",
       "      <td>2012</td>\n",
       "      <td>nan</td>\n",
       "      <td>0</td>\n",
       "      <td>19446289-D38C-4683-BDFA-56BD64A370FE</td>\n",
       "    </tr>\n",
       "    <tr>\n",
       "      <th>8502</th>\n",
       "      <td>822E6450-FE03-42A8-A90F-2DAC2B790F8D</td>\n",
       "      <td>6118A8EF-3CB4-4D85-B596-584E686415FC</td>\n",
       "      <td>530.81</td>\n",
       "      <td>Esophageal reflux</td>\n",
       "      <td>2011</td>\n",
       "      <td>nan</td>\n",
       "      <td>0</td>\n",
       "      <td>19446289-D38C-4683-BDFA-56BD64A370FE</td>\n",
       "    </tr>\n",
       "    <tr>\n",
       "      <th>35935</th>\n",
       "      <td>32FCFB32-5D26-4543-A6A5-BFFAC09E5F72</td>\n",
       "      <td>6118A8EF-3CB4-4D85-B596-584E686415FC</td>\n",
       "      <td>530.81</td>\n",
       "      <td>Esophageal reflux</td>\n",
       "      <td>2012</td>\n",
       "      <td>nan</td>\n",
       "      <td>0</td>\n",
       "      <td>19446289-D38C-4683-BDFA-56BD64A370FE</td>\n",
       "    </tr>\n",
       "    <tr>\n",
       "      <th>1349</th>\n",
       "      <td>C0384952-CF61-4DD7-AFAB-075D7B91F596</td>\n",
       "      <td>6118A8EF-3CB4-4D85-B596-584E686415FC</td>\n",
       "      <td>530.81</td>\n",
       "      <td>Esophageal reflux</td>\n",
       "      <td>2010</td>\n",
       "      <td>nan</td>\n",
       "      <td>0</td>\n",
       "      <td>19446289-D38C-4683-BDFA-56BD64A370FE</td>\n",
       "    </tr>\n",
       "    <tr>\n",
       "      <th>41685</th>\n",
       "      <td>001584A5-7E6A-41E4-BD65-DE6895BD16B5</td>\n",
       "      <td>73308D96-E730-4BAB-8788-F35B8F1F5F61</td>\n",
       "      <td>530.81</td>\n",
       "      <td>Esophageal reflux</td>\n",
       "      <td>0</td>\n",
       "      <td>nan</td>\n",
       "      <td>0</td>\n",
       "      <td>2103028E-E805-4F50-A280-407DC423400B</td>\n",
       "    </tr>\n",
       "    <tr>\n",
       "      <th>30583</th>\n",
       "      <td>C9FD2D9A-CF18-4786-909C-A38BBF56B5DA</td>\n",
       "      <td>73308D96-E730-4BAB-8788-F35B8F1F5F61</td>\n",
       "      <td>530.81</td>\n",
       "      <td>Esophageal reflux</td>\n",
       "      <td>2011</td>\n",
       "      <td>nan</td>\n",
       "      <td>0</td>\n",
       "      <td>F745E864-D3E4-40C2-B792-8E378E63A113</td>\n",
       "    </tr>\n",
       "  </tbody>\n",
       "</table>\n",
       "</div>"
      ],
      "text/plain": [
       "                              DiagnosisGuid  \\\n",
       "46124  2A80F6F6-27BA-4990-920B-F66C5F175537   \n",
       "38543  529AEEF9-8E86-42A3-B483-CDF5B6F3669C   \n",
       "34043  65575263-B6D6-44AC-BEE8-B6039493E4E3   \n",
       "8847   2C168C8A-C545-4B8E-8DBA-2FA38EF8BA74   \n",
       "27472  F24904DC-E388-4108-8E13-92EBD4AD697B   \n",
       "8502   822E6450-FE03-42A8-A90F-2DAC2B790F8D   \n",
       "35935  32FCFB32-5D26-4543-A6A5-BFFAC09E5F72   \n",
       "1349   C0384952-CF61-4DD7-AFAB-075D7B91F596   \n",
       "41685  001584A5-7E6A-41E4-BD65-DE6895BD16B5   \n",
       "30583  C9FD2D9A-CF18-4786-909C-A38BBF56B5DA   \n",
       "\n",
       "                                PatientGuid ICD9Code DiagnosisDescription  \\\n",
       "46124  13B243F4-CE77-4E1E-926E-7A644D2375A5   530.81    Esophageal reflux   \n",
       "38543  13B243F4-CE77-4E1E-926E-7A644D2375A5   530.81    Esophageal reflux   \n",
       "34043  352E2772-5565-4D77-8D71-83384A4A8914   530.81    Esophageal reflux   \n",
       "8847   352E2772-5565-4D77-8D71-83384A4A8914   530.81    Esophageal reflux   \n",
       "27472  6118A8EF-3CB4-4D85-B596-584E686415FC   530.81    Esophageal reflux   \n",
       "8502   6118A8EF-3CB4-4D85-B596-584E686415FC   530.81    Esophageal reflux   \n",
       "35935  6118A8EF-3CB4-4D85-B596-584E686415FC   530.81    Esophageal reflux   \n",
       "1349   6118A8EF-3CB4-4D85-B596-584E686415FC   530.81    Esophageal reflux   \n",
       "41685  73308D96-E730-4BAB-8788-F35B8F1F5F61   530.81    Esophageal reflux   \n",
       "30583  73308D96-E730-4BAB-8788-F35B8F1F5F61   530.81    Esophageal reflux   \n",
       "\n",
       "       StartYear  StopYear  Acute                              UserGuid  \n",
       "46124          0       nan      0  C362C6A1-5A55-47FA-A878-7E6DC0DE81D6  \n",
       "38543          0       nan      0  C362C6A1-5A55-47FA-A878-7E6DC0DE81D6  \n",
       "34043       2010       nan      0  D73415A9-CCD2-4D17-A43A-45E75878C6C5  \n",
       "8847        2010       nan      0  7511BCEC-9E46-4808-99A7-5B30778B6E84  \n",
       "27472       2012       nan      0  19446289-D38C-4683-BDFA-56BD64A370FE  \n",
       "8502        2011       nan      0  19446289-D38C-4683-BDFA-56BD64A370FE  \n",
       "35935       2012       nan      0  19446289-D38C-4683-BDFA-56BD64A370FE  \n",
       "1349        2010       nan      0  19446289-D38C-4683-BDFA-56BD64A370FE  \n",
       "41685          0       nan      0  2103028E-E805-4F50-A280-407DC423400B  \n",
       "30583       2011       nan      0  F745E864-D3E4-40C2-B792-8E378E63A113  "
      ]
     },
     "execution_count": 42,
     "metadata": {},
     "output_type": "execute_result"
    }
   ],
   "source": [
    "acid_reflux_diagnosis = diagnosis[diagnosis.ICD9Code == \"530.81\"]\n",
    "acid_reflux_duplicate_patients = acid_reflux_diagnosis[acid_reflux_diagnosis.duplicated([\"ICD9Code\",\"PatientGuid\"])].PatientGuid\n",
    "print (\"Number of patients with multiple diagnosis of Acid Reflux: \" + str(acid_reflux_duplicate_patients.shape[0]))\n",
    "acid_reflux_diagnosis[acid_reflux_diagnosis.PatientGuid.isin(acid_reflux_duplicate_patients)].sort_values(by=['PatientGuid']).head(10)"
   ]
  },
  {
   "cell_type": "markdown",
   "metadata": {},
   "source": [
    "_Hard to say why there are multiple rows per patient. In some cases, start year is different. So, it could be multiple diagnosis of Acid Reflux at different times. Since, there are only 16 such patients. I will ignore them for now._"
   ]
  },
  {
   "cell_type": "markdown",
   "metadata": {},
   "source": [
    "## Find out the medications prescribed for Acid Reflux\n",
    "\n",
    "Before we find out the medicines that are used most commonly by Acid Reflux patients, let's look at the medicines that were prescribed to treat Acid Reflux."
   ]
  },
  {
   "cell_type": "code",
   "execution_count": 43,
   "metadata": {},
   "outputs": [],
   "source": [
    "## Getting the list of diagnosisid for patients who are diagnosed with Acid Reflux\n",
    "acid_reflux_DiagnosisGuid = acid_reflux_diagnosis.DiagnosisGuid.unique()\n",
    "\n",
    "### Now finding out the medicine that are being taken to treat Acid Reflux\n",
    "medicines_taken_by_acid_reflux_patients = medicines[medicines.DiagnosisGuid.isin(acid_reflux_DiagnosisGuid)]"
   ]
  },
  {
   "cell_type": "code",
   "execution_count": 44,
   "metadata": {},
   "outputs": [
    {
     "data": {
      "text/html": [
       "<div>\n",
       "<style scoped>\n",
       "    .dataframe tbody tr th:only-of-type {\n",
       "        vertical-align: middle;\n",
       "    }\n",
       "\n",
       "    .dataframe tbody tr th {\n",
       "        vertical-align: top;\n",
       "    }\n",
       "\n",
       "    .dataframe thead th {\n",
       "        text-align: right;\n",
       "    }\n",
       "</style>\n",
       "<table border=\"1\" class=\"dataframe\">\n",
       "  <thead>\n",
       "    <tr style=\"text-align: right;\">\n",
       "      <th></th>\n",
       "      <th>MedicationName</th>\n",
       "      <th>Patients_unique_count</th>\n",
       "    </tr>\n",
       "  </thead>\n",
       "  <tbody>\n",
       "    <tr>\n",
       "      <th>15</th>\n",
       "      <td>Omeprazole oral delayed release capsule</td>\n",
       "      <td>84</td>\n",
       "    </tr>\n",
       "    <tr>\n",
       "      <th>13</th>\n",
       "      <td>NexIUM (esomeprazole) oral delayed release cap...</td>\n",
       "      <td>65</td>\n",
       "    </tr>\n",
       "    <tr>\n",
       "      <th>24</th>\n",
       "      <td>PriLOSEC (omeprazole) oral delayed release cap...</td>\n",
       "      <td>40</td>\n",
       "    </tr>\n",
       "    <tr>\n",
       "      <th>26</th>\n",
       "      <td>Protonix (pantoprazole) oral enteric coated ta...</td>\n",
       "      <td>31</td>\n",
       "    </tr>\n",
       "    <tr>\n",
       "      <th>17</th>\n",
       "      <td>Pantoprazole oral enteric coated tablet</td>\n",
       "      <td>15</td>\n",
       "    </tr>\n",
       "    <tr>\n",
       "      <th>5</th>\n",
       "      <td>Dexilant (dexlansoprazole) oral delayed releas...</td>\n",
       "      <td>14</td>\n",
       "    </tr>\n",
       "    <tr>\n",
       "      <th>28</th>\n",
       "      <td>Ranitidine Hydrochloride (ranitidine) oral tablet</td>\n",
       "      <td>13</td>\n",
       "    </tr>\n",
       "    <tr>\n",
       "      <th>1</th>\n",
       "      <td>AcipHex (RABEprazole) oral enteric coated tablet</td>\n",
       "      <td>12</td>\n",
       "    </tr>\n",
       "    <tr>\n",
       "      <th>16</th>\n",
       "      <td>Omeprazole oral enteric coated tablet</td>\n",
       "      <td>11</td>\n",
       "    </tr>\n",
       "    <tr>\n",
       "      <th>19</th>\n",
       "      <td>Pepcid (famotidine) oral tablet</td>\n",
       "      <td>10</td>\n",
       "    </tr>\n",
       "  </tbody>\n",
       "</table>\n",
       "</div>"
      ],
      "text/plain": [
       "                                       MedicationName  Patients_unique_count\n",
       "15            Omeprazole oral delayed release capsule                     84\n",
       "13  NexIUM (esomeprazole) oral delayed release cap...                     65\n",
       "24  PriLOSEC (omeprazole) oral delayed release cap...                     40\n",
       "26  Protonix (pantoprazole) oral enteric coated ta...                     31\n",
       "17            Pantoprazole oral enteric coated tablet                     15\n",
       "5   Dexilant (dexlansoprazole) oral delayed releas...                     14\n",
       "28  Ranitidine Hydrochloride (ranitidine) oral tablet                     13\n",
       "1    AcipHex (RABEprazole) oral enteric coated tablet                     12\n",
       "16              Omeprazole oral enteric coated tablet                     11\n",
       "19                    Pepcid (famotidine) oral tablet                     10"
      ]
     },
     "execution_count": 44,
     "metadata": {},
     "output_type": "execute_result"
    }
   ],
   "source": [
    "Count_of_patients_by_MedicineName = medicines_taken_by_acid_reflux_patients.groupby(\"MedicationName\")[\"PatientGuid\"].nunique()\n",
    "Count_of_patients_by_MedicineName = Count_of_patients_by_MedicineName.to_frame().reset_index()\n",
    "Count_of_patients_by_MedicineName = Count_of_patients_by_MedicineName.rename(index=str, columns={\"PatientGuid\": \"Patients_unique_count\"})\n",
    "Count_of_patients_by_MedicineName.sort_values(by=['Patients_unique_count'],ascending=False,inplace=True)\n",
    "Count_of_patients_by_MedicineName.head(10)"
   ]
  },
  {
   "cell_type": "markdown",
   "metadata": {},
   "source": [
    "Medications prescribed for Acid Reflux match really well with medicines list given here https://www.webmd.com/drugs/condition-1999-Acid%20Re-%20flux%20%20GERD-Gastroesophageal%20Reflux%20Disease%20.aspx."
   ]
  },
  {
   "cell_type": "markdown",
   "metadata": {},
   "source": [
    "## Find out top 10 medicines taken by Acid Reflux patients\n",
    "\n",
    "Now, let's look at top 10 medicines that are taken by Acid Reflux patients."
   ]
  },
  {
   "cell_type": "code",
   "execution_count": 45,
   "metadata": {},
   "outputs": [
    {
     "data": {
      "text/plain": [
       "(3740, 8)"
      ]
     },
     "execution_count": 45,
     "metadata": {},
     "output_type": "execute_result"
    }
   ],
   "source": [
    "## Getting the list of patients who are diagnosed with Acid Reflux\n",
    "acid_reflux_patients = acid_reflux_diagnosis.PatientGuid.unique()\n",
    "\n",
    "### Now finding out the medicine that acid reflux patients are taking\n",
    "medicines_taken_by_acid_reflux_patients = medicines[medicines.PatientGuid.isin(acid_reflux_patients)]\n",
    "medicines_taken_by_acid_reflux_patients.shape"
   ]
  },
  {
   "cell_type": "markdown",
   "metadata": {},
   "source": [
    "#### Top 10 medicines taken by Acid Reflux patients (by medication names)"
   ]
  },
  {
   "cell_type": "code",
   "execution_count": 46,
   "metadata": {},
   "outputs": [
    {
     "data": {
      "text/html": [
       "<div>\n",
       "<style scoped>\n",
       "    .dataframe tbody tr th:only-of-type {\n",
       "        vertical-align: middle;\n",
       "    }\n",
       "\n",
       "    .dataframe tbody tr th {\n",
       "        vertical-align: top;\n",
       "    }\n",
       "\n",
       "    .dataframe thead th {\n",
       "        text-align: right;\n",
       "    }\n",
       "</style>\n",
       "<table border=\"1\" class=\"dataframe\">\n",
       "  <thead>\n",
       "    <tr style=\"text-align: right;\">\n",
       "      <th></th>\n",
       "      <th>MedicationName</th>\n",
       "      <th>Patients_unique_count</th>\n",
       "    </tr>\n",
       "  </thead>\n",
       "  <tbody>\n",
       "    <tr>\n",
       "      <th>555</th>\n",
       "      <td>Omeprazole oral delayed release capsule</td>\n",
       "      <td>91</td>\n",
       "    </tr>\n",
       "    <tr>\n",
       "      <th>425</th>\n",
       "      <td>Lisinopril oral tablet</td>\n",
       "      <td>72</td>\n",
       "    </tr>\n",
       "    <tr>\n",
       "      <th>527</th>\n",
       "      <td>NexIUM (esomeprazole) oral delayed release cap...</td>\n",
       "      <td>69</td>\n",
       "    </tr>\n",
       "    <tr>\n",
       "      <th>694</th>\n",
       "      <td>Simvastatin oral tablet</td>\n",
       "      <td>46</td>\n",
       "    </tr>\n",
       "    <tr>\n",
       "      <th>614</th>\n",
       "      <td>PriLOSEC (omeprazole) oral delayed release cap...</td>\n",
       "      <td>40</td>\n",
       "    </tr>\n",
       "    <tr>\n",
       "      <th>835</th>\n",
       "      <td>Zithromax Z-Pak (azithromycin) oral tablet</td>\n",
       "      <td>38</td>\n",
       "    </tr>\n",
       "    <tr>\n",
       "      <th>423</th>\n",
       "      <td>Lipitor (atorvastatin) oral tablet</td>\n",
       "      <td>36</td>\n",
       "    </tr>\n",
       "    <tr>\n",
       "      <th>837</th>\n",
       "      <td>Zocor (simvastatin) oral tablet</td>\n",
       "      <td>34</td>\n",
       "    </tr>\n",
       "    <tr>\n",
       "      <th>354</th>\n",
       "      <td>Hydrochlorothiazide oral tablet</td>\n",
       "      <td>32</td>\n",
       "    </tr>\n",
       "    <tr>\n",
       "      <th>635</th>\n",
       "      <td>Protonix (pantoprazole) oral enteric coated ta...</td>\n",
       "      <td>32</td>\n",
       "    </tr>\n",
       "  </tbody>\n",
       "</table>\n",
       "</div>"
      ],
      "text/plain": [
       "                                        MedicationName  Patients_unique_count\n",
       "555            Omeprazole oral delayed release capsule                     91\n",
       "425                             Lisinopril oral tablet                     72\n",
       "527  NexIUM (esomeprazole) oral delayed release cap...                     69\n",
       "694                            Simvastatin oral tablet                     46\n",
       "614  PriLOSEC (omeprazole) oral delayed release cap...                     40\n",
       "835         Zithromax Z-Pak (azithromycin) oral tablet                     38\n",
       "423                 Lipitor (atorvastatin) oral tablet                     36\n",
       "837                    Zocor (simvastatin) oral tablet                     34\n",
       "354                    Hydrochlorothiazide oral tablet                     32\n",
       "635  Protonix (pantoprazole) oral enteric coated ta...                     32"
      ]
     },
     "execution_count": 46,
     "metadata": {},
     "output_type": "execute_result"
    }
   ],
   "source": [
    "Count_of_patients_by_MedicineName = medicines_taken_by_acid_reflux_patients.groupby(\"MedicationName\")[\"PatientGuid\"].nunique()\n",
    "Count_of_patients_by_MedicineName = Count_of_patients_by_MedicineName.to_frame().reset_index()\n",
    "Count_of_patients_by_MedicineName = Count_of_patients_by_MedicineName.rename(index=str, columns={\"PatientGuid\": \"Patients_unique_count\"})\n",
    "Count_of_patients_by_MedicineName.sort_values(by=['Patients_unique_count'],ascending=False,inplace=True)\n",
    "Count_of_patients_by_MedicineName.head(10)"
   ]
  },
  {
   "cell_type": "markdown",
   "metadata": {},
   "source": [
    "Result is interesting. Many of them match with medicines prescribed to Acid Reflux patients (based upon the medicines shown in https://www.webmd.com/drugs/condition-1999-Acid%20Re-%20flux%20%20GERD-Gastroesophageal%20Reflux%20Disease%20.aspx . Other medicines don't match.\n",
    "\n",
    "First, let's look at the medicine that matches with medicines that are usually prescribed to Acid Reflux patients -\n",
    "1. __Omeprazole oral delayed release capsule__\n",
    "2. __NexIUM (esomeprazole) oral delayed release capsule__\n",
    "3. __PriLOSEC (omeprazole) oral delayed release capsule__\n",
    "4. __Protonix (pantoprazole) oral enteric coated tablet__\n",
    "\n",
    "Now, let's look at the medicines that don't match -\n",
    "\n",
    "1. __Lisinopril oral tablet__ - Lisinopril is used to treat high blood pressure. Lowering high blood pressure helps prevent strokes, heart attacks, and kidney problems.\n",
    "\n",
    "2. __Simvastatin oral tablet__ - Simvastatin is used along with a proper diet to help lower \"bad\" cholesterol and fats (such as LDL, triglycerides) and raise \"good\" cholesterol (HDL) in the blood.\n",
    "\n",
    "3. __Zithromax Z-Pak (azithromycin) oral tablet__ - Azithromycin is used to treat a wide variety of bacterial infections. It is a macrolide-type antibiotic. It works by stopping the growth of bacteria.\n",
    "\n",
    "4. __Lipitor (atorvastatin) oral tablet__ - Atorvastatin is used along with a proper diet to help lower \"bad\" cholesterol and fats (such as LDL, triglycerides) and raise \"good\" cholesterol (HDL) in the blood. \n",
    "\n",
    "5. __Zocor (simvastatin) oral tablet__ - Simvastatin is used along with a proper diet to help lower \"bad\" cholesterol and fats (such as LDL, triglycerides) and raise \"good\" cholesterol (HDL) in the blood.\n",
    "\n",
    "6. __Hydrochlorothiazide oral tablet__ - This medication is used to treat high blood pressure. Lowering high blood pressure helps prevent strokes, heart attacks, and kidney problems.\n",
    "\n",
    "Other medications could be becuase Acid Reflux patients are diagnosed with other deseases as well."
   ]
  },
  {
   "cell_type": "markdown",
   "metadata": {},
   "source": [
    "___Let's look at other diagnosis for Acid Reflux patients___"
   ]
  },
  {
   "cell_type": "code",
   "execution_count": 47,
   "metadata": {},
   "outputs": [
    {
     "data": {
      "text/plain": [
       "(7777, 8)"
      ]
     },
     "execution_count": 47,
     "metadata": {},
     "output_type": "execute_result"
    }
   ],
   "source": [
    "### filter out all the diagnosis for acid reflex patients\n",
    "other_diagnosis_for_acid_reflex_patients = diagnosis[diagnosis.PatientGuid.isin(acid_reflux_patients)]\n",
    "\n",
    "### drop acid reflex diagnosis\n",
    "other_diagnosis_for_acid_reflex_patients = other_diagnosis_for_acid_reflex_patients[other_diagnosis_for_acid_reflex_patients.ICD9Code != \"530.81\"]\n",
    "\n",
    "other_diagnosis_for_acid_reflex_patients.shape"
   ]
  },
  {
   "cell_type": "code",
   "execution_count": 48,
   "metadata": {},
   "outputs": [
    {
     "data": {
      "text/html": [
       "<div>\n",
       "<style scoped>\n",
       "    .dataframe tbody tr th:only-of-type {\n",
       "        vertical-align: middle;\n",
       "    }\n",
       "\n",
       "    .dataframe tbody tr th {\n",
       "        vertical-align: top;\n",
       "    }\n",
       "\n",
       "    .dataframe thead th {\n",
       "        text-align: right;\n",
       "    }\n",
       "</style>\n",
       "<table border=\"1\" class=\"dataframe\">\n",
       "  <thead>\n",
       "    <tr style=\"text-align: right;\">\n",
       "      <th></th>\n",
       "      <th>ICD9Code</th>\n",
       "      <th>Patients_unique_count</th>\n",
       "      <th>DiagnosisDescription</th>\n",
       "    </tr>\n",
       "  </thead>\n",
       "  <tbody>\n",
       "    <tr>\n",
       "      <th>0</th>\n",
       "      <td>272.2</td>\n",
       "      <td>181</td>\n",
       "      <td>Mixed hyperlipidemia</td>\n",
       "    </tr>\n",
       "    <tr>\n",
       "      <th>1</th>\n",
       "      <td>401.9</td>\n",
       "      <td>168</td>\n",
       "      <td>Unspecified essential hypertension</td>\n",
       "    </tr>\n",
       "    <tr>\n",
       "      <th>2</th>\n",
       "      <td>401.1</td>\n",
       "      <td>128</td>\n",
       "      <td>Benign essential hypertension</td>\n",
       "    </tr>\n",
       "    <tr>\n",
       "      <th>3</th>\n",
       "      <td>724.2</td>\n",
       "      <td>125</td>\n",
       "      <td>Lumbago</td>\n",
       "    </tr>\n",
       "    <tr>\n",
       "      <th>4</th>\n",
       "      <td>466.0</td>\n",
       "      <td>109</td>\n",
       "      <td>Acute bronchitis</td>\n",
       "    </tr>\n",
       "    <tr>\n",
       "      <th>5</th>\n",
       "      <td>V70.0</td>\n",
       "      <td>100</td>\n",
       "      <td>Routine general medical examination at a healt...</td>\n",
       "    </tr>\n",
       "    <tr>\n",
       "      <th>6</th>\n",
       "      <td>272.4</td>\n",
       "      <td>87</td>\n",
       "      <td>Other and unspecified hyperlipidemia</td>\n",
       "    </tr>\n",
       "    <tr>\n",
       "      <th>7</th>\n",
       "      <td>786.2</td>\n",
       "      <td>85</td>\n",
       "      <td>Cough</td>\n",
       "    </tr>\n",
       "    <tr>\n",
       "      <th>8</th>\n",
       "      <td>244.9</td>\n",
       "      <td>84</td>\n",
       "      <td>Unspecified hypothyroidism</td>\n",
       "    </tr>\n",
       "    <tr>\n",
       "      <th>9</th>\n",
       "      <td>461.9</td>\n",
       "      <td>78</td>\n",
       "      <td>Acute sinusitis, unspecified</td>\n",
       "    </tr>\n",
       "  </tbody>\n",
       "</table>\n",
       "</div>"
      ],
      "text/plain": [
       "  ICD9Code  Patients_unique_count  \\\n",
       "0    272.2                    181   \n",
       "1    401.9                    168   \n",
       "2    401.1                    128   \n",
       "3    724.2                    125   \n",
       "4    466.0                    109   \n",
       "5    V70.0                    100   \n",
       "6    272.4                     87   \n",
       "7    786.2                     85   \n",
       "8    244.9                     84   \n",
       "9    461.9                     78   \n",
       "\n",
       "                                DiagnosisDescription  \n",
       "0                               Mixed hyperlipidemia  \n",
       "1                 Unspecified essential hypertension  \n",
       "2                      Benign essential hypertension  \n",
       "3                                            Lumbago  \n",
       "4                                   Acute bronchitis  \n",
       "5  Routine general medical examination at a healt...  \n",
       "6               Other and unspecified hyperlipidemia  \n",
       "7                                              Cough  \n",
       "8                         Unspecified hypothyroidism  \n",
       "9                       Acute sinusitis, unspecified  "
      ]
     },
     "execution_count": 48,
     "metadata": {},
     "output_type": "execute_result"
    }
   ],
   "source": [
    "### Get the other top 10 diagnosis for Acid Reflux patients\n",
    "Count_of_patients_by_ICD9Code = other_diagnosis_for_acid_reflex_patients.groupby(\"ICD9Code\")[\"PatientGuid\"].nunique()\n",
    "Count_of_patients_by_ICD9Code = Count_of_patients_by_ICD9Code.to_frame().reset_index()\n",
    "Count_of_patients_by_ICD9Code = Count_of_patients_by_ICD9Code.rename(index=str, columns={\"PatientGuid\": \"Patients_unique_count\"})\n",
    "Count_of_patients_by_ICD9Code.sort_values(by=['Patients_unique_count'],ascending=False,inplace=True)\n",
    "\n",
    "### Include description for ICD 9 codes too\n",
    "Most_common_ICD9Codes = diagnosis[diagnosis.ICD9Code.isin(Count_of_patients_by_ICD9Code.head(10)[\"ICD9Code\"].values)][[\"ICD9Code\",\"DiagnosisDescription\"]].drop_duplicates()\n",
    "Count_of_patients_by_ICD9Code.merge(Most_common_ICD9Codes,on=\"ICD9Code\")"
   ]
  },
  {
   "cell_type": "markdown",
   "metadata": {
    "collapsed": true
   },
   "source": [
    "___As can be seen above, Acid Reflux patients are diagnosed with other deseases as well. Also, other medicines (i.e. medicines not related to Acid Reflux) appear to match with other diagnosis.___"
   ]
  },
  {
   "cell_type": "markdown",
   "metadata": {},
   "source": [
    "#### Top 10 medicines taken by Acid Reflux patients (by NDC Codes)"
   ]
  },
  {
   "cell_type": "code",
   "execution_count": 49,
   "metadata": {},
   "outputs": [
    {
     "data": {
      "text/html": [
       "<div>\n",
       "<style scoped>\n",
       "    .dataframe tbody tr th:only-of-type {\n",
       "        vertical-align: middle;\n",
       "    }\n",
       "\n",
       "    .dataframe tbody tr th {\n",
       "        vertical-align: top;\n",
       "    }\n",
       "\n",
       "    .dataframe thead th {\n",
       "        text-align: right;\n",
       "    }\n",
       "</style>\n",
       "<table border=\"1\" class=\"dataframe\">\n",
       "  <thead>\n",
       "    <tr style=\"text-align: right;\">\n",
       "      <th></th>\n",
       "      <th>NdcCode</th>\n",
       "      <th>Patients_unique_count</th>\n",
       "      <th>MedicationName</th>\n",
       "    </tr>\n",
       "  </thead>\n",
       "  <tbody>\n",
       "    <tr>\n",
       "      <th>0</th>\n",
       "      <td>00186504031</td>\n",
       "      <td>47</td>\n",
       "      <td>NexIUM (esomeprazole) oral delayed release cap...</td>\n",
       "    </tr>\n",
       "    <tr>\n",
       "      <th>1</th>\n",
       "      <td>00069306075</td>\n",
       "      <td>30</td>\n",
       "      <td>Zithromax Z-Pak (azithromycin) oral tablet</td>\n",
       "    </tr>\n",
       "    <tr>\n",
       "      <th>2</th>\n",
       "      <td>00008084181</td>\n",
       "      <td>26</td>\n",
       "      <td>Protonix (pantoprazole) oral enteric coated ta...</td>\n",
       "    </tr>\n",
       "    <tr>\n",
       "      <th>3</th>\n",
       "      <td>00781223331</td>\n",
       "      <td>26</td>\n",
       "      <td>Omeprazole oral delayed release capsule</td>\n",
       "    </tr>\n",
       "    <tr>\n",
       "      <th>4</th>\n",
       "      <td>00009005604</td>\n",
       "      <td>22</td>\n",
       "      <td>Medrol Dosepak (methylPREDNISolone) oral tablet</td>\n",
       "    </tr>\n",
       "    <tr>\n",
       "      <th>5</th>\n",
       "      <td>00093521101</td>\n",
       "      <td>19</td>\n",
       "      <td>Omeprazole oral delayed release capsule</td>\n",
       "    </tr>\n",
       "    <tr>\n",
       "      <th>6</th>\n",
       "      <td>59310057920</td>\n",
       "      <td>17</td>\n",
       "      <td>ProAir HFA (albuterol) inhalation aerosol with...</td>\n",
       "    </tr>\n",
       "    <tr>\n",
       "      <th>7</th>\n",
       "      <td>00029608612</td>\n",
       "      <td>17</td>\n",
       "      <td>Augmentin (amoxicillin-clavulanate) oral tablet</td>\n",
       "    </tr>\n",
       "    <tr>\n",
       "      <th>8</th>\n",
       "      <td>00247039720</td>\n",
       "      <td>16</td>\n",
       "      <td>Septra DS (sulfamethoxazole-trimethoprim) oral...</td>\n",
       "    </tr>\n",
       "    <tr>\n",
       "      <th>9</th>\n",
       "      <td>54868371800</td>\n",
       "      <td>15</td>\n",
       "      <td>Flonase (fluticasone nasal) nasal spray</td>\n",
       "    </tr>\n",
       "  </tbody>\n",
       "</table>\n",
       "</div>"
      ],
      "text/plain": [
       "       NdcCode  Patients_unique_count  \\\n",
       "0  00186504031                     47   \n",
       "1  00069306075                     30   \n",
       "2  00008084181                     26   \n",
       "3  00781223331                     26   \n",
       "4  00009005604                     22   \n",
       "5  00093521101                     19   \n",
       "6  59310057920                     17   \n",
       "7  00029608612                     17   \n",
       "8  00247039720                     16   \n",
       "9  54868371800                     15   \n",
       "\n",
       "                                      MedicationName  \n",
       "0  NexIUM (esomeprazole) oral delayed release cap...  \n",
       "1         Zithromax Z-Pak (azithromycin) oral tablet  \n",
       "2  Protonix (pantoprazole) oral enteric coated ta...  \n",
       "3            Omeprazole oral delayed release capsule  \n",
       "4    Medrol Dosepak (methylPREDNISolone) oral tablet  \n",
       "5            Omeprazole oral delayed release capsule  \n",
       "6  ProAir HFA (albuterol) inhalation aerosol with...  \n",
       "7    Augmentin (amoxicillin-clavulanate) oral tablet  \n",
       "8  Septra DS (sulfamethoxazole-trimethoprim) oral...  \n",
       "9            Flonase (fluticasone nasal) nasal spray  "
      ]
     },
     "execution_count": 49,
     "metadata": {},
     "output_type": "execute_result"
    }
   ],
   "source": [
    "Count_of_patients_by_NdcCode = medicines_taken_by_acid_reflux_patients.groupby(\"NdcCode\")[\"PatientGuid\"].nunique()\n",
    "Count_of_patients_by_NdcCode = Count_of_patients_by_NdcCode.to_frame().reset_index()\n",
    "Count_of_patients_by_NdcCode = Count_of_patients_by_NdcCode.rename(index=str, columns={\"PatientGuid\": \"Patients_unique_count\"})\n",
    "Count_of_patients_by_NdcCode.sort_values(by=['Patients_unique_count'],ascending=False,inplace=True)\n",
    "\n",
    "### Include Name in the list too\n",
    "Top_10_NDCCodes = medicines[medicines.NdcCode.isin(Count_of_patients_by_NdcCode.head(10)[\"NdcCode\"].values)][[\"NdcCode\",\"MedicationName\"]].drop_duplicates()\n",
    "Count_of_patients_by_NdcCode.merge(Top_10_NDCCodes,on=\"NdcCode\")"
   ]
  },
  {
   "cell_type": "markdown",
   "metadata": {
    "collapsed": true
   },
   "source": [
    "___Results by NDC Code shows similar results with a small variation. Differences can be analyzed further, but I won't get into it right now.___"
   ]
  },
  {
   "cell_type": "code",
   "execution_count": null,
   "metadata": {},
   "outputs": [],
   "source": []
  }
 ],
 "metadata": {
  "kernelspec": {
   "display_name": "Python 3",
   "language": "python",
   "name": "python3"
  },
  "language_info": {
   "codemirror_mode": {
    "name": "ipython",
    "version": 3
   },
   "file_extension": ".py",
   "mimetype": "text/x-python",
   "name": "python",
   "nbconvert_exporter": "python",
   "pygments_lexer": "ipython3",
   "version": "3.5.5"
  }
 },
 "nbformat": 4,
 "nbformat_minor": 1
}
