{
 "cells": [
  {
   "cell_type": "markdown",
   "metadata": {},
   "source": [
    "## Find Additional features to predict Acid Reflux\n",
    "\n",
    "This notebook is being written to analyze following features if they can be used as input to machine learning models -\n",
    "\n",
    "1. Smoking Status\n",
    "\n",
    "2. Conditions\n",
    "\n",
    "3. Allergies\n",
    "\n",
    "4. Transcript details\n",
    "\n",
    "5. Lab Results\n",
    "\n",
    "6. Other Diagnosis"
   ]
  },
  {
   "cell_type": "code",
   "execution_count": 1,
   "metadata": {},
   "outputs": [],
   "source": [
    "import pandas as pd\n",
    "import numpy as np\n",
    "from sklearn import preprocessing\n",
    "import matplotlib.pyplot as plt\n",
    "\n",
    "import seaborn as sns\n",
    "sns.set(style='ticks')\n",
    "sns.set_context(\"notebook\", font_scale=1)\n",
    "sns.set_style(\"darkgrid\")\n",
    "\n",
    "\n",
    "import warnings\n",
    "warnings.filterwarnings('ignore')\n",
    "import datetime\n",
    "from datetime import date\n",
    "\n",
    "%matplotlib inline"
   ]
  },
  {
   "cell_type": "markdown",
   "metadata": {},
   "source": [
    "#### Analyze Smoking Status"
   ]
  },
  {
   "cell_type": "code",
   "execution_count": 2,
   "metadata": {},
   "outputs": [
    {
     "data": {
      "text/html": [
       "<div>\n",
       "<style scoped>\n",
       "    .dataframe tbody tr th:only-of-type {\n",
       "        vertical-align: middle;\n",
       "    }\n",
       "\n",
       "    .dataframe tbody tr th {\n",
       "        vertical-align: top;\n",
       "    }\n",
       "\n",
       "    .dataframe thead th {\n",
       "        text-align: right;\n",
       "    }\n",
       "</style>\n",
       "<table border=\"1\" class=\"dataframe\">\n",
       "  <thead>\n",
       "    <tr style=\"text-align: right;\">\n",
       "      <th></th>\n",
       "      <th>SmokingStatusGuid</th>\n",
       "      <th>Description</th>\n",
       "      <th>NISTcode</th>\n",
       "    </tr>\n",
       "  </thead>\n",
       "  <tbody>\n",
       "    <tr>\n",
       "      <th>0</th>\n",
       "      <td>E86CA3A8-E35B-4BBF-80E2-0375AB4A1460</td>\n",
       "      <td>Current status unknown</td>\n",
       "      <td>9</td>\n",
       "    </tr>\n",
       "    <tr>\n",
       "      <th>1</th>\n",
       "      <td>1F3BFBBF-AB76-481B-B1E0-08A3689A54BC</td>\n",
       "      <td>Not a current tobacco user</td>\n",
       "      <td>0</td>\n",
       "    </tr>\n",
       "    <tr>\n",
       "      <th>2</th>\n",
       "      <td>C12C2DB7-D31A-4514-88C0-42CBD339F764</td>\n",
       "      <td>0 cigarettes per day (previous smoker)</td>\n",
       "      <td>3</td>\n",
       "    </tr>\n",
       "    <tr>\n",
       "      <th>3</th>\n",
       "      <td>FA2B7AE4-4D14-4768-A8C7-55B5F0CDF4AF</td>\n",
       "      <td>Few (1-3) cigarettes per day</td>\n",
       "      <td>2</td>\n",
       "    </tr>\n",
       "    <tr>\n",
       "      <th>4</th>\n",
       "      <td>0815F240-3DD3-43C6-8618-613CA9E41F9F</td>\n",
       "      <td>Current status unknown</td>\n",
       "      <td>5</td>\n",
       "    </tr>\n",
       "    <tr>\n",
       "      <th>5</th>\n",
       "      <td>02116D5A-F26C-4A48-9A11-75AC21BC4FD3</td>\n",
       "      <td>2 or more packs per day</td>\n",
       "      <td>1</td>\n",
       "    </tr>\n",
       "    <tr>\n",
       "      <th>6</th>\n",
       "      <td>DD01E545-D7AF-4F00-B248-9FD40010D81D</td>\n",
       "      <td>Up to 1 pack per day</td>\n",
       "      <td>1</td>\n",
       "    </tr>\n",
       "    <tr>\n",
       "      <th>7</th>\n",
       "      <td>FCD437AA-0451-4D8A-9396-B6F19D8B25E8</td>\n",
       "      <td>1-2 packs per day</td>\n",
       "      <td>1</td>\n",
       "    </tr>\n",
       "    <tr>\n",
       "      <th>8</th>\n",
       "      <td>5ABBAB35-836F-4F3E-8632-CE063828DA15</td>\n",
       "      <td>0 cigarettes per day (non-smoker or less than ...</td>\n",
       "      <td>4</td>\n",
       "    </tr>\n",
       "    <tr>\n",
       "      <th>9</th>\n",
       "      <td>2548BD83-03AE-4287-A578-FA170F39E32F</td>\n",
       "      <td>Current Tobacco user</td>\n",
       "      <td>0</td>\n",
       "    </tr>\n",
       "  </tbody>\n",
       "</table>\n",
       "</div>"
      ],
      "text/plain": [
       "                      SmokingStatusGuid  \\\n",
       "0  E86CA3A8-E35B-4BBF-80E2-0375AB4A1460   \n",
       "1  1F3BFBBF-AB76-481B-B1E0-08A3689A54BC   \n",
       "2  C12C2DB7-D31A-4514-88C0-42CBD339F764   \n",
       "3  FA2B7AE4-4D14-4768-A8C7-55B5F0CDF4AF   \n",
       "4  0815F240-3DD3-43C6-8618-613CA9E41F9F   \n",
       "5  02116D5A-F26C-4A48-9A11-75AC21BC4FD3   \n",
       "6  DD01E545-D7AF-4F00-B248-9FD40010D81D   \n",
       "7  FCD437AA-0451-4D8A-9396-B6F19D8B25E8   \n",
       "8  5ABBAB35-836F-4F3E-8632-CE063828DA15   \n",
       "9  2548BD83-03AE-4287-A578-FA170F39E32F   \n",
       "\n",
       "                                         Description  NISTcode  \n",
       "0                             Current status unknown         9  \n",
       "1                         Not a current tobacco user         0  \n",
       "2             0 cigarettes per day (previous smoker)         3  \n",
       "3                       Few (1-3) cigarettes per day         2  \n",
       "4                             Current status unknown         5  \n",
       "5                            2 or more packs per day         1  \n",
       "6                               Up to 1 pack per day         1  \n",
       "7                                  1-2 packs per day         1  \n",
       "8  0 cigarettes per day (non-smoker or less than ...         4  \n",
       "9                               Current Tobacco user         0  "
      ]
     },
     "execution_count": 2,
     "metadata": {},
     "output_type": "execute_result"
    }
   ],
   "source": [
    "smoking_status = pd.read_csv(\"./data/SmokingStatus.csv\")\n",
    "smoking_status"
   ]
  },
  {
   "cell_type": "code",
   "execution_count": 3,
   "metadata": {},
   "outputs": [],
   "source": [
    "### Reduce text size for description such that it's easy to use as feature\n",
    "smoking_status.Description = smoking_status.Description.str.replace(\" \", \"\").str[:30]"
   ]
  },
  {
   "cell_type": "code",
   "execution_count": 4,
   "metadata": {},
   "outputs": [
    {
     "data": {
      "text/plain": [
       "(2443, 4)"
      ]
     },
     "execution_count": 4,
     "metadata": {},
     "output_type": "execute_result"
    }
   ],
   "source": [
    "### Load Patient Smoking Status\n",
    "smoking_patients = pd.read_csv(\"./data/PatientSmokingStatus.csv\")\n",
    "smoking_patients.shape"
   ]
  },
  {
   "cell_type": "code",
   "execution_count": 5,
   "metadata": {},
   "outputs": [
    {
     "data": {
      "text/html": [
       "<div>\n",
       "<style scoped>\n",
       "    .dataframe tbody tr th:only-of-type {\n",
       "        vertical-align: middle;\n",
       "    }\n",
       "\n",
       "    .dataframe tbody tr th {\n",
       "        vertical-align: top;\n",
       "    }\n",
       "\n",
       "    .dataframe thead th {\n",
       "        text-align: right;\n",
       "    }\n",
       "</style>\n",
       "<table border=\"1\" class=\"dataframe\">\n",
       "  <thead>\n",
       "    <tr style=\"text-align: right;\">\n",
       "      <th></th>\n",
       "      <th>PatientSmokingStatusGuid</th>\n",
       "      <th>PatientGuid</th>\n",
       "      <th>SmokingStatusGuid</th>\n",
       "      <th>EffectiveYear</th>\n",
       "    </tr>\n",
       "  </thead>\n",
       "  <tbody>\n",
       "    <tr>\n",
       "      <th>0</th>\n",
       "      <td>09277F4C-08D3-408C-A5CC-00445D8A36C9</td>\n",
       "      <td>6A48A770-4418-4AA4-9CBA-41CA67393A4B</td>\n",
       "      <td>5ABBAB35-836F-4F3E-8632-CE063828DA15</td>\n",
       "      <td>2012</td>\n",
       "    </tr>\n",
       "    <tr>\n",
       "      <th>1</th>\n",
       "      <td>81318CE5-10C6-45A5-992C-0045B147740B</td>\n",
       "      <td>879E784D-2509-4B34-B74C-E53D69259F37</td>\n",
       "      <td>DD01E545-D7AF-4F00-B248-9FD40010D81D</td>\n",
       "      <td>2011</td>\n",
       "    </tr>\n",
       "  </tbody>\n",
       "</table>\n",
       "</div>"
      ],
      "text/plain": [
       "               PatientSmokingStatusGuid                           PatientGuid  \\\n",
       "0  09277F4C-08D3-408C-A5CC-00445D8A36C9  6A48A770-4418-4AA4-9CBA-41CA67393A4B   \n",
       "1  81318CE5-10C6-45A5-992C-0045B147740B  879E784D-2509-4B34-B74C-E53D69259F37   \n",
       "\n",
       "                      SmokingStatusGuid  EffectiveYear  \n",
       "0  5ABBAB35-836F-4F3E-8632-CE063828DA15           2012  \n",
       "1  DD01E545-D7AF-4F00-B248-9FD40010D81D           2011  "
      ]
     },
     "execution_count": 5,
     "metadata": {},
     "output_type": "execute_result"
    }
   ],
   "source": [
    "smoking_patients.head(2)"
   ]
  },
  {
   "cell_type": "markdown",
   "metadata": {},
   "source": [
    "##### Merge Patient Smoking Status and Smoking Status to get exact patient smoking status"
   ]
  },
  {
   "cell_type": "code",
   "execution_count": 6,
   "metadata": {},
   "outputs": [],
   "source": [
    "smoking_patients = pd.merge(smoking_patients,smoking_status,how='left',on=[\"SmokingStatusGuid\"])"
   ]
  },
  {
   "cell_type": "code",
   "execution_count": 7,
   "metadata": {},
   "outputs": [
    {
     "data": {
      "text/plain": [
       "count                                     2443\n",
       "unique                                    2195\n",
       "top       0F463529-F2B5-4AAC-80ED-AA2C3DD5E3C5\n",
       "freq                                         6\n",
       "Name: PatientGuid, dtype: object"
      ]
     },
     "execution_count": 7,
     "metadata": {},
     "output_type": "execute_result"
    }
   ],
   "source": [
    "smoking_patients.PatientGuid.describe()"
   ]
  },
  {
   "cell_type": "markdown",
   "metadata": {},
   "source": [
    "___Note: there are duplicate patient smoking status. In that case, pick up the latest patient smoking status.___"
   ]
  },
  {
   "cell_type": "code",
   "execution_count": 8,
   "metadata": {},
   "outputs": [
    {
     "data": {
      "text/plain": [
       "count                                     2195\n",
       "unique                                    2195\n",
       "top       BC28BF46-B72C-45BD-A1F7-2211CBBAE009\n",
       "freq                                         1\n",
       "Name: PatientGuid, dtype: object"
      ]
     },
     "execution_count": 8,
     "metadata": {},
     "output_type": "execute_result"
    }
   ],
   "source": [
    "smoking_patients.sort_values(by=[\"PatientGuid\",\"EffectiveYear\"],ascending=False,inplace=True)\n",
    "smoking_patients.drop_duplicates(subset=[\"PatientGuid\"],keep='first',inplace=True)\n",
    "smoking_patients.PatientGuid.describe()"
   ]
  },
  {
   "cell_type": "code",
   "execution_count": 9,
   "metadata": {},
   "outputs": [
    {
     "data": {
      "text/html": [
       "<div>\n",
       "<style scoped>\n",
       "    .dataframe tbody tr th:only-of-type {\n",
       "        vertical-align: middle;\n",
       "    }\n",
       "\n",
       "    .dataframe tbody tr th {\n",
       "        vertical-align: top;\n",
       "    }\n",
       "\n",
       "    .dataframe thead th {\n",
       "        text-align: right;\n",
       "    }\n",
       "</style>\n",
       "<table border=\"1\" class=\"dataframe\">\n",
       "  <thead>\n",
       "    <tr style=\"text-align: right;\">\n",
       "      <th></th>\n",
       "      <th>PatientSmokingStatusGuid</th>\n",
       "      <th>PatientGuid</th>\n",
       "      <th>SmokingStatusGuid</th>\n",
       "      <th>EffectiveYear</th>\n",
       "      <th>Description</th>\n",
       "      <th>NISTcode</th>\n",
       "    </tr>\n",
       "  </thead>\n",
       "  <tbody>\n",
       "    <tr>\n",
       "      <th>1478</th>\n",
       "      <td>8BE67CD4-667D-49B7-8A9C-9B53FB0C5A28</td>\n",
       "      <td>FFD99EE9-B289-4A27-9FF6-328ABFE8047E</td>\n",
       "      <td>5ABBAB35-836F-4F3E-8632-CE063828DA15</td>\n",
       "      <td>2012</td>\n",
       "      <td>0cigarettesperday(non-smokeror</td>\n",
       "      <td>4</td>\n",
       "    </tr>\n",
       "    <tr>\n",
       "      <th>874</th>\n",
       "      <td>A5B6C1CE-BB55-4D4A-8CFF-583CC106BE15</td>\n",
       "      <td>FFD755A4-3DA7-43B8-8477-99BFBCED4A10</td>\n",
       "      <td>DD01E545-D7AF-4F00-B248-9FD40010D81D</td>\n",
       "      <td>2011</td>\n",
       "      <td>Upto1packperday</td>\n",
       "      <td>1</td>\n",
       "    </tr>\n",
       "  </tbody>\n",
       "</table>\n",
       "</div>"
      ],
      "text/plain": [
       "                  PatientSmokingStatusGuid  \\\n",
       "1478  8BE67CD4-667D-49B7-8A9C-9B53FB0C5A28   \n",
       "874   A5B6C1CE-BB55-4D4A-8CFF-583CC106BE15   \n",
       "\n",
       "                               PatientGuid  \\\n",
       "1478  FFD99EE9-B289-4A27-9FF6-328ABFE8047E   \n",
       "874   FFD755A4-3DA7-43B8-8477-99BFBCED4A10   \n",
       "\n",
       "                         SmokingStatusGuid  EffectiveYear  \\\n",
       "1478  5ABBAB35-836F-4F3E-8632-CE063828DA15           2012   \n",
       "874   DD01E545-D7AF-4F00-B248-9FD40010D81D           2011   \n",
       "\n",
       "                         Description  NISTcode  \n",
       "1478  0cigarettesperday(non-smokeror         4  \n",
       "874                  Upto1packperday         1  "
      ]
     },
     "execution_count": 9,
     "metadata": {},
     "output_type": "execute_result"
    }
   ],
   "source": [
    "smoking_patients.head(2)"
   ]
  },
  {
   "cell_type": "code",
   "execution_count": 10,
   "metadata": {},
   "outputs": [
    {
     "data": {
      "text/html": [
       "<div>\n",
       "<style scoped>\n",
       "    .dataframe tbody tr th:only-of-type {\n",
       "        vertical-align: middle;\n",
       "    }\n",
       "\n",
       "    .dataframe tbody tr th {\n",
       "        vertical-align: top;\n",
       "    }\n",
       "\n",
       "    .dataframe thead th {\n",
       "        text-align: right;\n",
       "    }\n",
       "</style>\n",
       "<table border=\"1\" class=\"dataframe\">\n",
       "  <thead>\n",
       "    <tr style=\"text-align: right;\">\n",
       "      <th></th>\n",
       "      <th>PatientGuid</th>\n",
       "      <th>Description</th>\n",
       "    </tr>\n",
       "  </thead>\n",
       "  <tbody>\n",
       "    <tr>\n",
       "      <th>1478</th>\n",
       "      <td>FFD99EE9-B289-4A27-9FF6-328ABFE8047E</td>\n",
       "      <td>0cigarettesperday(non-smokeror</td>\n",
       "    </tr>\n",
       "    <tr>\n",
       "      <th>874</th>\n",
       "      <td>FFD755A4-3DA7-43B8-8477-99BFBCED4A10</td>\n",
       "      <td>Upto1packperday</td>\n",
       "    </tr>\n",
       "  </tbody>\n",
       "</table>\n",
       "</div>"
      ],
      "text/plain": [
       "                               PatientGuid                     Description\n",
       "1478  FFD99EE9-B289-4A27-9FF6-328ABFE8047E  0cigarettesperday(non-smokeror\n",
       "874   FFD755A4-3DA7-43B8-8477-99BFBCED4A10                 Upto1packperday"
      ]
     },
     "execution_count": 10,
     "metadata": {},
     "output_type": "execute_result"
    }
   ],
   "source": [
    "#Drop columns that's \n",
    "smoking_patients.drop([\"PatientSmokingStatusGuid\",\"SmokingStatusGuid\",\"EffectiveYear\",\"NISTcode\"],axis=1,inplace=True)\n",
    "smoking_patients.head(2)"
   ]
  },
  {
   "cell_type": "markdown",
   "metadata": {},
   "source": [
    "#### Convert smoking status as feature by one hot encoding"
   ]
  },
  {
   "cell_type": "code",
   "execution_count": 11,
   "metadata": {},
   "outputs": [
    {
     "data": {
      "text/plain": [
       "(2195, 9)"
      ]
     },
     "execution_count": 11,
     "metadata": {},
     "output_type": "execute_result"
    }
   ],
   "source": [
    "one_hot_smoking_status = pd.get_dummies(smoking_patients.Description)\n",
    "one_hot_smoking_status.shape"
   ]
  },
  {
   "cell_type": "code",
   "execution_count": 12,
   "metadata": {},
   "outputs": [
    {
     "data": {
      "text/html": [
       "<div>\n",
       "<style scoped>\n",
       "    .dataframe tbody tr th:only-of-type {\n",
       "        vertical-align: middle;\n",
       "    }\n",
       "\n",
       "    .dataframe tbody tr th {\n",
       "        vertical-align: top;\n",
       "    }\n",
       "\n",
       "    .dataframe thead th {\n",
       "        text-align: right;\n",
       "    }\n",
       "</style>\n",
       "<table border=\"1\" class=\"dataframe\">\n",
       "  <thead>\n",
       "    <tr style=\"text-align: right;\">\n",
       "      <th></th>\n",
       "      <th>0cigarettesperday(non-smokeror</th>\n",
       "      <th>0cigarettesperday(previoussmok</th>\n",
       "      <th>1-2packsperday</th>\n",
       "      <th>2ormorepacksperday</th>\n",
       "      <th>CurrentTobaccouser</th>\n",
       "      <th>Currentstatusunknown</th>\n",
       "      <th>Few(1-3)cigarettesperday</th>\n",
       "      <th>Notacurrenttobaccouser</th>\n",
       "      <th>Upto1packperday</th>\n",
       "    </tr>\n",
       "  </thead>\n",
       "  <tbody>\n",
       "    <tr>\n",
       "      <th>1478</th>\n",
       "      <td>1</td>\n",
       "      <td>0</td>\n",
       "      <td>0</td>\n",
       "      <td>0</td>\n",
       "      <td>0</td>\n",
       "      <td>0</td>\n",
       "      <td>0</td>\n",
       "      <td>0</td>\n",
       "      <td>0</td>\n",
       "    </tr>\n",
       "    <tr>\n",
       "      <th>874</th>\n",
       "      <td>0</td>\n",
       "      <td>0</td>\n",
       "      <td>0</td>\n",
       "      <td>0</td>\n",
       "      <td>0</td>\n",
       "      <td>0</td>\n",
       "      <td>0</td>\n",
       "      <td>0</td>\n",
       "      <td>1</td>\n",
       "    </tr>\n",
       "  </tbody>\n",
       "</table>\n",
       "</div>"
      ],
      "text/plain": [
       "      0cigarettesperday(non-smokeror  0cigarettesperday(previoussmok  \\\n",
       "1478                               1                               0   \n",
       "874                                0                               0   \n",
       "\n",
       "      1-2packsperday  2ormorepacksperday  CurrentTobaccouser  \\\n",
       "1478               0                   0                   0   \n",
       "874                0                   0                   0   \n",
       "\n",
       "      Currentstatusunknown  Few(1-3)cigarettesperday  Notacurrenttobaccouser  \\\n",
       "1478                     0                         0                       0   \n",
       "874                      0                         0                       0   \n",
       "\n",
       "      Upto1packperday  \n",
       "1478                0  \n",
       "874                 1  "
      ]
     },
     "execution_count": 12,
     "metadata": {},
     "output_type": "execute_result"
    }
   ],
   "source": [
    "one_hot_smoking_status.head(2)"
   ]
  },
  {
   "cell_type": "code",
   "execution_count": 13,
   "metadata": {},
   "outputs": [
    {
     "data": {
      "text/html": [
       "<div>\n",
       "<style scoped>\n",
       "    .dataframe tbody tr th:only-of-type {\n",
       "        vertical-align: middle;\n",
       "    }\n",
       "\n",
       "    .dataframe tbody tr th {\n",
       "        vertical-align: top;\n",
       "    }\n",
       "\n",
       "    .dataframe thead th {\n",
       "        text-align: right;\n",
       "    }\n",
       "</style>\n",
       "<table border=\"1\" class=\"dataframe\">\n",
       "  <thead>\n",
       "    <tr style=\"text-align: right;\">\n",
       "      <th></th>\n",
       "      <th>PatientGuid</th>\n",
       "      <th>0cigarettesperday(non-smokeror</th>\n",
       "      <th>0cigarettesperday(previoussmok</th>\n",
       "      <th>1-2packsperday</th>\n",
       "      <th>2ormorepacksperday</th>\n",
       "      <th>CurrentTobaccouser</th>\n",
       "      <th>Currentstatusunknown</th>\n",
       "      <th>Few(1-3)cigarettesperday</th>\n",
       "      <th>Notacurrenttobaccouser</th>\n",
       "      <th>Upto1packperday</th>\n",
       "    </tr>\n",
       "  </thead>\n",
       "  <tbody>\n",
       "    <tr>\n",
       "      <th>1478</th>\n",
       "      <td>FFD99EE9-B289-4A27-9FF6-328ABFE8047E</td>\n",
       "      <td>1</td>\n",
       "      <td>0</td>\n",
       "      <td>0</td>\n",
       "      <td>0</td>\n",
       "      <td>0</td>\n",
       "      <td>0</td>\n",
       "      <td>0</td>\n",
       "      <td>0</td>\n",
       "      <td>0</td>\n",
       "    </tr>\n",
       "    <tr>\n",
       "      <th>874</th>\n",
       "      <td>FFD755A4-3DA7-43B8-8477-99BFBCED4A10</td>\n",
       "      <td>0</td>\n",
       "      <td>0</td>\n",
       "      <td>0</td>\n",
       "      <td>0</td>\n",
       "      <td>0</td>\n",
       "      <td>0</td>\n",
       "      <td>0</td>\n",
       "      <td>0</td>\n",
       "      <td>1</td>\n",
       "    </tr>\n",
       "  </tbody>\n",
       "</table>\n",
       "</div>"
      ],
      "text/plain": [
       "                               PatientGuid  0cigarettesperday(non-smokeror  \\\n",
       "1478  FFD99EE9-B289-4A27-9FF6-328ABFE8047E                               1   \n",
       "874   FFD755A4-3DA7-43B8-8477-99BFBCED4A10                               0   \n",
       "\n",
       "      0cigarettesperday(previoussmok  1-2packsperday  2ormorepacksperday  \\\n",
       "1478                               0               0                   0   \n",
       "874                                0               0                   0   \n",
       "\n",
       "      CurrentTobaccouser  Currentstatusunknown  Few(1-3)cigarettesperday  \\\n",
       "1478                   0                     0                         0   \n",
       "874                    0                     0                         0   \n",
       "\n",
       "      Notacurrenttobaccouser  Upto1packperday  \n",
       "1478                       0                0  \n",
       "874                        0                1  "
      ]
     },
     "execution_count": 13,
     "metadata": {},
     "output_type": "execute_result"
    }
   ],
   "source": [
    "smoking_features = smoking_patients.join(one_hot_smoking_status)\n",
    "smoking_features.drop([\"Description\"],axis=1,inplace=True)\n",
    "smoking_features.head(2)"
   ]
  },
  {
   "cell_type": "code",
   "execution_count": 14,
   "metadata": {},
   "outputs": [],
   "source": [
    "### Save Smoking feature into a CSV file\n",
    "smoking_features.to_csv(\"./features/smoking_features.csv\",index=False)"
   ]
  },
  {
   "cell_type": "markdown",
   "metadata": {},
   "source": [
    "## Let's look at the Condition"
   ]
  },
  {
   "cell_type": "code",
   "execution_count": 15,
   "metadata": {},
   "outputs": [
    {
     "data": {
      "text/html": [
       "<div>\n",
       "<style scoped>\n",
       "    .dataframe tbody tr th:only-of-type {\n",
       "        vertical-align: middle;\n",
       "    }\n",
       "\n",
       "    .dataframe tbody tr th {\n",
       "        vertical-align: top;\n",
       "    }\n",
       "\n",
       "    .dataframe thead th {\n",
       "        text-align: right;\n",
       "    }\n",
       "</style>\n",
       "<table border=\"1\" class=\"dataframe\">\n",
       "  <thead>\n",
       "    <tr style=\"text-align: right;\">\n",
       "      <th></th>\n",
       "      <th>ConditionGuid</th>\n",
       "      <th>Code</th>\n",
       "      <th>Name</th>\n",
       "    </tr>\n",
       "  </thead>\n",
       "  <tbody>\n",
       "    <tr>\n",
       "      <th>0</th>\n",
       "      <td>D4FF24EA-658D-4500-A71F-821F9776FB27</td>\n",
       "      <td>NOKNOWNDIAGNOSES</td>\n",
       "      <td>No Known Diagnoses</td>\n",
       "    </tr>\n",
       "    <tr>\n",
       "      <th>1</th>\n",
       "      <td>4BF4503F-4EA7-4E63-BBA6-B6A4A8C273F8</td>\n",
       "      <td>NOKNOWNALLERGIES</td>\n",
       "      <td>No Known Allergies</td>\n",
       "    </tr>\n",
       "    <tr>\n",
       "      <th>2</th>\n",
       "      <td>2AE517F6-5029-4BC4-9353-FB8E0CC3A822</td>\n",
       "      <td>NOKNOWNMEDICATIONS</td>\n",
       "      <td>No Known Medications</td>\n",
       "    </tr>\n",
       "  </tbody>\n",
       "</table>\n",
       "</div>"
      ],
      "text/plain": [
       "                          ConditionGuid                Code  \\\n",
       "0  D4FF24EA-658D-4500-A71F-821F9776FB27    NOKNOWNDIAGNOSES   \n",
       "1  4BF4503F-4EA7-4E63-BBA6-B6A4A8C273F8    NOKNOWNALLERGIES   \n",
       "2  2AE517F6-5029-4BC4-9353-FB8E0CC3A822  NOKNOWNMEDICATIONS   \n",
       "\n",
       "                   Name  \n",
       "0    No Known Diagnoses  \n",
       "1    No Known Allergies  \n",
       "2  No Known Medications  "
      ]
     },
     "execution_count": 15,
     "metadata": {},
     "output_type": "execute_result"
    }
   ],
   "source": [
    "conditions = pd.read_csv(\"./data/Condition.csv\")\n",
    "conditions"
   ]
  },
  {
   "cell_type": "code",
   "execution_count": 16,
   "metadata": {},
   "outputs": [
    {
     "data": {
      "text/plain": [
       "count                                     1432\n",
       "unique                                    1424\n",
       "top       21CB7772-1921-4CC6-8303-68DA94E149D5\n",
       "freq                                         2\n",
       "Name: PatientGuid, dtype: object"
      ]
     },
     "execution_count": 16,
     "metadata": {},
     "output_type": "execute_result"
    }
   ],
   "source": [
    "patients_conditions = pd.read_csv(\"./data/PatientCondition.csv\")\n",
    "patients_conditions.PatientGuid.describe()"
   ]
  },
  {
   "cell_type": "markdown",
   "metadata": {},
   "source": [
    "___Looks like there are a few duplicate patients. Let's pick latest patient status in that case.___"
   ]
  },
  {
   "cell_type": "code",
   "execution_count": 17,
   "metadata": {},
   "outputs": [
    {
     "data": {
      "text/plain": [
       "count                                     1424\n",
       "unique                                    1424\n",
       "top       FECFB976-999A-4839-924E-CED811FA5703\n",
       "freq                                         1\n",
       "Name: PatientGuid, dtype: object"
      ]
     },
     "execution_count": 17,
     "metadata": {},
     "output_type": "execute_result"
    }
   ],
   "source": [
    "patients_conditions.sort_values(by=[\"PatientGuid\",\"CreatedYear\"],ascending=False,inplace=True)\n",
    "patients_conditions.drop_duplicates(subset=[\"PatientGuid\"],keep='first',inplace=True)\n",
    "patients_conditions.PatientGuid.describe()"
   ]
  },
  {
   "cell_type": "code",
   "execution_count": 18,
   "metadata": {},
   "outputs": [
    {
     "data": {
      "text/html": [
       "<div>\n",
       "<style scoped>\n",
       "    .dataframe tbody tr th:only-of-type {\n",
       "        vertical-align: middle;\n",
       "    }\n",
       "\n",
       "    .dataframe tbody tr th {\n",
       "        vertical-align: top;\n",
       "    }\n",
       "\n",
       "    .dataframe thead th {\n",
       "        text-align: right;\n",
       "    }\n",
       "</style>\n",
       "<table border=\"1\" class=\"dataframe\">\n",
       "  <thead>\n",
       "    <tr style=\"text-align: right;\">\n",
       "      <th></th>\n",
       "      <th>PatientConditionGuid</th>\n",
       "      <th>PatientGuid</th>\n",
       "      <th>ConditionGuid</th>\n",
       "      <th>CreatedYear</th>\n",
       "    </tr>\n",
       "  </thead>\n",
       "  <tbody>\n",
       "    <tr>\n",
       "      <th>740</th>\n",
       "      <td>1CFD490A-2E55-4E46-83FE-81E77BD7CC7C</td>\n",
       "      <td>FFD755A4-3DA7-43B8-8477-99BFBCED4A10</td>\n",
       "      <td>4BF4503F-4EA7-4E63-BBA6-B6A4A8C273F8</td>\n",
       "      <td>2011</td>\n",
       "    </tr>\n",
       "    <tr>\n",
       "      <th>688</th>\n",
       "      <td>74CBFB59-A056-4F94-BEA9-794870FDFFD4</td>\n",
       "      <td>FFAE32A5-2F9F-406A-BCDE-B0B25B0D84C6</td>\n",
       "      <td>4BF4503F-4EA7-4E63-BBA6-B6A4A8C273F8</td>\n",
       "      <td>2012</td>\n",
       "    </tr>\n",
       "  </tbody>\n",
       "</table>\n",
       "</div>"
      ],
      "text/plain": [
       "                     PatientConditionGuid  \\\n",
       "740  1CFD490A-2E55-4E46-83FE-81E77BD7CC7C   \n",
       "688  74CBFB59-A056-4F94-BEA9-794870FDFFD4   \n",
       "\n",
       "                              PatientGuid  \\\n",
       "740  FFD755A4-3DA7-43B8-8477-99BFBCED4A10   \n",
       "688  FFAE32A5-2F9F-406A-BCDE-B0B25B0D84C6   \n",
       "\n",
       "                            ConditionGuid  CreatedYear  \n",
       "740  4BF4503F-4EA7-4E63-BBA6-B6A4A8C273F8         2011  \n",
       "688  4BF4503F-4EA7-4E63-BBA6-B6A4A8C273F8         2012  "
      ]
     },
     "execution_count": 18,
     "metadata": {},
     "output_type": "execute_result"
    }
   ],
   "source": [
    "patients_conditions.head(2)"
   ]
  },
  {
   "cell_type": "code",
   "execution_count": 19,
   "metadata": {},
   "outputs": [
    {
     "data": {
      "text/html": [
       "<div>\n",
       "<style scoped>\n",
       "    .dataframe tbody tr th:only-of-type {\n",
       "        vertical-align: middle;\n",
       "    }\n",
       "\n",
       "    .dataframe tbody tr th {\n",
       "        vertical-align: top;\n",
       "    }\n",
       "\n",
       "    .dataframe thead th {\n",
       "        text-align: right;\n",
       "    }\n",
       "</style>\n",
       "<table border=\"1\" class=\"dataframe\">\n",
       "  <thead>\n",
       "    <tr style=\"text-align: right;\">\n",
       "      <th></th>\n",
       "      <th>PatientConditionGuid</th>\n",
       "      <th>PatientGuid</th>\n",
       "      <th>ConditionGuid</th>\n",
       "      <th>CreatedYear</th>\n",
       "      <th>Code</th>\n",
       "      <th>Name</th>\n",
       "    </tr>\n",
       "  </thead>\n",
       "  <tbody>\n",
       "    <tr>\n",
       "      <th>0</th>\n",
       "      <td>1CFD490A-2E55-4E46-83FE-81E77BD7CC7C</td>\n",
       "      <td>FFD755A4-3DA7-43B8-8477-99BFBCED4A10</td>\n",
       "      <td>4BF4503F-4EA7-4E63-BBA6-B6A4A8C273F8</td>\n",
       "      <td>2011</td>\n",
       "      <td>NOKNOWNALLERGIES</td>\n",
       "      <td>No Known Allergies</td>\n",
       "    </tr>\n",
       "    <tr>\n",
       "      <th>1</th>\n",
       "      <td>74CBFB59-A056-4F94-BEA9-794870FDFFD4</td>\n",
       "      <td>FFAE32A5-2F9F-406A-BCDE-B0B25B0D84C6</td>\n",
       "      <td>4BF4503F-4EA7-4E63-BBA6-B6A4A8C273F8</td>\n",
       "      <td>2012</td>\n",
       "      <td>NOKNOWNALLERGIES</td>\n",
       "      <td>No Known Allergies</td>\n",
       "    </tr>\n",
       "  </tbody>\n",
       "</table>\n",
       "</div>"
      ],
      "text/plain": [
       "                   PatientConditionGuid                           PatientGuid  \\\n",
       "0  1CFD490A-2E55-4E46-83FE-81E77BD7CC7C  FFD755A4-3DA7-43B8-8477-99BFBCED4A10   \n",
       "1  74CBFB59-A056-4F94-BEA9-794870FDFFD4  FFAE32A5-2F9F-406A-BCDE-B0B25B0D84C6   \n",
       "\n",
       "                          ConditionGuid  CreatedYear              Code  \\\n",
       "0  4BF4503F-4EA7-4E63-BBA6-B6A4A8C273F8         2011  NOKNOWNALLERGIES   \n",
       "1  4BF4503F-4EA7-4E63-BBA6-B6A4A8C273F8         2012  NOKNOWNALLERGIES   \n",
       "\n",
       "                 Name  \n",
       "0  No Known Allergies  \n",
       "1  No Known Allergies  "
      ]
     },
     "execution_count": 19,
     "metadata": {},
     "output_type": "execute_result"
    }
   ],
   "source": [
    "### Merge Patients conditions with condition list\n",
    "\n",
    "patients_conditions = pd.merge(patients_conditions, conditions, how='left',on=[\"ConditionGuid\"])\n",
    "patients_conditions.head(2)"
   ]
  },
  {
   "cell_type": "code",
   "execution_count": 20,
   "metadata": {},
   "outputs": [
    {
     "data": {
      "text/html": [
       "<div>\n",
       "<style scoped>\n",
       "    .dataframe tbody tr th:only-of-type {\n",
       "        vertical-align: middle;\n",
       "    }\n",
       "\n",
       "    .dataframe tbody tr th {\n",
       "        vertical-align: top;\n",
       "    }\n",
       "\n",
       "    .dataframe thead th {\n",
       "        text-align: right;\n",
       "    }\n",
       "</style>\n",
       "<table border=\"1\" class=\"dataframe\">\n",
       "  <thead>\n",
       "    <tr style=\"text-align: right;\">\n",
       "      <th></th>\n",
       "      <th>PatientGuid</th>\n",
       "      <th>Code</th>\n",
       "    </tr>\n",
       "  </thead>\n",
       "  <tbody>\n",
       "    <tr>\n",
       "      <th>0</th>\n",
       "      <td>FFD755A4-3DA7-43B8-8477-99BFBCED4A10</td>\n",
       "      <td>NOKNOWNALLERGIES</td>\n",
       "    </tr>\n",
       "    <tr>\n",
       "      <th>1</th>\n",
       "      <td>FFAE32A5-2F9F-406A-BCDE-B0B25B0D84C6</td>\n",
       "      <td>NOKNOWNALLERGIES</td>\n",
       "    </tr>\n",
       "  </tbody>\n",
       "</table>\n",
       "</div>"
      ],
      "text/plain": [
       "                            PatientGuid              Code\n",
       "0  FFD755A4-3DA7-43B8-8477-99BFBCED4A10  NOKNOWNALLERGIES\n",
       "1  FFAE32A5-2F9F-406A-BCDE-B0B25B0D84C6  NOKNOWNALLERGIES"
      ]
     },
     "execution_count": 20,
     "metadata": {},
     "output_type": "execute_result"
    }
   ],
   "source": [
    "#### Drop columns that are not needed\n",
    "patients_conditions.drop([\"PatientConditionGuid\",\"ConditionGuid\",\"CreatedYear\",\"Name\"],axis=1,inplace=True)\n",
    "patients_conditions.head(2)"
   ]
  },
  {
   "cell_type": "markdown",
   "metadata": {},
   "source": [
    "#### Convert patient conditions into feature by by one hot encoding the code"
   ]
  },
  {
   "cell_type": "code",
   "execution_count": 21,
   "metadata": {},
   "outputs": [
    {
     "data": {
      "text/html": [
       "<div>\n",
       "<style scoped>\n",
       "    .dataframe tbody tr th:only-of-type {\n",
       "        vertical-align: middle;\n",
       "    }\n",
       "\n",
       "    .dataframe tbody tr th {\n",
       "        vertical-align: top;\n",
       "    }\n",
       "\n",
       "    .dataframe thead th {\n",
       "        text-align: right;\n",
       "    }\n",
       "</style>\n",
       "<table border=\"1\" class=\"dataframe\">\n",
       "  <thead>\n",
       "    <tr style=\"text-align: right;\">\n",
       "      <th></th>\n",
       "      <th>PatientGuid</th>\n",
       "      <th>NOKNOWNALLERGIES</th>\n",
       "      <th>NOKNOWNMEDICATIONS</th>\n",
       "    </tr>\n",
       "  </thead>\n",
       "  <tbody>\n",
       "    <tr>\n",
       "      <th>0</th>\n",
       "      <td>FFD755A4-3DA7-43B8-8477-99BFBCED4A10</td>\n",
       "      <td>1</td>\n",
       "      <td>0</td>\n",
       "    </tr>\n",
       "    <tr>\n",
       "      <th>1</th>\n",
       "      <td>FFAE32A5-2F9F-406A-BCDE-B0B25B0D84C6</td>\n",
       "      <td>1</td>\n",
       "      <td>0</td>\n",
       "    </tr>\n",
       "  </tbody>\n",
       "</table>\n",
       "</div>"
      ],
      "text/plain": [
       "                            PatientGuid  NOKNOWNALLERGIES  NOKNOWNMEDICATIONS\n",
       "0  FFD755A4-3DA7-43B8-8477-99BFBCED4A10                 1                   0\n",
       "1  FFAE32A5-2F9F-406A-BCDE-B0B25B0D84C6                 1                   0"
      ]
     },
     "execution_count": 21,
     "metadata": {},
     "output_type": "execute_result"
    }
   ],
   "source": [
    "one_hot_condition_code = pd.get_dummies(patients_conditions.Code)\n",
    "patients_conditions_feature = patients_conditions.join(one_hot_condition_code)\n",
    "patients_conditions_feature.drop([\"Code\"],axis=1,inplace=True)\n",
    "patients_conditions_feature.head(2)"
   ]
  },
  {
   "cell_type": "code",
   "execution_count": 22,
   "metadata": {},
   "outputs": [],
   "source": [
    "### Save Patients conditions to CSV\n",
    "patients_conditions_feature.to_csv(\"./features/patients_conditions_feature.csv\",index=False)"
   ]
  },
  {
   "cell_type": "markdown",
   "metadata": {},
   "source": [
    "## Let's look at Transcript"
   ]
  },
  {
   "cell_type": "code",
   "execution_count": 23,
   "metadata": {},
   "outputs": [
    {
     "data": {
      "text/plain": [
       "(65259, 13)"
      ]
     },
     "execution_count": 23,
     "metadata": {},
     "output_type": "execute_result"
    }
   ],
   "source": [
    "patients_transcript = pd.read_csv(\"./data/Transcript.csv\")\n",
    "patients_transcript.shape"
   ]
  },
  {
   "cell_type": "code",
   "execution_count": 24,
   "metadata": {},
   "outputs": [
    {
     "data": {
      "text/html": [
       "<div>\n",
       "<style scoped>\n",
       "    .dataframe tbody tr th:only-of-type {\n",
       "        vertical-align: middle;\n",
       "    }\n",
       "\n",
       "    .dataframe tbody tr th {\n",
       "        vertical-align: top;\n",
       "    }\n",
       "\n",
       "    .dataframe thead th {\n",
       "        text-align: right;\n",
       "    }\n",
       "</style>\n",
       "<table border=\"1\" class=\"dataframe\">\n",
       "  <thead>\n",
       "    <tr style=\"text-align: right;\">\n",
       "      <th></th>\n",
       "      <th>TranscriptGuid</th>\n",
       "      <th>PatientGuid</th>\n",
       "      <th>VisitYear</th>\n",
       "      <th>Height</th>\n",
       "      <th>Weight</th>\n",
       "      <th>BMI</th>\n",
       "      <th>SystolicBP</th>\n",
       "      <th>DiastolicBP</th>\n",
       "      <th>RespiratoryRate</th>\n",
       "      <th>HeartRate</th>\n",
       "      <th>Temperature</th>\n",
       "      <th>PhysicianSpecialty</th>\n",
       "      <th>UserGuid</th>\n",
       "    </tr>\n",
       "  </thead>\n",
       "  <tbody>\n",
       "    <tr>\n",
       "      <th>0</th>\n",
       "      <td>ACFC59D1-CB56-4E82-9906-0001962BC912</td>\n",
       "      <td>50BABFE9-D522-425D-86A0-170300961A46</td>\n",
       "      <td>2010</td>\n",
       "      <td>NaN</td>\n",
       "      <td>280.6</td>\n",
       "      <td>NaN</td>\n",
       "      <td>142</td>\n",
       "      <td>88</td>\n",
       "      <td>NaN</td>\n",
       "      <td>NaN</td>\n",
       "      <td>NaN</td>\n",
       "      <td>Endocrinology; Diabetes; &amp; Metabolism</td>\n",
       "      <td>F8CD9BD7-C9AF-4F9E-A04D-94BA1191317E</td>\n",
       "    </tr>\n",
       "    <tr>\n",
       "      <th>1</th>\n",
       "      <td>7F58392C-FB76-401C-85E6-00036DEDA220</td>\n",
       "      <td>C8353F84-C384-4762-8560-836B50F9198A</td>\n",
       "      <td>2010</td>\n",
       "      <td>63.0</td>\n",
       "      <td>120.0</td>\n",
       "      <td>21.255</td>\n",
       "      <td>120</td>\n",
       "      <td>80</td>\n",
       "      <td>18.0</td>\n",
       "      <td>NaN</td>\n",
       "      <td>95.2</td>\n",
       "      <td>Internal Medicine</td>\n",
       "      <td>2F7B6534-886A-4CC7-958E-2197A1741126</td>\n",
       "    </tr>\n",
       "  </tbody>\n",
       "</table>\n",
       "</div>"
      ],
      "text/plain": [
       "                         TranscriptGuid                           PatientGuid  \\\n",
       "0  ACFC59D1-CB56-4E82-9906-0001962BC912  50BABFE9-D522-425D-86A0-170300961A46   \n",
       "1  7F58392C-FB76-401C-85E6-00036DEDA220  C8353F84-C384-4762-8560-836B50F9198A   \n",
       "\n",
       "   VisitYear  Height  Weight     BMI  SystolicBP  DiastolicBP  \\\n",
       "0       2010     NaN   280.6     NaN         142           88   \n",
       "1       2010    63.0   120.0  21.255         120           80   \n",
       "\n",
       "   RespiratoryRate  HeartRate  Temperature  \\\n",
       "0              NaN        NaN          NaN   \n",
       "1             18.0        NaN         95.2   \n",
       "\n",
       "                      PhysicianSpecialty                              UserGuid  \n",
       "0  Endocrinology; Diabetes; & Metabolism  F8CD9BD7-C9AF-4F9E-A04D-94BA1191317E  \n",
       "1                      Internal Medicine  2F7B6534-886A-4CC7-958E-2197A1741126  "
      ]
     },
     "execution_count": 24,
     "metadata": {},
     "output_type": "execute_result"
    }
   ],
   "source": [
    "patients_transcript.head(2)"
   ]
  },
  {
   "cell_type": "code",
   "execution_count": 25,
   "metadata": {},
   "outputs": [
    {
     "data": {
      "text/html": [
       "<div>\n",
       "<style scoped>\n",
       "    .dataframe tbody tr th:only-of-type {\n",
       "        vertical-align: middle;\n",
       "    }\n",
       "\n",
       "    .dataframe tbody tr th {\n",
       "        vertical-align: top;\n",
       "    }\n",
       "\n",
       "    .dataframe thead th {\n",
       "        text-align: right;\n",
       "    }\n",
       "</style>\n",
       "<table border=\"1\" class=\"dataframe\">\n",
       "  <thead>\n",
       "    <tr style=\"text-align: right;\">\n",
       "      <th></th>\n",
       "      <th>count</th>\n",
       "      <th>unique</th>\n",
       "      <th>top</th>\n",
       "      <th>freq</th>\n",
       "      <th>mean</th>\n",
       "      <th>std</th>\n",
       "      <th>min</th>\n",
       "      <th>25%</th>\n",
       "      <th>50%</th>\n",
       "      <th>75%</th>\n",
       "      <th>max</th>\n",
       "    </tr>\n",
       "  </thead>\n",
       "  <tbody>\n",
       "    <tr>\n",
       "      <th>TranscriptGuid</th>\n",
       "      <td>65259</td>\n",
       "      <td>65259</td>\n",
       "      <td>B0FF7E69-8AC6-497E-9DB3-C90BE7E22533</td>\n",
       "      <td>1</td>\n",
       "      <td>NaN</td>\n",
       "      <td>NaN</td>\n",
       "      <td>NaN</td>\n",
       "      <td>NaN</td>\n",
       "      <td>NaN</td>\n",
       "      <td>NaN</td>\n",
       "      <td>NaN</td>\n",
       "    </tr>\n",
       "    <tr>\n",
       "      <th>PatientGuid</th>\n",
       "      <td>65259</td>\n",
       "      <td>4979</td>\n",
       "      <td>2A1C0131-F227-4AAC-8745-59B213A0DCEA</td>\n",
       "      <td>165</td>\n",
       "      <td>NaN</td>\n",
       "      <td>NaN</td>\n",
       "      <td>NaN</td>\n",
       "      <td>NaN</td>\n",
       "      <td>NaN</td>\n",
       "      <td>NaN</td>\n",
       "      <td>NaN</td>\n",
       "    </tr>\n",
       "    <tr>\n",
       "      <th>VisitYear</th>\n",
       "      <td>65259</td>\n",
       "      <td>NaN</td>\n",
       "      <td>NaN</td>\n",
       "      <td>NaN</td>\n",
       "      <td>1948.78</td>\n",
       "      <td>346.604</td>\n",
       "      <td>0</td>\n",
       "      <td>2010</td>\n",
       "      <td>2010</td>\n",
       "      <td>2011</td>\n",
       "      <td>2012</td>\n",
       "    </tr>\n",
       "    <tr>\n",
       "      <th>Height</th>\n",
       "      <td>29729</td>\n",
       "      <td>NaN</td>\n",
       "      <td>NaN</td>\n",
       "      <td>NaN</td>\n",
       "      <td>65.5936</td>\n",
       "      <td>4.87983</td>\n",
       "      <td>0.394</td>\n",
       "      <td>62.9</td>\n",
       "      <td>65.5</td>\n",
       "      <td>69</td>\n",
       "      <td>120</td>\n",
       "    </tr>\n",
       "    <tr>\n",
       "      <th>Weight</th>\n",
       "      <td>65259</td>\n",
       "      <td>NaN</td>\n",
       "      <td>NaN</td>\n",
       "      <td>NaN</td>\n",
       "      <td>102.612</td>\n",
       "      <td>96.4028</td>\n",
       "      <td>0</td>\n",
       "      <td>0</td>\n",
       "      <td>130</td>\n",
       "      <td>182</td>\n",
       "      <td>1311</td>\n",
       "    </tr>\n",
       "    <tr>\n",
       "      <th>BMI</th>\n",
       "      <td>29373</td>\n",
       "      <td>NaN</td>\n",
       "      <td>NaN</td>\n",
       "      <td>NaN</td>\n",
       "      <td>35.3043</td>\n",
       "      <td>310.122</td>\n",
       "      <td>0.072</td>\n",
       "      <td>24.744</td>\n",
       "      <td>28.475</td>\n",
       "      <td>33.062</td>\n",
       "      <td>48056.6</td>\n",
       "    </tr>\n",
       "    <tr>\n",
       "      <th>SystolicBP</th>\n",
       "      <td>65259</td>\n",
       "      <td>NaN</td>\n",
       "      <td>NaN</td>\n",
       "      <td>NaN</td>\n",
       "      <td>82.8431</td>\n",
       "      <td>61.9934</td>\n",
       "      <td>0</td>\n",
       "      <td>0</td>\n",
       "      <td>114</td>\n",
       "      <td>130</td>\n",
       "      <td>458</td>\n",
       "    </tr>\n",
       "    <tr>\n",
       "      <th>DiastolicBP</th>\n",
       "      <td>65259</td>\n",
       "      <td>NaN</td>\n",
       "      <td>NaN</td>\n",
       "      <td>NaN</td>\n",
       "      <td>50.0618</td>\n",
       "      <td>37.5859</td>\n",
       "      <td>0</td>\n",
       "      <td>0</td>\n",
       "      <td>70</td>\n",
       "      <td>80</td>\n",
       "      <td>150</td>\n",
       "    </tr>\n",
       "    <tr>\n",
       "      <th>RespiratoryRate</th>\n",
       "      <td>25537</td>\n",
       "      <td>NaN</td>\n",
       "      <td>NaN</td>\n",
       "      <td>NaN</td>\n",
       "      <td>16.8979</td>\n",
       "      <td>3.05151</td>\n",
       "      <td>1</td>\n",
       "      <td>16</td>\n",
       "      <td>16</td>\n",
       "      <td>18</td>\n",
       "      <td>80</td>\n",
       "    </tr>\n",
       "    <tr>\n",
       "      <th>HeartRate</th>\n",
       "      <td>5</td>\n",
       "      <td>NaN</td>\n",
       "      <td>NaN</td>\n",
       "      <td>NaN</td>\n",
       "      <td>10.8</td>\n",
       "      <td>7.94984</td>\n",
       "      <td>5</td>\n",
       "      <td>5</td>\n",
       "      <td>5</td>\n",
       "      <td>19</td>\n",
       "      <td>20</td>\n",
       "    </tr>\n",
       "    <tr>\n",
       "      <th>Temperature</th>\n",
       "      <td>24322</td>\n",
       "      <td>NaN</td>\n",
       "      <td>NaN</td>\n",
       "      <td>NaN</td>\n",
       "      <td>97.767</td>\n",
       "      <td>1.55943</td>\n",
       "      <td>37.8</td>\n",
       "      <td>97.4</td>\n",
       "      <td>97.9</td>\n",
       "      <td>98.4</td>\n",
       "      <td>119</td>\n",
       "    </tr>\n",
       "    <tr>\n",
       "      <th>PhysicianSpecialty</th>\n",
       "      <td>65167</td>\n",
       "      <td>57</td>\n",
       "      <td>Family Practice</td>\n",
       "      <td>27385</td>\n",
       "      <td>NaN</td>\n",
       "      <td>NaN</td>\n",
       "      <td>NaN</td>\n",
       "      <td>NaN</td>\n",
       "      <td>NaN</td>\n",
       "      <td>NaN</td>\n",
       "      <td>NaN</td>\n",
       "    </tr>\n",
       "    <tr>\n",
       "      <th>UserGuid</th>\n",
       "      <td>65259</td>\n",
       "      <td>1446</td>\n",
       "      <td>A65727FD-4E6C-43B9-AE7B-E4088265DDB4</td>\n",
       "      <td>2139</td>\n",
       "      <td>NaN</td>\n",
       "      <td>NaN</td>\n",
       "      <td>NaN</td>\n",
       "      <td>NaN</td>\n",
       "      <td>NaN</td>\n",
       "      <td>NaN</td>\n",
       "      <td>NaN</td>\n",
       "    </tr>\n",
       "  </tbody>\n",
       "</table>\n",
       "</div>"
      ],
      "text/plain": [
       "                    count unique                                   top   freq  \\\n",
       "TranscriptGuid      65259  65259  B0FF7E69-8AC6-497E-9DB3-C90BE7E22533      1   \n",
       "PatientGuid         65259   4979  2A1C0131-F227-4AAC-8745-59B213A0DCEA    165   \n",
       "VisitYear           65259    NaN                                   NaN    NaN   \n",
       "Height              29729    NaN                                   NaN    NaN   \n",
       "Weight              65259    NaN                                   NaN    NaN   \n",
       "BMI                 29373    NaN                                   NaN    NaN   \n",
       "SystolicBP          65259    NaN                                   NaN    NaN   \n",
       "DiastolicBP         65259    NaN                                   NaN    NaN   \n",
       "RespiratoryRate     25537    NaN                                   NaN    NaN   \n",
       "HeartRate               5    NaN                                   NaN    NaN   \n",
       "Temperature         24322    NaN                                   NaN    NaN   \n",
       "PhysicianSpecialty  65167     57                       Family Practice  27385   \n",
       "UserGuid            65259   1446  A65727FD-4E6C-43B9-AE7B-E4088265DDB4   2139   \n",
       "\n",
       "                       mean      std    min     25%     50%     75%      max  \n",
       "TranscriptGuid          NaN      NaN    NaN     NaN     NaN     NaN      NaN  \n",
       "PatientGuid             NaN      NaN    NaN     NaN     NaN     NaN      NaN  \n",
       "VisitYear           1948.78  346.604      0    2010    2010    2011     2012  \n",
       "Height              65.5936  4.87983  0.394    62.9    65.5      69      120  \n",
       "Weight              102.612  96.4028      0       0     130     182     1311  \n",
       "BMI                 35.3043  310.122  0.072  24.744  28.475  33.062  48056.6  \n",
       "SystolicBP          82.8431  61.9934      0       0     114     130      458  \n",
       "DiastolicBP         50.0618  37.5859      0       0      70      80      150  \n",
       "RespiratoryRate     16.8979  3.05151      1      16      16      18       80  \n",
       "HeartRate              10.8  7.94984      5       5       5      19       20  \n",
       "Temperature          97.767  1.55943   37.8    97.4    97.9    98.4      119  \n",
       "PhysicianSpecialty      NaN      NaN    NaN     NaN     NaN     NaN      NaN  \n",
       "UserGuid                NaN      NaN    NaN     NaN     NaN     NaN      NaN  "
      ]
     },
     "execution_count": 25,
     "metadata": {},
     "output_type": "execute_result"
    }
   ],
   "source": [
    "patients_transcript.describe(include='all').T"
   ]
  },
  {
   "cell_type": "markdown",
   "metadata": {},
   "source": [
    "___Based upon the data above, it may make sense to include following features: - ___\n",
    "\n",
    "-  Weight\n",
    "-  BMI\n",
    "-  SystolicBP\n",
    "-  DiastolicBP\n",
    "-  RespiratoryRate\n",
    "\n",
    "__Also looking above, we don't have BMI and RespiratoryRate entry for every transcript. We will use the mean value (may not be the best option, but seems reasonable looking at the data) for the patients across multiple visits.__\n"
   ]
  },
  {
   "cell_type": "code",
   "execution_count": 26,
   "metadata": {},
   "outputs": [
    {
     "data": {
      "text/html": [
       "<div>\n",
       "<style scoped>\n",
       "    .dataframe tbody tr th:only-of-type {\n",
       "        vertical-align: middle;\n",
       "    }\n",
       "\n",
       "    .dataframe tbody tr th {\n",
       "        vertical-align: top;\n",
       "    }\n",
       "\n",
       "    .dataframe thead th {\n",
       "        text-align: right;\n",
       "    }\n",
       "</style>\n",
       "<table border=\"1\" class=\"dataframe\">\n",
       "  <thead>\n",
       "    <tr style=\"text-align: right;\">\n",
       "      <th></th>\n",
       "      <th>PatientGuid</th>\n",
       "      <th>Weight</th>\n",
       "      <th>BMI</th>\n",
       "      <th>SystolicBP</th>\n",
       "      <th>DiastolicBP</th>\n",
       "      <th>RespiratoryRate</th>\n",
       "    </tr>\n",
       "  </thead>\n",
       "  <tbody>\n",
       "    <tr>\n",
       "      <th>0</th>\n",
       "      <td>50BABFE9-D522-425D-86A0-170300961A46</td>\n",
       "      <td>280.6</td>\n",
       "      <td>NaN</td>\n",
       "      <td>142</td>\n",
       "      <td>88</td>\n",
       "      <td>NaN</td>\n",
       "    </tr>\n",
       "    <tr>\n",
       "      <th>1</th>\n",
       "      <td>C8353F84-C384-4762-8560-836B50F9198A</td>\n",
       "      <td>120.0</td>\n",
       "      <td>21.255</td>\n",
       "      <td>120</td>\n",
       "      <td>80</td>\n",
       "      <td>18.0</td>\n",
       "    </tr>\n",
       "  </tbody>\n",
       "</table>\n",
       "</div>"
      ],
      "text/plain": [
       "                            PatientGuid  Weight     BMI  SystolicBP  \\\n",
       "0  50BABFE9-D522-425D-86A0-170300961A46   280.6     NaN         142   \n",
       "1  C8353F84-C384-4762-8560-836B50F9198A   120.0  21.255         120   \n",
       "\n",
       "   DiastolicBP  RespiratoryRate  \n",
       "0           88              NaN  \n",
       "1           80             18.0  "
      ]
     },
     "execution_count": 26,
     "metadata": {},
     "output_type": "execute_result"
    }
   ],
   "source": [
    "patients_transcript = patients_transcript[[\"PatientGuid\",\"Weight\",\"BMI\",\"SystolicBP\",\"DiastolicBP\",\"RespiratoryRate\"]]\n",
    "patients_transcript.head(2)"
   ]
  },
  {
   "cell_type": "markdown",
   "metadata": {},
   "source": [
    "#### Since there are multiple entries for each patient, we will take mean of each patient."
   ]
  },
  {
   "cell_type": "code",
   "execution_count": 27,
   "metadata": {},
   "outputs": [
    {
     "data": {
      "text/html": [
       "<div>\n",
       "<style scoped>\n",
       "    .dataframe tbody tr th:only-of-type {\n",
       "        vertical-align: middle;\n",
       "    }\n",
       "\n",
       "    .dataframe tbody tr th {\n",
       "        vertical-align: top;\n",
       "    }\n",
       "\n",
       "    .dataframe thead th {\n",
       "        text-align: right;\n",
       "    }\n",
       "</style>\n",
       "<table border=\"1\" class=\"dataframe\">\n",
       "  <thead>\n",
       "    <tr style=\"text-align: right;\">\n",
       "      <th></th>\n",
       "      <th>count</th>\n",
       "      <th>unique</th>\n",
       "      <th>top</th>\n",
       "      <th>freq</th>\n",
       "      <th>mean</th>\n",
       "      <th>std</th>\n",
       "      <th>min</th>\n",
       "      <th>25%</th>\n",
       "      <th>50%</th>\n",
       "      <th>75%</th>\n",
       "      <th>max</th>\n",
       "    </tr>\n",
       "  </thead>\n",
       "  <tbody>\n",
       "    <tr>\n",
       "      <th>PatientGuid</th>\n",
       "      <td>4979</td>\n",
       "      <td>4979</td>\n",
       "      <td>83ACEEEB-72C3-4C9B-80C2-D03CC8BC5396</td>\n",
       "      <td>1</td>\n",
       "      <td>NaN</td>\n",
       "      <td>NaN</td>\n",
       "      <td>NaN</td>\n",
       "      <td>NaN</td>\n",
       "      <td>NaN</td>\n",
       "      <td>NaN</td>\n",
       "      <td>NaN</td>\n",
       "    </tr>\n",
       "    <tr>\n",
       "      <th>Weight</th>\n",
       "      <td>4979</td>\n",
       "      <td>NaN</td>\n",
       "      <td>NaN</td>\n",
       "      <td>NaN</td>\n",
       "      <td>120.266</td>\n",
       "      <td>61.5633</td>\n",
       "      <td>0.636364</td>\n",
       "      <td>72.1167</td>\n",
       "      <td>120.636</td>\n",
       "      <td>163.092</td>\n",
       "      <td>399.75</td>\n",
       "    </tr>\n",
       "    <tr>\n",
       "      <th>BMI</th>\n",
       "      <td>4979</td>\n",
       "      <td>NaN</td>\n",
       "      <td>NaN</td>\n",
       "      <td>NaN</td>\n",
       "      <td>36.5806</td>\n",
       "      <td>188.593</td>\n",
       "      <td>10.245</td>\n",
       "      <td>24.7034</td>\n",
       "      <td>28.244</td>\n",
       "      <td>32.6014</td>\n",
       "      <td>12034.9</td>\n",
       "    </tr>\n",
       "    <tr>\n",
       "      <th>SystolicBP</th>\n",
       "      <td>4979</td>\n",
       "      <td>NaN</td>\n",
       "      <td>NaN</td>\n",
       "      <td>NaN</td>\n",
       "      <td>93.6878</td>\n",
       "      <td>34.8883</td>\n",
       "      <td>1.90476</td>\n",
       "      <td>69.6077</td>\n",
       "      <td>99.6667</td>\n",
       "      <td>121.485</td>\n",
       "      <td>200.333</td>\n",
       "    </tr>\n",
       "    <tr>\n",
       "      <th>DiastolicBP</th>\n",
       "      <td>4979</td>\n",
       "      <td>NaN</td>\n",
       "      <td>NaN</td>\n",
       "      <td>NaN</td>\n",
       "      <td>56.9804</td>\n",
       "      <td>21.2098</td>\n",
       "      <td>1.20635</td>\n",
       "      <td>42.1833</td>\n",
       "      <td>60.5</td>\n",
       "      <td>74</td>\n",
       "      <td>110.4</td>\n",
       "    </tr>\n",
       "    <tr>\n",
       "      <th>RespiratoryRate</th>\n",
       "      <td>3540</td>\n",
       "      <td>NaN</td>\n",
       "      <td>NaN</td>\n",
       "      <td>NaN</td>\n",
       "      <td>16.6774</td>\n",
       "      <td>2.67216</td>\n",
       "      <td>8</td>\n",
       "      <td>15.5</td>\n",
       "      <td>16.6667</td>\n",
       "      <td>18</td>\n",
       "      <td>57.5</td>\n",
       "    </tr>\n",
       "  </tbody>\n",
       "</table>\n",
       "</div>"
      ],
      "text/plain": [
       "                count unique                                   top freq  \\\n",
       "PatientGuid      4979   4979  83ACEEEB-72C3-4C9B-80C2-D03CC8BC5396    1   \n",
       "Weight           4979    NaN                                   NaN  NaN   \n",
       "BMI              4979    NaN                                   NaN  NaN   \n",
       "SystolicBP       4979    NaN                                   NaN  NaN   \n",
       "DiastolicBP      4979    NaN                                   NaN  NaN   \n",
       "RespiratoryRate  3540    NaN                                   NaN  NaN   \n",
       "\n",
       "                    mean      std       min      25%      50%      75%  \\\n",
       "PatientGuid          NaN      NaN       NaN      NaN      NaN      NaN   \n",
       "Weight           120.266  61.5633  0.636364  72.1167  120.636  163.092   \n",
       "BMI              36.5806  188.593    10.245  24.7034   28.244  32.6014   \n",
       "SystolicBP       93.6878  34.8883   1.90476  69.6077  99.6667  121.485   \n",
       "DiastolicBP      56.9804  21.2098   1.20635  42.1833     60.5       74   \n",
       "RespiratoryRate  16.6774  2.67216         8     15.5  16.6667       18   \n",
       "\n",
       "                     max  \n",
       "PatientGuid          NaN  \n",
       "Weight            399.75  \n",
       "BMI              12034.9  \n",
       "SystolicBP       200.333  \n",
       "DiastolicBP        110.4  \n",
       "RespiratoryRate     57.5  "
      ]
     },
     "execution_count": 27,
     "metadata": {},
     "output_type": "execute_result"
    }
   ],
   "source": [
    "patients_transcript = patients_transcript.groupby([\"PatientGuid\"]).mean().reset_index()\n",
    "patients_transcript.describe(include='all').T"
   ]
  },
  {
   "cell_type": "markdown",
   "metadata": {},
   "source": [
    "___Looks like RespiratoryRate still doesn't have all values populated. Let's populate that with median value.___"
   ]
  },
  {
   "cell_type": "code",
   "execution_count": 28,
   "metadata": {},
   "outputs": [
    {
     "data": {
      "text/html": [
       "<div>\n",
       "<style scoped>\n",
       "    .dataframe tbody tr th:only-of-type {\n",
       "        vertical-align: middle;\n",
       "    }\n",
       "\n",
       "    .dataframe tbody tr th {\n",
       "        vertical-align: top;\n",
       "    }\n",
       "\n",
       "    .dataframe thead th {\n",
       "        text-align: right;\n",
       "    }\n",
       "</style>\n",
       "<table border=\"1\" class=\"dataframe\">\n",
       "  <thead>\n",
       "    <tr style=\"text-align: right;\">\n",
       "      <th></th>\n",
       "      <th>count</th>\n",
       "      <th>unique</th>\n",
       "      <th>top</th>\n",
       "      <th>freq</th>\n",
       "      <th>mean</th>\n",
       "      <th>std</th>\n",
       "      <th>min</th>\n",
       "      <th>25%</th>\n",
       "      <th>50%</th>\n",
       "      <th>75%</th>\n",
       "      <th>max</th>\n",
       "    </tr>\n",
       "  </thead>\n",
       "  <tbody>\n",
       "    <tr>\n",
       "      <th>PatientGuid</th>\n",
       "      <td>4979</td>\n",
       "      <td>4979</td>\n",
       "      <td>83ACEEEB-72C3-4C9B-80C2-D03CC8BC5396</td>\n",
       "      <td>1</td>\n",
       "      <td>NaN</td>\n",
       "      <td>NaN</td>\n",
       "      <td>NaN</td>\n",
       "      <td>NaN</td>\n",
       "      <td>NaN</td>\n",
       "      <td>NaN</td>\n",
       "      <td>NaN</td>\n",
       "    </tr>\n",
       "    <tr>\n",
       "      <th>Weight</th>\n",
       "      <td>4979</td>\n",
       "      <td>NaN</td>\n",
       "      <td>NaN</td>\n",
       "      <td>NaN</td>\n",
       "      <td>120.266</td>\n",
       "      <td>61.5633</td>\n",
       "      <td>0.636364</td>\n",
       "      <td>72.1167</td>\n",
       "      <td>120.636</td>\n",
       "      <td>163.092</td>\n",
       "      <td>399.75</td>\n",
       "    </tr>\n",
       "    <tr>\n",
       "      <th>BMI</th>\n",
       "      <td>4979</td>\n",
       "      <td>NaN</td>\n",
       "      <td>NaN</td>\n",
       "      <td>NaN</td>\n",
       "      <td>36.5806</td>\n",
       "      <td>188.593</td>\n",
       "      <td>10.245</td>\n",
       "      <td>24.7034</td>\n",
       "      <td>28.244</td>\n",
       "      <td>32.6014</td>\n",
       "      <td>12034.9</td>\n",
       "    </tr>\n",
       "    <tr>\n",
       "      <th>SystolicBP</th>\n",
       "      <td>4979</td>\n",
       "      <td>NaN</td>\n",
       "      <td>NaN</td>\n",
       "      <td>NaN</td>\n",
       "      <td>93.6878</td>\n",
       "      <td>34.8883</td>\n",
       "      <td>1.90476</td>\n",
       "      <td>69.6077</td>\n",
       "      <td>99.6667</td>\n",
       "      <td>121.485</td>\n",
       "      <td>200.333</td>\n",
       "    </tr>\n",
       "    <tr>\n",
       "      <th>DiastolicBP</th>\n",
       "      <td>4979</td>\n",
       "      <td>NaN</td>\n",
       "      <td>NaN</td>\n",
       "      <td>NaN</td>\n",
       "      <td>56.9804</td>\n",
       "      <td>21.2098</td>\n",
       "      <td>1.20635</td>\n",
       "      <td>42.1833</td>\n",
       "      <td>60.5</td>\n",
       "      <td>74</td>\n",
       "      <td>110.4</td>\n",
       "    </tr>\n",
       "    <tr>\n",
       "      <th>RespiratoryRate</th>\n",
       "      <td>4979</td>\n",
       "      <td>NaN</td>\n",
       "      <td>NaN</td>\n",
       "      <td>NaN</td>\n",
       "      <td>16.6774</td>\n",
       "      <td>2.25307</td>\n",
       "      <td>8</td>\n",
       "      <td>16</td>\n",
       "      <td>16.6774</td>\n",
       "      <td>17.6667</td>\n",
       "      <td>57.5</td>\n",
       "    </tr>\n",
       "  </tbody>\n",
       "</table>\n",
       "</div>"
      ],
      "text/plain": [
       "                count unique                                   top freq  \\\n",
       "PatientGuid      4979   4979  83ACEEEB-72C3-4C9B-80C2-D03CC8BC5396    1   \n",
       "Weight           4979    NaN                                   NaN  NaN   \n",
       "BMI              4979    NaN                                   NaN  NaN   \n",
       "SystolicBP       4979    NaN                                   NaN  NaN   \n",
       "DiastolicBP      4979    NaN                                   NaN  NaN   \n",
       "RespiratoryRate  4979    NaN                                   NaN  NaN   \n",
       "\n",
       "                    mean      std       min      25%      50%      75%  \\\n",
       "PatientGuid          NaN      NaN       NaN      NaN      NaN      NaN   \n",
       "Weight           120.266  61.5633  0.636364  72.1167  120.636  163.092   \n",
       "BMI              36.5806  188.593    10.245  24.7034   28.244  32.6014   \n",
       "SystolicBP       93.6878  34.8883   1.90476  69.6077  99.6667  121.485   \n",
       "DiastolicBP      56.9804  21.2098   1.20635  42.1833     60.5       74   \n",
       "RespiratoryRate  16.6774  2.25307         8       16  16.6774  17.6667   \n",
       "\n",
       "                     max  \n",
       "PatientGuid          NaN  \n",
       "Weight            399.75  \n",
       "BMI              12034.9  \n",
       "SystolicBP       200.333  \n",
       "DiastolicBP        110.4  \n",
       "RespiratoryRate     57.5  "
      ]
     },
     "execution_count": 28,
     "metadata": {},
     "output_type": "execute_result"
    }
   ],
   "source": [
    "patients_transcript.RespiratoryRate = patients_transcript.RespiratoryRate.fillna(np.mean(patients_transcript.RespiratoryRate))\n",
    "patients_transcript.describe(include='all').T"
   ]
  },
  {
   "cell_type": "markdown",
   "metadata": {},
   "source": [
    "___Looking at above description, there are some outliers in the data. But for this cycle, we will leave outliers as is and will get to them later.___\n",
    "\n",
    "__Save the features to CSV file -__"
   ]
  },
  {
   "cell_type": "code",
   "execution_count": 29,
   "metadata": {},
   "outputs": [
    {
     "data": {
      "text/html": [
       "<div>\n",
       "<style scoped>\n",
       "    .dataframe tbody tr th:only-of-type {\n",
       "        vertical-align: middle;\n",
       "    }\n",
       "\n",
       "    .dataframe tbody tr th {\n",
       "        vertical-align: top;\n",
       "    }\n",
       "\n",
       "    .dataframe thead th {\n",
       "        text-align: right;\n",
       "    }\n",
       "</style>\n",
       "<table border=\"1\" class=\"dataframe\">\n",
       "  <thead>\n",
       "    <tr style=\"text-align: right;\">\n",
       "      <th></th>\n",
       "      <th>PatientGuid</th>\n",
       "      <th>Weight</th>\n",
       "      <th>BMI</th>\n",
       "      <th>SystolicBP</th>\n",
       "      <th>DiastolicBP</th>\n",
       "      <th>RespiratoryRate</th>\n",
       "    </tr>\n",
       "  </thead>\n",
       "  <tbody>\n",
       "    <tr>\n",
       "      <th>0</th>\n",
       "      <td>00033D2D-D57C-48A7-B201-F9183F6E640B</td>\n",
       "      <td>190.800</td>\n",
       "      <td>30.771000</td>\n",
       "      <td>141.3</td>\n",
       "      <td>72.500</td>\n",
       "      <td>15.888889</td>\n",
       "    </tr>\n",
       "    <tr>\n",
       "      <th>1</th>\n",
       "      <td>00044CC1-7911-4C35-B73C-B5623FA3A60F</td>\n",
       "      <td>56.375</td>\n",
       "      <td>26.209667</td>\n",
       "      <td>52.0</td>\n",
       "      <td>33.625</td>\n",
       "      <td>16.000000</td>\n",
       "    </tr>\n",
       "  </tbody>\n",
       "</table>\n",
       "</div>"
      ],
      "text/plain": [
       "                            PatientGuid   Weight        BMI  SystolicBP  \\\n",
       "0  00033D2D-D57C-48A7-B201-F9183F6E640B  190.800  30.771000       141.3   \n",
       "1  00044CC1-7911-4C35-B73C-B5623FA3A60F   56.375  26.209667        52.0   \n",
       "\n",
       "   DiastolicBP  RespiratoryRate  \n",
       "0       72.500        15.888889  \n",
       "1       33.625        16.000000  "
      ]
     },
     "execution_count": 29,
     "metadata": {},
     "output_type": "execute_result"
    }
   ],
   "source": [
    "patients_transcript.to_csv(\"./features/patients_transcript_features.csv\",index=False)\n",
    "patients_transcript.head(2)"
   ]
  },
  {
   "cell_type": "markdown",
   "metadata": {},
   "source": [
    "#### Let's look at Lab Results"
   ]
  },
  {
   "cell_type": "code",
   "execution_count": 30,
   "metadata": {},
   "outputs": [
    {
     "data": {
      "text/html": [
       "<div>\n",
       "<style scoped>\n",
       "    .dataframe tbody tr th:only-of-type {\n",
       "        vertical-align: middle;\n",
       "    }\n",
       "\n",
       "    .dataframe tbody tr th {\n",
       "        vertical-align: top;\n",
       "    }\n",
       "\n",
       "    .dataframe thead th {\n",
       "        text-align: right;\n",
       "    }\n",
       "</style>\n",
       "<table border=\"1\" class=\"dataframe\">\n",
       "  <thead>\n",
       "    <tr style=\"text-align: right;\">\n",
       "      <th></th>\n",
       "      <th>LabResultGuid</th>\n",
       "      <th>UserGuid</th>\n",
       "      <th>PatientGuid</th>\n",
       "      <th>TranscriptGuid</th>\n",
       "      <th>PracticeGuid</th>\n",
       "      <th>FacilityGuid</th>\n",
       "      <th>ReportYear</th>\n",
       "      <th>AncestorLabResultGuid</th>\n",
       "    </tr>\n",
       "  </thead>\n",
       "  <tbody>\n",
       "    <tr>\n",
       "      <th>0</th>\n",
       "      <td>8CEDECBA-4205-4160-A1ED-0027B5A5A48E</td>\n",
       "      <td>3027FCA9-C076-4B4D-823E-840FE03E1AFE</td>\n",
       "      <td>22022157-D43A-43B3-B1D0-D87529DD82E7</td>\n",
       "      <td>00000000-0000-0000-0000-000000000000</td>\n",
       "      <td>A2F40C7C-E6C8-4E0E-9B80-478D39494222</td>\n",
       "      <td>7237AD6A-C72C-48A9-B60B-1BB5FC90EEBD</td>\n",
       "      <td>2011</td>\n",
       "      <td>0FF11C47-6ECC-4337-8F30-1747A3EDB11D</td>\n",
       "    </tr>\n",
       "    <tr>\n",
       "      <th>1</th>\n",
       "      <td>18A431CD-B905-4904-B447-0060FE68FFE8</td>\n",
       "      <td>C5CF633F-692E-4132-8CD8-0B47BD8B0320</td>\n",
       "      <td>0700F3D4-50A3-427B-AC2C-06BC7F297B55</td>\n",
       "      <td>00000000-0000-0000-0000-000000000000</td>\n",
       "      <td>2BF2C174-46C6-4B50-A228-81C11E963397</td>\n",
       "      <td>F2F89F86-BE1F-43E7-B07A-14931F4398EB</td>\n",
       "      <td>2011</td>\n",
       "      <td>00000000-0000-0000-0000-000000000000</td>\n",
       "    </tr>\n",
       "  </tbody>\n",
       "</table>\n",
       "</div>"
      ],
      "text/plain": [
       "                          LabResultGuid                              UserGuid  \\\n",
       "0  8CEDECBA-4205-4160-A1ED-0027B5A5A48E  3027FCA9-C076-4B4D-823E-840FE03E1AFE   \n",
       "1  18A431CD-B905-4904-B447-0060FE68FFE8  C5CF633F-692E-4132-8CD8-0B47BD8B0320   \n",
       "\n",
       "                            PatientGuid                        TranscriptGuid  \\\n",
       "0  22022157-D43A-43B3-B1D0-D87529DD82E7  00000000-0000-0000-0000-000000000000   \n",
       "1  0700F3D4-50A3-427B-AC2C-06BC7F297B55  00000000-0000-0000-0000-000000000000   \n",
       "\n",
       "                           PracticeGuid                          FacilityGuid  \\\n",
       "0  A2F40C7C-E6C8-4E0E-9B80-478D39494222  7237AD6A-C72C-48A9-B60B-1BB5FC90EEBD   \n",
       "1  2BF2C174-46C6-4B50-A228-81C11E963397  F2F89F86-BE1F-43E7-B07A-14931F4398EB   \n",
       "\n",
       "   ReportYear                 AncestorLabResultGuid  \n",
       "0        2011  0FF11C47-6ECC-4337-8F30-1747A3EDB11D  \n",
       "1        2011  00000000-0000-0000-0000-000000000000  "
      ]
     },
     "execution_count": 30,
     "metadata": {},
     "output_type": "execute_result"
    }
   ],
   "source": [
    "lab_results = pd.read_csv(\"./data/LabResult.csv\")\n",
    "lab_results.head(2)"
   ]
  },
  {
   "cell_type": "code",
   "execution_count": 31,
   "metadata": {},
   "outputs": [
    {
     "data": {
      "text/plain": [
       "(1078, 8)"
      ]
     },
     "execution_count": 31,
     "metadata": {},
     "output_type": "execute_result"
    }
   ],
   "source": [
    "lab_results.shape"
   ]
  },
  {
   "cell_type": "code",
   "execution_count": 32,
   "metadata": {},
   "outputs": [],
   "source": [
    "#### Drop the fields that may not be needed\n",
    "lab_results = lab_results[[\"LabResultGuid\",\"PatientGuid\"]]"
   ]
  },
  {
   "cell_type": "code",
   "execution_count": 33,
   "metadata": {},
   "outputs": [
    {
     "data": {
      "text/html": [
       "<div>\n",
       "<style scoped>\n",
       "    .dataframe tbody tr th:only-of-type {\n",
       "        vertical-align: middle;\n",
       "    }\n",
       "\n",
       "    .dataframe tbody tr th {\n",
       "        vertical-align: top;\n",
       "    }\n",
       "\n",
       "    .dataframe thead th {\n",
       "        text-align: right;\n",
       "    }\n",
       "</style>\n",
       "<table border=\"1\" class=\"dataframe\">\n",
       "  <thead>\n",
       "    <tr style=\"text-align: right;\">\n",
       "      <th></th>\n",
       "      <th>PanelName</th>\n",
       "      <th>LabPanelGuid</th>\n",
       "      <th>LabResultGuid</th>\n",
       "      <th>ObservationYear</th>\n",
       "      <th>Status</th>\n",
       "    </tr>\n",
       "  </thead>\n",
       "  <tbody>\n",
       "    <tr>\n",
       "      <th>0</th>\n",
       "      <td>083824+CBC/D/Plt+RPR+Rh+ABO...</td>\n",
       "      <td>F2A90FC9-C4C2-4DDD-9131-93FC013F5369</td>\n",
       "      <td>92D1032B-3ED4-4226-8FBD-B17C8AA70764</td>\n",
       "      <td>2012</td>\n",
       "      <td>Final</td>\n",
       "    </tr>\n",
       "    <tr>\n",
       "      <th>1</th>\n",
       "      <td>083824+CBC/D/Plt+RPR+Rh+ABO...</td>\n",
       "      <td>49CC56ED-6903-44EB-8C20-FAE800D729B2</td>\n",
       "      <td>262EC4C2-4272-453C-8321-4E9ED0887F2C</td>\n",
       "      <td>2011</td>\n",
       "      <td>Final</td>\n",
       "    </tr>\n",
       "  </tbody>\n",
       "</table>\n",
       "</div>"
      ],
      "text/plain": [
       "                        PanelName                          LabPanelGuid  \\\n",
       "0  083824+CBC/D/Plt+RPR+Rh+ABO...  F2A90FC9-C4C2-4DDD-9131-93FC013F5369   \n",
       "1  083824+CBC/D/Plt+RPR+Rh+ABO...  49CC56ED-6903-44EB-8C20-FAE800D729B2   \n",
       "\n",
       "                          LabResultGuid  ObservationYear Status  \n",
       "0  92D1032B-3ED4-4226-8FBD-B17C8AA70764             2012  Final  \n",
       "1  262EC4C2-4272-453C-8321-4E9ED0887F2C             2011  Final  "
      ]
     },
     "execution_count": 33,
     "metadata": {},
     "output_type": "execute_result"
    }
   ],
   "source": [
    "lab_panel = pd.read_csv(\"./data/LabPanel.csv\")\n",
    "lab_panel.head(2)"
   ]
  },
  {
   "cell_type": "code",
   "execution_count": 34,
   "metadata": {},
   "outputs": [
    {
     "data": {
      "text/plain": [
       "(5411, 5)"
      ]
     },
     "execution_count": 34,
     "metadata": {},
     "output_type": "execute_result"
    }
   ],
   "source": [
    "lab_panel.shape"
   ]
  },
  {
   "cell_type": "code",
   "execution_count": 35,
   "metadata": {},
   "outputs": [],
   "source": [
    "### Drop the fields that are not needed\n",
    "lab_panel = lab_panel[[\"LabPanelGuid\",\"LabResultGuid\"]]"
   ]
  },
  {
   "cell_type": "code",
   "execution_count": 36,
   "metadata": {},
   "outputs": [
    {
     "data": {
      "text/plain": [
       "(3658, 3)"
      ]
     },
     "execution_count": 36,
     "metadata": {},
     "output_type": "execute_result"
    }
   ],
   "source": [
    "### join lab_results with lab_panel\n",
    "lab_results = pd.merge(lab_results,lab_panel,how='left',on=[\"LabResultGuid\"])\n",
    "lab_results.shape"
   ]
  },
  {
   "cell_type": "code",
   "execution_count": 37,
   "metadata": {},
   "outputs": [
    {
     "data": {
      "text/html": [
       "<div>\n",
       "<style scoped>\n",
       "    .dataframe tbody tr th:only-of-type {\n",
       "        vertical-align: middle;\n",
       "    }\n",
       "\n",
       "    .dataframe tbody tr th {\n",
       "        vertical-align: top;\n",
       "    }\n",
       "\n",
       "    .dataframe thead th {\n",
       "        text-align: right;\n",
       "    }\n",
       "</style>\n",
       "<table border=\"1\" class=\"dataframe\">\n",
       "  <thead>\n",
       "    <tr style=\"text-align: right;\">\n",
       "      <th></th>\n",
       "      <th>LabResultGuid</th>\n",
       "      <th>PatientGuid</th>\n",
       "      <th>LabPanelGuid</th>\n",
       "    </tr>\n",
       "  </thead>\n",
       "  <tbody>\n",
       "    <tr>\n",
       "      <th>0</th>\n",
       "      <td>8CEDECBA-4205-4160-A1ED-0027B5A5A48E</td>\n",
       "      <td>22022157-D43A-43B3-B1D0-D87529DD82E7</td>\n",
       "      <td>EE2160F8-90E9-4891-A883-B284B39841C7</td>\n",
       "    </tr>\n",
       "    <tr>\n",
       "      <th>1</th>\n",
       "      <td>8CEDECBA-4205-4160-A1ED-0027B5A5A48E</td>\n",
       "      <td>22022157-D43A-43B3-B1D0-D87529DD82E7</td>\n",
       "      <td>17BBBEF1-BAA5-4DA3-BF70-0AD74ED0F71C</td>\n",
       "    </tr>\n",
       "  </tbody>\n",
       "</table>\n",
       "</div>"
      ],
      "text/plain": [
       "                          LabResultGuid                           PatientGuid  \\\n",
       "0  8CEDECBA-4205-4160-A1ED-0027B5A5A48E  22022157-D43A-43B3-B1D0-D87529DD82E7   \n",
       "1  8CEDECBA-4205-4160-A1ED-0027B5A5A48E  22022157-D43A-43B3-B1D0-D87529DD82E7   \n",
       "\n",
       "                           LabPanelGuid  \n",
       "0  EE2160F8-90E9-4891-A883-B284B39841C7  \n",
       "1  17BBBEF1-BAA5-4DA3-BF70-0AD74ED0F71C  "
      ]
     },
     "execution_count": 37,
     "metadata": {},
     "output_type": "execute_result"
    }
   ],
   "source": [
    "lab_results.head(2)"
   ]
  },
  {
   "cell_type": "markdown",
   "metadata": {},
   "source": [
    "##### Now let's look at Lab Observations"
   ]
  },
  {
   "cell_type": "code",
   "execution_count": 38,
   "metadata": {},
   "outputs": [
    {
     "data": {
      "text/html": [
       "<div>\n",
       "<style scoped>\n",
       "    .dataframe tbody tr th:only-of-type {\n",
       "        vertical-align: middle;\n",
       "    }\n",
       "\n",
       "    .dataframe tbody tr th {\n",
       "        vertical-align: top;\n",
       "    }\n",
       "\n",
       "    .dataframe thead th {\n",
       "        text-align: right;\n",
       "    }\n",
       "</style>\n",
       "<table border=\"1\" class=\"dataframe\">\n",
       "  <thead>\n",
       "    <tr style=\"text-align: right;\">\n",
       "      <th></th>\n",
       "      <th>HL7Identifier</th>\n",
       "      <th>HL7Text</th>\n",
       "      <th>LabObservationGuid</th>\n",
       "      <th>LabPanelGuid</th>\n",
       "      <th>HL7CodingSystem</th>\n",
       "      <th>ObservationValue</th>\n",
       "      <th>Units</th>\n",
       "      <th>ReferenceRange</th>\n",
       "      <th>AbnormalFlags</th>\n",
       "      <th>ResultStatus</th>\n",
       "      <th>ObservationYear</th>\n",
       "      <th>UserGuid</th>\n",
       "      <th>IsAbnormalValue</th>\n",
       "    </tr>\n",
       "  </thead>\n",
       "  <tbody>\n",
       "    <tr>\n",
       "      <th>0</th>\n",
       "      <td>001016</td>\n",
       "      <td>Calcium, Serum</td>\n",
       "      <td>BF7D56C4-3CEA-4F8A-A63F-7BB92ED0BFEB</td>\n",
       "      <td>72899B5C-50DB-4E24-974E-DC3775B1D205</td>\n",
       "      <td>LabCorpLocal</td>\n",
       "      <td>9.1</td>\n",
       "      <td>mg/dL</td>\n",
       "      <td>8.6-10.2</td>\n",
       "      <td>NaN</td>\n",
       "      <td>Final</td>\n",
       "      <td>2011</td>\n",
       "      <td>00000000-0000-0000-0000-000000000000</td>\n",
       "      <td>0</td>\n",
       "    </tr>\n",
       "    <tr>\n",
       "      <th>1</th>\n",
       "      <td>001016</td>\n",
       "      <td>Calcium, Serum</td>\n",
       "      <td>84336295-0551-49B5-A069-55717CD236C8</td>\n",
       "      <td>0CB31DA0-7533-4FBB-BF3A-692931F85DAE</td>\n",
       "      <td>LabCorpLocal</td>\n",
       "      <td>9.0</td>\n",
       "      <td>mg/dL</td>\n",
       "      <td>8.7-10.2</td>\n",
       "      <td>NaN</td>\n",
       "      <td>Final</td>\n",
       "      <td>2011</td>\n",
       "      <td>B366A9CC-814C-4B2F-99E5-4DC5C79B9DEC</td>\n",
       "      <td>0</td>\n",
       "    </tr>\n",
       "  </tbody>\n",
       "</table>\n",
       "</div>"
      ],
      "text/plain": [
       "  HL7Identifier         HL7Text                    LabObservationGuid  \\\n",
       "0        001016  Calcium, Serum  BF7D56C4-3CEA-4F8A-A63F-7BB92ED0BFEB   \n",
       "1        001016  Calcium, Serum  84336295-0551-49B5-A069-55717CD236C8   \n",
       "\n",
       "                           LabPanelGuid HL7CodingSystem  ObservationValue  \\\n",
       "0  72899B5C-50DB-4E24-974E-DC3775B1D205    LabCorpLocal               9.1   \n",
       "1  0CB31DA0-7533-4FBB-BF3A-692931F85DAE    LabCorpLocal               9.0   \n",
       "\n",
       "   Units ReferenceRange AbnormalFlags ResultStatus  ObservationYear  \\\n",
       "0  mg/dL       8.6-10.2           NaN        Final             2011   \n",
       "1  mg/dL       8.7-10.2           NaN        Final             2011   \n",
       "\n",
       "                               UserGuid  IsAbnormalValue  \n",
       "0  00000000-0000-0000-0000-000000000000                0  \n",
       "1  B366A9CC-814C-4B2F-99E5-4DC5C79B9DEC                0  "
      ]
     },
     "execution_count": 38,
     "metadata": {},
     "output_type": "execute_result"
    }
   ],
   "source": [
    "lab_ovservations = pd.read_csv(\"./data/LabObservation.csv\")\n",
    "lab_ovservations.head(2)"
   ]
  },
  {
   "cell_type": "code",
   "execution_count": 39,
   "metadata": {},
   "outputs": [
    {
     "data": {
      "text/html": [
       "<div>\n",
       "<style scoped>\n",
       "    .dataframe tbody tr th:only-of-type {\n",
       "        vertical-align: middle;\n",
       "    }\n",
       "\n",
       "    .dataframe tbody tr th {\n",
       "        vertical-align: top;\n",
       "    }\n",
       "\n",
       "    .dataframe thead th {\n",
       "        text-align: right;\n",
       "    }\n",
       "</style>\n",
       "<table border=\"1\" class=\"dataframe\">\n",
       "  <thead>\n",
       "    <tr style=\"text-align: right;\">\n",
       "      <th></th>\n",
       "      <th>HL7Identifier</th>\n",
       "      <th>HL7Text</th>\n",
       "    </tr>\n",
       "  </thead>\n",
       "  <tbody>\n",
       "    <tr>\n",
       "      <th>2762</th>\n",
       "      <td>NaN</td>\n",
       "      <td>eGFR</td>\n",
       "    </tr>\n",
       "    <tr>\n",
       "      <th>2824</th>\n",
       "      <td>NaN</td>\n",
       "      <td>eGFR AfricanAmerican</td>\n",
       "    </tr>\n",
       "    <tr>\n",
       "      <th>2886</th>\n",
       "      <td>NaN</td>\n",
       "      <td>RDW</td>\n",
       "    </tr>\n",
       "    <tr>\n",
       "      <th>3570</th>\n",
       "      <td>NaN</td>\n",
       "      <td>INR</td>\n",
       "    </tr>\n",
       "    <tr>\n",
       "      <th>3572</th>\n",
       "      <td>NaN</td>\n",
       "      <td>Immature Cells</td>\n",
       "    </tr>\n",
       "  </tbody>\n",
       "</table>\n",
       "</div>"
      ],
      "text/plain": [
       "     HL7Identifier               HL7Text\n",
       "2762           NaN                  eGFR\n",
       "2824           NaN  eGFR AfricanAmerican\n",
       "2886           NaN                   RDW\n",
       "3570           NaN                   INR\n",
       "3572           NaN        Immature Cells"
      ]
     },
     "execution_count": 39,
     "metadata": {},
     "output_type": "execute_result"
    }
   ],
   "source": [
    "X = lab_ovservations[[\"HL7Identifier\",\"HL7Text\"]].drop_duplicates()\n",
    "X[X.HL7Identifier != X.HL7Identifier].head(5)"
   ]
  },
  {
   "cell_type": "code",
   "execution_count": 40,
   "metadata": {},
   "outputs": [
    {
     "data": {
      "text/html": [
       "<div>\n",
       "<style scoped>\n",
       "    .dataframe tbody tr th:only-of-type {\n",
       "        vertical-align: middle;\n",
       "    }\n",
       "\n",
       "    .dataframe tbody tr th {\n",
       "        vertical-align: top;\n",
       "    }\n",
       "\n",
       "    .dataframe thead th {\n",
       "        text-align: right;\n",
       "    }\n",
       "</style>\n",
       "<table border=\"1\" class=\"dataframe\">\n",
       "  <thead>\n",
       "    <tr style=\"text-align: right;\">\n",
       "      <th></th>\n",
       "      <th>HL7Identifier</th>\n",
       "      <th>HL7Text</th>\n",
       "    </tr>\n",
       "  </thead>\n",
       "  <tbody>\n",
       "  </tbody>\n",
       "</table>\n",
       "</div>"
      ],
      "text/plain": [
       "Empty DataFrame\n",
       "Columns: [HL7Identifier, HL7Text]\n",
       "Index: []"
      ]
     },
     "execution_count": 40,
     "metadata": {},
     "output_type": "execute_result"
    }
   ],
   "source": [
    "X[X.HL7Text != X.HL7Text].head(5)"
   ]
  },
  {
   "cell_type": "markdown",
   "metadata": {},
   "source": [
    "__Since HL7Identifier has a lot of null value, but HL7text has value quite nicely populated. we will use HL7text.__\n",
    "\n",
    "Also will keep it simple for this cycle. Will just pick HL7text and measurement for it. Will ignore the rest of the fields for this particular cycle (may not be the best decision. But given the time constratint, it may work out ok.)"
   ]
  },
  {
   "cell_type": "code",
   "execution_count": 41,
   "metadata": {},
   "outputs": [
    {
     "data": {
      "text/plain": [
       "count    12028.000000\n",
       "mean        44.247631\n",
       "std         94.683759\n",
       "min          0.000000\n",
       "25%          2.000000\n",
       "50%          6.900000\n",
       "75%         42.000000\n",
       "max       1813.400000\n",
       "Name: ObservationValue, dtype: float64"
      ]
     },
     "execution_count": 41,
     "metadata": {},
     "output_type": "execute_result"
    }
   ],
   "source": [
    "lab_ovservations.ObservationValue.describe()"
   ]
  },
  {
   "cell_type": "code",
   "execution_count": 42,
   "metadata": {},
   "outputs": [],
   "source": [
    "lab_ovservations = lab_ovservations[[\"HL7Text\",\"LabPanelGuid\",\"ObservationValue\"]]"
   ]
  },
  {
   "cell_type": "code",
   "execution_count": 43,
   "metadata": {},
   "outputs": [
    {
     "data": {
      "text/html": [
       "<div>\n",
       "<style scoped>\n",
       "    .dataframe tbody tr th:only-of-type {\n",
       "        vertical-align: middle;\n",
       "    }\n",
       "\n",
       "    .dataframe tbody tr th {\n",
       "        vertical-align: top;\n",
       "    }\n",
       "\n",
       "    .dataframe thead th {\n",
       "        text-align: right;\n",
       "    }\n",
       "</style>\n",
       "<table border=\"1\" class=\"dataframe\">\n",
       "  <thead>\n",
       "    <tr style=\"text-align: right;\">\n",
       "      <th></th>\n",
       "      <th>PatientGuid</th>\n",
       "      <th>HL7Text</th>\n",
       "      <th>ObservationValue</th>\n",
       "    </tr>\n",
       "  </thead>\n",
       "  <tbody>\n",
       "    <tr>\n",
       "      <th>0</th>\n",
       "      <td>22022157-D43A-43B3-B1D0-D87529DD82E7</td>\n",
       "      <td>Hematocrit</td>\n",
       "      <td>40.5</td>\n",
       "    </tr>\n",
       "    <tr>\n",
       "      <th>1</th>\n",
       "      <td>22022157-D43A-43B3-B1D0-D87529DD82E7</td>\n",
       "      <td>Hemoglobin</td>\n",
       "      <td>13.6</td>\n",
       "    </tr>\n",
       "  </tbody>\n",
       "</table>\n",
       "</div>"
      ],
      "text/plain": [
       "                            PatientGuid     HL7Text  ObservationValue\n",
       "0  22022157-D43A-43B3-B1D0-D87529DD82E7  Hematocrit              40.5\n",
       "1  22022157-D43A-43B3-B1D0-D87529DD82E7  Hemoglobin              13.6"
      ]
     },
     "execution_count": 43,
     "metadata": {},
     "output_type": "execute_result"
    }
   ],
   "source": [
    "### Now merge lab_results with lab_observations\n",
    "\n",
    "lab_results = pd.merge(lab_results,lab_ovservations,how='left',on=[\"LabPanelGuid\"])\n",
    "lab_results = lab_results[[\"PatientGuid\",\"HL7Text\",\"ObservationValue\"]]\n",
    "lab_results.head(2)"
   ]
  },
  {
   "cell_type": "markdown",
   "metadata": {},
   "source": [
    "#### Convert this into feature for machine learning model"
   ]
  },
  {
   "cell_type": "code",
   "execution_count": 44,
   "metadata": {},
   "outputs": [
    {
     "data": {
      "text/html": [
       "<div>\n",
       "<style scoped>\n",
       "    .dataframe tbody tr th:only-of-type {\n",
       "        vertical-align: middle;\n",
       "    }\n",
       "\n",
       "    .dataframe tbody tr th {\n",
       "        vertical-align: top;\n",
       "    }\n",
       "\n",
       "    .dataframe thead th {\n",
       "        text-align: right;\n",
       "    }\n",
       "</style>\n",
       "<table border=\"1\" class=\"dataframe\">\n",
       "  <thead>\n",
       "    <tr style=\"text-align: right;\">\n",
       "      <th></th>\n",
       "      <th>count</th>\n",
       "      <th>unique</th>\n",
       "      <th>top</th>\n",
       "      <th>freq</th>\n",
       "      <th>mean</th>\n",
       "      <th>std</th>\n",
       "      <th>min</th>\n",
       "      <th>25%</th>\n",
       "      <th>50%</th>\n",
       "      <th>75%</th>\n",
       "      <th>max</th>\n",
       "    </tr>\n",
       "  </thead>\n",
       "  <tbody>\n",
       "    <tr>\n",
       "      <th>PatientGuid</th>\n",
       "      <td>11834</td>\n",
       "      <td>446</td>\n",
       "      <td>22022157-D43A-43B3-B1D0-D87529DD82E7</td>\n",
       "      <td>386</td>\n",
       "      <td>NaN</td>\n",
       "      <td>NaN</td>\n",
       "      <td>NaN</td>\n",
       "      <td>NaN</td>\n",
       "      <td>NaN</td>\n",
       "      <td>NaN</td>\n",
       "      <td>NaN</td>\n",
       "    </tr>\n",
       "    <tr>\n",
       "      <th>HL7Text</th>\n",
       "      <td>10488</td>\n",
       "      <td>299</td>\n",
       "      <td>Protein</td>\n",
       "      <td>572</td>\n",
       "      <td>NaN</td>\n",
       "      <td>NaN</td>\n",
       "      <td>NaN</td>\n",
       "      <td>NaN</td>\n",
       "      <td>NaN</td>\n",
       "      <td>NaN</td>\n",
       "      <td>NaN</td>\n",
       "    </tr>\n",
       "    <tr>\n",
       "      <th>ObservationValue</th>\n",
       "      <td>8580</td>\n",
       "      <td>NaN</td>\n",
       "      <td>NaN</td>\n",
       "      <td>NaN</td>\n",
       "      <td>42.3244</td>\n",
       "      <td>86.6603</td>\n",
       "      <td>0</td>\n",
       "      <td>2</td>\n",
       "      <td>6.8</td>\n",
       "      <td>41.2</td>\n",
       "      <td>1580</td>\n",
       "    </tr>\n",
       "  </tbody>\n",
       "</table>\n",
       "</div>"
      ],
      "text/plain": [
       "                  count unique                                   top freq  \\\n",
       "PatientGuid       11834    446  22022157-D43A-43B3-B1D0-D87529DD82E7  386   \n",
       "HL7Text           10488    299                               Protein  572   \n",
       "ObservationValue   8580    NaN                                   NaN  NaN   \n",
       "\n",
       "                     mean      std  min  25%  50%   75%   max  \n",
       "PatientGuid           NaN      NaN  NaN  NaN  NaN   NaN   NaN  \n",
       "HL7Text               NaN      NaN  NaN  NaN  NaN   NaN   NaN  \n",
       "ObservationValue  42.3244  86.6603    0    2  6.8  41.2  1580  "
      ]
     },
     "execution_count": 44,
     "metadata": {},
     "output_type": "execute_result"
    }
   ],
   "source": [
    "lab_results.describe(include='all').T"
   ]
  },
  {
   "cell_type": "markdown",
   "metadata": {},
   "source": [
    "___As can be seen above, there are multiple labs for each patients. If there are multiple lab results for same HL7Text, then we will take mean value of the reading.___"
   ]
  },
  {
   "cell_type": "code",
   "execution_count": 45,
   "metadata": {},
   "outputs": [],
   "source": [
    "patient_lab_results_features = pd.pivot_table(lab_results,index=\"PatientGuid\",columns=\"HL7Text\",values=\"ObservationValue\").reset_index()"
   ]
  },
  {
   "cell_type": "code",
   "execution_count": 46,
   "metadata": {},
   "outputs": [
    {
     "data": {
      "text/html": [
       "<div>\n",
       "<style scoped>\n",
       "    .dataframe tbody tr th:only-of-type {\n",
       "        vertical-align: middle;\n",
       "    }\n",
       "\n",
       "    .dataframe tbody tr th {\n",
       "        vertical-align: top;\n",
       "    }\n",
       "\n",
       "    .dataframe thead th {\n",
       "        text-align: right;\n",
       "    }\n",
       "</style>\n",
       "<table border=\"1\" class=\"dataframe\">\n",
       "  <thead>\n",
       "    <tr style=\"text-align: right;\">\n",
       "      <th>HL7Text</th>\n",
       "      <th>PatientGuid</th>\n",
       "      <th>25 OH VITAMIN D:  RESULT:</th>\n",
       "      <th>A/G Ratio</th>\n",
       "      <th>ABS BASOPHILS</th>\n",
       "      <th>ABS EOSINOPHILS</th>\n",
       "      <th>ABS LYMPHOCYTES</th>\n",
       "      <th>ABS MONOCYTES</th>\n",
       "      <th>ABS SEGS</th>\n",
       "      <th>ALBUMIN</th>\n",
       "      <th>ALK PHOSPHATASE</th>\n",
       "      <th>...</th>\n",
       "      <th>Vitamin B-12</th>\n",
       "      <th>Vitamin B12</th>\n",
       "      <th>Vitamin D, 25-Hydroxy</th>\n",
       "      <th>Vitamin D,25 Hydroxy</th>\n",
       "      <th>WBC</th>\n",
       "      <th>WBC COUNT</th>\n",
       "      <th>aPTT</th>\n",
       "      <th>eGFR</th>\n",
       "      <th>eGFR AfricanAmerican</th>\n",
       "      <th>pH</th>\n",
       "    </tr>\n",
       "  </thead>\n",
       "  <tbody>\n",
       "    <tr>\n",
       "      <th>0</th>\n",
       "      <td>00CEB3ED-0A72-4211-8D7B-46F4C6DEA5AC</td>\n",
       "      <td>NaN</td>\n",
       "      <td>NaN</td>\n",
       "      <td>NaN</td>\n",
       "      <td>NaN</td>\n",
       "      <td>NaN</td>\n",
       "      <td>NaN</td>\n",
       "      <td>NaN</td>\n",
       "      <td>NaN</td>\n",
       "      <td>NaN</td>\n",
       "      <td>...</td>\n",
       "      <td>NaN</td>\n",
       "      <td>NaN</td>\n",
       "      <td>NaN</td>\n",
       "      <td>NaN</td>\n",
       "      <td>NaN</td>\n",
       "      <td>NaN</td>\n",
       "      <td>NaN</td>\n",
       "      <td>NaN</td>\n",
       "      <td>NaN</td>\n",
       "      <td>NaN</td>\n",
       "    </tr>\n",
       "    <tr>\n",
       "      <th>1</th>\n",
       "      <td>01756EE9-8C28-4EFC-B954-22288FE36177</td>\n",
       "      <td>NaN</td>\n",
       "      <td>NaN</td>\n",
       "      <td>NaN</td>\n",
       "      <td>NaN</td>\n",
       "      <td>NaN</td>\n",
       "      <td>NaN</td>\n",
       "      <td>NaN</td>\n",
       "      <td>NaN</td>\n",
       "      <td>NaN</td>\n",
       "      <td>...</td>\n",
       "      <td>NaN</td>\n",
       "      <td>NaN</td>\n",
       "      <td>NaN</td>\n",
       "      <td>NaN</td>\n",
       "      <td>NaN</td>\n",
       "      <td>NaN</td>\n",
       "      <td>NaN</td>\n",
       "      <td>NaN</td>\n",
       "      <td>NaN</td>\n",
       "      <td>NaN</td>\n",
       "    </tr>\n",
       "  </tbody>\n",
       "</table>\n",
       "<p>2 rows × 196 columns</p>\n",
       "</div>"
      ],
      "text/plain": [
       "HL7Text                           PatientGuid  25 OH VITAMIN D:  RESULT:  \\\n",
       "0        00CEB3ED-0A72-4211-8D7B-46F4C6DEA5AC                        NaN   \n",
       "1        01756EE9-8C28-4EFC-B954-22288FE36177                        NaN   \n",
       "\n",
       "HL7Text  A/G Ratio  ABS BASOPHILS  ABS EOSINOPHILS  ABS LYMPHOCYTES  \\\n",
       "0              NaN            NaN              NaN              NaN   \n",
       "1              NaN            NaN              NaN              NaN   \n",
       "\n",
       "HL7Text  ABS MONOCYTES  ABS SEGS  ALBUMIN  ALK PHOSPHATASE ...  Vitamin B-12  \\\n",
       "0                  NaN       NaN      NaN              NaN ...           NaN   \n",
       "1                  NaN       NaN      NaN              NaN ...           NaN   \n",
       "\n",
       "HL7Text  Vitamin B12  Vitamin D, 25-Hydroxy  Vitamin D,25 Hydroxy  WBC  \\\n",
       "0                NaN                    NaN                   NaN  NaN   \n",
       "1                NaN                    NaN                   NaN  NaN   \n",
       "\n",
       "HL7Text  WBC COUNT  aPTT  eGFR  eGFR AfricanAmerican  pH  \n",
       "0              NaN   NaN   NaN                   NaN NaN  \n",
       "1              NaN   NaN   NaN                   NaN NaN  \n",
       "\n",
       "[2 rows x 196 columns]"
      ]
     },
     "execution_count": 46,
     "metadata": {},
     "output_type": "execute_result"
    }
   ],
   "source": [
    "patient_lab_results_features.head(2)"
   ]
  },
  {
   "cell_type": "code",
   "execution_count": 47,
   "metadata": {},
   "outputs": [
    {
     "data": {
      "text/plain": [
       "(410, 196)"
      ]
     },
     "execution_count": 47,
     "metadata": {},
     "output_type": "execute_result"
    }
   ],
   "source": [
    "patient_lab_results_features.shape"
   ]
  },
  {
   "cell_type": "markdown",
   "metadata": {},
   "source": [
    "___Note: -___ Lab results are available for only 410 patients (i.e. around 10% of the patients). So, may not be a good idea to include them in the mix.\n",
    "\n",
    "Also HL7Text has 299 unique values. But only 196 of them have some values. We will need to investigate why others don't have values?\n",
    "\n",
    "But anyways, let's see what outcome those patients had -"
   ]
  },
  {
   "cell_type": "code",
   "execution_count": 48,
   "metadata": {},
   "outputs": [
    {
     "data": {
      "text/html": [
       "<div>\n",
       "<style scoped>\n",
       "    .dataframe tbody tr th:only-of-type {\n",
       "        vertical-align: middle;\n",
       "    }\n",
       "\n",
       "    .dataframe tbody tr th {\n",
       "        vertical-align: top;\n",
       "    }\n",
       "\n",
       "    .dataframe thead th {\n",
       "        text-align: right;\n",
       "    }\n",
       "</style>\n",
       "<table border=\"1\" class=\"dataframe\">\n",
       "  <thead>\n",
       "    <tr style=\"text-align: right;\">\n",
       "      <th></th>\n",
       "      <th>PatientGuid</th>\n",
       "      <th>acid_reflux_patient</th>\n",
       "    </tr>\n",
       "  </thead>\n",
       "  <tbody>\n",
       "    <tr>\n",
       "      <th>0</th>\n",
       "      <td>BC78C551-C20F-4F10-8D61-002AA9834BDE</td>\n",
       "      <td>0</td>\n",
       "    </tr>\n",
       "    <tr>\n",
       "      <th>1</th>\n",
       "      <td>6D88901A-3214-4BC0-B139-002EF1A5FA09</td>\n",
       "      <td>0</td>\n",
       "    </tr>\n",
       "  </tbody>\n",
       "</table>\n",
       "</div>"
      ],
      "text/plain": [
       "                            PatientGuid  acid_reflux_patient\n",
       "0  BC78C551-C20F-4F10-8D61-002AA9834BDE                    0\n",
       "1  6D88901A-3214-4BC0-B139-002EF1A5FA09                    0"
      ]
     },
     "execution_count": 48,
     "metadata": {},
     "output_type": "execute_result"
    }
   ],
   "source": [
    "patients = pd.read_csv(\"./features/patients_acid_reflux_outcome.csv\")\n",
    "patients.head(2)"
   ]
  },
  {
   "cell_type": "code",
   "execution_count": 49,
   "metadata": {},
   "outputs": [],
   "source": [
    "patient_lab_results_features = pd.merge(patient_lab_results_features,patients,how='left',on=\"PatientGuid\")"
   ]
  },
  {
   "cell_type": "code",
   "execution_count": 50,
   "metadata": {},
   "outputs": [],
   "source": [
    "### Function to calculate percentage for pie chart\n",
    "def make_autopct(values):\n",
    "    def my_autopct(pct):\n",
    "        total = sum(values)\n",
    "        val = int(round(pct*total/100.0))\n",
    "        return '{p:.2f}%  ({v:d})'.format(p=pct,v=val)\n",
    "    return my_autopct"
   ]
  },
  {
   "cell_type": "code",
   "execution_count": 51,
   "metadata": {},
   "outputs": [
    {
     "data": {
      "text/plain": [
       "Text(0,0.5,'')"
      ]
     },
     "execution_count": 51,
     "metadata": {},
     "output_type": "execute_result"
    },
    {
     "data": {
      "image/png": "[encoded data removed]",
      "text/plain": [
       "<Figure size 432x288 with 1 Axes>"
      ]
     },
     "metadata": {},
     "output_type": "display_data"
    }
   ],
   "source": [
    "labels = 'Non Acid Reflux','Acid Reflux'\n",
    "ax = patient_lab_results_features.acid_reflux_patient.value_counts().plot.pie(autopct=make_autopct(patient_lab_results_features.acid_reflux_patient.value_counts()),startangle = 180,title='Acid Reflux vs Other Patients',labels=labels)\n",
    "ax.set_ylabel('')"
   ]
  },
  {
   "cell_type": "markdown",
   "metadata": {},
   "source": [
    "#### Let's store the feature anyways"
   ]
  },
  {
   "cell_type": "code",
   "execution_count": 52,
   "metadata": {},
   "outputs": [
    {
     "data": {
      "text/html": [
       "<div>\n",
       "<style scoped>\n",
       "    .dataframe tbody tr th:only-of-type {\n",
       "        vertical-align: middle;\n",
       "    }\n",
       "\n",
       "    .dataframe tbody tr th {\n",
       "        vertical-align: top;\n",
       "    }\n",
       "\n",
       "    .dataframe thead th {\n",
       "        text-align: right;\n",
       "    }\n",
       "</style>\n",
       "<table border=\"1\" class=\"dataframe\">\n",
       "  <thead>\n",
       "    <tr style=\"text-align: right;\">\n",
       "      <th></th>\n",
       "      <th>PatientGuid</th>\n",
       "      <th>25 OH VITAMIN D:  RESULT:</th>\n",
       "      <th>A/G Ratio</th>\n",
       "      <th>ABS BASOPHILS</th>\n",
       "      <th>ABS EOSINOPHILS</th>\n",
       "      <th>ABS LYMPHOCYTES</th>\n",
       "      <th>ABS MONOCYTES</th>\n",
       "      <th>ABS SEGS</th>\n",
       "      <th>ALBUMIN</th>\n",
       "      <th>ALK PHOSPHATASE</th>\n",
       "      <th>...</th>\n",
       "      <th>Vitamin B12</th>\n",
       "      <th>Vitamin D, 25-Hydroxy</th>\n",
       "      <th>Vitamin D,25 Hydroxy</th>\n",
       "      <th>WBC</th>\n",
       "      <th>WBC COUNT</th>\n",
       "      <th>aPTT</th>\n",
       "      <th>eGFR</th>\n",
       "      <th>eGFR AfricanAmerican</th>\n",
       "      <th>pH</th>\n",
       "      <th>acid_reflux_patient</th>\n",
       "    </tr>\n",
       "  </thead>\n",
       "  <tbody>\n",
       "    <tr>\n",
       "      <th>0</th>\n",
       "      <td>00CEB3ED-0A72-4211-8D7B-46F4C6DEA5AC</td>\n",
       "      <td>0.0</td>\n",
       "      <td>0.0</td>\n",
       "      <td>0.0</td>\n",
       "      <td>0.0</td>\n",
       "      <td>0.0</td>\n",
       "      <td>0.0</td>\n",
       "      <td>0.0</td>\n",
       "      <td>0.0</td>\n",
       "      <td>0.0</td>\n",
       "      <td>...</td>\n",
       "      <td>0.0</td>\n",
       "      <td>0.0</td>\n",
       "      <td>0.0</td>\n",
       "      <td>0.0</td>\n",
       "      <td>0.0</td>\n",
       "      <td>0.0</td>\n",
       "      <td>0.0</td>\n",
       "      <td>0.0</td>\n",
       "      <td>0.0</td>\n",
       "      <td>0</td>\n",
       "    </tr>\n",
       "    <tr>\n",
       "      <th>1</th>\n",
       "      <td>01756EE9-8C28-4EFC-B954-22288FE36177</td>\n",
       "      <td>0.0</td>\n",
       "      <td>0.0</td>\n",
       "      <td>0.0</td>\n",
       "      <td>0.0</td>\n",
       "      <td>0.0</td>\n",
       "      <td>0.0</td>\n",
       "      <td>0.0</td>\n",
       "      <td>0.0</td>\n",
       "      <td>0.0</td>\n",
       "      <td>...</td>\n",
       "      <td>0.0</td>\n",
       "      <td>0.0</td>\n",
       "      <td>0.0</td>\n",
       "      <td>0.0</td>\n",
       "      <td>0.0</td>\n",
       "      <td>0.0</td>\n",
       "      <td>0.0</td>\n",
       "      <td>0.0</td>\n",
       "      <td>0.0</td>\n",
       "      <td>1</td>\n",
       "    </tr>\n",
       "  </tbody>\n",
       "</table>\n",
       "<p>2 rows × 197 columns</p>\n",
       "</div>"
      ],
      "text/plain": [
       "                            PatientGuid  25 OH VITAMIN D:  RESULT:  A/G Ratio  \\\n",
       "0  00CEB3ED-0A72-4211-8D7B-46F4C6DEA5AC                        0.0        0.0   \n",
       "1  01756EE9-8C28-4EFC-B954-22288FE36177                        0.0        0.0   \n",
       "\n",
       "   ABS BASOPHILS  ABS EOSINOPHILS  ABS LYMPHOCYTES  ABS MONOCYTES  ABS SEGS  \\\n",
       "0            0.0              0.0              0.0            0.0       0.0   \n",
       "1            0.0              0.0              0.0            0.0       0.0   \n",
       "\n",
       "   ALBUMIN  ALK PHOSPHATASE         ...           Vitamin B12  \\\n",
       "0      0.0              0.0         ...                   0.0   \n",
       "1      0.0              0.0         ...                   0.0   \n",
       "\n",
       "   Vitamin D, 25-Hydroxy  Vitamin D,25 Hydroxy  WBC  WBC COUNT  aPTT  eGFR  \\\n",
       "0                    0.0                   0.0  0.0        0.0   0.0   0.0   \n",
       "1                    0.0                   0.0  0.0        0.0   0.0   0.0   \n",
       "\n",
       "   eGFR AfricanAmerican   pH  acid_reflux_patient  \n",
       "0                   0.0  0.0                    0  \n",
       "1                   0.0  0.0                    1  \n",
       "\n",
       "[2 rows x 197 columns]"
      ]
     },
     "execution_count": 52,
     "metadata": {},
     "output_type": "execute_result"
    }
   ],
   "source": [
    "### Fill 0 for which no value available\n",
    "patient_lab_results_features = patient_lab_results_features.fillna(0)\n",
    "patient_lab_results_features.head(2)"
   ]
  },
  {
   "cell_type": "code",
   "execution_count": 53,
   "metadata": {},
   "outputs": [],
   "source": [
    "patient_lab_results_features.to_csv(\"./features/patient_lab_results_features.csv\",index=False)"
   ]
  },
  {
   "cell_type": "markdown",
   "metadata": {},
   "source": [
    "## Let's look at other diagnosis\n",
    "\n",
    "Patient's other diagnosis may have impact on whether patient will get acid reflux or not"
   ]
  },
  {
   "cell_type": "code",
   "execution_count": 54,
   "metadata": {},
   "outputs": [
    {
     "data": {
      "text/html": [
       "<div>\n",
       "<style scoped>\n",
       "    .dataframe tbody tr th:only-of-type {\n",
       "        vertical-align: middle;\n",
       "    }\n",
       "\n",
       "    .dataframe tbody tr th {\n",
       "        vertical-align: top;\n",
       "    }\n",
       "\n",
       "    .dataframe thead th {\n",
       "        text-align: right;\n",
       "    }\n",
       "</style>\n",
       "<table border=\"1\" class=\"dataframe\">\n",
       "  <thead>\n",
       "    <tr style=\"text-align: right;\">\n",
       "      <th></th>\n",
       "      <th>DiagnosisGuid</th>\n",
       "      <th>PatientGuid</th>\n",
       "      <th>ICD9Code</th>\n",
       "      <th>DiagnosisDescription</th>\n",
       "      <th>StartYear</th>\n",
       "      <th>StopYear</th>\n",
       "      <th>Acute</th>\n",
       "      <th>UserGuid</th>\n",
       "    </tr>\n",
       "  </thead>\n",
       "  <tbody>\n",
       "    <tr>\n",
       "      <th>0</th>\n",
       "      <td>AD58C335-C62E-4E4C-A5C9-00005C89DA06</td>\n",
       "      <td>44C0A13A-C841-4063-A2A7-CFADA3785F23</td>\n",
       "      <td>V70.0</td>\n",
       "      <td>Routine general medical examination at a healt...</td>\n",
       "      <td>2010</td>\n",
       "      <td>NaN</td>\n",
       "      <td>0</td>\n",
       "      <td>7511BCEC-9E46-4808-99A7-5B30778B6E84</td>\n",
       "    </tr>\n",
       "    <tr>\n",
       "      <th>1</th>\n",
       "      <td>74D1CE08-CD1E-4199-86D3-0001AED0AB24</td>\n",
       "      <td>F2B45907-C559-4077-B2FE-04F354DAB00D</td>\n",
       "      <td>719.45</td>\n",
       "      <td>Pain in joint involving pelvic region and thigh</td>\n",
       "      <td>0</td>\n",
       "      <td>NaN</td>\n",
       "      <td>0</td>\n",
       "      <td>4773B833-9CD4-41E8-895B-846DC1EA7279</td>\n",
       "    </tr>\n",
       "    <tr>\n",
       "      <th>2</th>\n",
       "      <td>AFFFEAEF-B454-4FC5-869D-00075A844CEB</td>\n",
       "      <td>1BB806A8-87EE-42B4-960B-5035E84A03C1</td>\n",
       "      <td>780.60</td>\n",
       "      <td>Fever, unspecified</td>\n",
       "      <td>0</td>\n",
       "      <td>NaN</td>\n",
       "      <td>0</td>\n",
       "      <td>86ACD71A-7F64-43EA-8772-EAD4E1FEF45E</td>\n",
       "    </tr>\n",
       "    <tr>\n",
       "      <th>3</th>\n",
       "      <td>11C037C5-0388-4FDB-B777-0007BB0CC51A</td>\n",
       "      <td>CFD993EE-32AD-4A19-821C-71A0438074A6</td>\n",
       "      <td>272.4</td>\n",
       "      <td>Other and unspecified hyperlipidemia</td>\n",
       "      <td>0</td>\n",
       "      <td>NaN</td>\n",
       "      <td>0</td>\n",
       "      <td>2103028E-E805-4F50-A280-407DC423400B</td>\n",
       "    </tr>\n",
       "    <tr>\n",
       "      <th>4</th>\n",
       "      <td>F5076968-D5D2-41C9-9C1C-000B8C16CC9D</td>\n",
       "      <td>633FE254-009D-481C-9A3C-8610B2121D0F</td>\n",
       "      <td>465.9</td>\n",
       "      <td>Acute upper respiratory infections of unspecif...</td>\n",
       "      <td>2011</td>\n",
       "      <td>NaN</td>\n",
       "      <td>0</td>\n",
       "      <td>FE52114B-620C-454E-BACA-0B0C7BDF3F32</td>\n",
       "    </tr>\n",
       "  </tbody>\n",
       "</table>\n",
       "</div>"
      ],
      "text/plain": [
       "                          DiagnosisGuid                           PatientGuid  \\\n",
       "0  AD58C335-C62E-4E4C-A5C9-00005C89DA06  44C0A13A-C841-4063-A2A7-CFADA3785F23   \n",
       "1  74D1CE08-CD1E-4199-86D3-0001AED0AB24  F2B45907-C559-4077-B2FE-04F354DAB00D   \n",
       "2  AFFFEAEF-B454-4FC5-869D-00075A844CEB  1BB806A8-87EE-42B4-960B-5035E84A03C1   \n",
       "3  11C037C5-0388-4FDB-B777-0007BB0CC51A  CFD993EE-32AD-4A19-821C-71A0438074A6   \n",
       "4  F5076968-D5D2-41C9-9C1C-000B8C16CC9D  633FE254-009D-481C-9A3C-8610B2121D0F   \n",
       "\n",
       "  ICD9Code                               DiagnosisDescription  StartYear  \\\n",
       "0    V70.0  Routine general medical examination at a healt...       2010   \n",
       "1   719.45    Pain in joint involving pelvic region and thigh          0   \n",
       "2   780.60                                 Fever, unspecified          0   \n",
       "3    272.4               Other and unspecified hyperlipidemia          0   \n",
       "4    465.9  Acute upper respiratory infections of unspecif...       2011   \n",
       "\n",
       "   StopYear  Acute                              UserGuid  \n",
       "0       NaN      0  7511BCEC-9E46-4808-99A7-5B30778B6E84  \n",
       "1       NaN      0  4773B833-9CD4-41E8-895B-846DC1EA7279  \n",
       "2       NaN      0  86ACD71A-7F64-43EA-8772-EAD4E1FEF45E  \n",
       "3       NaN      0  2103028E-E805-4F50-A280-407DC423400B  \n",
       "4       NaN      0  FE52114B-620C-454E-BACA-0B0C7BDF3F32  "
      ]
     },
     "execution_count": 54,
     "metadata": {},
     "output_type": "execute_result"
    }
   ],
   "source": [
    "diagnosis = pd.read_csv(\"./data/Diagnosis.csv\")\n",
    "### Remove the Acid Reflux diagnosis as that can't be input to predict Acid Reflux\n",
    "diagnosis = diagnosis[diagnosis.ICD9Code != '530.81']\n",
    "\n",
    "diagnosis.head(5)"
   ]
  },
  {
   "cell_type": "code",
   "execution_count": 55,
   "metadata": {},
   "outputs": [],
   "source": [
    "## Drop columums that's not needed \n",
    "diagnosis = diagnosis[[\"PatientGuid\",\"ICD9Code\",\"DiagnosisDescription\"]]"
   ]
  },
  {
   "cell_type": "code",
   "execution_count": 56,
   "metadata": {},
   "outputs": [
    {
     "data": {
      "text/plain": [
       "(3212,)"
      ]
     },
     "execution_count": 56,
     "metadata": {},
     "output_type": "execute_result"
    }
   ],
   "source": [
    "diagnosis.ICD9Code.unique().shape"
   ]
  },
  {
   "cell_type": "markdown",
   "metadata": {},
   "source": [
    "___Note: -__ There are 3212 ICD9 diagnosis codes. Also, a lot of ICD9 codes points to similar diagnosis. It may be a good idea to use higher level of categorization as Machine Learning features.\n",
    "\n",
    "CCS provides good level of categorization for ICD9 and ICD 10 codes. We will use CCS categorization to build the feature. More detail on CCS categories at - https://www.hcup-us.ahrq.gov/toolssoftware/ccs/ccsfactsheet.jsp"
   ]
  },
  {
   "cell_type": "code",
   "execution_count": 57,
   "metadata": {},
   "outputs": [
    {
     "data": {
      "text/html": [
       "<div>\n",
       "<style scoped>\n",
       "    .dataframe tbody tr th:only-of-type {\n",
       "        vertical-align: middle;\n",
       "    }\n",
       "\n",
       "    .dataframe tbody tr th {\n",
       "        vertical-align: top;\n",
       "    }\n",
       "\n",
       "    .dataframe thead th {\n",
       "        text-align: right;\n",
       "    }\n",
       "</style>\n",
       "<table border=\"1\" class=\"dataframe\">\n",
       "  <thead>\n",
       "    <tr style=\"text-align: right;\">\n",
       "      <th></th>\n",
       "      <th>icd_code</th>\n",
       "      <th>icd_code_type</th>\n",
       "      <th>icd_desc</th>\n",
       "      <th>ccs_desc</th>\n",
       "      <th>ccs_category</th>\n",
       "    </tr>\n",
       "  </thead>\n",
       "  <tbody>\n",
       "    <tr>\n",
       "      <th>72167</th>\n",
       "      <td>01000</td>\n",
       "      <td>9</td>\n",
       "      <td>Prim TB complex-unspec</td>\n",
       "      <td>Tuberculosis</td>\n",
       "      <td>1</td>\n",
       "    </tr>\n",
       "    <tr>\n",
       "      <th>72168</th>\n",
       "      <td>01001</td>\n",
       "      <td>9</td>\n",
       "      <td>Prim TB complex-no exam</td>\n",
       "      <td>Tuberculosis</td>\n",
       "      <td>1</td>\n",
       "    </tr>\n",
       "  </tbody>\n",
       "</table>\n",
       "</div>"
      ],
      "text/plain": [
       "      icd_code  icd_code_type                 icd_desc      ccs_desc  \\\n",
       "72167    01000              9   Prim TB complex-unspec  Tuberculosis   \n",
       "72168    01001              9  Prim TB complex-no exam  Tuberculosis   \n",
       "\n",
       "       ccs_category  \n",
       "72167             1  \n",
       "72168             1  "
      ]
     },
     "execution_count": 57,
     "metadata": {},
     "output_type": "execute_result"
    }
   ],
   "source": [
    "ccs_icd_mapping = pd.read_csv(\"./features/ccs_icd_mapping.csv\")\n",
    "\n",
    "## Filter out ICD9 codes\n",
    "\n",
    "ccs_icd_mapping = ccs_icd_mapping[ccs_icd_mapping.icd_code_type == 9]\n",
    "ccs_icd_mapping.head(2)"
   ]
  },
  {
   "cell_type": "code",
   "execution_count": 58,
   "metadata": {},
   "outputs": [],
   "source": [
    "### Strip out dots as CCS mapping ICD9 code deosn't have that\n",
    "diagnosis.ICD9Code = diagnosis.ICD9Code.str.replace(\".\",\"\",regex=False)"
   ]
  },
  {
   "cell_type": "code",
   "execution_count": 59,
   "metadata": {},
   "outputs": [
    {
     "data": {
      "text/plain": [
       "(3175,)"
      ]
     },
     "execution_count": 59,
     "metadata": {},
     "output_type": "execute_result"
    }
   ],
   "source": [
    "diagnosis.ICD9Code.unique().shape"
   ]
  },
  {
   "cell_type": "code",
   "execution_count": 60,
   "metadata": {},
   "outputs": [
    {
     "data": {
      "text/plain": [
       "326"
      ]
     },
     "execution_count": 60,
     "metadata": {},
     "output_type": "execute_result"
    }
   ],
   "source": [
    "ICD9Code_not_in_CCS = set(diagnosis.ICD9Code.unique()) - set(ccs_icd_mapping.icd_code.unique())\n",
    "len(ICD9Code_not_in_CCS)"
   ]
  },
  {
   "cell_type": "markdown",
   "metadata": {},
   "source": [
    "___Since it's around 10% of ICD9 codes, we will drop them. Later on, we can do more investation on these 326 ICD 9 codes. We will build features with ICD9 codes (almost 90%) that are there in CCS.___"
   ]
  },
  {
   "cell_type": "code",
   "execution_count": 61,
   "metadata": {},
   "outputs": [
    {
     "data": {
      "text/plain": [
       "(43958, 3)"
      ]
     },
     "execution_count": 61,
     "metadata": {},
     "output_type": "execute_result"
    }
   ],
   "source": [
    "IC9Code_in_CCS = set(diagnosis.ICD9Code.unique()) - ICD9Code_not_in_CCS\n",
    "diagnosis = diagnosis[diagnosis.ICD9Code.isin(IC9Code_in_CCS)]\n",
    "diagnosis.shape"
   ]
  },
  {
   "cell_type": "markdown",
   "metadata": {},
   "source": [
    "#### Merge CCS description with ICD9 codes"
   ]
  },
  {
   "cell_type": "code",
   "execution_count": 62,
   "metadata": {},
   "outputs": [
    {
     "data": {
      "text/plain": [
       "(43958, 8)"
      ]
     },
     "execution_count": 62,
     "metadata": {},
     "output_type": "execute_result"
    }
   ],
   "source": [
    "diagnosis = pd.merge(diagnosis,ccs_icd_mapping,how='left',left_on=\"ICD9Code\",right_on=\"icd_code\")\n",
    "\n",
    "diagnosis.shape"
   ]
  },
  {
   "cell_type": "code",
   "execution_count": 63,
   "metadata": {},
   "outputs": [
    {
     "data": {
      "text/html": [
       "<div>\n",
       "<style scoped>\n",
       "    .dataframe tbody tr th:only-of-type {\n",
       "        vertical-align: middle;\n",
       "    }\n",
       "\n",
       "    .dataframe tbody tr th {\n",
       "        vertical-align: top;\n",
       "    }\n",
       "\n",
       "    .dataframe thead th {\n",
       "        text-align: right;\n",
       "    }\n",
       "</style>\n",
       "<table border=\"1\" class=\"dataframe\">\n",
       "  <thead>\n",
       "    <tr style=\"text-align: right;\">\n",
       "      <th></th>\n",
       "      <th>PatientGuid</th>\n",
       "      <th>ICD9Code</th>\n",
       "      <th>DiagnosisDescription</th>\n",
       "      <th>icd_code</th>\n",
       "      <th>icd_code_type</th>\n",
       "      <th>icd_desc</th>\n",
       "      <th>ccs_desc</th>\n",
       "      <th>ccs_category</th>\n",
       "    </tr>\n",
       "  </thead>\n",
       "  <tbody>\n",
       "    <tr>\n",
       "      <th>0</th>\n",
       "      <td>44C0A13A-C841-4063-A2A7-CFADA3785F23</td>\n",
       "      <td>V700</td>\n",
       "      <td>Routine general medical examination at a healt...</td>\n",
       "      <td>V700</td>\n",
       "      <td>9</td>\n",
       "      <td>Routine medical exam</td>\n",
       "      <td>Medical examination/evaluation</td>\n",
       "      <td>256</td>\n",
       "    </tr>\n",
       "    <tr>\n",
       "      <th>1</th>\n",
       "      <td>F2B45907-C559-4077-B2FE-04F354DAB00D</td>\n",
       "      <td>71945</td>\n",
       "      <td>Pain in joint involving pelvic region and thigh</td>\n",
       "      <td>71945</td>\n",
       "      <td>9</td>\n",
       "      <td>Joint pain-pelvis</td>\n",
       "      <td>Other non-traumatic joint disorders</td>\n",
       "      <td>204</td>\n",
       "    </tr>\n",
       "    <tr>\n",
       "      <th>2</th>\n",
       "      <td>1BB806A8-87EE-42B4-960B-5035E84A03C1</td>\n",
       "      <td>78060</td>\n",
       "      <td>Fever, unspecified</td>\n",
       "      <td>78060</td>\n",
       "      <td>9</td>\n",
       "      <td>Fever NOS</td>\n",
       "      <td>Fever of unknown origin</td>\n",
       "      <td>246</td>\n",
       "    </tr>\n",
       "    <tr>\n",
       "      <th>3</th>\n",
       "      <td>CFD993EE-32AD-4A19-821C-71A0438074A6</td>\n",
       "      <td>2724</td>\n",
       "      <td>Other and unspecified hyperlipidemia</td>\n",
       "      <td>2724</td>\n",
       "      <td>9</td>\n",
       "      <td>Hyperlipidemia NEC/NOS</td>\n",
       "      <td>Disorders of lipid metabolism</td>\n",
       "      <td>53</td>\n",
       "    </tr>\n",
       "    <tr>\n",
       "      <th>4</th>\n",
       "      <td>633FE254-009D-481C-9A3C-8610B2121D0F</td>\n",
       "      <td>4659</td>\n",
       "      <td>Acute upper respiratory infections of unspecif...</td>\n",
       "      <td>4659</td>\n",
       "      <td>9</td>\n",
       "      <td>Acute uri NOS</td>\n",
       "      <td>Other upper respiratory infections</td>\n",
       "      <td>126</td>\n",
       "    </tr>\n",
       "    <tr>\n",
       "      <th>5</th>\n",
       "      <td>7C1EDF94-0F6C-41FB-94EC-7FAE45F4DDEC</td>\n",
       "      <td>78052</td>\n",
       "      <td>Insomnia, unspecified</td>\n",
       "      <td>78052</td>\n",
       "      <td>9</td>\n",
       "      <td>Insomnia NOS</td>\n",
       "      <td>Residual codes; unclassified</td>\n",
       "      <td>259</td>\n",
       "    </tr>\n",
       "    <tr>\n",
       "      <th>6</th>\n",
       "      <td>68CDBD31-4252-4686-ADFC-35766FB77C5E</td>\n",
       "      <td>59389</td>\n",
       "      <td>Other specified disorders of kidney and ureter</td>\n",
       "      <td>59389</td>\n",
       "      <td>9</td>\n",
       "      <td>Renal &amp; ureteral dis NEC</td>\n",
       "      <td>Other diseases of kidney and ureters</td>\n",
       "      <td>161</td>\n",
       "    </tr>\n",
       "    <tr>\n",
       "      <th>7</th>\n",
       "      <td>D68E87A6-53CE-468F-B2CB-20E57BE45546</td>\n",
       "      <td>V0481</td>\n",
       "      <td>Need for prophylactic vaccination and inoculat...</td>\n",
       "      <td>V0481</td>\n",
       "      <td>9</td>\n",
       "      <td>Vaccin for influenza</td>\n",
       "      <td>Immunizations and screening for infectious dis...</td>\n",
       "      <td>10</td>\n",
       "    </tr>\n",
       "    <tr>\n",
       "      <th>8</th>\n",
       "      <td>205D5DBD-29A3-4EFC-8AA1-47078AFA905C</td>\n",
       "      <td>78843</td>\n",
       "      <td>Nocturia</td>\n",
       "      <td>78843</td>\n",
       "      <td>9</td>\n",
       "      <td>Nocturia</td>\n",
       "      <td>Genitourinary symptoms and ill-defined conditions</td>\n",
       "      <td>163</td>\n",
       "    </tr>\n",
       "    <tr>\n",
       "      <th>9</th>\n",
       "      <td>9E087674-9FD8-4C1C-B8F5-06A34BBE7671</td>\n",
       "      <td>7823</td>\n",
       "      <td>Edema</td>\n",
       "      <td>7823</td>\n",
       "      <td>9</td>\n",
       "      <td>Edema</td>\n",
       "      <td>Residual codes; unclassified</td>\n",
       "      <td>259</td>\n",
       "    </tr>\n",
       "  </tbody>\n",
       "</table>\n",
       "</div>"
      ],
      "text/plain": [
       "                            PatientGuid ICD9Code  \\\n",
       "0  44C0A13A-C841-4063-A2A7-CFADA3785F23     V700   \n",
       "1  F2B45907-C559-4077-B2FE-04F354DAB00D    71945   \n",
       "2  1BB806A8-87EE-42B4-960B-5035E84A03C1    78060   \n",
       "3  CFD993EE-32AD-4A19-821C-71A0438074A6     2724   \n",
       "4  633FE254-009D-481C-9A3C-8610B2121D0F     4659   \n",
       "5  7C1EDF94-0F6C-41FB-94EC-7FAE45F4DDEC    78052   \n",
       "6  68CDBD31-4252-4686-ADFC-35766FB77C5E    59389   \n",
       "7  D68E87A6-53CE-468F-B2CB-20E57BE45546    V0481   \n",
       "8  205D5DBD-29A3-4EFC-8AA1-47078AFA905C    78843   \n",
       "9  9E087674-9FD8-4C1C-B8F5-06A34BBE7671     7823   \n",
       "\n",
       "                                DiagnosisDescription icd_code  icd_code_type  \\\n",
       "0  Routine general medical examination at a healt...     V700              9   \n",
       "1    Pain in joint involving pelvic region and thigh    71945              9   \n",
       "2                                 Fever, unspecified    78060              9   \n",
       "3               Other and unspecified hyperlipidemia     2724              9   \n",
       "4  Acute upper respiratory infections of unspecif...     4659              9   \n",
       "5                              Insomnia, unspecified    78052              9   \n",
       "6     Other specified disorders of kidney and ureter    59389              9   \n",
       "7  Need for prophylactic vaccination and inoculat...    V0481              9   \n",
       "8                                           Nocturia    78843              9   \n",
       "9                                              Edema     7823              9   \n",
       "\n",
       "                   icd_desc  \\\n",
       "0      Routine medical exam   \n",
       "1         Joint pain-pelvis   \n",
       "2                 Fever NOS   \n",
       "3    Hyperlipidemia NEC/NOS   \n",
       "4             Acute uri NOS   \n",
       "5              Insomnia NOS   \n",
       "6  Renal & ureteral dis NEC   \n",
       "7      Vaccin for influenza   \n",
       "8                  Nocturia   \n",
       "9                     Edema   \n",
       "\n",
       "                                            ccs_desc  ccs_category  \n",
       "0                     Medical examination/evaluation           256  \n",
       "1                Other non-traumatic joint disorders           204  \n",
       "2                            Fever of unknown origin           246  \n",
       "3                      Disorders of lipid metabolism            53  \n",
       "4                 Other upper respiratory infections           126  \n",
       "5                       Residual codes; unclassified           259  \n",
       "6               Other diseases of kidney and ureters           161  \n",
       "7  Immunizations and screening for infectious dis...            10  \n",
       "8  Genitourinary symptoms and ill-defined conditions           163  \n",
       "9                       Residual codes; unclassified           259  "
      ]
     },
     "execution_count": 63,
     "metadata": {},
     "output_type": "execute_result"
    }
   ],
   "source": [
    "diagnosis.head(10)"
   ]
  },
  {
   "cell_type": "code",
   "execution_count": 64,
   "metadata": {},
   "outputs": [
    {
     "data": {
      "text/plain": [
       "count                             43958\n",
       "unique                              236\n",
       "top       Disorders of lipid metabolism\n",
       "freq                               2363\n",
       "Name: ccs_desc, dtype: object"
      ]
     },
     "execution_count": 64,
     "metadata": {},
     "output_type": "execute_result"
    }
   ],
   "source": [
    "diagnosis.ccs_desc.describe()"
   ]
  },
  {
   "cell_type": "markdown",
   "metadata": {},
   "source": [
    "___Note: -___ Around 2900 ICD9 codes got mapped to 236 CCS cateogories."
   ]
  },
  {
   "cell_type": "code",
   "execution_count": 65,
   "metadata": {},
   "outputs": [
    {
     "data": {
      "text/plain": [
       "(37185, 2)"
      ]
     },
     "execution_count": 65,
     "metadata": {},
     "output_type": "execute_result"
    }
   ],
   "source": [
    "diagnosis = diagnosis[[\"PatientGuid\",\"ccs_desc\"]]\n",
    "diagnosis.ccs_desc = diagnosis.ccs_desc.str.replace(' ','')\n",
    "\n",
    "### Drop duplicate diagnosis\n",
    "diagnosis.drop_duplicates(subset=[\"PatientGuid\",\"ccs_desc\"],keep='first',inplace=True)\n",
    "diagnosis.shape"
   ]
  },
  {
   "cell_type": "markdown",
   "metadata": {},
   "source": [
    "#### Convert diagnosis into feature"
   ]
  },
  {
   "cell_type": "code",
   "execution_count": 66,
   "metadata": {},
   "outputs": [
    {
     "data": {
      "text/html": [
       "<div>\n",
       "<style scoped>\n",
       "    .dataframe tbody tr th:only-of-type {\n",
       "        vertical-align: middle;\n",
       "    }\n",
       "\n",
       "    .dataframe tbody tr th {\n",
       "        vertical-align: top;\n",
       "    }\n",
       "\n",
       "    .dataframe thead th {\n",
       "        text-align: right;\n",
       "    }\n",
       "</style>\n",
       "<table border=\"1\" class=\"dataframe\">\n",
       "  <thead>\n",
       "    <tr style=\"text-align: right;\">\n",
       "      <th>ccs_desc</th>\n",
       "      <th>PatientGuid</th>\n",
       "      <th>Abdominalhernia</th>\n",
       "      <th>Abdominalpain</th>\n",
       "      <th>Acquiredfootdeformities</th>\n",
       "      <th>Acuteandchronictonsillitis</th>\n",
       "      <th>Acuteandunspecifiedrenalfailure</th>\n",
       "      <th>Acutebronchitis</th>\n",
       "      <th>Acutecerebrovasculardisease</th>\n",
       "      <th>Acutemyocardialinfarction</th>\n",
       "      <th>Acuteposthemorrhagicanemia</th>\n",
       "      <th>...</th>\n",
       "      <th>Substance-relateddisorders</th>\n",
       "      <th>Superficialinjury;contusion</th>\n",
       "      <th>Syncope</th>\n",
       "      <th>Systemiclupuserythematosusandconnectivetissuedisorders</th>\n",
       "      <th>Thyroiddisorders</th>\n",
       "      <th>Transientcerebralischemia</th>\n",
       "      <th>Tuberculosis</th>\n",
       "      <th>Urinarytractinfections</th>\n",
       "      <th>Varicoseveinsoflowerextremity</th>\n",
       "      <th>Viralinfection</th>\n",
       "    </tr>\n",
       "  </thead>\n",
       "  <tbody>\n",
       "    <tr>\n",
       "      <th>0</th>\n",
       "      <td>00033D2D-D57C-48A7-B201-F9183F6E640B</td>\n",
       "      <td>0.0</td>\n",
       "      <td>0.0</td>\n",
       "      <td>0.0</td>\n",
       "      <td>0.0</td>\n",
       "      <td>0.0</td>\n",
       "      <td>0.0</td>\n",
       "      <td>0.0</td>\n",
       "      <td>0.0</td>\n",
       "      <td>0.0</td>\n",
       "      <td>...</td>\n",
       "      <td>0.0</td>\n",
       "      <td>0.0</td>\n",
       "      <td>0.0</td>\n",
       "      <td>0.0</td>\n",
       "      <td>0.0</td>\n",
       "      <td>0.0</td>\n",
       "      <td>0.0</td>\n",
       "      <td>0.0</td>\n",
       "      <td>0.0</td>\n",
       "      <td>0.0</td>\n",
       "    </tr>\n",
       "    <tr>\n",
       "      <th>1</th>\n",
       "      <td>00044CC1-7911-4C35-B73C-B5623FA3A60F</td>\n",
       "      <td>0.0</td>\n",
       "      <td>0.0</td>\n",
       "      <td>0.0</td>\n",
       "      <td>0.0</td>\n",
       "      <td>0.0</td>\n",
       "      <td>0.0</td>\n",
       "      <td>0.0</td>\n",
       "      <td>0.0</td>\n",
       "      <td>0.0</td>\n",
       "      <td>...</td>\n",
       "      <td>0.0</td>\n",
       "      <td>0.0</td>\n",
       "      <td>0.0</td>\n",
       "      <td>0.0</td>\n",
       "      <td>1.0</td>\n",
       "      <td>0.0</td>\n",
       "      <td>0.0</td>\n",
       "      <td>1.0</td>\n",
       "      <td>0.0</td>\n",
       "      <td>0.0</td>\n",
       "    </tr>\n",
       "    <tr>\n",
       "      <th>2</th>\n",
       "      <td>00136822-9A6F-4EF5-ACE7-8B5C836F0635</td>\n",
       "      <td>0.0</td>\n",
       "      <td>0.0</td>\n",
       "      <td>0.0</td>\n",
       "      <td>0.0</td>\n",
       "      <td>0.0</td>\n",
       "      <td>0.0</td>\n",
       "      <td>0.0</td>\n",
       "      <td>0.0</td>\n",
       "      <td>0.0</td>\n",
       "      <td>...</td>\n",
       "      <td>0.0</td>\n",
       "      <td>0.0</td>\n",
       "      <td>0.0</td>\n",
       "      <td>0.0</td>\n",
       "      <td>0.0</td>\n",
       "      <td>0.0</td>\n",
       "      <td>0.0</td>\n",
       "      <td>0.0</td>\n",
       "      <td>0.0</td>\n",
       "      <td>0.0</td>\n",
       "    </tr>\n",
       "    <tr>\n",
       "      <th>3</th>\n",
       "      <td>001EDAC4-4584-4801-8383-4AD784EEA4C9</td>\n",
       "      <td>0.0</td>\n",
       "      <td>0.0</td>\n",
       "      <td>0.0</td>\n",
       "      <td>0.0</td>\n",
       "      <td>0.0</td>\n",
       "      <td>0.0</td>\n",
       "      <td>0.0</td>\n",
       "      <td>0.0</td>\n",
       "      <td>0.0</td>\n",
       "      <td>...</td>\n",
       "      <td>0.0</td>\n",
       "      <td>0.0</td>\n",
       "      <td>0.0</td>\n",
       "      <td>0.0</td>\n",
       "      <td>0.0</td>\n",
       "      <td>0.0</td>\n",
       "      <td>0.0</td>\n",
       "      <td>0.0</td>\n",
       "      <td>0.0</td>\n",
       "      <td>0.0</td>\n",
       "    </tr>\n",
       "    <tr>\n",
       "      <th>4</th>\n",
       "      <td>002E58E8-8314-4000-9BDC-73D21DDD6880</td>\n",
       "      <td>0.0</td>\n",
       "      <td>0.0</td>\n",
       "      <td>0.0</td>\n",
       "      <td>0.0</td>\n",
       "      <td>0.0</td>\n",
       "      <td>0.0</td>\n",
       "      <td>0.0</td>\n",
       "      <td>0.0</td>\n",
       "      <td>0.0</td>\n",
       "      <td>...</td>\n",
       "      <td>0.0</td>\n",
       "      <td>0.0</td>\n",
       "      <td>0.0</td>\n",
       "      <td>0.0</td>\n",
       "      <td>0.0</td>\n",
       "      <td>0.0</td>\n",
       "      <td>0.0</td>\n",
       "      <td>0.0</td>\n",
       "      <td>0.0</td>\n",
       "      <td>0.0</td>\n",
       "    </tr>\n",
       "  </tbody>\n",
       "</table>\n",
       "<p>5 rows × 237 columns</p>\n",
       "</div>"
      ],
      "text/plain": [
       "ccs_desc                           PatientGuid  Abdominalhernia  \\\n",
       "0         00033D2D-D57C-48A7-B201-F9183F6E640B              0.0   \n",
       "1         00044CC1-7911-4C35-B73C-B5623FA3A60F              0.0   \n",
       "2         00136822-9A6F-4EF5-ACE7-8B5C836F0635              0.0   \n",
       "3         001EDAC4-4584-4801-8383-4AD784EEA4C9              0.0   \n",
       "4         002E58E8-8314-4000-9BDC-73D21DDD6880              0.0   \n",
       "\n",
       "ccs_desc  Abdominalpain  Acquiredfootdeformities  Acuteandchronictonsillitis  \\\n",
       "0                   0.0                      0.0                         0.0   \n",
       "1                   0.0                      0.0                         0.0   \n",
       "2                   0.0                      0.0                         0.0   \n",
       "3                   0.0                      0.0                         0.0   \n",
       "4                   0.0                      0.0                         0.0   \n",
       "\n",
       "ccs_desc  Acuteandunspecifiedrenalfailure  Acutebronchitis  \\\n",
       "0                                     0.0              0.0   \n",
       "1                                     0.0              0.0   \n",
       "2                                     0.0              0.0   \n",
       "3                                     0.0              0.0   \n",
       "4                                     0.0              0.0   \n",
       "\n",
       "ccs_desc  Acutecerebrovasculardisease  Acutemyocardialinfarction  \\\n",
       "0                                 0.0                        0.0   \n",
       "1                                 0.0                        0.0   \n",
       "2                                 0.0                        0.0   \n",
       "3                                 0.0                        0.0   \n",
       "4                                 0.0                        0.0   \n",
       "\n",
       "ccs_desc  Acuteposthemorrhagicanemia       ...        \\\n",
       "0                                0.0       ...         \n",
       "1                                0.0       ...         \n",
       "2                                0.0       ...         \n",
       "3                                0.0       ...         \n",
       "4                                0.0       ...         \n",
       "\n",
       "ccs_desc  Substance-relateddisorders  Superficialinjury;contusion  Syncope  \\\n",
       "0                                0.0                          0.0      0.0   \n",
       "1                                0.0                          0.0      0.0   \n",
       "2                                0.0                          0.0      0.0   \n",
       "3                                0.0                          0.0      0.0   \n",
       "4                                0.0                          0.0      0.0   \n",
       "\n",
       "ccs_desc  Systemiclupuserythematosusandconnectivetissuedisorders  \\\n",
       "0                                                       0.0        \n",
       "1                                                       0.0        \n",
       "2                                                       0.0        \n",
       "3                                                       0.0        \n",
       "4                                                       0.0        \n",
       "\n",
       "ccs_desc  Thyroiddisorders  Transientcerebralischemia  Tuberculosis  \\\n",
       "0                      0.0                        0.0           0.0   \n",
       "1                      1.0                        0.0           0.0   \n",
       "2                      0.0                        0.0           0.0   \n",
       "3                      0.0                        0.0           0.0   \n",
       "4                      0.0                        0.0           0.0   \n",
       "\n",
       "ccs_desc  Urinarytractinfections  Varicoseveinsoflowerextremity  \\\n",
       "0                            0.0                            0.0   \n",
       "1                            1.0                            0.0   \n",
       "2                            0.0                            0.0   \n",
       "3                            0.0                            0.0   \n",
       "4                            0.0                            0.0   \n",
       "\n",
       "ccs_desc  Viralinfection  \n",
       "0                    0.0  \n",
       "1                    0.0  \n",
       "2                    0.0  \n",
       "3                    0.0  \n",
       "4                    0.0  \n",
       "\n",
       "[5 rows x 237 columns]"
      ]
     },
     "execution_count": 66,
     "metadata": {},
     "output_type": "execute_result"
    }
   ],
   "source": [
    "patients_diagnosis_features = pd.pivot_table(diagnosis,index=\"PatientGuid\",columns=\"ccs_desc\",aggfunc=len).reset_index()\n",
    "patients_diagnosis_features = patients_diagnosis_features.fillna(0)\n",
    "patients_diagnosis_features.head()"
   ]
  },
  {
   "cell_type": "code",
   "execution_count": 67,
   "metadata": {},
   "outputs": [],
   "source": [
    "patients_diagnosis_features.to_csv(\"./features/patients_diagnosis_features.csv\",index=False)"
   ]
  },
  {
   "cell_type": "markdown",
   "metadata": {},
   "source": [
    "## Let's look at allergy"
   ]
  },
  {
   "cell_type": "code",
   "execution_count": 68,
   "metadata": {},
   "outputs": [
    {
     "data": {
      "text/plain": [
       "(1419, 9)"
      ]
     },
     "execution_count": 68,
     "metadata": {},
     "output_type": "execute_result"
    }
   ],
   "source": [
    "allergy = pd.read_csv(\"./data/Allergy.csv\")\n",
    "allergy.shape"
   ]
  },
  {
   "cell_type": "code",
   "execution_count": 69,
   "metadata": {},
   "outputs": [
    {
     "data": {
      "text/html": [
       "<div>\n",
       "<style scoped>\n",
       "    .dataframe tbody tr th:only-of-type {\n",
       "        vertical-align: middle;\n",
       "    }\n",
       "\n",
       "    .dataframe tbody tr th {\n",
       "        vertical-align: top;\n",
       "    }\n",
       "\n",
       "    .dataframe thead th {\n",
       "        text-align: right;\n",
       "    }\n",
       "</style>\n",
       "<table border=\"1\" class=\"dataframe\">\n",
       "  <thead>\n",
       "    <tr style=\"text-align: right;\">\n",
       "      <th></th>\n",
       "      <th>AllergyGuid</th>\n",
       "      <th>PatientGuid</th>\n",
       "      <th>AllergyType</th>\n",
       "      <th>StartYear</th>\n",
       "      <th>ReactionName</th>\n",
       "      <th>SeverityName</th>\n",
       "      <th>MedicationNDCCode</th>\n",
       "      <th>MedicationName</th>\n",
       "      <th>UserGuid</th>\n",
       "    </tr>\n",
       "  </thead>\n",
       "  <tbody>\n",
       "    <tr>\n",
       "      <th>0</th>\n",
       "      <td>F7998EB6-1A79-4600-8E9D-000B6CB7ED74</td>\n",
       "      <td>2F988EE7-DD22-4729-AD13-F2C7BB78A05B</td>\n",
       "      <td>Medication</td>\n",
       "      <td>2011</td>\n",
       "      <td>Tongue swelling</td>\n",
       "      <td>Severe</td>\n",
       "      <td>247224300</td>\n",
       "      <td>NaN</td>\n",
       "      <td>59C4FFE1-DA98-47BD-8665-9F304765F855</td>\n",
       "    </tr>\n",
       "    <tr>\n",
       "      <th>1</th>\n",
       "      <td>DD0F410B-4728-4947-AFE9-0027EE005510</td>\n",
       "      <td>8FE3F534-E716-48CF-9545-C0526021EBDF</td>\n",
       "      <td>Medication</td>\n",
       "      <td>2011</td>\n",
       "      <td>Rash - localized</td>\n",
       "      <td>Mild</td>\n",
       "      <td>54868598600</td>\n",
       "      <td>Trilipix (fenofibric acid) oral delayed releas...</td>\n",
       "      <td>7511BCEC-9E46-4808-99A7-5B30778B6E84</td>\n",
       "    </tr>\n",
       "  </tbody>\n",
       "</table>\n",
       "</div>"
      ],
      "text/plain": [
       "                            AllergyGuid                           PatientGuid  \\\n",
       "0  F7998EB6-1A79-4600-8E9D-000B6CB7ED74  2F988EE7-DD22-4729-AD13-F2C7BB78A05B   \n",
       "1  DD0F410B-4728-4947-AFE9-0027EE005510  8FE3F534-E716-48CF-9545-C0526021EBDF   \n",
       "\n",
       "  AllergyType  StartYear      ReactionName SeverityName MedicationNDCCode  \\\n",
       "0  Medication       2011   Tongue swelling       Severe         247224300   \n",
       "1  Medication       2011  Rash - localized         Mild       54868598600   \n",
       "\n",
       "                                      MedicationName  \\\n",
       "0                                                NaN   \n",
       "1  Trilipix (fenofibric acid) oral delayed releas...   \n",
       "\n",
       "                               UserGuid  \n",
       "0  59C4FFE1-DA98-47BD-8665-9F304765F855  \n",
       "1  7511BCEC-9E46-4808-99A7-5B30778B6E84  "
      ]
     },
     "execution_count": 69,
     "metadata": {},
     "output_type": "execute_result"
    }
   ],
   "source": [
    "allergy.MedicationNDCCode = allergy.MedicationNDCCode.fillna(0).astype(int)\n",
    "allergy.MedicationNDCCode = allergy.MedicationNDCCode.astype(str)\n",
    "allergy.head(2)"
   ]
  },
  {
   "cell_type": "code",
   "execution_count": 70,
   "metadata": {},
   "outputs": [
    {
     "data": {
      "text/plain": [
       "Medication                                     1288\n",
       "Pollen (Inhaled)                                 29\n",
       "Dust (Inhaled)                                   18\n",
       "Animal Dander (Contact)                          11\n",
       "Shellfish                                        11\n",
       "Dairy                                            10\n",
       "Egg                                               9\n",
       "Dust Mites  (Contact)                             7\n",
       "Melons, Bananas, Cucumbers (Ragweed Pollen)       7\n",
       "Insect Stings  (Contact)                          6\n",
       "Latex  (Contact)                                  5\n",
       "Seafood                                           5\n",
       "Mold (Inhaled)                                    4\n",
       "Other nuts                                        3\n",
       "Peanut                                            3\n",
       "Wheat                                             2\n",
       "Soy                                               1\n",
       "Name: AllergyType, dtype: int64"
      ]
     },
     "execution_count": 70,
     "metadata": {},
     "output_type": "execute_result"
    }
   ],
   "source": [
    "allergy.AllergyType.value_counts()"
   ]
  },
  {
   "cell_type": "markdown",
   "metadata": {},
   "source": [
    "___Looks like most of the allergy data around Medication. When we include medication, it may be a good idea to indicate whether patient has allergy to that medication or not. Let's see if we could do that.___"
   ]
  },
  {
   "cell_type": "code",
   "execution_count": 71,
   "metadata": {},
   "outputs": [
    {
     "data": {
      "text/plain": [
       "(429,)"
      ]
     },
     "execution_count": 71,
     "metadata": {},
     "output_type": "execute_result"
    }
   ],
   "source": [
    "allergy.MedicationNDCCode.unique().shape"
   ]
  },
  {
   "cell_type": "code",
   "execution_count": 72,
   "metadata": {},
   "outputs": [
    {
     "data": {
      "text/plain": [
       "(832,)"
      ]
     },
     "execution_count": 72,
     "metadata": {},
     "output_type": "execute_result"
    }
   ],
   "source": [
    "allergy.PatientGuid.unique().shape"
   ]
  },
  {
   "cell_type": "markdown",
   "metadata": {},
   "source": [
    "So across 832 patients, there are 429 medicines allergy."
   ]
  },
  {
   "cell_type": "code",
   "execution_count": 73,
   "metadata": {},
   "outputs": [],
   "source": [
    "medicines = pd.read_csv(\"./data/Medication.csv\")"
   ]
  },
  {
   "cell_type": "code",
   "execution_count": 74,
   "metadata": {},
   "outputs": [
    {
     "data": {
      "text/plain": [
       "300"
      ]
     },
     "execution_count": 74,
     "metadata": {},
     "output_type": "execute_result"
    }
   ],
   "source": [
    "len(set(allergy.MedicationNDCCode.unique()) - set(medicines.NdcCode.unique()))"
   ]
  },
  {
   "cell_type": "markdown",
   "metadata": {},
   "source": [
    "Hmmm, but problem is that 300 NDC codes across these 2 datasets don't match. Let's see if we can write a quick script to fix this."
   ]
  },
  {
   "cell_type": "code",
   "execution_count": 75,
   "metadata": {},
   "outputs": [],
   "source": [
    "def index_containing_substring(the_list, substring):\n",
    "    for i, s in enumerate(the_list):\n",
    "        if substring in s:\n",
    "              return s\n",
    "    return -1"
   ]
  },
  {
   "cell_type": "code",
   "execution_count": 76,
   "metadata": {},
   "outputs": [
    {
     "name": "stdout",
     "output_type": "stream",
     "text": [
      "Number of NDC Codes that don't match: 223\n"
     ]
    }
   ],
   "source": [
    "not_found_count = 0\n",
    "for sub in allergy.MedicationNDCCode.unique():\n",
    "    if index_containing_substring(medicines.NdcCode.unique().tolist(), sub) == -1:\n",
    "        not_found_count += 1\n",
    "print (\"Number of NDC Codes that don't match: \" + str(not_found_count))     "
   ]
  },
  {
   "cell_type": "markdown",
   "metadata": {},
   "source": [
    "___Still there are 223 NDC Codes that don't match. I will drop this feature for now, as this will require more effort to clean up the NDC Code.___"
   ]
  }
 ],
 "metadata": {
  "kernelspec": {
   "display_name": "Python 3",
   "language": "python",
   "name": "python3"
  },
  "language_info": {
   "codemirror_mode": {
    "name": "ipython",
    "version": 3
   },
   "file_extension": ".py",
   "mimetype": "text/x-python",
   "name": "python",
   "nbconvert_exporter": "python",
   "pygments_lexer": "ipython3",
   "version": "3.5.5"
  }
 },
 "nbformat": 4,
 "nbformat_minor": 2
}
